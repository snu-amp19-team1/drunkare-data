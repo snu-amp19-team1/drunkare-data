{
 "cells": [
  {
   "cell_type": "code",
   "execution_count": 1,
   "metadata": {},
   "outputs": [],
   "source": [
    "##complex data와 똑같이 40ms로 parsing했음 데이터 4배라고 생각하고 뻥튀기시켜봄 정확도는 10ms와 비슷하게 나옴\n",
    "\n",
    "import csv\n",
    "import matplotlib.pyplot as plt\n",
    "import numpy as np\n",
    "import pandas as pd\n",
    "import tensorflow as tf\n",
    "import sklearn\n",
    "from sklearn import svm\n",
    "from datetime import datetime\n",
    "from sklearn.metrics import confusion_matrix\n",
    "from sklearn.metrics import accuracy_score\n",
    "from sklearn.preprocessing import OneHotEncoder\n",
    "from sklearn.model_selection import cross_val_score \n",
    "import glob\n",
    "\n",
    "\n",
    "#filename queue\n",
    "filename_queue=glob.glob('./rawdata/data[1-5].csv')\n",
    "#Create return path\n",
    "#return_path='./parsed/data.csv'\n",
    "#create_file=open(return_path,'w')"
   ]
  },
  {
   "cell_type": "code",
   "execution_count": 2,
   "metadata": {},
   "outputs": [],
   "source": [
    "#Parsing data\n",
    "\n",
    "training_set=[]\n",
    "test_set=[]\n",
    "training_label=[]\n",
    "test_label=[]\n",
    "index=[1,2,3,11,14,15] \n",
    "label_count=np.zeros(16)\n",
    "traininglabel_count=np.zeros(16)\n",
    "testlabel_count=np.zeros(16)\n",
    "\n",
    "#return_file=open(return_path,'a')\n",
    "#writer=csv.writer(return_file)\n",
    "#writer.writerow()\n",
    "n_data=[]\n",
    "\n",
    "for filename in filename_queue:\n",
    "    file=open(filename, newline='')\n",
    "    \n",
    "    reader=csv.reader(file)\n",
    "    header=next(reader)\n",
    "    \n",
    "    for row in reader:\n",
    "        row[4:]=[float(i) for i in row[4:]]\n",
    "        date=datetime.strptime(row[0],'%Y/%m/%d')\n",
    "        msec=row[1:3]\n",
    "        labl=int(row[3])\n",
    "        if labl not in index:\n",
    "            label_count[labl]+=1\n",
    "            for x in range(4):\n",
    "                X_acc=list(row[4*i+4+x] for i in range(150))\n",
    "                Y_acc=list(row[4*i+604+x] for i in range(150))\n",
    "                Z_acc=list(row[4*i+1204+x] for i in range(150))\n",
    "                X_gyro=list(row[4*i+1804+x] for i in range(150))\n",
    "                Y_gyro=list(row[4*i+2404+x] for i in range(150))\n",
    "                Z_gyro=list(row[4*i+3004+x] for i in range(150))\n",
    "\n",
    "                window=np.array([[X_acc[0:25],X_acc[25:50],X_acc[50:75],X_acc[75:100],X_acc[100:125],X_acc[125:150]],\n",
    "                    [Y_acc[0:25],Y_acc[25:50],Y_acc[50:75],Y_acc[75:100],Y_acc[100:125],Y_acc[125:150]],\n",
    "                    [Z_acc[0:25],Z_acc[25:50],Z_acc[50:75],Z_acc[75:100],Z_acc[100:125],Z_acc[125:150]],\n",
    "                    [X_gyro[0:25],X_gyro[25:50],X_gyro[50:75],X_gyro[75:100],X_gyro[100:125],X_gyro[125:150]],\n",
    "                    [Y_gyro[0:25],Y_gyro[25:50],Y_gyro[50:75],Y_gyro[75:100],Y_gyro[100:125],Y_gyro[125:150]],\n",
    "                    [Z_gyro[0:25],Z_gyro[25:50],Z_gyro[50:75],Z_gyro[75:100],Z_gyro[100:125],Z_gyro[125:150]]])\n",
    "\n",
    "                #5 features  what else?2\n",
    "                window_mean=window.mean(axis=-1)\n",
    "                window_stddev=window.std(axis=-1)\n",
    "                window_median=np.median(window,axis=-1)\n",
    "                window_percent25=np.percentile(window,25,axis=-1)\n",
    "                window_percent75=np.percentile(window,75,axis=-1)\n",
    "\n",
    "                window_feature=np.array([[window_mean],[window_stddev],[window_median],[window_percent25],[window_percent75]])\n",
    "                window_feature=window_feature.reshape(180)\n",
    "\n",
    "\n",
    "                #for cross validation\n",
    "                training_set.append(window_feature)\n",
    "                training_label.append(labl)\n"
   ]
  },
  {
   "cell_type": "code",
   "execution_count": 4,
   "metadata": {},
   "outputs": [
    {
     "name": "stdout",
     "output_type": "stream",
     "text": [
      "(1144, 180)\n"
     ]
    }
   ],
   "source": [
    "print(np.shape(training_set))"
   ]
  },
  {
   "cell_type": "code",
   "execution_count": 5,
   "metadata": {},
   "outputs": [],
   "source": [
    "from sklearn.ensemble import RandomForestClassifier\n",
    "from sklearn.model_selection import GridSearchCV\n",
    "\n",
    "X=training_set\n",
    "y=training_label\n",
    "\n",
    "clf=RandomForestClassifier()\n",
    "param_grid={\n",
    " 'n_estimators':[100,120,180,200]\n",
    "   # 'max_features':['auto','sqrt','log2'],\n",
    "    #'max_depth':[10,12,None]\n",
    "    #'criterion':['gini','entropy']\n",
    "}\n",
    "\n",
    "grid=GridSearchCV(estimator=clf,param_grid=param_grid,cv=10,scoring='accuracy')"
   ]
  },
  {
   "cell_type": "code",
   "execution_count": 6,
   "metadata": {},
   "outputs": [
    {
     "name": "stderr",
     "output_type": "stream",
     "text": [
      "/home/parkj0/anaconda3/envs/venv/lib/python3.7/site-packages/sklearn/model_selection/_split.py:657: Warning: The least populated class in y has only 4 members, which is too few. The minimum number of members in any class cannot be less than n_splits=10.\n",
      "  % (min_groups, self.n_splits)), Warning)\n",
      "/home/parkj0/anaconda3/envs/venv/lib/python3.7/site-packages/sklearn/model_selection/_search.py:813: DeprecationWarning: The default of the `iid` parameter will change from True to False in version 0.22 and will be removed in 0.24. This will change numeric results when test-set sizes are unequal.\n",
      "  DeprecationWarning)\n"
     ]
    },
    {
     "data": {
      "text/plain": [
       "GridSearchCV(cv=10, error_score='raise-deprecating',\n",
       "             estimator=RandomForestClassifier(bootstrap=True, class_weight=None,\n",
       "                                              criterion='gini', max_depth=None,\n",
       "                                              max_features='auto',\n",
       "                                              max_leaf_nodes=None,\n",
       "                                              min_impurity_decrease=0.0,\n",
       "                                              min_impurity_split=None,\n",
       "                                              min_samples_leaf=1,\n",
       "                                              min_samples_split=2,\n",
       "                                              min_weight_fraction_leaf=0.0,\n",
       "                                              n_estimators='warn', n_jobs=None,\n",
       "                                              oob_score=False,\n",
       "                                              random_state=None, verbose=0,\n",
       "                                              warm_start=False),\n",
       "             iid='warn', n_jobs=None,\n",
       "             param_grid={'n_estimators': [100, 120, 180, 200]},\n",
       "             pre_dispatch='2*n_jobs', refit=True, return_train_score=False,\n",
       "             scoring='accuracy', verbose=0)"
      ]
     },
     "execution_count": 6,
     "metadata": {},
     "output_type": "execute_result"
    }
   ],
   "source": [
    "grid.fit(X,y)"
   ]
  },
  {
   "cell_type": "code",
   "execution_count": 7,
   "metadata": {},
   "outputs": [
    {
     "data": {
      "text/plain": [
       "{'mean_fit_time': array([0.54353805, 0.62748685, 0.94126289, 1.04339738]),\n",
       " 'std_fit_time': array([0.03370086, 0.00316278, 0.00626297, 0.00895064]),\n",
       " 'mean_score_time': array([0.00666444, 0.00746644, 0.01078107, 0.01205297]),\n",
       " 'std_score_time': array([0.00118509, 0.00010011, 0.00017059, 0.00047962]),\n",
       " 'param_n_estimators': masked_array(data=[100, 120, 180, 200],\n",
       "              mask=[False, False, False, False],\n",
       "        fill_value='?',\n",
       "             dtype=object),\n",
       " 'params': [{'n_estimators': 100},\n",
       "  {'n_estimators': 120},\n",
       "  {'n_estimators': 180},\n",
       "  {'n_estimators': 200}],\n",
       " 'split0_test_score': array([0.83193277, 0.85714286, 0.77310924, 0.79831933]),\n",
       " 'split1_test_score': array([0.94117647, 0.93277311, 0.93277311, 0.93277311]),\n",
       " 'split2_test_score': array([0.94871795, 0.98290598, 0.99145299, 0.97435897]),\n",
       " 'split3_test_score': array([0.88034188, 0.87179487, 0.88888889, 0.8974359 ]),\n",
       " 'split4_test_score': array([0.92982456, 0.92982456, 0.92982456, 0.92982456]),\n",
       " 'split5_test_score': array([0.92982456, 0.92105263, 0.94736842, 0.93859649]),\n",
       " 'split6_test_score': array([0.73451327, 0.7699115 , 0.75221239, 0.75221239]),\n",
       " 'split7_test_score': array([0.89380531, 0.89380531, 0.87610619, 0.85840708]),\n",
       " 'split8_test_score': array([0.93577982, 0.96330275, 0.90825688, 0.94495413]),\n",
       " 'split9_test_score': array([0.82568807, 0.82568807, 0.85321101, 0.8440367 ]),\n",
       " 'mean_test_score': array([0.88548951, 0.8951049 , 0.88548951, 0.88723776]),\n",
       " 'std_test_score': array([0.06530157, 0.06147603, 0.0720079 , 0.06816741]),\n",
       " 'rank_test_score': array([3, 1, 3, 2], dtype=int32)}"
      ]
     },
     "execution_count": 7,
     "metadata": {},
     "output_type": "execute_result"
    }
   ],
   "source": [
    "grid.cv_results_"
   ]
  },
  {
   "cell_type": "code",
   "execution_count": 8,
   "metadata": {},
   "outputs": [
    {
     "data": {
      "text/plain": [
       "{'n_estimators': 120}"
      ]
     },
     "execution_count": 8,
     "metadata": {},
     "output_type": "execute_result"
    }
   ],
   "source": [
    "grid.best_params_"
   ]
  },
  {
   "cell_type": "code",
   "execution_count": 9,
   "metadata": {},
   "outputs": [],
   "source": [
    "RF=RandomForestClassifier(120).fit(X,y)"
   ]
  },
  {
   "cell_type": "code",
   "execution_count": 10,
   "metadata": {},
   "outputs": [
    {
     "name": "stderr",
     "output_type": "stream",
     "text": [
      "/home/parkj0/anaconda3/envs/venv/lib/python3.7/site-packages/sklearn/model_selection/_split.py:657: Warning: The least populated class in y has only 4 members, which is too few. The minimum number of members in any class cannot be less than n_splits=10.\n",
      "  % (min_groups, self.n_splits)), Warning)\n"
     ]
    },
    {
     "name": "stdout",
     "output_type": "stream",
     "text": [
      "0.8852521975026401\n"
     ]
    }
   ],
   "source": [
    "clf1=RandomForestClassifier(180)\n",
    "scores=cross_val_score(clf1,X,y,cv=10,scoring='accuracy')\n",
    "print(scores.mean())"
   ]
  },
  {
   "cell_type": "code",
   "execution_count": 11,
   "metadata": {},
   "outputs": [
    {
     "data": {
      "text/plain": [
       "['rf.joblib']"
      ]
     },
     "execution_count": 11,
     "metadata": {},
     "output_type": "execute_result"
    }
   ],
   "source": [
    "from joblib import dump, load\n",
    "import pickle\n",
    "\n",
    "filename='./rf.sav'\n",
    "pickle.dump(RF,open(filename,'wb'))\n",
    "dump(RF,'rf.joblib')"
   ]
  },
  {
   "cell_type": "code",
   "execution_count": null,
   "metadata": {},
   "outputs": [],
   "source": []
  },
  {
   "cell_type": "code",
   "execution_count": 93,
   "metadata": {},
   "outputs": [
    {
     "name": "stderr",
     "output_type": "stream",
     "text": [
      "/home/parkj0/anaconda3/envs/venv/lib/python3.7/site-packages/sklearn/model_selection/_split.py:657: Warning: The least populated class in y has only 4 members, which is too few. The minimum number of members in any class cannot be less than n_splits=10.\n",
      "  % (min_groups, self.n_splits)), Warning)\n"
     ]
    },
    {
     "name": "stdout",
     "output_type": "stream",
     "text": [
      "0.7856916637489739\n"
     ]
    }
   ],
   "source": [
    "#SVM\n",
    "#prepare the data\n",
    "#prepare the model\n",
    "clf = sklearn.svm.SVC(gamma='scale',tol=0.1)\n",
    "scores=cross_val_score(clf,X,y,cv=10,scoring='accuracy')\n",
    "print(scores.mean())\n"
   ]
  },
  {
   "cell_type": "code",
   "execution_count": 87,
   "metadata": {},
   "outputs": [],
   "source": [
    "param_grid={\n",
    " #'kernel':['linear','poly','rbf','sigmoid'], rbf to be best acc\n",
    "    'C':[0.001,0.01,0.1,1,10],\n",
    "    'gamma' : [0.001, 0.01, 0.1, 1]\n",
    "\n",
    "}\n",
    "\n",
    "grid=GridSearchCV(estimator=clf,param_grid=param_grid,cv=10,scoring='accuracy')"
   ]
  },
  {
   "cell_type": "code",
   "execution_count": 88,
   "metadata": {},
   "outputs": [
    {
     "name": "stderr",
     "output_type": "stream",
     "text": [
      "/home/parkj0/anaconda3/envs/venv/lib/python3.7/site-packages/sklearn/model_selection/_split.py:657: Warning: The least populated class in y has only 4 members, which is too few. The minimum number of members in any class cannot be less than n_splits=10.\n",
      "  % (min_groups, self.n_splits)), Warning)\n",
      "/home/parkj0/anaconda3/envs/venv/lib/python3.7/site-packages/sklearn/model_selection/_search.py:813: DeprecationWarning: The default of the `iid` parameter will change from True to False in version 0.22 and will be removed in 0.24. This will change numeric results when test-set sizes are unequal.\n",
      "  DeprecationWarning)\n"
     ]
    },
    {
     "data": {
      "text/plain": [
       "GridSearchCV(cv=10, error_score='raise-deprecating',\n",
       "             estimator=SVC(C=1.0, cache_size=200, class_weight=None, coef0=0.0,\n",
       "                           decision_function_shape='ovr', degree=3,\n",
       "                           gamma='scale', kernel='rbf', max_iter=-1,\n",
       "                           probability=False, random_state=None, shrinking=True,\n",
       "                           tol=0.1, verbose=False),\n",
       "             iid='warn', n_jobs=None,\n",
       "             param_grid={'C': [0.001, 0.01, 0.1, 1, 10],\n",
       "                         'gamma': [0.001, 0.01, 0.1, 1]},\n",
       "             pre_dispatch='2*n_jobs', refit=True, return_train_score=False,\n",
       "             scoring='accuracy', verbose=0)"
      ]
     },
     "execution_count": 88,
     "metadata": {},
     "output_type": "execute_result"
    }
   ],
   "source": [
    "grid.fit(X,y)"
   ]
  },
  {
   "cell_type": "code",
   "execution_count": 89,
   "metadata": {},
   "outputs": [
    {
     "data": {
      "text/plain": [
       "{'C': 10, 'gamma': 0.001}"
      ]
     },
     "execution_count": 89,
     "metadata": {},
     "output_type": "execute_result"
    }
   ],
   "source": [
    "grid.best_params_"
   ]
  },
  {
   "cell_type": "code",
   "execution_count": 90,
   "metadata": {},
   "outputs": [
    {
     "data": {
      "text/plain": [
       "{'mean_fit_time': array([0.34307218, 0.34653304, 0.34341841, 0.32106791, 0.34884019,\n",
       "        0.32110851, 0.31518092, 0.31136446, 0.33454287, 0.32425928,\n",
       "        0.31560729, 0.32112675, 0.47151635, 0.50642576, 0.50203469,\n",
       "        0.51583173, 0.54383953, 0.58650825, 0.49966176, 0.50693669]),\n",
       " 'std_fit_time': array([0.02549128, 0.03495157, 0.03996245, 0.02927685, 0.0364689 ,\n",
       "        0.00267671, 0.00752571, 0.00545768, 0.00304246, 0.00493928,\n",
       "        0.00532335, 0.0202237 , 0.01881682, 0.02975579, 0.03108146,\n",
       "        0.04618374, 0.03424326, 0.05779977, 0.00503003, 0.03167389]),\n",
       " 'mean_score_time': array([0.02702363, 0.02937548, 0.03035238, 0.02837565, 0.02750959,\n",
       "        0.02657707, 0.02628691, 0.02548821, 0.02709322, 0.02734466,\n",
       "        0.02574279, 0.02686388, 0.02751012, 0.02742758, 0.02914262,\n",
       "        0.03092718, 0.03417521, 0.03114219, 0.02619624, 0.02743068]),\n",
       " 'std_score_time': array([0.00072299, 0.00595141, 0.0075207 , 0.00564541, 0.00164436,\n",
       "        0.00072918, 0.00179509, 0.00072668, 0.00086846, 0.00159511,\n",
       "        0.0008545 , 0.00439629, 0.0039217 , 0.00107804, 0.0058069 ,\n",
       "        0.01019396, 0.01011125, 0.00716796, 0.00114759, 0.00393038]),\n",
       " 'param_C': masked_array(data=[0.001, 0.001, 0.001, 0.001, 0.01, 0.01, 0.01, 0.01,\n",
       "                    0.1, 0.1, 0.1, 0.1, 1, 1, 1, 1, 10, 10, 10, 10],\n",
       "              mask=[False, False, False, False, False, False, False, False,\n",
       "                    False, False, False, False, False, False, False, False,\n",
       "                    False, False, False, False],\n",
       "        fill_value='?',\n",
       "             dtype=object),\n",
       " 'param_gamma': masked_array(data=[0.001, 0.01, 0.1, 1, 0.001, 0.01, 0.1, 1, 0.001, 0.01,\n",
       "                    0.1, 1, 0.001, 0.01, 0.1, 1, 0.001, 0.01, 0.1, 1],\n",
       "              mask=[False, False, False, False, False, False, False, False,\n",
       "                    False, False, False, False, False, False, False, False,\n",
       "                    False, False, False, False],\n",
       "        fill_value='?',\n",
       "             dtype=object),\n",
       " 'params': [{'C': 0.001, 'gamma': 0.001},\n",
       "  {'C': 0.001, 'gamma': 0.01},\n",
       "  {'C': 0.001, 'gamma': 0.1},\n",
       "  {'C': 0.001, 'gamma': 1},\n",
       "  {'C': 0.01, 'gamma': 0.001},\n",
       "  {'C': 0.01, 'gamma': 0.01},\n",
       "  {'C': 0.01, 'gamma': 0.1},\n",
       "  {'C': 0.01, 'gamma': 1},\n",
       "  {'C': 0.1, 'gamma': 0.001},\n",
       "  {'C': 0.1, 'gamma': 0.01},\n",
       "  {'C': 0.1, 'gamma': 0.1},\n",
       "  {'C': 0.1, 'gamma': 1},\n",
       "  {'C': 1, 'gamma': 0.001},\n",
       "  {'C': 1, 'gamma': 0.01},\n",
       "  {'C': 1, 'gamma': 0.1},\n",
       "  {'C': 1, 'gamma': 1},\n",
       "  {'C': 10, 'gamma': 0.001},\n",
       "  {'C': 10, 'gamma': 0.01},\n",
       "  {'C': 10, 'gamma': 0.1},\n",
       "  {'C': 10, 'gamma': 1}],\n",
       " 'split0_test_score': array([0.21008403, 0.21008403, 0.21008403, 0.21008403, 0.21008403,\n",
       "        0.21008403, 0.21008403, 0.21008403, 0.21008403, 0.21008403,\n",
       "        0.21008403, 0.21008403, 0.25210084, 0.21008403, 0.21008403,\n",
       "        0.21008403, 0.2605042 , 0.21008403, 0.21008403, 0.21008403]),\n",
       " 'split1_test_score': array([0.21008403, 0.21008403, 0.21008403, 0.21008403, 0.21008403,\n",
       "        0.21008403, 0.21008403, 0.21008403, 0.21008403, 0.21008403,\n",
       "        0.21008403, 0.21008403, 0.27731092, 0.21008403, 0.21008403,\n",
       "        0.21008403, 0.28571429, 0.21008403, 0.21008403, 0.21008403]),\n",
       " 'split2_test_score': array([0.21367521, 0.21367521, 0.21367521, 0.21367521, 0.21367521,\n",
       "        0.21367521, 0.21367521, 0.21367521, 0.21367521, 0.21367521,\n",
       "        0.21367521, 0.21367521, 0.32478632, 0.22222222, 0.21367521,\n",
       "        0.21367521, 0.34188034, 0.22222222, 0.21367521, 0.21367521]),\n",
       " 'split3_test_score': array([0.21367521, 0.21367521, 0.21367521, 0.21367521, 0.21367521,\n",
       "        0.21367521, 0.21367521, 0.21367521, 0.21367521, 0.21367521,\n",
       "        0.21367521, 0.21367521, 0.29059829, 0.22222222, 0.21367521,\n",
       "        0.21367521, 0.2991453 , 0.22222222, 0.21367521, 0.21367521]),\n",
       " 'split4_test_score': array([0.21929825, 0.21929825, 0.21929825, 0.21929825, 0.21929825,\n",
       "        0.21929825, 0.21929825, 0.21929825, 0.21929825, 0.21929825,\n",
       "        0.21929825, 0.21929825, 0.30701754, 0.21929825, 0.21929825,\n",
       "        0.21929825, 0.31578947, 0.21929825, 0.21929825, 0.21929825]),\n",
       " 'split5_test_score': array([0.21929825, 0.21929825, 0.21929825, 0.21929825, 0.21929825,\n",
       "        0.21929825, 0.21929825, 0.21929825, 0.21929825, 0.21929825,\n",
       "        0.21929825, 0.21929825, 0.27192982, 0.21929825, 0.21929825,\n",
       "        0.21929825, 0.28070175, 0.21929825, 0.21929825, 0.21929825]),\n",
       " 'split6_test_score': array([0.22123894, 0.22123894, 0.22123894, 0.22123894, 0.22123894,\n",
       "        0.22123894, 0.22123894, 0.22123894, 0.22123894, 0.22123894,\n",
       "        0.22123894, 0.22123894, 0.2920354 , 0.2300885 , 0.22123894,\n",
       "        0.22123894, 0.30088496, 0.23893805, 0.22123894, 0.22123894]),\n",
       " 'split7_test_score': array([0.22123894, 0.22123894, 0.22123894, 0.22123894, 0.22123894,\n",
       "        0.22123894, 0.22123894, 0.22123894, 0.22123894, 0.22123894,\n",
       "        0.22123894, 0.22123894, 0.31858407, 0.2300885 , 0.22123894,\n",
       "        0.22123894, 0.33628319, 0.23893805, 0.22123894, 0.22123894]),\n",
       " 'split8_test_score': array([0.22018349, 0.22018349, 0.22018349, 0.22018349, 0.22018349,\n",
       "        0.22018349, 0.22018349, 0.22018349, 0.22018349, 0.22018349,\n",
       "        0.22018349, 0.22018349, 0.33944954, 0.2293578 , 0.22018349,\n",
       "        0.22018349, 0.34862385, 0.2293578 , 0.22018349, 0.22018349]),\n",
       " 'split9_test_score': array([0.22018349, 0.22018349, 0.22018349, 0.22018349, 0.22018349,\n",
       "        0.22018349, 0.22018349, 0.22018349, 0.22018349, 0.22018349,\n",
       "        0.22018349, 0.22018349, 0.30275229, 0.22018349, 0.22018349,\n",
       "        0.22018349, 0.30275229, 0.2293578 , 0.22018349, 0.22018349]),\n",
       " 'mean_test_score': array([0.21678322, 0.21678322, 0.21678322, 0.21678322, 0.21678322,\n",
       "        0.21678322, 0.21678322, 0.21678322, 0.21678322, 0.21678322,\n",
       "        0.21678322, 0.21678322, 0.2972028 , 0.22115385, 0.21678322,\n",
       "        0.21678322, 0.30681818, 0.22377622, 0.21678322, 0.21678322]),\n",
       " 'std_test_score': array([0.00432418, 0.00432418, 0.00432418, 0.00432418, 0.00432418,\n",
       "        0.00432418, 0.00432418, 0.00432418, 0.00432418, 0.00432418,\n",
       "        0.00432418, 0.00432418, 0.02508114, 0.00697754, 0.00432418,\n",
       "        0.00432418, 0.02710205, 0.00973876, 0.00432418, 0.00432418]),\n",
       " 'rank_test_score': array([5, 5, 5, 5, 5, 5, 5, 5, 5, 5, 5, 5, 2, 4, 5, 5, 1, 3, 5, 5],\n",
       "       dtype=int32)}"
      ]
     },
     "execution_count": 90,
     "metadata": {},
     "output_type": "execute_result"
    }
   ],
   "source": [
    "grid.cv_results_"
   ]
  },
  {
   "cell_type": "code",
   "execution_count": 91,
   "metadata": {},
   "outputs": [
    {
     "name": "stderr",
     "output_type": "stream",
     "text": [
      "/home/parkj0/anaconda3/envs/venv/lib/python3.7/site-packages/sklearn/model_selection/_split.py:657: Warning: The least populated class in y has only 4 members, which is too few. The minimum number of members in any class cannot be less than n_splits=10.\n",
      "  % (min_groups, self.n_splits)), Warning)\n"
     ]
    },
    {
     "name": "stdout",
     "output_type": "stream",
     "text": [
      "0.7856916637489739\n"
     ]
    }
   ],
   "source": [
    "clf1=sklearn.svm.SVC(gamma='scale',tol=0.1)\n",
    "scores=cross_val_score(clf1,X,y,cv=10,scoring='accuracy')\n",
    "print(scores.mean())"
   ]
  },
  {
   "cell_type": "code",
   "execution_count": 22,
   "metadata": {},
   "outputs": [],
   "source": [
    "from sklearn.ensemble import BaggingClassifier\n",
    "from sklearn.neighbors import KNeighborsClassifier\n",
    "bagging = BaggingClassifier(KNeighborsClassifier(),max_samples=0.5, max_features=0.5)\n",
    "\n",
    "from sklearn.ensemble import ExtraTreesClassifier\n",
    "from sklearn.tree import DecisionTreeClassifier\n",
    "\n",
    "ETC=ExtraTreesClassifier(300)\n",
    "DTC=DecisionTreeClassifier()\n",
    "\n",
    "\n",
    "\n",
    "\n",
    "\n",
    "\n"
   ]
  },
  {
   "cell_type": "code",
   "execution_count": 23,
   "metadata": {},
   "outputs": [],
   "source": [
    "param_grid={\n",
    " 'n_estimators':[100,200,300],\n",
    "   # 'max_features':['auto','sqrt','log2'],\n",
    "    'max_depth':[10,14,None]\n",
    "    #'criterion':['gini','entropy']\n",
    "}\n",
    "\n",
    "grid=GridSearchCV(estimator=ETC,param_grid=param_grid,cv=10,scoring='accuracy')"
   ]
  },
  {
   "cell_type": "code",
   "execution_count": 24,
   "metadata": {},
   "outputs": [
    {
     "name": "stderr",
     "output_type": "stream",
     "text": [
      "/home/parkj0/anaconda3/envs/venv/lib/python3.7/site-packages/sklearn/model_selection/_split.py:657: Warning: The least populated class in y has only 4 members, which is too few. The minimum number of members in any class cannot be less than n_splits=10.\n",
      "  % (min_groups, self.n_splits)), Warning)\n",
      "/home/parkj0/anaconda3/envs/venv/lib/python3.7/site-packages/sklearn/model_selection/_search.py:813: DeprecationWarning: The default of the `iid` parameter will change from True to False in version 0.22 and will be removed in 0.24. This will change numeric results when test-set sizes are unequal.\n",
      "  DeprecationWarning)\n"
     ]
    },
    {
     "data": {
      "text/plain": [
       "GridSearchCV(cv=10, error_score='raise-deprecating',\n",
       "             estimator=ExtraTreesClassifier(bootstrap=False, class_weight=None,\n",
       "                                            criterion='gini', max_depth=None,\n",
       "                                            max_features='auto',\n",
       "                                            max_leaf_nodes=None,\n",
       "                                            min_impurity_decrease=0.0,\n",
       "                                            min_impurity_split=None,\n",
       "                                            min_samples_leaf=1,\n",
       "                                            min_samples_split=2,\n",
       "                                            min_weight_fraction_leaf=0.0,\n",
       "                                            n_estimators=300, n_jobs=None,\n",
       "                                            oob_score=False, random_state=None,\n",
       "                                            verbose=0, warm_start=False),\n",
       "             iid='warn', n_jobs=None,\n",
       "             param_grid={'max_depth': [10, 14, None],\n",
       "                         'n_estimators': [100, 200, 300]},\n",
       "             pre_dispatch='2*n_jobs', refit=True, return_train_score=False,\n",
       "             scoring='accuracy', verbose=0)"
      ]
     },
     "execution_count": 24,
     "metadata": {},
     "output_type": "execute_result"
    }
   ],
   "source": [
    "grid.fit(X,y)\n"
   ]
  },
  {
   "cell_type": "code",
   "execution_count": 25,
   "metadata": {},
   "outputs": [
    {
     "data": {
      "text/plain": [
       "{'mean_fit_time': array([0.10543201, 0.21241744, 0.31339355, 0.1079457 , 0.21587787,\n",
       "        0.32233818, 0.10762014, 0.21365778, 0.36180322]),\n",
       " 'std_fit_time': array([0.00398968, 0.00862709, 0.00535393, 0.00257703, 0.00246608,\n",
       "        0.00659796, 0.00099009, 0.00374106, 0.07325796]),\n",
       " 'mean_score_time': array([0.00628915, 0.01192706, 0.01796401, 0.00621655, 0.01192286,\n",
       "        0.01773303, 0.0062901 , 0.01191108, 0.02049518]),\n",
       " 'std_score_time': array([2.80091955e-04, 1.39092265e-04, 1.09014485e-03, 6.13250822e-05,\n",
       "        1.32504906e-04, 2.21709462e-04, 1.70494264e-04, 9.96613074e-05,\n",
       "        3.84473639e-03]),\n",
       " 'param_max_depth': masked_array(data=[10, 10, 10, 14, 14, 14, None, None, None],\n",
       "              mask=[False, False, False, False, False, False, False, False,\n",
       "                    False],\n",
       "        fill_value='?',\n",
       "             dtype=object),\n",
       " 'param_n_estimators': masked_array(data=[100, 200, 300, 100, 200, 300, 100, 200, 300],\n",
       "              mask=[False, False, False, False, False, False, False, False,\n",
       "                    False],\n",
       "        fill_value='?',\n",
       "             dtype=object),\n",
       " 'params': [{'max_depth': 10, 'n_estimators': 100},\n",
       "  {'max_depth': 10, 'n_estimators': 200},\n",
       "  {'max_depth': 10, 'n_estimators': 300},\n",
       "  {'max_depth': 14, 'n_estimators': 100},\n",
       "  {'max_depth': 14, 'n_estimators': 200},\n",
       "  {'max_depth': 14, 'n_estimators': 300},\n",
       "  {'max_depth': None, 'n_estimators': 100},\n",
       "  {'max_depth': None, 'n_estimators': 200},\n",
       "  {'max_depth': None, 'n_estimators': 300}],\n",
       " 'split0_test_score': array([0.70114943, 0.72413793, 0.70114943, 0.68965517, 0.72413793,\n",
       "        0.68965517, 0.65517241, 0.72413793, 0.70114943]),\n",
       " 'split1_test_score': array([0.7816092 , 0.7816092 , 0.81609195, 0.81609195, 0.77011494,\n",
       "        0.81609195, 0.77011494, 0.77011494, 0.81609195]),\n",
       " 'split2_test_score': array([0.87951807, 0.85542169, 0.90361446, 0.89156627, 0.92771084,\n",
       "        0.90361446, 0.85542169, 0.90361446, 0.95180723]),\n",
       " 'split3_test_score': array([0.81927711, 0.85542169, 0.85542169, 0.80722892, 0.80722892,\n",
       "        0.85542169, 0.81927711, 0.80722892, 0.80722892]),\n",
       " 'split4_test_score': array([0.9625, 1.    , 1.    , 0.9875, 1.    , 1.    , 0.95  , 1.    ,\n",
       "        1.    ]),\n",
       " 'split5_test_score': array([0.95  , 0.95  , 0.95  , 0.95  , 0.95  , 0.95  , 0.9625, 1.    ,\n",
       "        0.95  ]),\n",
       " 'split6_test_score': array([1.    , 0.95  , 1.    , 0.9875, 0.95  , 0.9625, 1.    , 1.    ,\n",
       "        0.9625]),\n",
       " 'split7_test_score': array([0.775 , 0.75  , 0.75  , 0.7875, 0.8   , 0.7625, 0.8   , 0.75  ,\n",
       "        0.75  ]),\n",
       " 'split8_test_score': array([0.94871795, 0.94871795, 0.94871795, 0.94871795, 0.94871795,\n",
       "        0.94871795, 0.94871795, 0.94871795, 0.94871795]),\n",
       " 'split9_test_score': array([0.92307692, 0.94871795, 0.94871795, 0.98717949, 0.8974359 ,\n",
       "        0.98717949, 0.94871795, 0.8974359 , 0.94871795]),\n",
       " 'mean_test_score': array([0.87132353, 0.87377451, 0.88480392, 0.88235294, 0.875     ,\n",
       "        0.88480392, 0.86764706, 0.87745098, 0.88112745]),\n",
       " 'std_test_score': array([0.09492864, 0.09294359, 0.0990178 , 0.0998983 , 0.09001705,\n",
       "        0.09927668, 0.10511986, 0.10411009, 0.10013393]),\n",
       " 'rank_test_score': array([8, 7, 1, 3, 6, 1, 9, 5, 4], dtype=int32)}"
      ]
     },
     "execution_count": 25,
     "metadata": {},
     "output_type": "execute_result"
    }
   ],
   "source": [
    "grid.cv_results_"
   ]
  },
  {
   "cell_type": "code",
   "execution_count": 27,
   "metadata": {},
   "outputs": [
    {
     "ename": "NotFittedError",
     "evalue": "This ExtraTreesClassifier instance is not fitted yet. Call 'fit' with appropriate arguments before using this method.",
     "output_type": "error",
     "traceback": [
      "\u001b[0;31m---------------------------------------------------------------------------\u001b[0m",
      "\u001b[0;31mNotFittedError\u001b[0m                            Traceback (most recent call last)",
      "\u001b[0;32m<ipython-input-27-f98bae733612>\u001b[0m in \u001b[0;36m<module>\u001b[0;34m\u001b[0m\n\u001b[0;32m----> 1\u001b[0;31m \u001b[0mtest_pred_proba2\u001b[0m\u001b[0;34m=\u001b[0m\u001b[0mETC\u001b[0m\u001b[0;34m.\u001b[0m\u001b[0mpredict_proba\u001b[0m\u001b[0;34m(\u001b[0m\u001b[0mtest_set\u001b[0m\u001b[0;34m)\u001b[0m\u001b[0;34m\u001b[0m\u001b[0;34m\u001b[0m\u001b[0m\n\u001b[0m\u001b[1;32m      2\u001b[0m \u001b[0marray\u001b[0m\u001b[0;34m=\u001b[0m\u001b[0mnp\u001b[0m\u001b[0;34m.\u001b[0m\u001b[0marray\u001b[0m\u001b[0;34m(\u001b[0m\u001b[0mtest_pred_proba2\u001b[0m\u001b[0;34m)\u001b[0m\u001b[0;34m\u001b[0m\u001b[0;34m\u001b[0m\u001b[0m\n\u001b[1;32m      3\u001b[0m \u001b[0mnewpred3\u001b[0m\u001b[0;34m=\u001b[0m\u001b[0mnp\u001b[0m\u001b[0;34m.\u001b[0m\u001b[0mzeros\u001b[0m\u001b[0;34m(\u001b[0m\u001b[0mlen\u001b[0m\u001b[0;34m(\u001b[0m\u001b[0mtest_pred4\u001b[0m\u001b[0;34m)\u001b[0m\u001b[0;34m)\u001b[0m\u001b[0;34m\u001b[0m\u001b[0;34m\u001b[0m\u001b[0m\n\u001b[1;32m      4\u001b[0m \u001b[0;32mfor\u001b[0m \u001b[0mx\u001b[0m \u001b[0;32min\u001b[0m \u001b[0mrange\u001b[0m\u001b[0;34m(\u001b[0m\u001b[0mlen\u001b[0m\u001b[0;34m(\u001b[0m\u001b[0mtest_pred_proba2\u001b[0m\u001b[0;34m)\u001b[0m\u001b[0;34m)\u001b[0m\u001b[0;34m:\u001b[0m\u001b[0;34m\u001b[0m\u001b[0;34m\u001b[0m\u001b[0m\n\u001b[1;32m      5\u001b[0m     \u001b[0;32mif\u001b[0m\u001b[0;34m(\u001b[0m\u001b[0mnp\u001b[0m\u001b[0;34m.\u001b[0m\u001b[0mmax\u001b[0m\u001b[0;34m(\u001b[0m\u001b[0mtest_pred_proba2\u001b[0m\u001b[0;34m[\u001b[0m\u001b[0mx\u001b[0m\u001b[0;34m]\u001b[0m\u001b[0;34m)\u001b[0m\u001b[0;34m>\u001b[0m\u001b[0;36m0.2\u001b[0m\u001b[0;34m)\u001b[0m\u001b[0;34m:\u001b[0m\u001b[0;34m\u001b[0m\u001b[0;34m\u001b[0m\u001b[0m\n",
      "\u001b[0;32m~/anaconda3/envs/venv/lib/python3.7/site-packages/sklearn/ensemble/forest.py\u001b[0m in \u001b[0;36mpredict_proba\u001b[0;34m(self, X)\u001b[0m\n\u001b[1;32m    584\u001b[0m             \u001b[0mclasses\u001b[0m \u001b[0mcorresponds\u001b[0m \u001b[0mto\u001b[0m \u001b[0mthat\u001b[0m \u001b[0;32min\u001b[0m \u001b[0mthe\u001b[0m \u001b[0mattribute\u001b[0m\u001b[0;31m \u001b[0m\u001b[0;31m`\u001b[0m\u001b[0mclasses_\u001b[0m\u001b[0;31m`\u001b[0m\u001b[0;34m.\u001b[0m\u001b[0;34m\u001b[0m\u001b[0;34m\u001b[0m\u001b[0m\n\u001b[1;32m    585\u001b[0m         \"\"\"\n\u001b[0;32m--> 586\u001b[0;31m         \u001b[0mcheck_is_fitted\u001b[0m\u001b[0;34m(\u001b[0m\u001b[0mself\u001b[0m\u001b[0;34m,\u001b[0m \u001b[0;34m'estimators_'\u001b[0m\u001b[0;34m)\u001b[0m\u001b[0;34m\u001b[0m\u001b[0;34m\u001b[0m\u001b[0m\n\u001b[0m\u001b[1;32m    587\u001b[0m         \u001b[0;31m# Check data\u001b[0m\u001b[0;34m\u001b[0m\u001b[0;34m\u001b[0m\u001b[0;34m\u001b[0m\u001b[0m\n\u001b[1;32m    588\u001b[0m         \u001b[0mX\u001b[0m \u001b[0;34m=\u001b[0m \u001b[0mself\u001b[0m\u001b[0;34m.\u001b[0m\u001b[0m_validate_X_predict\u001b[0m\u001b[0;34m(\u001b[0m\u001b[0mX\u001b[0m\u001b[0;34m)\u001b[0m\u001b[0;34m\u001b[0m\u001b[0;34m\u001b[0m\u001b[0m\n",
      "\u001b[0;32m~/anaconda3/envs/venv/lib/python3.7/site-packages/sklearn/utils/validation.py\u001b[0m in \u001b[0;36mcheck_is_fitted\u001b[0;34m(estimator, attributes, msg, all_or_any)\u001b[0m\n\u001b[1;32m    912\u001b[0m \u001b[0;34m\u001b[0m\u001b[0m\n\u001b[1;32m    913\u001b[0m     \u001b[0;32mif\u001b[0m \u001b[0;32mnot\u001b[0m \u001b[0mall_or_any\u001b[0m\u001b[0;34m(\u001b[0m\u001b[0;34m[\u001b[0m\u001b[0mhasattr\u001b[0m\u001b[0;34m(\u001b[0m\u001b[0mestimator\u001b[0m\u001b[0;34m,\u001b[0m \u001b[0mattr\u001b[0m\u001b[0;34m)\u001b[0m \u001b[0;32mfor\u001b[0m \u001b[0mattr\u001b[0m \u001b[0;32min\u001b[0m \u001b[0mattributes\u001b[0m\u001b[0;34m]\u001b[0m\u001b[0;34m)\u001b[0m\u001b[0;34m:\u001b[0m\u001b[0;34m\u001b[0m\u001b[0;34m\u001b[0m\u001b[0m\n\u001b[0;32m--> 914\u001b[0;31m         \u001b[0;32mraise\u001b[0m \u001b[0mNotFittedError\u001b[0m\u001b[0;34m(\u001b[0m\u001b[0mmsg\u001b[0m \u001b[0;34m%\u001b[0m \u001b[0;34m{\u001b[0m\u001b[0;34m'name'\u001b[0m\u001b[0;34m:\u001b[0m \u001b[0mtype\u001b[0m\u001b[0;34m(\u001b[0m\u001b[0mestimator\u001b[0m\u001b[0;34m)\u001b[0m\u001b[0;34m.\u001b[0m\u001b[0m__name__\u001b[0m\u001b[0;34m}\u001b[0m\u001b[0;34m)\u001b[0m\u001b[0;34m\u001b[0m\u001b[0;34m\u001b[0m\u001b[0m\n\u001b[0m\u001b[1;32m    915\u001b[0m \u001b[0;34m\u001b[0m\u001b[0m\n\u001b[1;32m    916\u001b[0m \u001b[0;34m\u001b[0m\u001b[0m\n",
      "\u001b[0;31mNotFittedError\u001b[0m: This ExtraTreesClassifier instance is not fitted yet. Call 'fit' with appropriate arguments before using this method."
     ]
    }
   ],
   "source": [
    "test_pred_proba2=ETC.predict_proba(test_set)\n",
    "array=np.array(test_pred_proba2)\n",
    "newpred3=np.zeros(len(test_pred4))\n",
    "for x in range(len(test_pred_proba2)):\n",
    "    if(np.max(test_pred_proba2[x])>0.2):\n",
    "        newpred3[x]=test_pred4[x]\n",
    "    else:\n",
    "        newpred3[x]=-1\n",
    "        i=0\n",
    "        #print(np.shape(np.argmax(test_pred_proba[x])))\n",
    "print(np.shape(newpred3))\n",
    "print(newpred3)\n",
    "print(accuracy_score(newpred3,test_label))"
   ]
  },
  {
   "cell_type": "code",
   "execution_count": 77,
   "metadata": {},
   "outputs": [
    {
     "data": {
      "text/plain": [
       "['rf.joblib']"
      ]
     },
     "execution_count": 77,
     "metadata": {},
     "output_type": "execute_result"
    }
   ],
   "source": [
    "from joblib import dump, load\n",
    "import pickle\n",
    "\n",
    "filename='./rf.sav'\n",
    "pickle.dump(RF,open(filename,'wb'))\n",
    "dump(RF,'rf.joblib')"
   ]
  },
  {
   "cell_type": "code",
   "execution_count": null,
   "metadata": {},
   "outputs": [],
   "source": []
  },
  {
   "cell_type": "code",
   "execution_count": null,
   "metadata": {},
   "outputs": [],
   "source": []
  },
  {
   "cell_type": "code",
   "execution_count": null,
   "metadata": {},
   "outputs": [],
   "source": []
  }
 ],
 "metadata": {
  "kernelspec": {
   "display_name": "Python 3",
   "language": "python",
   "name": "python3"
  },
  "language_info": {
   "codemirror_mode": {
    "name": "ipython",
    "version": 3
   },
   "file_extension": ".py",
   "mimetype": "text/x-python",
   "name": "python",
   "nbconvert_exporter": "python",
   "pygments_lexer": "ipython3",
   "version": "3.7.3"
  }
 },
 "nbformat": 4,
 "nbformat_minor": 2
}
