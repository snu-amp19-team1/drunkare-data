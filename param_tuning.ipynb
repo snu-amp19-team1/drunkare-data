{
 "cells": [
  {
   "cell_type": "code",
   "execution_count": 4,
   "metadata": {},
   "outputs": [],
   "source": [
    "##complex data와 똑같이 40ms로 parsing했음 데이터 4배라고 생각하고 뻥튀기시켜봄 정확도는 10ms와 비슷하게 나옴\n",
    "\n",
    "import csv\n",
    "import matplotlib.pyplot as plt\n",
    "import numpy as np\n",
    "import pandas as pd\n",
    "import tensorflow as tf\n",
    "import sklearn\n",
    "from sklearn import svm\n",
    "from datetime import datetime\n",
    "from sklearn.metrics import confusion_matrix\n",
    "from sklearn.metrics import accuracy_score\n",
    "from sklearn.preprocessing import OneHotEncoder\n",
    "import glob\n",
    "\n",
    "\n",
    "#filename queue\n",
    "filename_queue=glob.glob('./rawdata/data[1-4].csv')\n",
    "#Create return path\n",
    "#return_path='./parsed/data.csv'\n",
    "#create_file=open(return_path,'w')"
   ]
  },
  {
   "cell_type": "code",
   "execution_count": 15,
   "metadata": {},
   "outputs": [],
   "source": [
    "#Parsing data\n",
    "\n",
    "training_set=[]\n",
    "test_set=[]\n",
    "training_label=[]\n",
    "test_label=[]\n",
    "X=[]\n",
    "y=[]\n",
    "label_count=np.zeros(16)\n",
    "\n",
    "#return_file=open(return_path,'a')\n",
    "#writer=csv.writer(return_file)\n",
    "#writer.writerow()\n",
    "n_data=[]\n",
    "\n",
    "for filename in filename_queue:\n",
    "    file=open(filename, newline='')\n",
    "    \n",
    "    reader=csv.reader(file)\n",
    "    header=next(reader)\n",
    "    \n",
    "    for row in reader:\n",
    "        row[4:]=[float(i) for i in row[4:]]\n",
    "        date=datetime.strptime(row[0],'%Y/%m/%d')\n",
    "        msec=row[1:3]\n",
    "        labl=int(row[3])\n",
    "        label_count[labl]+=1\n",
    "        for x in range(4):\n",
    "            X_acc=list(row[4*i+4+x] for i in range(150))\n",
    "            Y_acc=list(row[4*i+604+x] for i in range(150))\n",
    "            Z_acc=list(row[4*i+1204+x] for i in range(150))\n",
    "            X_gyro=list(row[4*i+1804+x] for i in range(150))\n",
    "            Y_gyro=list(row[4*i+2404+x] for i in range(150))\n",
    "            Z_gyro=list(row[4*i+3004+x] for i in range(150))\n",
    "        \n",
    "            window=np.array([[X_acc[0:25],X_acc[25:50],X_acc[50:75],X_acc[75:100],X_acc[100:125],X_acc[125:150]],\n",
    "                [Y_acc[0:25],Y_acc[25:50],Y_acc[50:75],Y_acc[75:100],Y_acc[100:125],Y_acc[125:150]],\n",
    "                [Z_acc[0:25],Z_acc[25:50],Z_acc[50:75],Z_acc[75:100],Z_acc[100:125],Z_acc[125:150]],\n",
    "                [X_gyro[0:25],X_gyro[25:50],X_gyro[50:75],X_gyro[75:100],X_gyro[100:125],X_gyro[125:150]],\n",
    "                [Y_gyro[0:25],Y_gyro[25:50],Y_gyro[50:75],Y_gyro[75:100],Y_gyro[100:125],Y_gyro[125:150]],\n",
    "                [Z_gyro[0:25],Z_gyro[25:50],Z_gyro[50:75],Z_gyro[75:100],Z_gyro[100:125],Z_gyro[125:150]]])\n",
    "    \n",
    "            #5 features  what else?2\n",
    "            window_mean=window.mean(axis=-1)\n",
    "            window_stddev=window.std(axis=-1)\n",
    "            window_median=np.median(window,axis=-1)\n",
    "            window_percent25=np.percentile(window,25,axis=-1)\n",
    "            window_percent75=np.percentile(window,75,axis=-1)\n",
    "\n",
    "            window_feature=np.array([[window_mean],[window_stddev],[window_median],[window_percent25],[window_percent75]])\n",
    "            window_feature=window_feature.reshape(180)\n",
    "            \n",
    "            #for cross validation\n",
    "            X.append(window_feature)\n",
    "            y.append(labl)\n",
    "            #수동으로 X, y 나누기\n",
    "            if (label_count[labl]%5!=1):\n",
    "                training_set.append(window_feature)\n",
    "                training_label.append(labl)\n",
    "            else:\n",
    "                test_set.append(window_feature)\n",
    "                test_label.append(labl)\n",
    "        "
   ]
  },
  {
   "cell_type": "code",
   "execution_count": 17,
   "metadata": {},
   "outputs": [
    {
     "name": "stdout",
     "output_type": "stream",
     "text": [
      "[12, 12, 12, 12, 9, 9, 9, 9, 9, 9, 9, 9, 12, 12, 12, 12, 12, 12, 12, 12, 12, 12, 12, 12, 10, 10, 10, 10, 10, 10, 10, 10, 9, 9, 9, 9, 9, 9, 9, 9, 9, 9, 9, 9, 10, 10, 10, 10, 10, 10, 10, 10, 10, 10, 10, 10, 10, 10, 10, 10, 9, 9, 9, 9, 9, 9, 9, 9, 10, 10, 10, 10, 12, 12, 12, 12, 12, 12, 12, 12, 10, 10, 10, 10, 10, 10, 10, 10, 12, 12, 12, 12, 9, 9, 9, 9, 9, 9, 9, 9, 10, 10, 10, 10, 10, 10, 10, 10, 9, 9, 9, 9, 10, 10, 10, 10, 10, 10, 10, 10, 10, 10, 10, 10, 10, 10, 10, 10, 10, 10, 10, 10, 9, 9, 9, 9, 9, 9, 9, 9, 9, 9, 9, 9, 6, 6, 6, 6, 6, 6, 6, 6, 7, 7, 7, 7, 7, 7, 7, 7, 7, 7, 7, 7, 1, 1, 1, 1, 1, 1, 1, 1, 1, 1, 1, 1, 7, 7, 7, 7, 6, 6, 6, 6, 6, 6, 6, 6, 6, 6, 6, 6, 6, 6, 6, 6, 6, 6, 6, 6, 6, 6, 6, 6, 6, 6, 6, 6, 2, 2, 2, 2, 0, 0, 0, 0, 0, 0, 0, 0, 0, 0, 0, 0, 0, 0, 0, 0, 0, 0, 0, 0, 0, 0, 0, 0, 6, 6, 6, 6, 6, 6, 6, 6, 6, 6, 6, 6, 0, 0, 0, 0, 5, 5, 5, 5, 5, 5, 5, 5, 5, 5, 5, 5, 5, 5, 5, 5, 2, 2, 2, 2, 2, 2, 2, 2, 7, 7, 7, 7, 0, 0, 0, 0, 6, 6, 6, 6, 6, 6, 6, 6, 5, 5, 5, 5, 7, 7, 7, 7, 3, 3, 3, 3, 3, 3, 3, 3, 4, 4, 4, 4, 12, 12, 12, 12, 9, 9, 9, 9, 12, 12, 12, 12, 6, 6, 6, 6, 6, 6, 6, 6, 12, 12, 12, 12, 12, 12, 12, 12, 12, 12, 12, 12, 9, 9, 9, 9, 7, 7, 7, 7, 0, 0, 0, 0, 3, 3, 3, 3, 1, 1, 1, 1, 1, 1, 1, 1, 1, 1, 1, 1, 12, 12, 12, 12, 6, 6, 6, 6, 12, 12, 12, 12, 7, 7, 7, 7, 0, 0, 0, 0, 12, 12, 12, 12, 12, 12, 12, 12, 12, 12, 12, 12, 6, 6, 6, 6, 6, 6, 6, 6, 6, 6, 6, 6, 12, 12, 12, 12, 12, 12, 12, 12, 12, 12, 12, 12, 12, 12, 12, 12, 12, 12, 12, 12, 12, 12, 12, 12, 12, 12, 12, 12, 12, 12, 12, 12, 12, 12, 12, 12, 0, 0, 0, 0, 0, 0, 0, 0, 0, 0, 0, 0, 7, 7, 7, 7, 0, 0, 0, 0, 12, 12, 12, 12, 12, 12, 12, 12, 12, 12, 12, 12, 12, 12, 12, 12, 9, 9, 9, 9, 12, 12, 12, 12, 6, 6, 6, 6, 6, 6, 6, 6, 12, 12, 12, 12, 0, 0, 0, 0, 12, 12, 12, 12, 12, 12, 12, 12, 12, 12, 12, 12, 5, 5, 5, 5, 5, 5, 5, 5, 5, 5, 5, 5, 2, 2, 2, 2, 2, 2, 2, 2, 0, 0, 0, 0, 12, 12, 12, 12, 12, 12, 12, 12, 6, 6, 6, 6, 6, 6, 6, 6, 12, 12, 12, 12, 12, 12, 12, 12, 12, 12, 12, 12, 12, 12, 12, 12, 12, 12, 12, 12, 6, 6, 6, 6, 12, 12, 12, 12, 3, 3, 3, 3, 6, 6, 6, 6, 6, 6, 6, 6, 7, 7, 7, 7, 0, 0, 0, 0, 7, 7, 7, 7, 0, 0, 0, 0, 5, 5, 5, 5, 2, 2, 2, 2, 2, 2, 2, 2, 5, 5, 5, 5, 5, 5, 5, 5, 5, 5, 5, 5, 5, 5, 5, 5, 5, 5, 5, 5, 0, 0, 0, 0, 7, 7, 7, 7, 0, 0, 0, 0, 0, 0, 0, 0, 0, 0, 0, 0, 3, 3, 3, 3, 3, 3, 3, 3, 3, 3, 3, 3, 12, 12, 12, 12, 12, 12, 12, 12, 0, 0, 0, 0, 12, 12, 12, 12, 1, 1, 1, 1, 1, 1, 1, 1, 1, 1, 1, 1, 5, 5, 5, 5, 6, 6, 6, 6, 6, 6, 6, 6, 6, 6, 6, 6, 6, 6, 6, 6, 1, 1, 1, 1, 7, 7, 7, 7, 1, 1, 1, 1, 5, 5, 5, 5, 6, 6, 6, 6, 0, 0, 0, 0, 1, 1, 1, 1, 6, 6, 6, 6, 2, 2, 2, 2, 1, 1, 1, 1, 1, 1, 1, 1, 1, 1, 1, 1, 1, 1, 1, 1, 1, 1, 1, 1, 5, 5, 5, 5, 6, 6, 6, 6, 10, 10, 10, 10, 10, 10, 10, 10, 10, 10, 10, 10, 10, 10, 10, 10, 10, 10, 10, 10, 13, 13, 13, 13, 1, 1, 1, 1, 9, 9, 9, 9, 9, 9, 9, 9, 5, 5, 5, 5, 13, 13, 13, 13, 13, 13, 13, 13, 13, 13, 13, 13, 13, 13, 13, 13, 13, 13, 13, 13, 13, 13, 13, 13, 13, 13, 13, 13, 13, 13, 13, 13, 13, 13, 13, 13, 8, 8, 8, 8, 8, 8, 8, 8, 8, 8, 8, 8, 8, 8, 8, 8, 8, 8, 8, 8, 14, 14, 14, 14, 14, 14, 14, 14, 8, 8, 8, 8, 14, 14, 14, 14, 14, 14, 14, 14, 14, 14, 14, 14, 8, 8, 8, 8, 14, 14, 14, 14, 0, 0, 0, 0, 14, 14, 14, 14, 8, 8, 8, 8, 8, 8, 8, 8, 13, 13, 13, 13, 12, 12, 12, 12, 7, 7, 7, 7, 12, 12, 12, 12, 12, 12, 12, 12, 12, 12, 12, 12, 0, 0, 0, 0, 1, 1, 1, 1, 1, 1, 1, 1, 8, 8, 8, 8, 12, 12, 12, 12, 5, 5, 5, 5, 5, 5, 5, 5, 5, 5, 5, 5, 5, 5, 5, 5, 8, 8, 8, 8, 8, 8, 8, 8, 8, 8, 8, 8, 6, 6, 6, 6, 6, 6, 6, 6, 12, 12, 12, 12, 12, 12, 12, 12, 12, 12, 12, 12, 7, 7, 7, 7, 8, 8, 8, 8, 12, 12, 12, 12, 5, 5, 5, 5, 5, 5, 5, 5, 5, 5, 5, 5, 8, 8, 8, 8, 12, 12, 12, 12, 12, 12, 12, 12, 1, 1, 1, 1, 6, 6, 6, 6, 5, 5, 5, 5, 12, 12, 12, 12, 8, 8, 8, 8, 8, 8, 8, 8, 1, 1, 1, 1, 3, 3, 3, 3, 3, 3, 3, 3, 3, 3, 3, 3, 3, 3, 3, 3, 3, 3, 3, 3, 3, 3, 3, 3, 3, 3, 3, 3, 3, 3, 3, 3, 0, 0, 0, 0, 0, 0, 0, 0, 12, 12, 12, 12, 6, 6, 6, 6, 12, 12, 12, 12, 12, 12, 12, 12, 6, 6, 6, 6, 12, 12, 12, 12, 6, 6, 6, 6, 6, 6, 6, 6, 6, 6, 6, 6]\n"
     ]
    }
   ],
   "source": [
    "print(y)"
   ]
  },
  {
   "cell_type": "code",
   "execution_count": 19,
   "metadata": {
    "scrolled": true
   },
   "outputs": [
    {
     "name": "stderr",
     "output_type": "stream",
     "text": [
      "/home/parkj0/anaconda3/envs/venv/lib/python3.7/site-packages/sklearn/model_selection/_split.py:657: Warning: The least populated class in y has only 4 members, which is too few. The minimum number of members in any class cannot be less than n_splits=10.\n",
      "  % (min_groups, self.n_splits)), Warning)\n"
     ]
    },
    {
     "name": "stdout",
     "output_type": "stream",
     "text": [
      "0.6479090234052387\n"
     ]
    }
   ],
   "source": [
    "from sklearn.neighbors import KNeighborsClassifier\n",
    "from sklearn.model_selection import cross_val_score\n",
    "from sklearn.metrics import confusion_matrix\n",
    "\n",
    "clf = KNeighborsClassifier(n_neighbors=5)\n",
    "scores=cross_val_score(clf,X,y,cv=10,scoring='accuracy')\n",
    "print(scores.mean())\n",
    "\n",
    "\n",
    "#test_pred3=clf.predict(test_set)\n",
    "#print(accuracy_score(test_pred3,test_label))\n",
    "#print(confusion_matrix(test_pred3, test_label))\n",
    "#onehot_pred3=test_pred2.reshape(-1,1)\n",
    "#onehot_pred3=ohc.fit_transform(onehot_pred3).toarray()\n",
    "#print(onehot_pred3)"
   ]
  },
  {
   "cell_type": "code",
   "execution_count": 22,
   "metadata": {
    "scrolled": true
   },
   "outputs": [
    {
     "name": "stderr",
     "output_type": "stream",
     "text": [
      "/home/parkj0/anaconda3/envs/venv/lib/python3.7/site-packages/sklearn/model_selection/_split.py:657: Warning: The least populated class in y has only 4 members, which is too few. The minimum number of members in any class cannot be less than n_splits=10.\n",
      "  % (min_groups, self.n_splits)), Warning)\n",
      "/home/parkj0/anaconda3/envs/venv/lib/python3.7/site-packages/sklearn/model_selection/_split.py:657: Warning: The least populated class in y has only 4 members, which is too few. The minimum number of members in any class cannot be less than n_splits=10.\n",
      "  % (min_groups, self.n_splits)), Warning)\n",
      "/home/parkj0/anaconda3/envs/venv/lib/python3.7/site-packages/sklearn/model_selection/_split.py:657: Warning: The least populated class in y has only 4 members, which is too few. The minimum number of members in any class cannot be less than n_splits=10.\n",
      "  % (min_groups, self.n_splits)), Warning)\n",
      "/home/parkj0/anaconda3/envs/venv/lib/python3.7/site-packages/sklearn/model_selection/_split.py:657: Warning: The least populated class in y has only 4 members, which is too few. The minimum number of members in any class cannot be less than n_splits=10.\n",
      "  % (min_groups, self.n_splits)), Warning)\n",
      "/home/parkj0/anaconda3/envs/venv/lib/python3.7/site-packages/sklearn/model_selection/_split.py:657: Warning: The least populated class in y has only 4 members, which is too few. The minimum number of members in any class cannot be less than n_splits=10.\n",
      "  % (min_groups, self.n_splits)), Warning)\n",
      "/home/parkj0/anaconda3/envs/venv/lib/python3.7/site-packages/sklearn/model_selection/_split.py:657: Warning: The least populated class in y has only 4 members, which is too few. The minimum number of members in any class cannot be less than n_splits=10.\n",
      "  % (min_groups, self.n_splits)), Warning)\n",
      "/home/parkj0/anaconda3/envs/venv/lib/python3.7/site-packages/sklearn/model_selection/_split.py:657: Warning: The least populated class in y has only 4 members, which is too few. The minimum number of members in any class cannot be less than n_splits=10.\n",
      "  % (min_groups, self.n_splits)), Warning)\n",
      "/home/parkj0/anaconda3/envs/venv/lib/python3.7/site-packages/sklearn/model_selection/_split.py:657: Warning: The least populated class in y has only 4 members, which is too few. The minimum number of members in any class cannot be less than n_splits=10.\n",
      "  % (min_groups, self.n_splits)), Warning)\n",
      "/home/parkj0/anaconda3/envs/venv/lib/python3.7/site-packages/sklearn/model_selection/_split.py:657: Warning: The least populated class in y has only 4 members, which is too few. The minimum number of members in any class cannot be less than n_splits=10.\n",
      "  % (min_groups, self.n_splits)), Warning)\n",
      "/home/parkj0/anaconda3/envs/venv/lib/python3.7/site-packages/sklearn/model_selection/_split.py:657: Warning: The least populated class in y has only 4 members, which is too few. The minimum number of members in any class cannot be less than n_splits=10.\n",
      "  % (min_groups, self.n_splits)), Warning)\n",
      "/home/parkj0/anaconda3/envs/venv/lib/python3.7/site-packages/sklearn/model_selection/_split.py:657: Warning: The least populated class in y has only 4 members, which is too few. The minimum number of members in any class cannot be less than n_splits=10.\n",
      "  % (min_groups, self.n_splits)), Warning)\n",
      "/home/parkj0/anaconda3/envs/venv/lib/python3.7/site-packages/sklearn/model_selection/_split.py:657: Warning: The least populated class in y has only 4 members, which is too few. The minimum number of members in any class cannot be less than n_splits=10.\n",
      "  % (min_groups, self.n_splits)), Warning)\n",
      "/home/parkj0/anaconda3/envs/venv/lib/python3.7/site-packages/sklearn/model_selection/_split.py:657: Warning: The least populated class in y has only 4 members, which is too few. The minimum number of members in any class cannot be less than n_splits=10.\n",
      "  % (min_groups, self.n_splits)), Warning)\n",
      "/home/parkj0/anaconda3/envs/venv/lib/python3.7/site-packages/sklearn/model_selection/_split.py:657: Warning: The least populated class in y has only 4 members, which is too few. The minimum number of members in any class cannot be less than n_splits=10.\n",
      "  % (min_groups, self.n_splits)), Warning)\n",
      "/home/parkj0/anaconda3/envs/venv/lib/python3.7/site-packages/sklearn/model_selection/_split.py:657: Warning: The least populated class in y has only 4 members, which is too few. The minimum number of members in any class cannot be less than n_splits=10.\n",
      "  % (min_groups, self.n_splits)), Warning)\n",
      "/home/parkj0/anaconda3/envs/venv/lib/python3.7/site-packages/sklearn/model_selection/_split.py:657: Warning: The least populated class in y has only 4 members, which is too few. The minimum number of members in any class cannot be less than n_splits=10.\n",
      "  % (min_groups, self.n_splits)), Warning)\n",
      "/home/parkj0/anaconda3/envs/venv/lib/python3.7/site-packages/sklearn/model_selection/_split.py:657: Warning: The least populated class in y has only 4 members, which is too few. The minimum number of members in any class cannot be less than n_splits=10.\n",
      "  % (min_groups, self.n_splits)), Warning)\n",
      "/home/parkj0/anaconda3/envs/venv/lib/python3.7/site-packages/sklearn/model_selection/_split.py:657: Warning: The least populated class in y has only 4 members, which is too few. The minimum number of members in any class cannot be less than n_splits=10.\n",
      "  % (min_groups, self.n_splits)), Warning)\n",
      "/home/parkj0/anaconda3/envs/venv/lib/python3.7/site-packages/sklearn/model_selection/_split.py:657: Warning: The least populated class in y has only 4 members, which is too few. The minimum number of members in any class cannot be less than n_splits=10.\n",
      "  % (min_groups, self.n_splits)), Warning)\n",
      "/home/parkj0/anaconda3/envs/venv/lib/python3.7/site-packages/sklearn/model_selection/_split.py:657: Warning: The least populated class in y has only 4 members, which is too few. The minimum number of members in any class cannot be less than n_splits=10.\n",
      "  % (min_groups, self.n_splits)), Warning)\n",
      "/home/parkj0/anaconda3/envs/venv/lib/python3.7/site-packages/sklearn/model_selection/_split.py:657: Warning: The least populated class in y has only 4 members, which is too few. The minimum number of members in any class cannot be less than n_splits=10.\n",
      "  % (min_groups, self.n_splits)), Warning)\n",
      "/home/parkj0/anaconda3/envs/venv/lib/python3.7/site-packages/sklearn/model_selection/_split.py:657: Warning: The least populated class in y has only 4 members, which is too few. The minimum number of members in any class cannot be less than n_splits=10.\n",
      "  % (min_groups, self.n_splits)), Warning)\n",
      "/home/parkj0/anaconda3/envs/venv/lib/python3.7/site-packages/sklearn/model_selection/_split.py:657: Warning: The least populated class in y has only 4 members, which is too few. The minimum number of members in any class cannot be less than n_splits=10.\n",
      "  % (min_groups, self.n_splits)), Warning)\n",
      "/home/parkj0/anaconda3/envs/venv/lib/python3.7/site-packages/sklearn/model_selection/_split.py:657: Warning: The least populated class in y has only 4 members, which is too few. The minimum number of members in any class cannot be less than n_splits=10.\n",
      "  % (min_groups, self.n_splits)), Warning)\n",
      "/home/parkj0/anaconda3/envs/venv/lib/python3.7/site-packages/sklearn/model_selection/_split.py:657: Warning: The least populated class in y has only 4 members, which is too few. The minimum number of members in any class cannot be less than n_splits=10.\n",
      "  % (min_groups, self.n_splits)), Warning)\n",
      "/home/parkj0/anaconda3/envs/venv/lib/python3.7/site-packages/sklearn/model_selection/_split.py:657: Warning: The least populated class in y has only 4 members, which is too few. The minimum number of members in any class cannot be less than n_splits=10.\n",
      "  % (min_groups, self.n_splits)), Warning)\n",
      "/home/parkj0/anaconda3/envs/venv/lib/python3.7/site-packages/sklearn/model_selection/_split.py:657: Warning: The least populated class in y has only 4 members, which is too few. The minimum number of members in any class cannot be less than n_splits=10.\n",
      "  % (min_groups, self.n_splits)), Warning)\n",
      "/home/parkj0/anaconda3/envs/venv/lib/python3.7/site-packages/sklearn/model_selection/_split.py:657: Warning: The least populated class in y has only 4 members, which is too few. The minimum number of members in any class cannot be less than n_splits=10.\n",
      "  % (min_groups, self.n_splits)), Warning)\n"
     ]
    },
    {
     "name": "stderr",
     "output_type": "stream",
     "text": [
      "/home/parkj0/anaconda3/envs/venv/lib/python3.7/site-packages/sklearn/model_selection/_split.py:657: Warning: The least populated class in y has only 4 members, which is too few. The minimum number of members in any class cannot be less than n_splits=10.\n",
      "  % (min_groups, self.n_splits)), Warning)\n",
      "/home/parkj0/anaconda3/envs/venv/lib/python3.7/site-packages/sklearn/model_selection/_split.py:657: Warning: The least populated class in y has only 4 members, which is too few. The minimum number of members in any class cannot be less than n_splits=10.\n",
      "  % (min_groups, self.n_splits)), Warning)\n"
     ]
    },
    {
     "name": "stdout",
     "output_type": "stream",
     "text": [
      "[0.7146387114616719, 0.699109953098599, 0.6908849513937824, 0.6760492388940664, 0.6479090234052387, 0.6378362845604225, 0.6311223755294403, 0.6198752642465847, 0.6426113055864949, 0.6377127990059026, 0.6337981421286719, 0.6246635828427249, 0.6237138863000933, 0.6236935610968412, 0.6160601118359741, 0.6143460702081391, 0.6025530955682343, 0.6028909334060722, 0.5951444926844423, 0.5952221565552096, 0.5900228256010427, 0.5832346244478288, 0.5746512134506248, 0.5740982466907615, 0.569199740110169, 0.5683107539835882, 0.553762378863304, 0.5496953871449246, 0.5444740451132378, 0.5428581251562749]\n"
     ]
    }
   ],
   "source": [
    "k_range=range(1,31)\n",
    "k_scores=[]\n",
    "for k in k_range :\n",
    "    knn = KNeighborsClassifier(n_neighbors=k)\n",
    "    scores=cross_val_score(knn,X,y,cv=10,scoring='accuracy')\n",
    "    k_scores.append(scores.mean())\n",
    "print(k_scores)"
   ]
  },
  {
   "cell_type": "code",
   "execution_count": 23,
   "metadata": {},
   "outputs": [
    {
     "data": {
      "text/plain": [
       "Text(0, 0.5, 'accuracy')"
      ]
     },
     "execution_count": 23,
     "metadata": {},
     "output_type": "execute_result"
    },
    {
     "data": {
      "image/png": "[encoded data removed]",
      "text/plain": [
       "<Figure size 432x288 with 1 Axes>"
      ]
     },
     "metadata": {
      "needs_background": "light"
     },
     "output_type": "display_data"
    }
   ],
   "source": [
    "plt.plot(k_range,k_scores)\n",
    "plt.xlabel('value of k for knn')\n",
    "plt.ylabel('accuracy')"
   ]
  },
  {
   "cell_type": "code",
   "execution_count": 25,
   "metadata": {},
   "outputs": [],
   "source": [
    "from sklearn.model_selection import GridSearchCV\n",
    "\n",
    "k_range=range(1,31)\n",
    "param_grid=dict(n_neighbors=k_range)\n",
    "grid=GridSearchCV(knn,param_grid,cv=10,scoring='accuracy')"
   ]
  },
  {
   "cell_type": "code",
   "execution_count": 33,
   "metadata": {
    "scrolled": true
   },
   "outputs": [
    {
     "name": "stderr",
     "output_type": "stream",
     "text": [
      "/home/parkj0/anaconda3/envs/venv/lib/python3.7/site-packages/sklearn/model_selection/_split.py:657: Warning: The least populated class in y has only 4 members, which is too few. The minimum number of members in any class cannot be less than n_splits=10.\n",
      "  % (min_groups, self.n_splits)), Warning)\n",
      "/home/parkj0/anaconda3/envs/venv/lib/python3.7/site-packages/sklearn/model_selection/_search.py:813: DeprecationWarning: The default of the `iid` parameter will change from True to False in version 0.22 and will be removed in 0.24. This will change numeric results when test-set sizes are unequal.\n",
      "  DeprecationWarning)\n"
     ]
    },
    {
     "data": {
      "text/plain": [
       "GridSearchCV(cv=10, error_score='raise-deprecating',\n",
       "             estimator=KNeighborsClassifier(algorithm='auto', leaf_size=30,\n",
       "                                            metric='minkowski',\n",
       "                                            metric_params=None, n_jobs=None,\n",
       "                                            n_neighbors=30, p=2,\n",
       "                                            weights='uniform'),\n",
       "             iid='warn', n_jobs=None, param_grid={'n_neighbors': range(1, 31)},\n",
       "             pre_dispatch='2*n_jobs', refit=True, return_train_score=False,\n",
       "             scoring='accuracy', verbose=0)"
      ]
     },
     "execution_count": 33,
     "metadata": {},
     "output_type": "execute_result"
    }
   ],
   "source": [
    "grid.fit(X,y)"
   ]
  },
  {
   "cell_type": "code",
   "execution_count": 39,
   "metadata": {},
   "outputs": [
    {
     "data": {
      "text/plain": [
       "{'mean_fit_time': array([0.0053582 , 0.00353742, 0.00355356, 0.0035985 , 0.00354288,\n",
       "        0.0035614 , 0.00353668, 0.00350273, 0.00377796, 0.00353215,\n",
       "        0.00386388, 0.00382466, 0.00420527, 0.00407178, 0.00412288,\n",
       "        0.00351868, 0.0035301 , 0.00347745, 0.00352192, 0.00371614,\n",
       "        0.00375547, 0.00350671, 0.00372357, 0.00351775, 0.00355906,\n",
       "        0.00354428, 0.00348735, 0.00352111, 0.00348401, 0.00353732]),\n",
       " 'std_fit_time': array([5.17720865e-03, 1.54642488e-04, 7.17618576e-05, 1.77289819e-04,\n",
       "        9.95433658e-05, 1.45699511e-04, 1.36926571e-04, 2.97299938e-05,\n",
       "        8.46533148e-04, 6.96428342e-05, 7.03988322e-04, 6.36842542e-04,\n",
       "        9.01798840e-04, 9.67725335e-04, 1.13464301e-03, 5.00483929e-05,\n",
       "        5.01388150e-05, 3.30998927e-05, 5.25387135e-05, 6.65359613e-04,\n",
       "        6.18111165e-04, 3.02086407e-05, 4.44145207e-04, 4.09814075e-05,\n",
       "        1.02736046e-04, 6.83006439e-05, 4.93803960e-05, 6.46207775e-05,\n",
       "        2.75488516e-05, 4.88304533e-05]),\n",
       " 'mean_score_time': array([0.03222675, 0.03253019, 0.03614092, 0.03727229, 0.03768103,\n",
       "        0.03848786, 0.03961544, 0.03905094, 0.03941348, 0.03968501,\n",
       "        0.04314709, 0.04250567, 0.04680493, 0.04432142, 0.04336936,\n",
       "        0.04028406, 0.04047348, 0.04045246, 0.04065404, 0.04357226,\n",
       "        0.04241879, 0.04075108, 0.045155  , 0.04090178, 0.04157448,\n",
       "        0.04095714, 0.04098005, 0.04187095, 0.04108307, 0.04159276]),\n",
       " 'std_score_time': array([0.00892418, 0.0016431 , 0.00133873, 0.00161447, 0.0011865 ,\n",
       "        0.00132331, 0.00202684, 0.00136532, 0.00155763, 0.00155677,\n",
       "        0.00516289, 0.00263307, 0.00713634, 0.00560335, 0.00301239,\n",
       "        0.00122929, 0.00131011, 0.00123101, 0.00129175, 0.00279834,\n",
       "        0.0039474 , 0.00128179, 0.00424777, 0.00134386, 0.00133929,\n",
       "        0.00145119, 0.00133238, 0.00234301, 0.00129778, 0.00111692]),\n",
       " 'param_n_neighbors': masked_array(data=[1, 2, 3, 4, 5, 6, 7, 8, 9, 10, 11, 12, 13, 14, 15, 16,\n",
       "                    17, 18, 19, 20, 21, 22, 23, 24, 25, 26, 27, 28, 29, 30],\n",
       "              mask=[False, False, False, False, False, False, False, False,\n",
       "                    False, False, False, False, False, False, False, False,\n",
       "                    False, False, False, False, False, False, False, False,\n",
       "                    False, False, False, False, False, False],\n",
       "        fill_value='?',\n",
       "             dtype=object),\n",
       " 'params': [{'n_neighbors': 1},\n",
       "  {'n_neighbors': 2},\n",
       "  {'n_neighbors': 3},\n",
       "  {'n_neighbors': 4},\n",
       "  {'n_neighbors': 5},\n",
       "  {'n_neighbors': 6},\n",
       "  {'n_neighbors': 7},\n",
       "  {'n_neighbors': 8},\n",
       "  {'n_neighbors': 9},\n",
       "  {'n_neighbors': 10},\n",
       "  {'n_neighbors': 11},\n",
       "  {'n_neighbors': 12},\n",
       "  {'n_neighbors': 13},\n",
       "  {'n_neighbors': 14},\n",
       "  {'n_neighbors': 15},\n",
       "  {'n_neighbors': 16},\n",
       "  {'n_neighbors': 17},\n",
       "  {'n_neighbors': 18},\n",
       "  {'n_neighbors': 19},\n",
       "  {'n_neighbors': 20},\n",
       "  {'n_neighbors': 21},\n",
       "  {'n_neighbors': 22},\n",
       "  {'n_neighbors': 23},\n",
       "  {'n_neighbors': 24},\n",
       "  {'n_neighbors': 25},\n",
       "  {'n_neighbors': 26},\n",
       "  {'n_neighbors': 27},\n",
       "  {'n_neighbors': 28},\n",
       "  {'n_neighbors': 29},\n",
       "  {'n_neighbors': 30}],\n",
       " 'split0_test_score': array([0.59349593, 0.60162602, 0.60162602, 0.55284553, 0.56097561,\n",
       "        0.55284553, 0.54471545, 0.51219512, 0.57723577, 0.56097561,\n",
       "        0.56910569, 0.56097561, 0.55284553, 0.56910569, 0.56097561,\n",
       "        0.56097561, 0.49593496, 0.49593496, 0.49593496, 0.49593496,\n",
       "        0.50406504, 0.49593496, 0.49593496, 0.49593496, 0.48780488,\n",
       "        0.4796748 , 0.48780488, 0.48780488, 0.48780488, 0.48780488]),\n",
       " 'split1_test_score': array([0.79674797, 0.7804878 , 0.80487805, 0.7804878 , 0.78861789,\n",
       "        0.7804878 , 0.7804878 , 0.70731707, 0.78861789, 0.77235772,\n",
       "        0.78861789, 0.7804878 , 0.7804878 , 0.77235772, 0.77235772,\n",
       "        0.77235772, 0.77235772, 0.77235772, 0.7398374 , 0.7398374 ,\n",
       "        0.71544715, 0.69918699, 0.69918699, 0.69918699, 0.67479675,\n",
       "        0.66666667, 0.63414634, 0.61788618, 0.61788618, 0.60162602]),\n",
       " 'split2_test_score': array([0.78333333, 0.73333333, 0.75833333, 0.7       , 0.725     ,\n",
       "        0.70833333, 0.70833333, 0.68333333, 0.69166667, 0.69166667,\n",
       "        0.70833333, 0.69166667, 0.68333333, 0.675     , 0.66666667,\n",
       "        0.66666667, 0.66666667, 0.63333333, 0.63333333, 0.63333333,\n",
       "        0.63333333, 0.63333333, 0.61666667, 0.58333333, 0.59166667,\n",
       "        0.6       , 0.59166667, 0.58333333, 0.58333333, 0.58333333]),\n",
       " 'split3_test_score': array([0.775     , 0.775     , 0.775     , 0.775     , 0.75833333,\n",
       "        0.75833333, 0.70833333, 0.725     , 0.83333333, 0.83333333,\n",
       "        0.84166667, 0.80833333, 0.8       , 0.8       , 0.775     ,\n",
       "        0.78333333, 0.78333333, 0.775     , 0.78333333, 0.78333333,\n",
       "        0.80833333, 0.80833333, 0.79166667, 0.79166667, 0.78333333,\n",
       "        0.8       , 0.775     , 0.775     , 0.76666667, 0.775     ]),\n",
       " 'split4_test_score': array([0.81034483, 0.80172414, 0.81034483, 0.81034483, 0.77586207,\n",
       "        0.70689655, 0.69827586, 0.67241379, 0.60344828, 0.59482759,\n",
       "        0.5862069 , 0.5862069 , 0.57758621, 0.57758621, 0.5862069 ,\n",
       "        0.55172414, 0.52586207, 0.51724138, 0.50862069, 0.51724138,\n",
       "        0.51724138, 0.53448276, 0.53448276, 0.55172414, 0.51724138,\n",
       "        0.52586207, 0.5       , 0.5       , 0.51724138, 0.52586207]),\n",
       " 'split5_test_score': array([0.81896552, 0.81896552, 0.77586207, 0.76724138, 0.71551724,\n",
       "        0.70689655, 0.69827586, 0.70689655, 0.68103448, 0.6637931 ,\n",
       "        0.6637931 , 0.62931034, 0.65517241, 0.65517241, 0.67241379,\n",
       "        0.68103448, 0.69827586, 0.69827586, 0.69827586, 0.69827586,\n",
       "        0.69827586, 0.67241379, 0.65517241, 0.62068966, 0.63793103,\n",
       "        0.62931034, 0.62068966, 0.59482759, 0.59482759, 0.5862069 ]),\n",
       " 'split6_test_score': array([0.75862069, 0.68965517, 0.67241379, 0.65517241, 0.62931034,\n",
       "        0.62931034, 0.65517241, 0.62931034, 0.70689655, 0.70689655,\n",
       "        0.68103448, 0.67241379, 0.68103448, 0.68103448, 0.63793103,\n",
       "        0.63793103, 0.63793103, 0.62931034, 0.62931034, 0.60344828,\n",
       "        0.57758621, 0.56034483, 0.56034483, 0.56034483, 0.55172414,\n",
       "        0.54310345, 0.53448276, 0.52586207, 0.52586207, 0.51724138]),\n",
       " 'split7_test_score': array([0.62068966, 0.65517241, 0.62931034, 0.62931034, 0.53448276,\n",
       "        0.51724138, 0.50862069, 0.51724138, 0.52586207, 0.51724138,\n",
       "        0.51724138, 0.51724138, 0.55172414, 0.55172414, 0.54310345,\n",
       "        0.53448276, 0.51724138, 0.53448276, 0.52586207, 0.52586207,\n",
       "        0.5       , 0.49137931, 0.47413793, 0.47413793, 0.46551724,\n",
       "        0.46551724, 0.45689655, 0.44827586, 0.40517241, 0.39655172]),\n",
       " 'split8_test_score': array([0.66666667, 0.66666667, 0.65765766, 0.69369369, 0.62162162,\n",
       "        0.63063063, 0.62162162, 0.67567568, 0.64864865, 0.66666667,\n",
       "        0.61261261, 0.62162162, 0.61261261, 0.61261261, 0.6036036 ,\n",
       "        0.61261261, 0.63063063, 0.64864865, 0.63963964, 0.64864865,\n",
       "        0.64864865, 0.64864865, 0.65765766, 0.66666667, 0.68468468,\n",
       "        0.67567568, 0.65765766, 0.66666667, 0.64864865, 0.65765766]),\n",
       " 'split9_test_score': array([0.52252252, 0.46846847, 0.42342342, 0.3963964 , 0.36936937,\n",
       "        0.38738739, 0.38738739, 0.36936937, 0.36936937, 0.36936937,\n",
       "        0.36936937, 0.37837838, 0.34234234, 0.34234234, 0.34234234,\n",
       "        0.34234234, 0.2972973 , 0.32432432, 0.2972973 , 0.30630631,\n",
       "        0.2972973 , 0.28828829, 0.26126126, 0.2972973 , 0.2972973 ,\n",
       "        0.2972973 , 0.27927928, 0.2972973 , 0.2972973 , 0.2972973 ]),\n",
       " 'mean_test_score': array([0.71587031, 0.70051195, 0.69283276, 0.6774744 , 0.65017065,\n",
       "        0.63993174, 0.6331058 , 0.62116041, 0.64505119, 0.63993174,\n",
       "        0.63651877, 0.62713311, 0.62627986, 0.62627986, 0.61860068,\n",
       "        0.6168942 , 0.60494881, 0.60494881, 0.59726962, 0.59726962,\n",
       "        0.59215017, 0.58532423, 0.57679181, 0.57593857, 0.57081911,\n",
       "        0.56996587, 0.55546075, 0.55119454, 0.54607509, 0.5443686 ]),\n",
       " 'std_test_score': array([0.09932238, 0.10100375, 0.11314697, 0.11874687, 0.12456645,\n",
       "        0.11498316, 0.11140925, 0.10896732, 0.12562367, 0.12566143,\n",
       "        0.12838968, 0.11892668, 0.12370267, 0.12137957, 0.11752332,\n",
       "        0.12099215, 0.13861284, 0.13055552, 0.13407055, 0.13156344,\n",
       "        0.13578066, 0.13492675, 0.13802958, 0.12835728, 0.12924236,\n",
       "        0.13091778, 0.127056  , 0.12268151, 0.12330089, 0.12538378]),\n",
       " 'rank_test_score': array([ 1,  2,  3,  4,  5,  7, 10, 14,  6,  7,  9, 11, 12, 12, 15, 16, 17,\n",
       "        17, 19, 19, 21, 22, 23, 24, 25, 26, 27, 28, 29, 30], dtype=int32)}"
      ]
     },
     "execution_count": 39,
     "metadata": {},
     "output_type": "execute_result"
    }
   ],
   "source": [
    "(grid.cv_results_)"
   ]
  },
  {
   "cell_type": "code",
   "execution_count": null,
   "metadata": {},
   "outputs": [],
   "source": [
    "scores=cross_val_score(KNeighborsClassifier(1),X,y,cv=10,scoring='accuracy')\n"
   ]
  },
  {
   "cell_type": "code",
   "execution_count": 146,
   "metadata": {},
   "outputs": [],
   "source": [
    "from sklearn.ensemble import RandomForestClassifier\n",
    "\n",
    "clf=RandomForestClassifier()\n",
    "param_grid={\n",
    " 'n_estimators':[80],\n",
    "   # 'max_features':['auto','sqrt','log2'],\n",
    "    'max_depth':[10,11,12,13,14,None]\n",
    "    #'criterion':['gini','entropy']\n",
    "}\n",
    "\n",
    "grid=GridSearchCV(estimator=clf,param_grid=param_grid,cv=10,scoring='accuracy')"
   ]
  },
  {
   "cell_type": "code",
   "execution_count": 147,
   "metadata": {},
   "outputs": [
    {
     "name": "stderr",
     "output_type": "stream",
     "text": [
      "/home/parkj0/anaconda3/envs/venv/lib/python3.7/site-packages/sklearn/model_selection/_split.py:657: Warning: The least populated class in y has only 4 members, which is too few. The minimum number of members in any class cannot be less than n_splits=10.\n",
      "  % (min_groups, self.n_splits)), Warning)\n",
      "/home/parkj0/anaconda3/envs/venv/lib/python3.7/site-packages/sklearn/model_selection/_search.py:813: DeprecationWarning: The default of the `iid` parameter will change from True to False in version 0.22 and will be removed in 0.24. This will change numeric results when test-set sizes are unequal.\n",
      "  DeprecationWarning)\n"
     ]
    },
    {
     "data": {
      "text/plain": [
       "GridSearchCV(cv=10, error_score='raise-deprecating',\n",
       "             estimator=RandomForestClassifier(bootstrap=True, class_weight=None,\n",
       "                                              criterion='gini', max_depth=None,\n",
       "                                              max_features='auto',\n",
       "                                              max_leaf_nodes=None,\n",
       "                                              min_impurity_decrease=0.0,\n",
       "                                              min_impurity_split=None,\n",
       "                                              min_samples_leaf=1,\n",
       "                                              min_samples_split=2,\n",
       "                                              min_weight_fraction_leaf=0.0,\n",
       "                                              n_estimators='warn', n_jobs=None,\n",
       "                                              oob_score=False,\n",
       "                                              random_state=None, verbose=0,\n",
       "                                              warm_start=False),\n",
       "             iid='warn', n_jobs=None,\n",
       "             param_grid={'max_depth': [10, 11, 12, 13, 14, None],\n",
       "                         'n_estimators': [80]},\n",
       "             pre_dispatch='2*n_jobs', refit=True, return_train_score=False,\n",
       "             scoring='accuracy', verbose=0)"
      ]
     },
     "execution_count": 147,
     "metadata": {},
     "output_type": "execute_result"
    }
   ],
   "source": [
    "grid.fit(X,y)"
   ]
  },
  {
   "cell_type": "code",
   "execution_count": 148,
   "metadata": {},
   "outputs": [
    {
     "data": {
      "text/plain": [
       "{'mean_fit_time': array([0.47282453, 0.47532389, 0.46531811, 0.48848743, 0.51710432,\n",
       "        0.47345588]),\n",
       " 'std_fit_time': array([0.02353153, 0.02712695, 0.0072558 , 0.02477915, 0.04259611,\n",
       "        0.01305637]),\n",
       " 'mean_score_time': array([0.00563154, 0.00526221, 0.0052773 , 0.00599732, 0.00642779,\n",
       "        0.00571854]),\n",
       " 'std_score_time': array([9.92028429e-04, 5.73451006e-05, 6.37734893e-05, 1.13566525e-03,\n",
       "        1.59951105e-03, 1.32041009e-03]),\n",
       " 'param_max_depth': masked_array(data=[10, 11, 12, 13, 14, None],\n",
       "              mask=[False, False, False, False, False, False],\n",
       "        fill_value='?',\n",
       "             dtype=object),\n",
       " 'param_n_estimators': masked_array(data=[80, 80, 80, 80, 80, 80],\n",
       "              mask=[False, False, False, False, False, False],\n",
       "        fill_value='?',\n",
       "             dtype=object),\n",
       " 'params': [{'max_depth': 10, 'n_estimators': 80},\n",
       "  {'max_depth': 11, 'n_estimators': 80},\n",
       "  {'max_depth': 12, 'n_estimators': 80},\n",
       "  {'max_depth': 13, 'n_estimators': 80},\n",
       "  {'max_depth': 14, 'n_estimators': 80},\n",
       "  {'max_depth': None, 'n_estimators': 80}],\n",
       " 'split0_test_score': array([0.77235772, 0.70731707, 0.72357724, 0.72357724, 0.7398374 ,\n",
       "        0.72357724]),\n",
       " 'split1_test_score': array([0.93495935, 0.95121951, 0.95121951, 0.96747967, 0.95934959,\n",
       "        0.90243902]),\n",
       " 'split2_test_score': array([1.        , 0.99166667, 1.        , 1.        , 1.        ,\n",
       "        1.        ]),\n",
       " 'split3_test_score': array([0.9, 0.9, 0.9, 0.9, 0.9, 0.9]),\n",
       " 'split4_test_score': array([0.93103448, 0.92241379, 0.93103448, 0.93103448, 0.9137931 ,\n",
       "        0.93103448]),\n",
       " 'split5_test_score': array([0.93103448, 0.92241379, 0.90517241, 0.96551724, 0.89655172,\n",
       "        0.94827586]),\n",
       " 'split6_test_score': array([0.89655172, 0.90517241, 0.92241379, 0.9137931 , 0.9137931 ,\n",
       "        0.88793103]),\n",
       " 'split7_test_score': array([0.82758621, 0.86206897, 0.81896552, 0.77586207, 0.78448276,\n",
       "        0.81034483]),\n",
       " 'split8_test_score': array([0.81081081, 0.8018018 , 0.79279279, 0.85585586, 0.8018018 ,\n",
       "        0.79279279]),\n",
       " 'split9_test_score': array([0.67567568, 0.63963964, 0.74774775, 0.72072072, 0.73873874,\n",
       "        0.71171171]),\n",
       " 'mean_test_score': array([0.86945392, 0.86177474, 0.87030717, 0.87627986, 0.86604096,\n",
       "        0.86177474]),\n",
       " 'std_test_score': array([0.09032796, 0.10558805, 0.08812322, 0.09746055, 0.08756894,\n",
       "        0.09171752]),\n",
       " 'rank_test_score': array([3, 5, 2, 1, 4, 5], dtype=int32)}"
      ]
     },
     "execution_count": 148,
     "metadata": {},
     "output_type": "execute_result"
    }
   ],
   "source": [
    "grid.cv_results_"
   ]
  },
  {
   "cell_type": "code",
   "execution_count": 149,
   "metadata": {},
   "outputs": [
    {
     "data": {
      "text/plain": [
       "{'max_depth': 13, 'n_estimators': 80}"
      ]
     },
     "execution_count": 149,
     "metadata": {},
     "output_type": "execute_result"
    }
   ],
   "source": [
    "grid.best_params_"
   ]
  },
  {
   "cell_type": "code",
   "execution_count": 150,
   "metadata": {},
   "outputs": [
    {
     "name": "stderr",
     "output_type": "stream",
     "text": [
      "/home/parkj0/anaconda3/envs/venv/lib/python3.7/site-packages/sklearn/model_selection/_split.py:657: Warning: The least populated class in y has only 4 members, which is too few. The minimum number of members in any class cannot be less than n_splits=10.\n",
      "  % (min_groups, self.n_splits)), Warning)\n"
     ]
    },
    {
     "name": "stdout",
     "output_type": "stream",
     "text": [
      "0.8624162556164239\n"
     ]
    }
   ],
   "source": [
    "clf1=RandomForestClassifier(80)\n",
    "scores=cross_val_score(clf1,X,y,cv=10,scoring='accuracy')\n",
    "print(scores.mean())"
   ]
  },
  {
   "cell_type": "code",
   "execution_count": 151,
   "metadata": {},
   "outputs": [
    {
     "name": "stderr",
     "output_type": "stream",
     "text": [
      "/home/parkj0/anaconda3/envs/venv/lib/python3.7/site-packages/sklearn/model_selection/_split.py:657: Warning: The least populated class in y has only 4 members, which is too few. The minimum number of members in any class cannot be less than n_splits=10.\n",
      "  % (min_groups, self.n_splits)), Warning)\n"
     ]
    },
    {
     "name": "stdout",
     "output_type": "stream",
     "text": [
      "0.7578969002644359\n"
     ]
    }
   ],
   "source": [
    "#SVM\n",
    "#prepare the data\n",
    "#prepare the model\n",
    "clf = sklearn.svm.SVC(gamma='scale',tol=0.1)\n",
    "scores=cross_val_score(clf,X,y,cv=10,scoring='accuracy')\n",
    "print(scores.mean())\n"
   ]
  },
  {
   "cell_type": "code",
   "execution_count": 171,
   "metadata": {},
   "outputs": [],
   "source": [
    "param_grid={\n",
    " #'kernel':['linear','poly','rbf','sigmoid'], rbf to be best acc\n",
    "    'C':[0.001,0.01,0.1,1,10],\n",
    "#    'gamma' : [0.001, 0.01, 0.1, 1]\n",
    "\n",
    "}\n",
    "\n",
    "grid=GridSearchCV(estimator=clf,param_grid=param_grid,cv=10,scoring='accuracy')"
   ]
  },
  {
   "cell_type": "code",
   "execution_count": 172,
   "metadata": {},
   "outputs": [
    {
     "name": "stderr",
     "output_type": "stream",
     "text": [
      "/home/parkj0/anaconda3/envs/venv/lib/python3.7/site-packages/sklearn/model_selection/_split.py:657: Warning: The least populated class in y has only 4 members, which is too few. The minimum number of members in any class cannot be less than n_splits=10.\n",
      "  % (min_groups, self.n_splits)), Warning)\n",
      "/home/parkj0/anaconda3/envs/venv/lib/python3.7/site-packages/sklearn/model_selection/_search.py:813: DeprecationWarning: The default of the `iid` parameter will change from True to False in version 0.22 and will be removed in 0.24. This will change numeric results when test-set sizes are unequal.\n",
      "  DeprecationWarning)\n"
     ]
    },
    {
     "data": {
      "text/plain": [
       "GridSearchCV(cv=10, error_score='raise-deprecating',\n",
       "             estimator=SVC(C=1.0, cache_size=200, class_weight=None, coef0=0.0,\n",
       "                           decision_function_shape='ovr', degree=3,\n",
       "                           gamma='scale', kernel='rbf', max_iter=-1,\n",
       "                           probability=False, random_state=None, shrinking=True,\n",
       "                           tol=0.1, verbose=False),\n",
       "             iid='warn', n_jobs=None,\n",
       "             param_grid={'C': [0.001, 0.01, 0.1, 1, 10]},\n",
       "             pre_dispatch='2*n_jobs', refit=True, return_train_score=False,\n",
       "             scoring='accuracy', verbose=0)"
      ]
     },
     "execution_count": 172,
     "metadata": {},
     "output_type": "execute_result"
    }
   ],
   "source": [
    "grid.fit(X,y)"
   ]
  },
  {
   "cell_type": "code",
   "execution_count": 173,
   "metadata": {},
   "outputs": [
    {
     "data": {
      "text/plain": [
       "{'C': 10}"
      ]
     },
     "execution_count": 173,
     "metadata": {},
     "output_type": "execute_result"
    }
   ],
   "source": [
    "grid.best_params_"
   ]
  },
  {
   "cell_type": "code",
   "execution_count": 174,
   "metadata": {},
   "outputs": [
    {
     "data": {
      "text/plain": [
       "{'mean_fit_time': array([0.36562347, 0.3576674 , 0.33173978, 0.15177834, 0.11077726]),\n",
       " 'std_fit_time': array([0.02680543, 0.00289398, 0.00228093, 0.00326965, 0.00157215]),\n",
       " 'mean_score_time': array([0.02880199, 0.02901666, 0.02841318, 0.02233956, 0.01929898]),\n",
       " 'std_score_time': array([0.00090188, 0.0009759 , 0.00082091, 0.00100522, 0.00085786]),\n",
       " 'param_C': masked_array(data=[0.001, 0.01, 0.1, 1, 10],\n",
       "              mask=[False, False, False, False, False],\n",
       "        fill_value='?',\n",
       "             dtype=object),\n",
       " 'params': [{'C': 0.001}, {'C': 0.01}, {'C': 0.1}, {'C': 1}, {'C': 10}],\n",
       " 'split0_test_score': array([0.20325203, 0.20325203, 0.57723577, 0.7398374 , 0.69918699]),\n",
       " 'split1_test_score': array([0.20325203, 0.20325203, 0.55284553, 0.82926829, 0.79674797]),\n",
       " 'split2_test_score': array([0.20833333, 0.20833333, 0.55833333, 0.85      , 0.85833333]),\n",
       " 'split3_test_score': array([0.20833333, 0.20833333, 0.575     , 0.81666667, 0.78333333]),\n",
       " 'split4_test_score': array([0.21551724, 0.21551724, 0.57758621, 0.78448276, 0.78448276]),\n",
       " 'split5_test_score': array([0.21551724, 0.21551724, 0.51724138, 0.87931034, 0.89655172]),\n",
       " 'split6_test_score': array([0.21551724, 0.21551724, 0.42241379, 0.8362069 , 0.8362069 ]),\n",
       " 'split7_test_score': array([0.21551724, 0.21551724, 0.43103448, 0.68103448, 0.69827586]),\n",
       " 'split8_test_score': array([0.21621622, 0.21621622, 0.48648649, 0.72972973, 0.73873874]),\n",
       " 'split9_test_score': array([0.21621622, 0.21621622, 0.42342342, 0.43243243, 0.54954955]),\n",
       " 'mean_test_score': array([0.2116041 , 0.2116041 , 0.51365188, 0.76023891, 0.76535836]),\n",
       " 'std_test_score': array([0.00518885, 0.00518885, 0.06262236, 0.12088722, 0.09295776]),\n",
       " 'rank_test_score': array([4, 4, 3, 2, 1], dtype=int32)}"
      ]
     },
     "execution_count": 174,
     "metadata": {},
     "output_type": "execute_result"
    }
   ],
   "source": [
    "grid.cv_results_"
   ]
  },
  {
   "cell_type": "code",
   "execution_count": 176,
   "metadata": {},
   "outputs": [
    {
     "name": "stderr",
     "output_type": "stream",
     "text": [
      "/home/parkj0/anaconda3/envs/venv/lib/python3.7/site-packages/sklearn/model_selection/_split.py:657: Warning: The least populated class in y has only 4 members, which is too few. The minimum number of members in any class cannot be less than n_splits=10.\n",
      "  % (min_groups, self.n_splits)), Warning)\n"
     ]
    },
    {
     "name": "stdout",
     "output_type": "stream",
     "text": [
      "0.7578969002644359\n"
     ]
    }
   ],
   "source": [
    "clf1=sklearn.svm.SVC(gamma='scale',tol=0.1)\n",
    "scores=cross_val_score(clf1,X,y,cv=10,scoring='accuracy')\n",
    "print(scores.mean())"
   ]
  },
  {
   "cell_type": "code",
   "execution_count": null,
   "metadata": {},
   "outputs": [],
   "source": []
  }
 ],
 "metadata": {
  "kernelspec": {
   "display_name": "Python 3",
   "language": "python",
   "name": "python3"
  },
  "language_info": {
   "codemirror_mode": {
    "name": "ipython",
    "version": 3
   },
   "file_extension": ".py",
   "mimetype": "text/x-python",
   "name": "python",
   "nbconvert_exporter": "python",
   "pygments_lexer": "ipython3",
   "version": "3.7.3"
  }
 },
 "nbformat": 4,
 "nbformat_minor": 2
}
