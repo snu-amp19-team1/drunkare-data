{
 "cells": [
  {
   "cell_type": "code",
   "execution_count": 1,
   "metadata": {},
   "outputs": [],
   "source": [
    "##complex data와 똑같이 40ms로 parsing했음 데이터 4배라고 생각하고 뻥튀기시켜봄 정확도는 10ms와 비슷하게 나옴\n",
    "\n",
    "import csv\n",
    "import matplotlib.pyplot as plt\n",
    "import numpy as np\n",
    "import pandas as pd\n",
    "import tensorflow as tf\n",
    "import sklearn\n",
    "from sklearn import svm\n",
    "from datetime import datetime\n",
    "from sklearn.metrics import confusion_matrix\n",
    "from sklearn.metrics import accuracy_score\n",
    "from sklearn.preprocessing import OneHotEncoder\n",
    "from sklearn.model_selection import cross_val_score \n",
    "import glob\n",
    "\n",
    "\n",
    "#filename queue\n",
    "filename_queue=glob.glob('./rawdata/data[1-5].csv')\n",
    "#Create return path\n",
    "#return_path='./parsed/data.csv'\n",
    "#create_file=open(return_path,'w')"
   ]
  },
  {
   "cell_type": "code",
   "execution_count": 2,
   "metadata": {},
   "outputs": [],
   "source": [
    "#Parsing data\n",
    "\n",
    "training_set=[]\n",
    "test_set=[]\n",
    "training_label=[]\n",
    "test_label=[]\n",
    "index=[] \n",
    "label_count=np.zeros(16)\n",
    "traininglabel_count=np.zeros(16)\n",
    "testlabel_count=np.zeros(16)\n",
    "\n",
    "#return_file=open(return_path,'a')\n",
    "#writer=csv.writer(return_file)\n",
    "#writer.writerow()\n",
    "n_data=[]\n",
    "\n",
    "for filename in filename_queue:\n",
    "    file=open(filename, newline='')\n",
    "    \n",
    "    reader=csv.reader(file)\n",
    "    header=next(reader)\n",
    "    \n",
    "    for row in reader:\n",
    "        row[4:]=[float(i) for i in row[4:]]\n",
    "        date=datetime.strptime(row[0],'%Y/%m/%d')\n",
    "        msec=row[1:3]\n",
    "        labl=int(row[3])\n",
    "        if labl not in index:\n",
    "            label_count[labl]+=1\n",
    "            for x in range(4):\n",
    "                X_acc=list(row[4*i+4+x] for i in range(150))\n",
    "                Y_acc=list(row[4*i+604+x] for i in range(150))\n",
    "                Z_acc=list(row[4*i+1204+x] for i in range(150))\n",
    "                X_gyro=list(row[4*i+1804+x] for i in range(150))\n",
    "                Y_gyro=list(row[4*i+2404+x] for i in range(150))\n",
    "                Z_gyro=list(row[4*i+3004+x] for i in range(150))\n",
    "\n",
    "                window=np.array([[X_acc[0:25],X_acc[25:50],X_acc[50:75],X_acc[75:100],X_acc[100:125],X_acc[125:150]],\n",
    "                    [Y_acc[0:25],Y_acc[25:50],Y_acc[50:75],Y_acc[75:100],Y_acc[100:125],Y_acc[125:150]],\n",
    "                    [Z_acc[0:25],Z_acc[25:50],Z_acc[50:75],Z_acc[75:100],Z_acc[100:125],Z_acc[125:150]],\n",
    "                    [X_gyro[0:25],X_gyro[25:50],X_gyro[50:75],X_gyro[75:100],X_gyro[100:125],X_gyro[125:150]],\n",
    "                    [Y_gyro[0:25],Y_gyro[25:50],Y_gyro[50:75],Y_gyro[75:100],Y_gyro[100:125],Y_gyro[125:150]],\n",
    "                    [Z_gyro[0:25],Z_gyro[25:50],Z_gyro[50:75],Z_gyro[75:100],Z_gyro[100:125],Z_gyro[125:150]]])\n",
    "\n",
    "                #5 features  what else?2\n",
    "                window_mean=window.mean(axis=-1)\n",
    "                window_stddev=window.std(axis=-1)\n",
    "                window_median=np.median(window,axis=-1)\n",
    "                window_percent25=np.percentile(window,25,axis=-1)\n",
    "                window_percent75=np.percentile(window,75,axis=-1)\n",
    "\n",
    "                window_feature=np.array([[window_mean],[window_stddev],[window_median],[window_percent25],[window_percent75]])\n",
    "                window_feature=window_feature.reshape(180)\n",
    "\n",
    "\n",
    "                #for cross validation\n",
    "                training_set.append(window_feature)\n",
    "                training_label.append(labl)\n"
   ]
  },
  {
   "cell_type": "code",
   "execution_count": 3,
   "metadata": {},
   "outputs": [
    {
     "name": "stdout",
     "output_type": "stream",
     "text": [
      "(1400, 180)\n"
     ]
    }
   ],
   "source": [
    "print(np.shape(training_set))"
   ]
  },
  {
   "cell_type": "code",
   "execution_count": 10,
   "metadata": {},
   "outputs": [],
   "source": [
    "from sklearn.ensemble import RandomForestClassifier\n",
    "from sklearn.model_selection import GridSearchCV\n",
    "\n",
    "X=training_set\n",
    "y=training_label\n",
    "\n",
    "clf=RandomForestClassifier()\n",
    "param_grid={\n",
    " 'n_estimators':[100,120,180,200]\n",
    "   # 'max_features':['auto','sqrt','log2'],\n",
    "    #'max_depth':[10,12,None]\n",
    "    #'criterion':['gini','entropy']\n",
    "}\n",
    "\n",
    "grid=GridSearchCV(estimator=clf,param_grid=param_grid,cv=10,scoring='accuracy')"
   ]
  },
  {
   "cell_type": "code",
   "execution_count": 11,
   "metadata": {},
   "outputs": [
    {
     "name": "stderr",
     "output_type": "stream",
     "text": [
      "/home/parkj0/anaconda3/envs/venv/lib/python3.7/site-packages/sklearn/model_selection/_split.py:657: Warning: The least populated class in y has only 4 members, which is too few. The minimum number of members in any class cannot be less than n_splits=10.\n",
      "  % (min_groups, self.n_splits)), Warning)\n",
      "/home/parkj0/anaconda3/envs/venv/lib/python3.7/site-packages/sklearn/model_selection/_search.py:813: DeprecationWarning: The default of the `iid` parameter will change from True to False in version 0.22 and will be removed in 0.24. This will change numeric results when test-set sizes are unequal.\n",
      "  DeprecationWarning)\n"
     ]
    },
    {
     "data": {
      "text/plain": [
       "GridSearchCV(cv=10, error_score='raise-deprecating',\n",
       "             estimator=RandomForestClassifier(bootstrap=True, class_weight=None,\n",
       "                                              criterion='gini', max_depth=None,\n",
       "                                              max_features='auto',\n",
       "                                              max_leaf_nodes=None,\n",
       "                                              min_impurity_decrease=0.0,\n",
       "                                              min_impurity_split=None,\n",
       "                                              min_samples_leaf=1,\n",
       "                                              min_samples_split=2,\n",
       "                                              min_weight_fraction_leaf=0.0,\n",
       "                                              n_estimators='warn', n_jobs=None,\n",
       "                                              oob_score=False,\n",
       "                                              random_state=None, verbose=0,\n",
       "                                              warm_start=False),\n",
       "             iid='warn', n_jobs=None,\n",
       "             param_grid={'n_estimators': [100, 120, 180, 200]},\n",
       "             pre_dispatch='2*n_jobs', refit=True, return_train_score=False,\n",
       "             scoring='accuracy', verbose=0)"
      ]
     },
     "execution_count": 11,
     "metadata": {},
     "output_type": "execute_result"
    }
   ],
   "source": [
    "grid.fit(X,y)"
   ]
  },
  {
   "cell_type": "code",
   "execution_count": 12,
   "metadata": {},
   "outputs": [
    {
     "data": {
      "text/plain": [
       "{'mean_fit_time': array([0.64107876, 0.81865051, 1.2547591 , 1.34238887]),\n",
       " 'std_fit_time': array([0.02503468, 0.05360534, 0.06013051, 0.07511516]),\n",
       " 'mean_score_time': array([0.00781858, 0.01016967, 0.0140393 , 0.01517713]),\n",
       " 'std_score_time': array([0.0016428 , 0.00279391, 0.00233618, 0.00282394]),\n",
       " 'param_n_estimators': masked_array(data=[100, 120, 180, 200],\n",
       "              mask=[False, False, False, False],\n",
       "        fill_value='?',\n",
       "             dtype=object),\n",
       " 'params': [{'n_estimators': 100},\n",
       "  {'n_estimators': 120},\n",
       "  {'n_estimators': 180},\n",
       "  {'n_estimators': 200}],\n",
       " 'split0_test_score': array([0.81512605, 0.78151261, 0.79831933, 0.79831933]),\n",
       " 'split1_test_score': array([0.93277311, 0.94957983, 0.95798319, 0.94957983]),\n",
       " 'split2_test_score': array([0.96581197, 0.94017094, 0.94871795, 0.93162393]),\n",
       " 'split3_test_score': array([0.88888889, 0.86324786, 0.87179487, 0.85470085]),\n",
       " 'split4_test_score': array([0.92982456, 0.92982456, 0.92982456, 0.92982456]),\n",
       " 'split5_test_score': array([0.9122807 , 0.92982456, 0.92105263, 0.9122807 ]),\n",
       " 'split6_test_score': array([0.78761062, 0.74336283, 0.76106195, 0.73451327]),\n",
       " 'split7_test_score': array([0.81415929, 0.89380531, 0.92920354, 0.89380531]),\n",
       " 'split8_test_score': array([0.90825688, 0.94495413, 0.96330275, 0.95412844]),\n",
       " 'split9_test_score': array([0.83486239, 0.85321101, 0.8440367 , 0.86238532]),\n",
       " 'mean_test_score': array([0.87937063, 0.88286713, 0.89248252, 0.88199301]),\n",
       " 'std_test_score': array([0.05814656, 0.06878533, 0.06705814, 0.06742076]),\n",
       " 'rank_test_score': array([4, 2, 1, 3], dtype=int32)}"
      ]
     },
     "execution_count": 12,
     "metadata": {},
     "output_type": "execute_result"
    }
   ],
   "source": [
    "grid.cv_results_"
   ]
  },
  {
   "cell_type": "code",
   "execution_count": 13,
   "metadata": {},
   "outputs": [
    {
     "data": {
      "text/plain": [
       "{'n_estimators': 180}"
      ]
     },
     "execution_count": 13,
     "metadata": {},
     "output_type": "execute_result"
    }
   ],
   "source": [
    "grid.best_params_"
   ]
  },
  {
   "cell_type": "code",
   "execution_count": 14,
   "metadata": {},
   "outputs": [],
   "source": [
    "RF=RandomForestClassifier(120).fit(X,y)"
   ]
  },
  {
   "cell_type": "code",
   "execution_count": 15,
   "metadata": {},
   "outputs": [
    {
     "name": "stderr",
     "output_type": "stream",
     "text": [
      "/home/parkj0/anaconda3/envs/venv/lib/python3.7/site-packages/sklearn/model_selection/_split.py:657: Warning: The least populated class in y has only 4 members, which is too few. The minimum number of members in any class cannot be less than n_splits=10.\n",
      "  % (min_groups, self.n_splits)), Warning)\n"
     ]
    },
    {
     "name": "stdout",
     "output_type": "stream",
     "text": [
      "0.8824534880800341\n"
     ]
    }
   ],
   "source": [
    "clf1=RandomForestClassifier(180)\n",
    "scores=cross_val_score(clf1,X,y,cv=10,scoring='accuracy')\n",
    "print(scores.mean())"
   ]
  },
  {
   "cell_type": "code",
   "execution_count": 16,
   "metadata": {},
   "outputs": [
    {
     "data": {
      "text/plain": [
       "['rf.joblib']"
      ]
     },
     "execution_count": 16,
     "metadata": {},
     "output_type": "execute_result"
    }
   ],
   "source": [
    "from joblib import dump, load\n",
    "import pickle\n",
    "\n",
    "filename='./rf.sav'\n",
    "pickle.dump(RF,open(filename,'wb'))\n",
    "dump(RF,'rf.joblib')"
   ]
  },
  {
   "cell_type": "code",
   "execution_count": null,
   "metadata": {},
   "outputs": [],
   "source": []
  },
  {
   "cell_type": "code",
   "execution_count": 17,
   "metadata": {},
   "outputs": [
    {
     "name": "stderr",
     "output_type": "stream",
     "text": [
      "/home/parkj0/anaconda3/envs/venv/lib/python3.7/site-packages/sklearn/model_selection/_split.py:657: Warning: The least populated class in y has only 4 members, which is too few. The minimum number of members in any class cannot be less than n_splits=10.\n",
      "  % (min_groups, self.n_splits)), Warning)\n"
     ]
    },
    {
     "name": "stdout",
     "output_type": "stream",
     "text": [
      "0.7856916637489739\n"
     ]
    }
   ],
   "source": [
    "#SVM\n",
    "#prepare the data\n",
    "#prepare the model\n",
    "clf = sklearn.svm.SVC(gamma='scale',tol=0.1)\n",
    "scores=cross_val_score(clf,X,y,cv=10,scoring='accuracy')\n",
    "print(scores.mean())\n"
   ]
  },
  {
   "cell_type": "code",
   "execution_count": 18,
   "metadata": {},
   "outputs": [],
   "source": [
    "param_grid={\n",
    " #'kernel':['linear','poly','rbf','sigmoid'], rbf to be best acc\n",
    "    'C':[0.001,0.01,0.1,1,10],\n",
    "    'gamma' : [0.001, 0.01, 0.1, 1]\n",
    "\n",
    "}\n",
    "\n",
    "grid=GridSearchCV(estimator=clf,param_grid=param_grid,cv=10,scoring='accuracy')"
   ]
  },
  {
   "cell_type": "code",
   "execution_count": 19,
   "metadata": {},
   "outputs": [
    {
     "name": "stderr",
     "output_type": "stream",
     "text": [
      "/home/parkj0/anaconda3/envs/venv/lib/python3.7/site-packages/sklearn/model_selection/_split.py:657: Warning: The least populated class in y has only 4 members, which is too few. The minimum number of members in any class cannot be less than n_splits=10.\n",
      "  % (min_groups, self.n_splits)), Warning)\n",
      "/home/parkj0/anaconda3/envs/venv/lib/python3.7/site-packages/sklearn/model_selection/_search.py:813: DeprecationWarning: The default of the `iid` parameter will change from True to False in version 0.22 and will be removed in 0.24. This will change numeric results when test-set sizes are unequal.\n",
      "  DeprecationWarning)\n"
     ]
    },
    {
     "data": {
      "text/plain": [
       "GridSearchCV(cv=10, error_score='raise-deprecating',\n",
       "             estimator=SVC(C=1.0, cache_size=200, class_weight=None, coef0=0.0,\n",
       "                           decision_function_shape='ovr', degree=3,\n",
       "                           gamma='scale', kernel='rbf', max_iter=-1,\n",
       "                           probability=False, random_state=None, shrinking=True,\n",
       "                           tol=0.1, verbose=False),\n",
       "             iid='warn', n_jobs=None,\n",
       "             param_grid={'C': [0.001, 0.01, 0.1, 1, 10],\n",
       "                         'gamma': [0.001, 0.01, 0.1, 1]},\n",
       "             pre_dispatch='2*n_jobs', refit=True, return_train_score=False,\n",
       "             scoring='accuracy', verbose=0)"
      ]
     },
     "execution_count": 19,
     "metadata": {},
     "output_type": "execute_result"
    }
   ],
   "source": [
    "grid.fit(X,y)"
   ]
  },
  {
   "cell_type": "code",
   "execution_count": 20,
   "metadata": {},
   "outputs": [
    {
     "data": {
      "text/plain": [
       "{'C': 10, 'gamma': 0.001}"
      ]
     },
     "execution_count": 20,
     "metadata": {},
     "output_type": "execute_result"
    }
   ],
   "source": [
    "grid.best_params_"
   ]
  },
  {
   "cell_type": "code",
   "execution_count": 21,
   "metadata": {},
   "outputs": [
    {
     "data": {
      "text/plain": [
       "{'mean_fit_time': array([0.38621025, 0.36506433, 0.34144514, 0.35732546, 0.37990196,\n",
       "        0.36316302, 0.36580777, 0.36327689, 0.39837914, 0.3736824 ,\n",
       "        0.35980639, 0.35884345, 0.51047113, 0.56690602, 0.53920162,\n",
       "        0.5451309 , 0.5013417 , 0.55420961, 0.5409827 , 0.54127841]),\n",
       " 'std_fit_time': array([0.01850753, 0.01975851, 0.01719987, 0.0170773 , 0.02152598,\n",
       "        0.02216406, 0.02223093, 0.02049109, 0.01233073, 0.0216461 ,\n",
       "        0.01474867, 0.01875789, 0.02915742, 0.03807799, 0.03477942,\n",
       "        0.03204563, 0.01583691, 0.01870678, 0.01695084, 0.01540926]),\n",
       " 'mean_score_time': array([0.03097653, 0.0315886 , 0.02756238, 0.03082104, 0.0322603 ,\n",
       "        0.03083332, 0.03110309, 0.03060074, 0.03469377, 0.03216541,\n",
       "        0.02947938, 0.03038328, 0.03019207, 0.03058653, 0.03166723,\n",
       "        0.03029504, 0.02821579, 0.03033664, 0.0310971 , 0.02822978]),\n",
       " 'std_score_time': array([0.00415337, 0.00298154, 0.00083856, 0.00414126, 0.00387971,\n",
       "        0.0028207 , 0.00463454, 0.00394439, 0.00454026, 0.00445348,\n",
       "        0.00269418, 0.00522723, 0.00397295, 0.00300222, 0.00523132,\n",
       "        0.00440678, 0.00072219, 0.00322187, 0.00484425, 0.00129977]),\n",
       " 'param_C': masked_array(data=[0.001, 0.001, 0.001, 0.001, 0.01, 0.01, 0.01, 0.01,\n",
       "                    0.1, 0.1, 0.1, 0.1, 1, 1, 1, 1, 10, 10, 10, 10],\n",
       "              mask=[False, False, False, False, False, False, False, False,\n",
       "                    False, False, False, False, False, False, False, False,\n",
       "                    False, False, False, False],\n",
       "        fill_value='?',\n",
       "             dtype=object),\n",
       " 'param_gamma': masked_array(data=[0.001, 0.01, 0.1, 1, 0.001, 0.01, 0.1, 1, 0.001, 0.01,\n",
       "                    0.1, 1, 0.001, 0.01, 0.1, 1, 0.001, 0.01, 0.1, 1],\n",
       "              mask=[False, False, False, False, False, False, False, False,\n",
       "                    False, False, False, False, False, False, False, False,\n",
       "                    False, False, False, False],\n",
       "        fill_value='?',\n",
       "             dtype=object),\n",
       " 'params': [{'C': 0.001, 'gamma': 0.001},\n",
       "  {'C': 0.001, 'gamma': 0.01},\n",
       "  {'C': 0.001, 'gamma': 0.1},\n",
       "  {'C': 0.001, 'gamma': 1},\n",
       "  {'C': 0.01, 'gamma': 0.001},\n",
       "  {'C': 0.01, 'gamma': 0.01},\n",
       "  {'C': 0.01, 'gamma': 0.1},\n",
       "  {'C': 0.01, 'gamma': 1},\n",
       "  {'C': 0.1, 'gamma': 0.001},\n",
       "  {'C': 0.1, 'gamma': 0.01},\n",
       "  {'C': 0.1, 'gamma': 0.1},\n",
       "  {'C': 0.1, 'gamma': 1},\n",
       "  {'C': 1, 'gamma': 0.001},\n",
       "  {'C': 1, 'gamma': 0.01},\n",
       "  {'C': 1, 'gamma': 0.1},\n",
       "  {'C': 1, 'gamma': 1},\n",
       "  {'C': 10, 'gamma': 0.001},\n",
       "  {'C': 10, 'gamma': 0.01},\n",
       "  {'C': 10, 'gamma': 0.1},\n",
       "  {'C': 10, 'gamma': 1}],\n",
       " 'split0_test_score': array([0.21008403, 0.21008403, 0.21008403, 0.21008403, 0.21008403,\n",
       "        0.21008403, 0.21008403, 0.21008403, 0.21008403, 0.21008403,\n",
       "        0.21008403, 0.21008403, 0.25210084, 0.21008403, 0.21008403,\n",
       "        0.21008403, 0.2605042 , 0.21008403, 0.21008403, 0.21008403]),\n",
       " 'split1_test_score': array([0.21008403, 0.21008403, 0.21008403, 0.21008403, 0.21008403,\n",
       "        0.21008403, 0.21008403, 0.21008403, 0.21008403, 0.21008403,\n",
       "        0.21008403, 0.21008403, 0.27731092, 0.21008403, 0.21008403,\n",
       "        0.21008403, 0.28571429, 0.21008403, 0.21008403, 0.21008403]),\n",
       " 'split2_test_score': array([0.21367521, 0.21367521, 0.21367521, 0.21367521, 0.21367521,\n",
       "        0.21367521, 0.21367521, 0.21367521, 0.21367521, 0.21367521,\n",
       "        0.21367521, 0.21367521, 0.32478632, 0.22222222, 0.21367521,\n",
       "        0.21367521, 0.34188034, 0.22222222, 0.21367521, 0.21367521]),\n",
       " 'split3_test_score': array([0.21367521, 0.21367521, 0.21367521, 0.21367521, 0.21367521,\n",
       "        0.21367521, 0.21367521, 0.21367521, 0.21367521, 0.21367521,\n",
       "        0.21367521, 0.21367521, 0.29059829, 0.22222222, 0.21367521,\n",
       "        0.21367521, 0.2991453 , 0.22222222, 0.21367521, 0.21367521]),\n",
       " 'split4_test_score': array([0.21929825, 0.21929825, 0.21929825, 0.21929825, 0.21929825,\n",
       "        0.21929825, 0.21929825, 0.21929825, 0.21929825, 0.21929825,\n",
       "        0.21929825, 0.21929825, 0.30701754, 0.21929825, 0.21929825,\n",
       "        0.21929825, 0.31578947, 0.21929825, 0.21929825, 0.21929825]),\n",
       " 'split5_test_score': array([0.21929825, 0.21929825, 0.21929825, 0.21929825, 0.21929825,\n",
       "        0.21929825, 0.21929825, 0.21929825, 0.21929825, 0.21929825,\n",
       "        0.21929825, 0.21929825, 0.27192982, 0.21929825, 0.21929825,\n",
       "        0.21929825, 0.28070175, 0.21929825, 0.21929825, 0.21929825]),\n",
       " 'split6_test_score': array([0.22123894, 0.22123894, 0.22123894, 0.22123894, 0.22123894,\n",
       "        0.22123894, 0.22123894, 0.22123894, 0.22123894, 0.22123894,\n",
       "        0.22123894, 0.22123894, 0.2920354 , 0.2300885 , 0.22123894,\n",
       "        0.22123894, 0.30088496, 0.23893805, 0.22123894, 0.22123894]),\n",
       " 'split7_test_score': array([0.22123894, 0.22123894, 0.22123894, 0.22123894, 0.22123894,\n",
       "        0.22123894, 0.22123894, 0.22123894, 0.22123894, 0.22123894,\n",
       "        0.22123894, 0.22123894, 0.31858407, 0.2300885 , 0.22123894,\n",
       "        0.22123894, 0.33628319, 0.23893805, 0.22123894, 0.22123894]),\n",
       " 'split8_test_score': array([0.22018349, 0.22018349, 0.22018349, 0.22018349, 0.22018349,\n",
       "        0.22018349, 0.22018349, 0.22018349, 0.22018349, 0.22018349,\n",
       "        0.22018349, 0.22018349, 0.33944954, 0.2293578 , 0.22018349,\n",
       "        0.22018349, 0.34862385, 0.2293578 , 0.22018349, 0.22018349]),\n",
       " 'split9_test_score': array([0.22018349, 0.22018349, 0.22018349, 0.22018349, 0.22018349,\n",
       "        0.22018349, 0.22018349, 0.22018349, 0.22018349, 0.22018349,\n",
       "        0.22018349, 0.22018349, 0.30275229, 0.22018349, 0.22018349,\n",
       "        0.22018349, 0.30275229, 0.2293578 , 0.22018349, 0.22018349]),\n",
       " 'mean_test_score': array([0.21678322, 0.21678322, 0.21678322, 0.21678322, 0.21678322,\n",
       "        0.21678322, 0.21678322, 0.21678322, 0.21678322, 0.21678322,\n",
       "        0.21678322, 0.21678322, 0.2972028 , 0.22115385, 0.21678322,\n",
       "        0.21678322, 0.30681818, 0.22377622, 0.21678322, 0.21678322]),\n",
       " 'std_test_score': array([0.00432418, 0.00432418, 0.00432418, 0.00432418, 0.00432418,\n",
       "        0.00432418, 0.00432418, 0.00432418, 0.00432418, 0.00432418,\n",
       "        0.00432418, 0.00432418, 0.02508114, 0.00697754, 0.00432418,\n",
       "        0.00432418, 0.02710205, 0.00973876, 0.00432418, 0.00432418]),\n",
       " 'rank_test_score': array([5, 5, 5, 5, 5, 5, 5, 5, 5, 5, 5, 5, 2, 4, 5, 5, 1, 3, 5, 5],\n",
       "       dtype=int32)}"
      ]
     },
     "execution_count": 21,
     "metadata": {},
     "output_type": "execute_result"
    }
   ],
   "source": [
    "grid.cv_results_"
   ]
  },
  {
   "cell_type": "code",
   "execution_count": 22,
   "metadata": {},
   "outputs": [
    {
     "name": "stderr",
     "output_type": "stream",
     "text": [
      "/home/parkj0/anaconda3/envs/venv/lib/python3.7/site-packages/sklearn/model_selection/_split.py:657: Warning: The least populated class in y has only 4 members, which is too few. The minimum number of members in any class cannot be less than n_splits=10.\n",
      "  % (min_groups, self.n_splits)), Warning)\n"
     ]
    },
    {
     "name": "stdout",
     "output_type": "stream",
     "text": [
      "0.7856916637489739\n"
     ]
    }
   ],
   "source": [
    "clf1=sklearn.svm.SVC(gamma='scale',tol=0.1)\n",
    "scores=cross_val_score(clf1,X,y,cv=10,scoring='accuracy')\n",
    "print(scores.mean())"
   ]
  },
  {
   "cell_type": "code",
   "execution_count": 23,
   "metadata": {},
   "outputs": [],
   "source": [
    "from sklearn.ensemble import BaggingClassifier\n",
    "from sklearn.neighbors import KNeighborsClassifier\n",
    "bagging = BaggingClassifier(KNeighborsClassifier(),max_samples=0.5, max_features=0.5)\n",
    "\n",
    "from sklearn.ensemble import ExtraTreesClassifier\n",
    "from sklearn.tree import DecisionTreeClassifier\n",
    "\n",
    "ETC=ExtraTreesClassifier(300)\n",
    "DTC=DecisionTreeClassifier()\n",
    "\n",
    "\n",
    "\n",
    "\n",
    "\n",
    "\n"
   ]
  },
  {
   "cell_type": "code",
   "execution_count": 24,
   "metadata": {},
   "outputs": [],
   "source": [
    "param_grid={\n",
    " 'n_estimators':[100,200,300],\n",
    "   # 'max_features':['auto','sqrt','log2'],\n",
    "    'max_depth':[10,14,None]\n",
    "    #'criterion':['gini','entropy']\n",
    "}\n",
    "\n",
    "grid=GridSearchCV(estimator=ETC,param_grid=param_grid,cv=10,scoring='accuracy')"
   ]
  },
  {
   "cell_type": "code",
   "execution_count": 25,
   "metadata": {},
   "outputs": [
    {
     "name": "stderr",
     "output_type": "stream",
     "text": [
      "/home/parkj0/anaconda3/envs/venv/lib/python3.7/site-packages/sklearn/model_selection/_split.py:657: Warning: The least populated class in y has only 4 members, which is too few. The minimum number of members in any class cannot be less than n_splits=10.\n",
      "  % (min_groups, self.n_splits)), Warning)\n",
      "/home/parkj0/anaconda3/envs/venv/lib/python3.7/site-packages/sklearn/model_selection/_search.py:813: DeprecationWarning: The default of the `iid` parameter will change from True to False in version 0.22 and will be removed in 0.24. This will change numeric results when test-set sizes are unequal.\n",
      "  DeprecationWarning)\n"
     ]
    },
    {
     "data": {
      "text/plain": [
       "GridSearchCV(cv=10, error_score='raise-deprecating',\n",
       "             estimator=ExtraTreesClassifier(bootstrap=False, class_weight=None,\n",
       "                                            criterion='gini', max_depth=None,\n",
       "                                            max_features='auto',\n",
       "                                            max_leaf_nodes=None,\n",
       "                                            min_impurity_decrease=0.0,\n",
       "                                            min_impurity_split=None,\n",
       "                                            min_samples_leaf=1,\n",
       "                                            min_samples_split=2,\n",
       "                                            min_weight_fraction_leaf=0.0,\n",
       "                                            n_estimators=300, n_jobs=None,\n",
       "                                            oob_score=False, random_state=None,\n",
       "                                            verbose=0, warm_start=False),\n",
       "             iid='warn', n_jobs=None,\n",
       "             param_grid={'max_depth': [10, 14, None],\n",
       "                         'n_estimators': [100, 200, 300]},\n",
       "             pre_dispatch='2*n_jobs', refit=True, return_train_score=False,\n",
       "             scoring='accuracy', verbose=0)"
      ]
     },
     "execution_count": 25,
     "metadata": {},
     "output_type": "execute_result"
    }
   ],
   "source": [
    "grid.fit(X,y)\n"
   ]
  },
  {
   "cell_type": "code",
   "execution_count": 26,
   "metadata": {},
   "outputs": [
    {
     "data": {
      "text/plain": [
       "{'mean_fit_time': array([0.14025004, 0.3196059 , 0.4143013 , 0.18607178, 0.31325231,\n",
       "        0.48845336, 0.19496381, 0.30947039, 0.47086363]),\n",
       " 'std_fit_time': array([0.00618668, 0.04483624, 0.01412918, 0.05484848, 0.01945254,\n",
       "        0.04089591, 0.0421529 , 0.00647546, 0.03316024]),\n",
       " 'mean_score_time': array([0.0065475 , 0.01415203, 0.01916993, 0.00861475, 0.01364317,\n",
       "        0.0231262 , 0.00988085, 0.01345694, 0.02001011]),\n",
       " 'std_score_time': array([0.00015982, 0.00279083, 0.00171597, 0.00315099, 0.00064988,\n",
       "        0.00553538, 0.00463208, 0.00025834, 0.00188347]),\n",
       " 'param_max_depth': masked_array(data=[10, 10, 10, 14, 14, 14, None, None, None],\n",
       "              mask=[False, False, False, False, False, False, False, False,\n",
       "                    False],\n",
       "        fill_value='?',\n",
       "             dtype=object),\n",
       " 'param_n_estimators': masked_array(data=[100, 200, 300, 100, 200, 300, 100, 200, 300],\n",
       "              mask=[False, False, False, False, False, False, False, False,\n",
       "                    False],\n",
       "        fill_value='?',\n",
       "             dtype=object),\n",
       " 'params': [{'max_depth': 10, 'n_estimators': 100},\n",
       "  {'max_depth': 10, 'n_estimators': 200},\n",
       "  {'max_depth': 10, 'n_estimators': 300},\n",
       "  {'max_depth': 14, 'n_estimators': 100},\n",
       "  {'max_depth': 14, 'n_estimators': 200},\n",
       "  {'max_depth': 14, 'n_estimators': 300},\n",
       "  {'max_depth': None, 'n_estimators': 100},\n",
       "  {'max_depth': None, 'n_estimators': 200},\n",
       "  {'max_depth': None, 'n_estimators': 300}],\n",
       " 'split0_test_score': array([0.78991597, 0.85714286, 0.8487395 , 0.88235294, 0.87394958,\n",
       "        0.81512605, 0.83193277, 0.88235294, 0.85714286]),\n",
       " 'split1_test_score': array([0.95798319, 0.93277311, 0.94117647, 0.93277311, 0.93277311,\n",
       "        0.94957983, 0.98319328, 0.96638655, 0.94117647]),\n",
       " 'split2_test_score': array([0.97435897, 1.        , 1.        , 0.92307692, 0.96581197,\n",
       "        0.96581197, 0.93162393, 0.96581197, 0.93162393]),\n",
       " 'split3_test_score': array([0.82905983, 0.92307692, 0.84615385, 0.86324786, 0.93162393,\n",
       "        0.8974359 , 0.90598291, 0.86324786, 0.8974359 ]),\n",
       " 'split4_test_score': array([0.89473684, 0.90350877, 0.92982456, 0.90350877, 0.92982456,\n",
       "        0.92982456, 0.9122807 , 0.92105263, 0.89473684]),\n",
       " 'split5_test_score': array([0.99122807, 0.92982456, 0.98245614, 1.        , 0.96491228,\n",
       "        0.94736842, 0.93859649, 0.93859649, 0.96491228]),\n",
       " 'split6_test_score': array([0.73451327, 0.78761062, 0.82300885, 0.7699115 , 0.7699115 ,\n",
       "        0.75221239, 0.75221239, 0.76106195, 0.76106195]),\n",
       " 'split7_test_score': array([0.89380531, 0.88495575, 0.85840708, 0.90265487, 0.87610619,\n",
       "        0.89380531, 0.79646018, 0.87610619, 0.86725664]),\n",
       " 'split8_test_score': array([0.88990826, 0.9266055 , 0.90825688, 0.91743119, 0.94495413,\n",
       "        0.9266055 , 0.9266055 , 0.93577982, 0.9266055 ]),\n",
       " 'split9_test_score': array([0.81651376, 0.81651376, 0.81651376, 0.83486239, 0.81651376,\n",
       "        0.81651376, 0.82568807, 0.82568807, 0.81651376]),\n",
       " 'mean_test_score': array([0.87762238, 0.89685315, 0.89597902, 0.89335664, 0.90122378,\n",
       "        0.88986014, 0.88111888, 0.89423077, 0.88636364]),\n",
       " 'std_test_score': array([0.08002806, 0.05883465, 0.06281665, 0.05827371, 0.06179984,\n",
       "        0.06745958, 0.07017642, 0.06198834, 0.05874752]),\n",
       " 'rank_test_score': array([9, 2, 3, 5, 1, 6, 8, 4, 7], dtype=int32)}"
      ]
     },
     "execution_count": 26,
     "metadata": {},
     "output_type": "execute_result"
    }
   ],
   "source": [
    "grid.cv_results_"
   ]
  },
  {
   "cell_type": "code",
   "execution_count": 27,
   "metadata": {},
   "outputs": [
    {
     "ename": "NotFittedError",
     "evalue": "This ExtraTreesClassifier instance is not fitted yet. Call 'fit' with appropriate arguments before using this method.",
     "output_type": "error",
     "traceback": [
      "\u001b[0;31m---------------------------------------------------------------------------\u001b[0m",
      "\u001b[0;31mNotFittedError\u001b[0m                            Traceback (most recent call last)",
      "\u001b[0;32m<ipython-input-27-f98bae733612>\u001b[0m in \u001b[0;36m<module>\u001b[0;34m\u001b[0m\n\u001b[0;32m----> 1\u001b[0;31m \u001b[0mtest_pred_proba2\u001b[0m\u001b[0;34m=\u001b[0m\u001b[0mETC\u001b[0m\u001b[0;34m.\u001b[0m\u001b[0mpredict_proba\u001b[0m\u001b[0;34m(\u001b[0m\u001b[0mtest_set\u001b[0m\u001b[0;34m)\u001b[0m\u001b[0;34m\u001b[0m\u001b[0;34m\u001b[0m\u001b[0m\n\u001b[0m\u001b[1;32m      2\u001b[0m \u001b[0marray\u001b[0m\u001b[0;34m=\u001b[0m\u001b[0mnp\u001b[0m\u001b[0;34m.\u001b[0m\u001b[0marray\u001b[0m\u001b[0;34m(\u001b[0m\u001b[0mtest_pred_proba2\u001b[0m\u001b[0;34m)\u001b[0m\u001b[0;34m\u001b[0m\u001b[0;34m\u001b[0m\u001b[0m\n\u001b[1;32m      3\u001b[0m \u001b[0mnewpred3\u001b[0m\u001b[0;34m=\u001b[0m\u001b[0mnp\u001b[0m\u001b[0;34m.\u001b[0m\u001b[0mzeros\u001b[0m\u001b[0;34m(\u001b[0m\u001b[0mlen\u001b[0m\u001b[0;34m(\u001b[0m\u001b[0mtest_pred4\u001b[0m\u001b[0;34m)\u001b[0m\u001b[0;34m)\u001b[0m\u001b[0;34m\u001b[0m\u001b[0;34m\u001b[0m\u001b[0m\n\u001b[1;32m      4\u001b[0m \u001b[0;32mfor\u001b[0m \u001b[0mx\u001b[0m \u001b[0;32min\u001b[0m \u001b[0mrange\u001b[0m\u001b[0;34m(\u001b[0m\u001b[0mlen\u001b[0m\u001b[0;34m(\u001b[0m\u001b[0mtest_pred_proba2\u001b[0m\u001b[0;34m)\u001b[0m\u001b[0;34m)\u001b[0m\u001b[0;34m:\u001b[0m\u001b[0;34m\u001b[0m\u001b[0;34m\u001b[0m\u001b[0m\n\u001b[1;32m      5\u001b[0m     \u001b[0;32mif\u001b[0m\u001b[0;34m(\u001b[0m\u001b[0mnp\u001b[0m\u001b[0;34m.\u001b[0m\u001b[0mmax\u001b[0m\u001b[0;34m(\u001b[0m\u001b[0mtest_pred_proba2\u001b[0m\u001b[0;34m[\u001b[0m\u001b[0mx\u001b[0m\u001b[0;34m]\u001b[0m\u001b[0;34m)\u001b[0m\u001b[0;34m>\u001b[0m\u001b[0;36m0.2\u001b[0m\u001b[0;34m)\u001b[0m\u001b[0;34m:\u001b[0m\u001b[0;34m\u001b[0m\u001b[0;34m\u001b[0m\u001b[0m\n",
      "\u001b[0;32m~/anaconda3/envs/venv/lib/python3.7/site-packages/sklearn/ensemble/forest.py\u001b[0m in \u001b[0;36mpredict_proba\u001b[0;34m(self, X)\u001b[0m\n\u001b[1;32m    584\u001b[0m             \u001b[0mclasses\u001b[0m \u001b[0mcorresponds\u001b[0m \u001b[0mto\u001b[0m \u001b[0mthat\u001b[0m \u001b[0;32min\u001b[0m \u001b[0mthe\u001b[0m \u001b[0mattribute\u001b[0m\u001b[0;31m \u001b[0m\u001b[0;31m`\u001b[0m\u001b[0mclasses_\u001b[0m\u001b[0;31m`\u001b[0m\u001b[0;34m.\u001b[0m\u001b[0;34m\u001b[0m\u001b[0;34m\u001b[0m\u001b[0m\n\u001b[1;32m    585\u001b[0m         \"\"\"\n\u001b[0;32m--> 586\u001b[0;31m         \u001b[0mcheck_is_fitted\u001b[0m\u001b[0;34m(\u001b[0m\u001b[0mself\u001b[0m\u001b[0;34m,\u001b[0m \u001b[0;34m'estimators_'\u001b[0m\u001b[0;34m)\u001b[0m\u001b[0;34m\u001b[0m\u001b[0;34m\u001b[0m\u001b[0m\n\u001b[0m\u001b[1;32m    587\u001b[0m         \u001b[0;31m# Check data\u001b[0m\u001b[0;34m\u001b[0m\u001b[0;34m\u001b[0m\u001b[0;34m\u001b[0m\u001b[0m\n\u001b[1;32m    588\u001b[0m         \u001b[0mX\u001b[0m \u001b[0;34m=\u001b[0m \u001b[0mself\u001b[0m\u001b[0;34m.\u001b[0m\u001b[0m_validate_X_predict\u001b[0m\u001b[0;34m(\u001b[0m\u001b[0mX\u001b[0m\u001b[0;34m)\u001b[0m\u001b[0;34m\u001b[0m\u001b[0;34m\u001b[0m\u001b[0m\n",
      "\u001b[0;32m~/anaconda3/envs/venv/lib/python3.7/site-packages/sklearn/utils/validation.py\u001b[0m in \u001b[0;36mcheck_is_fitted\u001b[0;34m(estimator, attributes, msg, all_or_any)\u001b[0m\n\u001b[1;32m    912\u001b[0m \u001b[0;34m\u001b[0m\u001b[0m\n\u001b[1;32m    913\u001b[0m     \u001b[0;32mif\u001b[0m \u001b[0;32mnot\u001b[0m \u001b[0mall_or_any\u001b[0m\u001b[0;34m(\u001b[0m\u001b[0;34m[\u001b[0m\u001b[0mhasattr\u001b[0m\u001b[0;34m(\u001b[0m\u001b[0mestimator\u001b[0m\u001b[0;34m,\u001b[0m \u001b[0mattr\u001b[0m\u001b[0;34m)\u001b[0m \u001b[0;32mfor\u001b[0m \u001b[0mattr\u001b[0m \u001b[0;32min\u001b[0m \u001b[0mattributes\u001b[0m\u001b[0;34m]\u001b[0m\u001b[0;34m)\u001b[0m\u001b[0;34m:\u001b[0m\u001b[0;34m\u001b[0m\u001b[0;34m\u001b[0m\u001b[0m\n\u001b[0;32m--> 914\u001b[0;31m         \u001b[0;32mraise\u001b[0m \u001b[0mNotFittedError\u001b[0m\u001b[0;34m(\u001b[0m\u001b[0mmsg\u001b[0m \u001b[0;34m%\u001b[0m \u001b[0;34m{\u001b[0m\u001b[0;34m'name'\u001b[0m\u001b[0;34m:\u001b[0m \u001b[0mtype\u001b[0m\u001b[0;34m(\u001b[0m\u001b[0mestimator\u001b[0m\u001b[0;34m)\u001b[0m\u001b[0;34m.\u001b[0m\u001b[0m__name__\u001b[0m\u001b[0;34m}\u001b[0m\u001b[0;34m)\u001b[0m\u001b[0;34m\u001b[0m\u001b[0;34m\u001b[0m\u001b[0m\n\u001b[0m\u001b[1;32m    915\u001b[0m \u001b[0;34m\u001b[0m\u001b[0m\n\u001b[1;32m    916\u001b[0m \u001b[0;34m\u001b[0m\u001b[0m\n",
      "\u001b[0;31mNotFittedError\u001b[0m: This ExtraTreesClassifier instance is not fitted yet. Call 'fit' with appropriate arguments before using this method."
     ]
    }
   ],
   "source": [
    "test_pred_proba2=ETC.predict_proba(test_set)\n",
    "array=np.array(test_pred_proba2)\n",
    "newpred3=np.zeros(len(test_pred4))\n",
    "for x in range(len(test_pred_proba2)):\n",
    "    if(np.max(test_pred_proba2[x])>0.2):\n",
    "        newpred3[x]=test_pred4[x]\n",
    "    else:\n",
    "        newpred3[x]=-1\n",
    "        i=0\n",
    "        #print(np.shape(np.argmax(test_pred_proba[x])))\n",
    "print(np.shape(newpred3))\n",
    "print(newpred3)\n",
    "print(accuracy_score(newpred3,test_label))"
   ]
  },
  {
   "cell_type": "code",
   "execution_count": 77,
   "metadata": {},
   "outputs": [
    {
     "data": {
      "text/plain": [
       "['rf.joblib']"
      ]
     },
     "execution_count": 77,
     "metadata": {},
     "output_type": "execute_result"
    }
   ],
   "source": [
    "from joblib import dump, load\n",
    "import pickle\n",
    "\n",
    "filename='./rf.sav'\n",
    "pickle.dump(RF,open(filename,'wb'))\n",
    "dump(RF,'rf.joblib')"
   ]
  },
  {
   "cell_type": "code",
   "execution_count": null,
   "metadata": {},
   "outputs": [],
   "source": []
  },
  {
   "cell_type": "code",
   "execution_count": null,
   "metadata": {},
   "outputs": [],
   "source": []
  },
  {
   "cell_type": "code",
   "execution_count": null,
   "metadata": {},
   "outputs": [],
   "source": []
  }
 ],
 "metadata": {
  "kernelspec": {
   "display_name": "Python 3",
   "language": "python",
   "name": "python3"
  },
  "language_info": {
   "codemirror_mode": {
    "name": "ipython",
    "version": 3
   },
   "file_extension": ".py",
   "mimetype": "text/x-python",
   "name": "python",
   "nbconvert_exporter": "python",
   "pygments_lexer": "ipython3",
   "version": "3.7.3"
  }
 },
 "nbformat": 4,
 "nbformat_minor": 2
}
