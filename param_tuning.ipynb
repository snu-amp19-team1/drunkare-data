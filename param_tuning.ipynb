{
 "cells": [
  {
   "cell_type": "code",
   "execution_count": 14,
   "metadata": {},
   "outputs": [],
   "source": [
    "##complex data와 똑같이 40ms로 parsing했음 데이터 4배라고 생각하고 뻥튀기시켜봄 정확도는 10ms와 비슷하게 나옴\n",
    "\n",
    "import csv\n",
    "import matplotlib.pyplot as plt\n",
    "import numpy as np\n",
    "import pandas as pd\n",
    "import tensorflow as tf\n",
    "import sklearn\n",
    "from sklearn import svm\n",
    "from datetime import datetime\n",
    "from sklearn.metrics import confusion_matrix\n",
    "from sklearn.metrics import accuracy_score\n",
    "from sklearn.preprocessing import OneHotEncoder\n",
    "from sklearn.model_selection import cross_val_score \n",
    "import glob\n",
    "\n",
    "\n",
    "#filename queue\n",
    "filename_queue=glob.glob('./rawdata/data[1-4].csv')\n",
    "#Create return path\n",
    "#return_path='./parsed/data.csv'\n",
    "#create_file=open(return_path,'w')"
   ]
  },
  {
   "cell_type": "code",
   "execution_count": 8,
   "metadata": {},
   "outputs": [],
   "source": [
    "#Parsing data\n",
    "\n",
    "training_set=[]\n",
    "test_set=[]\n",
    "training_label=[]\n",
    "test_label=[]\n",
    "X=[]\n",
    "y=[]\n",
    "index=[] # 2,8,11\n",
    "label_count=np.zeros(16)\n",
    "traininglabel_count=np.zeros(16)\n",
    "testlabel_count=np.zeros(16)\n",
    "\n",
    "#return_file=open(return_path,'a')\n",
    "#writer=csv.writer(return_file)\n",
    "#writer.writerow()\n",
    "n_data=[]\n",
    "\n",
    "for filename in filename_queue:\n",
    "    file=open(filename, newline='')\n",
    "    \n",
    "    reader=csv.reader(file)\n",
    "    header=next(reader)\n",
    "    \n",
    "    for row in reader:\n",
    "        row[4:]=[float(i) for i in row[4:]]\n",
    "        date=datetime.strptime(row[0],'%Y/%m/%d')\n",
    "        msec=row[1:3]\n",
    "        labl=int(row[3])\n",
    "        if labl not in index:\n",
    "            label_count[labl]+=1\n",
    "            for x in range(4):\n",
    "                X_acc=list(row[4*i+4+x] for i in range(150))\n",
    "                Y_acc=list(row[4*i+604+x] for i in range(150))\n",
    "                Z_acc=list(row[4*i+1204+x] for i in range(150))\n",
    "                X_gyro=list(row[4*i+1804+x] for i in range(150))\n",
    "                Y_gyro=list(row[4*i+2404+x] for i in range(150))\n",
    "                Z_gyro=list(row[4*i+3004+x] for i in range(150))\n",
    "\n",
    "                window=np.array([[X_acc[0:25],X_acc[25:50],X_acc[50:75],X_acc[75:100],X_acc[100:125],X_acc[125:150]],\n",
    "                    [Y_acc[0:25],Y_acc[25:50],Y_acc[50:75],Y_acc[75:100],Y_acc[100:125],Y_acc[125:150]],\n",
    "                    [Z_acc[0:25],Z_acc[25:50],Z_acc[50:75],Z_acc[75:100],Z_acc[100:125],Z_acc[125:150]],\n",
    "                    [X_gyro[0:25],X_gyro[25:50],X_gyro[50:75],X_gyro[75:100],X_gyro[100:125],X_gyro[125:150]],\n",
    "                    [Y_gyro[0:25],Y_gyro[25:50],Y_gyro[50:75],Y_gyro[75:100],Y_gyro[100:125],Y_gyro[125:150]],\n",
    "                    [Z_gyro[0:25],Z_gyro[25:50],Z_gyro[50:75],Z_gyro[75:100],Z_gyro[100:125],Z_gyro[125:150]]])\n",
    "\n",
    "                #5 features  what else?2\n",
    "                window_mean=window.mean(axis=-1)\n",
    "                window_stddev=window.std(axis=-1)\n",
    "                window_median=np.median(window,axis=-1)\n",
    "                window_percent25=np.percentile(window,25,axis=-1)\n",
    "                window_percent75=np.percentile(window,75,axis=-1)\n",
    "\n",
    "                window_feature=np.array([[window_mean],[window_stddev],[window_median],[window_percent25],[window_percent75]])\n",
    "                window_feature=window_feature.reshape(180)\n",
    "\n",
    "                #for cross validation\n",
    "                X.append(window_feature)\n",
    "                y.append(labl)\n",
    "                #수동으로 X, y 나누기\n",
    "                if (label_count[labl]%5!=1):\n",
    "                    training_set.append(window_feature)\n",
    "                    training_label.append(labl)\n",
    "                else:\n",
    "                    test_set.append(window_feature)\n",
    "                    test_label.append(labl)\n"
   ]
  },
  {
   "cell_type": "markdown",
   "metadata": {
    "scrolled": true
   },
   "source": [
    "from sklearn.neighbors import KNeighborsClassifier\n",
    "from sklearn.model_selection import cross_val_score\n",
    "from sklearn.metrics import confusion_matrix\n",
    "\n",
    "clf = KNeighborsClassifier(n_neighbors=5)\n",
    "scores=cross_val_score(clf,X,y,cv=10,scoring='accuracy')\n",
    "print(scores.mean())\n",
    "\n",
    "\n",
    "#test_pred3=clf.predict(test_set)\n",
    "#print(accuracy_score(test_pred3,test_label))\n",
    "#print(confusion_matrix(test_pred3, test_label))\n",
    "#onehot_pred3=test_pred2.reshape(-1,1)\n",
    "#onehot_pred3=ohc.fit_transform(onehot_pred3).toarray()\n",
    "#print(onehot_pred3)"
   ]
  },
  {
   "cell_type": "markdown",
   "metadata": {
    "scrolled": true
   },
   "source": [
    "k_range=range(1,31)\n",
    "k_scores=[]\n",
    "for k in k_range :\n",
    "    knn = KNeighborsClassifier(n_neighbors=k)\n",
    "    scores=cross_val_score(knn,X,y,cv=10,scoring='accuracy')\n",
    "    k_scores.append(scores.mean())\n",
    "print(k_scores)"
   ]
  },
  {
   "cell_type": "markdown",
   "metadata": {},
   "source": [
    "plt.plot(k_range,k_scores)\n",
    "plt.xlabel('value of k for knn')\n",
    "plt.ylabel('accuracy')"
   ]
  },
  {
   "cell_type": "markdown",
   "metadata": {},
   "source": [
    "from sklearn.model_selection import GridSearchCV\n",
    "\n",
    "k_range=range(1,31)\n",
    "param_grid=dict(n_neighbors=k_range)\n",
    "grid=GridSearchCV(knn,param_grid,cv=10,scoring='accuracy')"
   ]
  },
  {
   "cell_type": "markdown",
   "metadata": {
    "scrolled": true
   },
   "source": [
    "grid.fit(X,y)"
   ]
  },
  {
   "cell_type": "markdown",
   "metadata": {},
   "source": [
    "(grid.cv_results_)"
   ]
  },
  {
   "cell_type": "markdown",
   "metadata": {},
   "source": [
    "scores=cross_val_score(KNeighborsClassifier(1),X,y,cv=10,scoring='accuracy')\n"
   ]
  },
  {
   "cell_type": "code",
   "execution_count": 9,
   "metadata": {},
   "outputs": [],
   "source": [
    "from sklearn.ensemble import RandomForestClassifier\n",
    "from sklearn.model_selection import GridSearchCV\n",
    "\n",
    "clf=RandomForestClassifier()\n",
    "param_grid={\n",
    " 'n_estimators':[100,150,200],\n",
    "   # 'max_features':['auto','sqrt','log2'],\n",
    "    'max_depth':[10,12,None]\n",
    "    #'criterion':['gini','entropy']\n",
    "}\n",
    "\n",
    "grid=GridSearchCV(estimator=clf,param_grid=param_grid,cv=10,scoring='accuracy')"
   ]
  },
  {
   "cell_type": "code",
   "execution_count": 10,
   "metadata": {},
   "outputs": [
    {
     "name": "stderr",
     "output_type": "stream",
     "text": [
      "/home/parkj0/anaconda3/envs/venv/lib/python3.7/site-packages/sklearn/model_selection/_search.py:813: DeprecationWarning: The default of the `iid` parameter will change from True to False in version 0.22 and will be removed in 0.24. This will change numeric results when test-set sizes are unequal.\n",
      "  DeprecationWarning)\n"
     ]
    },
    {
     "data": {
      "text/plain": [
       "GridSearchCV(cv=10, error_score='raise-deprecating',\n",
       "             estimator=RandomForestClassifier(bootstrap=True, class_weight=None,\n",
       "                                              criterion='gini', max_depth=None,\n",
       "                                              max_features='auto',\n",
       "                                              max_leaf_nodes=None,\n",
       "                                              min_impurity_decrease=0.0,\n",
       "                                              min_impurity_split=None,\n",
       "                                              min_samples_leaf=1,\n",
       "                                              min_samples_split=2,\n",
       "                                              min_weight_fraction_leaf=0.0,\n",
       "                                              n_estimators='warn', n_jobs=None,\n",
       "                                              oob_score=False,\n",
       "                                              random_state=None, verbose=0,\n",
       "                                              warm_start=False),\n",
       "             iid='warn', n_jobs=None,\n",
       "             param_grid={'max_depth': [10, 12, None],\n",
       "                         'n_estimators': [100, 150, 200]},\n",
       "             pre_dispatch='2*n_jobs', refit=True, return_train_score=False,\n",
       "             scoring='accuracy', verbose=0)"
      ]
     },
     "execution_count": 10,
     "metadata": {},
     "output_type": "execute_result"
    }
   ],
   "source": [
    "grid.fit(X,y)"
   ]
  },
  {
   "cell_type": "code",
   "execution_count": 11,
   "metadata": {},
   "outputs": [
    {
     "data": {
      "text/plain": [
       "{'mean_fit_time': array([0.48374104, 0.75854883, 0.98243542, 0.49089046, 0.74347527,\n",
       "        1.017524  , 0.5376415 , 0.79332376, 1.03282115]),\n",
       " 'std_fit_time': array([0.0057305 , 0.04151035, 0.02928669, 0.00629604, 0.00683577,\n",
       "        0.02412534, 0.02091229, 0.03993779, 0.04373222]),\n",
       " 'mean_score_time': array([0.00617254, 0.00922012, 0.01197698, 0.0062017 , 0.00912912,\n",
       "        0.01209314, 0.00660017, 0.01061411, 0.01251502]),\n",
       " 'std_score_time': array([1.45965269e-04, 5.20664594e-04, 1.69921323e-04, 6.91769607e-05,\n",
       "        9.23868795e-05, 2.63493286e-04, 9.51517942e-04, 2.22400021e-03,\n",
       "        1.50434157e-03]),\n",
       " 'param_max_depth': masked_array(data=[10, 10, 10, 12, 12, 12, None, None, None],\n",
       "              mask=[False, False, False, False, False, False, False, False,\n",
       "                    False],\n",
       "        fill_value='?',\n",
       "             dtype=object),\n",
       " 'param_n_estimators': masked_array(data=[100, 150, 200, 100, 150, 200, 100, 150, 200],\n",
       "              mask=[False, False, False, False, False, False, False, False,\n",
       "                    False],\n",
       "        fill_value='?',\n",
       "             dtype=object),\n",
       " 'params': [{'max_depth': 10, 'n_estimators': 100},\n",
       "  {'max_depth': 10, 'n_estimators': 150},\n",
       "  {'max_depth': 10, 'n_estimators': 200},\n",
       "  {'max_depth': 12, 'n_estimators': 100},\n",
       "  {'max_depth': 12, 'n_estimators': 150},\n",
       "  {'max_depth': 12, 'n_estimators': 200},\n",
       "  {'max_depth': None, 'n_estimators': 100},\n",
       "  {'max_depth': None, 'n_estimators': 150},\n",
       "  {'max_depth': None, 'n_estimators': 200}],\n",
       " 'split0_test_score': array([0.75675676, 0.77477477, 0.75675676, 0.72972973, 0.78378378,\n",
       "        0.74774775, 0.71171171, 0.74774775, 0.74774775]),\n",
       " 'split1_test_score': array([0.92792793, 0.89189189, 0.9009009 , 0.90990991, 0.92792793,\n",
       "        0.96396396, 0.92792793, 0.95495495, 0.9009009 ]),\n",
       " 'split2_test_score': array([1.        , 1.        , 1.        , 1.        , 1.        ,\n",
       "        1.        , 0.99082569, 1.        , 1.        ]),\n",
       " 'split3_test_score': array([0.88990826, 0.88990826, 0.88990826, 0.88990826, 0.88990826,\n",
       "        0.88990826, 0.88990826, 0.88990826, 0.88990826]),\n",
       " 'split4_test_score': array([0.9245283 , 0.9245283 , 0.9245283 , 0.9245283 , 0.9245283 ,\n",
       "        0.91509434, 0.9245283 , 0.9245283 , 0.9245283 ]),\n",
       " 'split5_test_score': array([0.95283019, 0.9245283 , 0.95283019, 0.93396226, 0.97169811,\n",
       "        0.96226415, 0.9245283 , 0.96226415, 0.94339623]),\n",
       " 'split6_test_score': array([0.89622642, 0.9245283 , 0.9245283 , 0.96226415, 0.96226415,\n",
       "        0.9245283 , 0.9245283 , 0.96226415, 0.96226415]),\n",
       " 'split7_test_score': array([0.83018868, 0.78301887, 0.82075472, 0.86792453, 0.86792453,\n",
       "        0.87735849, 0.83962264, 0.83962264, 0.82075472]),\n",
       " 'split8_test_score': array([0.87254902, 0.82352941, 0.85294118, 0.84313725, 0.82352941,\n",
       "        0.83333333, 0.80392157, 0.84313725, 0.83333333]),\n",
       " 'split9_test_score': array([0.66666667, 0.7254902 , 0.73529412, 0.70588235, 0.74509804,\n",
       "        0.69607843, 0.76470588, 0.73529412, 0.75490196]),\n",
       " 'mean_test_score': array([0.87265918, 0.8670412 , 0.87640449, 0.87734082, 0.89044944,\n",
       "        0.88202247, 0.87078652, 0.88670412, 0.87827715]),\n",
       " 'std_test_score': array([0.09268581, 0.08115223, 0.08018091, 0.09005371, 0.07957078,\n",
       "        0.09195774, 0.08327889, 0.08756766, 0.08159843]),\n",
       " 'rank_test_score': array([7, 9, 6, 5, 1, 3, 8, 2, 4], dtype=int32)}"
      ]
     },
     "execution_count": 11,
     "metadata": {},
     "output_type": "execute_result"
    }
   ],
   "source": [
    "grid.cv_results_"
   ]
  },
  {
   "cell_type": "code",
   "execution_count": 12,
   "metadata": {},
   "outputs": [
    {
     "data": {
      "text/plain": [
       "{'max_depth': 12, 'n_estimators': 150}"
      ]
     },
     "execution_count": 12,
     "metadata": {},
     "output_type": "execute_result"
    }
   ],
   "source": [
    "grid.best_params_"
   ]
  },
  {
   "cell_type": "code",
   "execution_count": 15,
   "metadata": {},
   "outputs": [
    {
     "name": "stdout",
     "output_type": "stream",
     "text": [
      "0.8653724237122906\n"
     ]
    }
   ],
   "source": [
    "clf1=RandomForestClassifier(80)\n",
    "scores=cross_val_score(clf1,X,y,cv=10,scoring='accuracy')\n",
    "print(scores.mean())"
   ]
  },
  {
   "cell_type": "markdown",
   "metadata": {},
   "source": [
    "#SVM\n",
    "#prepare the data\n",
    "#prepare the model\n",
    "clf = sklearn.svm.SVC(gamma='scale',tol=0.1)\n",
    "scores=cross_val_score(clf,X,y,cv=10,scoring='accuracy')\n",
    "print(scores.mean())\n"
   ]
  },
  {
   "cell_type": "markdown",
   "metadata": {},
   "source": [
    "param_grid={\n",
    " #'kernel':['linear','poly','rbf','sigmoid'], rbf to be best acc\n",
    "    'C':[0.001,0.01,0.1,1,10],\n",
    "    'gamma' : [0.001, 0.01, 0.1, 1]\n",
    "\n",
    "}\n",
    "\n",
    "grid=GridSearchCV(estimator=clf,param_grid=param_grid,cv=10,scoring='accuracy')"
   ]
  },
  {
   "cell_type": "markdown",
   "metadata": {},
   "source": [
    "grid.fit(X,y)"
   ]
  },
  {
   "cell_type": "markdown",
   "metadata": {},
   "source": [
    "grid.best_params_"
   ]
  },
  {
   "cell_type": "markdown",
   "metadata": {},
   "source": [
    "grid.cv_results_"
   ]
  },
  {
   "cell_type": "markdown",
   "metadata": {},
   "source": [
    "clf1=sklearn.svm.SVC(gamma='scale',tol=0.1)\n",
    "scores=cross_val_score(clf1,X,y,cv=10,scoring='accuracy')\n",
    "print(scores.mean())"
   ]
  },
  {
   "cell_type": "code",
   "execution_count": 16,
   "metadata": {},
   "outputs": [],
   "source": [
    "from sklearn.ensemble import BaggingClassifier\n",
    "from sklearn.neighbors import KNeighborsClassifier\n",
    "bagging = BaggingClassifier(KNeighborsClassifier(),max_samples=0.5, max_features=0.5)\n",
    "\n",
    "from sklearn.ensemble import ExtraTreesClassifier\n",
    "from sklearn.tree import DecisionTreeClassifier\n",
    "\n",
    "ETC=ExtraTreesClassifier(300)\n",
    "DTC=DecisionTreeClassifier()\n",
    "\n",
    "\n",
    "\n",
    "\n",
    "\n",
    "\n"
   ]
  },
  {
   "cell_type": "code",
   "execution_count": 17,
   "metadata": {},
   "outputs": [],
   "source": [
    "param_grid={\n",
    " 'n_estimators':[100,200,300],\n",
    "   # 'max_features':['auto','sqrt','log2'],\n",
    "    'max_depth':[10,14,None]\n",
    "    #'criterion':['gini','entropy']\n",
    "}\n",
    "\n",
    "grid=GridSearchCV(estimator=ETC,param_grid=param_grid,cv=10,scoring='accuracy')"
   ]
  },
  {
   "cell_type": "code",
   "execution_count": 18,
   "metadata": {},
   "outputs": [
    {
     "name": "stderr",
     "output_type": "stream",
     "text": [
      "/home/parkj0/anaconda3/envs/venv/lib/python3.7/site-packages/sklearn/model_selection/_search.py:813: DeprecationWarning: The default of the `iid` parameter will change from True to False in version 0.22 and will be removed in 0.24. This will change numeric results when test-set sizes are unequal.\n",
      "  DeprecationWarning)\n"
     ]
    },
    {
     "data": {
      "text/plain": [
       "GridSearchCV(cv=10, error_score='raise-deprecating',\n",
       "             estimator=ExtraTreesClassifier(bootstrap=False, class_weight=None,\n",
       "                                            criterion='gini', max_depth=None,\n",
       "                                            max_features='auto',\n",
       "                                            max_leaf_nodes=None,\n",
       "                                            min_impurity_decrease=0.0,\n",
       "                                            min_impurity_split=None,\n",
       "                                            min_samples_leaf=1,\n",
       "                                            min_samples_split=2,\n",
       "                                            min_weight_fraction_leaf=0.0,\n",
       "                                            n_estimators=300, n_jobs=None,\n",
       "                                            oob_score=False, random_state=None,\n",
       "                                            verbose=0, warm_start=False),\n",
       "             iid='warn', n_jobs=None,\n",
       "             param_grid={'max_depth': [10, 14, None],\n",
       "                         'n_estimators': [100, 200, 300]},\n",
       "             pre_dispatch='2*n_jobs', refit=True, return_train_score=False,\n",
       "             scoring='accuracy', verbose=0)"
      ]
     },
     "execution_count": 18,
     "metadata": {},
     "output_type": "execute_result"
    }
   ],
   "source": [
    "grid.fit(X,y)\n"
   ]
  },
  {
   "cell_type": "code",
   "execution_count": 19,
   "metadata": {},
   "outputs": [
    {
     "data": {
      "text/plain": [
       "{'mean_fit_time': array([0.1304548 , 0.2451071 , 0.37172558, 0.12869022, 0.2500546 ,\n",
       "        0.37867482, 0.12856832, 0.25821536, 0.38903143]),\n",
       " 'std_fit_time': array([0.01510675, 0.00636484, 0.01972231, 0.01065756, 0.00131767,\n",
       "        0.00325476, 0.00113647, 0.00296044, 0.00371133]),\n",
       " 'mean_score_time': array([0.00663681, 0.01247132, 0.02039464, 0.00644343, 0.0122649 ,\n",
       "        0.01810007, 0.00640903, 0.01250131, 0.01832995]),\n",
       " 'std_score_time': array([5.55292674e-04, 5.59358668e-04, 2.78713105e-03, 6.45199661e-05,\n",
       "        1.14290568e-04, 1.58925139e-04, 5.37528104e-05, 3.08114890e-04,\n",
       "        2.29103289e-04]),\n",
       " 'param_max_depth': masked_array(data=[10, 10, 10, 14, 14, 14, None, None, None],\n",
       "              mask=[False, False, False, False, False, False, False, False,\n",
       "                    False],\n",
       "        fill_value='?',\n",
       "             dtype=object),\n",
       " 'param_n_estimators': masked_array(data=[100, 200, 300, 100, 200, 300, 100, 200, 300],\n",
       "              mask=[False, False, False, False, False, False, False, False,\n",
       "                    False],\n",
       "        fill_value='?',\n",
       "             dtype=object),\n",
       " 'params': [{'max_depth': 10, 'n_estimators': 100},\n",
       "  {'max_depth': 10, 'n_estimators': 200},\n",
       "  {'max_depth': 10, 'n_estimators': 300},\n",
       "  {'max_depth': 14, 'n_estimators': 100},\n",
       "  {'max_depth': 14, 'n_estimators': 200},\n",
       "  {'max_depth': 14, 'n_estimators': 300},\n",
       "  {'max_depth': None, 'n_estimators': 100},\n",
       "  {'max_depth': None, 'n_estimators': 200},\n",
       "  {'max_depth': None, 'n_estimators': 300}],\n",
       " 'split0_test_score': array([0.74774775, 0.76576577, 0.81981982, 0.73873874, 0.78378378,\n",
       "        0.74774775, 0.75675676, 0.75675676, 0.74774775]),\n",
       " 'split1_test_score': array([0.92792793, 0.92792793, 0.9009009 , 0.92792793, 0.95495495,\n",
       "        0.92792793, 0.91891892, 0.92792793, 0.89189189]),\n",
       " 'split2_test_score': array([1.        , 1.        , 1.        , 1.        , 1.        ,\n",
       "        1.        , 0.99082569, 1.        , 1.        ]),\n",
       " 'split3_test_score': array([0.88990826, 0.90825688, 0.9266055 , 0.9266055 , 0.9266055 ,\n",
       "        0.9266055 , 0.89908257, 0.9266055 , 0.9266055 ]),\n",
       " 'split4_test_score': array([0.91509434, 0.90566038, 0.9245283 , 0.90566038, 0.89622642,\n",
       "        0.91509434, 0.8490566 , 0.89622642, 0.9245283 ]),\n",
       " 'split5_test_score': array([0.96226415, 0.98113208, 0.97169811, 0.93396226, 1.        ,\n",
       "        0.99056604, 0.93396226, 1.        , 0.99056604]),\n",
       " 'split6_test_score': array([0.93396226, 0.96226415, 0.95283019, 0.94339623, 0.96226415,\n",
       "        0.9245283 , 0.96226415, 0.96226415, 0.9245283 ]),\n",
       " 'split7_test_score': array([0.74528302, 0.78301887, 0.76415094, 0.77358491, 0.83018868,\n",
       "        0.8490566 , 0.80188679, 0.78301887, 0.78301887]),\n",
       " 'split8_test_score': array([0.88235294, 0.84313725, 0.88235294, 0.88235294, 0.88235294,\n",
       "        0.8627451 , 0.88235294, 0.88235294, 0.8627451 ]),\n",
       " 'split9_test_score': array([0.7254902 , 0.71568627, 0.68627451, 0.74509804, 0.71568627,\n",
       "        0.73529412, 0.7254902 , 0.73529412, 0.7254902 ]),\n",
       " 'mean_test_score': array([0.87359551, 0.88014981, 0.88389513, 0.87827715, 0.89606742,\n",
       "        0.88857678, 0.87265918, 0.88764045, 0.87827715]),\n",
       " 'std_test_score': array([0.09305917, 0.09241261, 0.09258856, 0.08727459, 0.08905966,\n",
       "        0.08561582, 0.08315484, 0.09225634, 0.09148656]),\n",
       " 'rank_test_score': array([8, 5, 4, 6, 1, 2, 9, 3, 6], dtype=int32)}"
      ]
     },
     "execution_count": 19,
     "metadata": {},
     "output_type": "execute_result"
    }
   ],
   "source": [
    "grid.cv_results_"
   ]
  },
  {
   "cell_type": "code",
   "execution_count": 21,
   "metadata": {},
   "outputs": [
    {
     "data": {
      "text/plain": [
       "{'max_depth': 14, 'n_estimators': 200}"
      ]
     },
     "execution_count": 21,
     "metadata": {},
     "output_type": "execute_result"
    }
   ],
   "source": [
    "grid.best_params_"
   ]
  },
  {
   "cell_type": "code",
   "execution_count": 20,
   "metadata": {},
   "outputs": [
    {
     "ename": "NotFittedError",
     "evalue": "This ExtraTreesClassifier instance is not fitted yet. Call 'fit' with appropriate arguments before using this method.",
     "output_type": "error",
     "traceback": [
      "\u001b[0;31m---------------------------------------------------------------------------\u001b[0m",
      "\u001b[0;31mNotFittedError\u001b[0m                            Traceback (most recent call last)",
      "\u001b[0;32m<ipython-input-20-f98bae733612>\u001b[0m in \u001b[0;36m<module>\u001b[0;34m\u001b[0m\n\u001b[0;32m----> 1\u001b[0;31m \u001b[0mtest_pred_proba2\u001b[0m\u001b[0;34m=\u001b[0m\u001b[0mETC\u001b[0m\u001b[0;34m.\u001b[0m\u001b[0mpredict_proba\u001b[0m\u001b[0;34m(\u001b[0m\u001b[0mtest_set\u001b[0m\u001b[0;34m)\u001b[0m\u001b[0;34m\u001b[0m\u001b[0;34m\u001b[0m\u001b[0m\n\u001b[0m\u001b[1;32m      2\u001b[0m \u001b[0marray\u001b[0m\u001b[0;34m=\u001b[0m\u001b[0mnp\u001b[0m\u001b[0;34m.\u001b[0m\u001b[0marray\u001b[0m\u001b[0;34m(\u001b[0m\u001b[0mtest_pred_proba2\u001b[0m\u001b[0;34m)\u001b[0m\u001b[0;34m\u001b[0m\u001b[0;34m\u001b[0m\u001b[0m\n\u001b[1;32m      3\u001b[0m \u001b[0mnewpred3\u001b[0m\u001b[0;34m=\u001b[0m\u001b[0mnp\u001b[0m\u001b[0;34m.\u001b[0m\u001b[0mzeros\u001b[0m\u001b[0;34m(\u001b[0m\u001b[0mlen\u001b[0m\u001b[0;34m(\u001b[0m\u001b[0mtest_pred4\u001b[0m\u001b[0;34m)\u001b[0m\u001b[0;34m)\u001b[0m\u001b[0;34m\u001b[0m\u001b[0;34m\u001b[0m\u001b[0m\n\u001b[1;32m      4\u001b[0m \u001b[0;32mfor\u001b[0m \u001b[0mx\u001b[0m \u001b[0;32min\u001b[0m \u001b[0mrange\u001b[0m\u001b[0;34m(\u001b[0m\u001b[0mlen\u001b[0m\u001b[0;34m(\u001b[0m\u001b[0mtest_pred_proba2\u001b[0m\u001b[0;34m)\u001b[0m\u001b[0;34m)\u001b[0m\u001b[0;34m:\u001b[0m\u001b[0;34m\u001b[0m\u001b[0;34m\u001b[0m\u001b[0m\n\u001b[1;32m      5\u001b[0m     \u001b[0;32mif\u001b[0m\u001b[0;34m(\u001b[0m\u001b[0mnp\u001b[0m\u001b[0;34m.\u001b[0m\u001b[0mmax\u001b[0m\u001b[0;34m(\u001b[0m\u001b[0mtest_pred_proba2\u001b[0m\u001b[0;34m[\u001b[0m\u001b[0mx\u001b[0m\u001b[0;34m]\u001b[0m\u001b[0;34m)\u001b[0m\u001b[0;34m>\u001b[0m\u001b[0;36m0.2\u001b[0m\u001b[0;34m)\u001b[0m\u001b[0;34m:\u001b[0m\u001b[0;34m\u001b[0m\u001b[0;34m\u001b[0m\u001b[0m\n",
      "\u001b[0;32m~/anaconda3/envs/venv/lib/python3.7/site-packages/sklearn/ensemble/forest.py\u001b[0m in \u001b[0;36mpredict_proba\u001b[0;34m(self, X)\u001b[0m\n\u001b[1;32m    584\u001b[0m             \u001b[0mclasses\u001b[0m \u001b[0mcorresponds\u001b[0m \u001b[0mto\u001b[0m \u001b[0mthat\u001b[0m \u001b[0;32min\u001b[0m \u001b[0mthe\u001b[0m \u001b[0mattribute\u001b[0m\u001b[0;31m \u001b[0m\u001b[0;31m`\u001b[0m\u001b[0mclasses_\u001b[0m\u001b[0;31m`\u001b[0m\u001b[0;34m.\u001b[0m\u001b[0;34m\u001b[0m\u001b[0;34m\u001b[0m\u001b[0m\n\u001b[1;32m    585\u001b[0m         \"\"\"\n\u001b[0;32m--> 586\u001b[0;31m         \u001b[0mcheck_is_fitted\u001b[0m\u001b[0;34m(\u001b[0m\u001b[0mself\u001b[0m\u001b[0;34m,\u001b[0m \u001b[0;34m'estimators_'\u001b[0m\u001b[0;34m)\u001b[0m\u001b[0;34m\u001b[0m\u001b[0;34m\u001b[0m\u001b[0m\n\u001b[0m\u001b[1;32m    587\u001b[0m         \u001b[0;31m# Check data\u001b[0m\u001b[0;34m\u001b[0m\u001b[0;34m\u001b[0m\u001b[0;34m\u001b[0m\u001b[0m\n\u001b[1;32m    588\u001b[0m         \u001b[0mX\u001b[0m \u001b[0;34m=\u001b[0m \u001b[0mself\u001b[0m\u001b[0;34m.\u001b[0m\u001b[0m_validate_X_predict\u001b[0m\u001b[0;34m(\u001b[0m\u001b[0mX\u001b[0m\u001b[0;34m)\u001b[0m\u001b[0;34m\u001b[0m\u001b[0;34m\u001b[0m\u001b[0m\n",
      "\u001b[0;32m~/anaconda3/envs/venv/lib/python3.7/site-packages/sklearn/utils/validation.py\u001b[0m in \u001b[0;36mcheck_is_fitted\u001b[0;34m(estimator, attributes, msg, all_or_any)\u001b[0m\n\u001b[1;32m    912\u001b[0m \u001b[0;34m\u001b[0m\u001b[0m\n\u001b[1;32m    913\u001b[0m     \u001b[0;32mif\u001b[0m \u001b[0;32mnot\u001b[0m \u001b[0mall_or_any\u001b[0m\u001b[0;34m(\u001b[0m\u001b[0;34m[\u001b[0m\u001b[0mhasattr\u001b[0m\u001b[0;34m(\u001b[0m\u001b[0mestimator\u001b[0m\u001b[0;34m,\u001b[0m \u001b[0mattr\u001b[0m\u001b[0;34m)\u001b[0m \u001b[0;32mfor\u001b[0m \u001b[0mattr\u001b[0m \u001b[0;32min\u001b[0m \u001b[0mattributes\u001b[0m\u001b[0;34m]\u001b[0m\u001b[0;34m)\u001b[0m\u001b[0;34m:\u001b[0m\u001b[0;34m\u001b[0m\u001b[0;34m\u001b[0m\u001b[0m\n\u001b[0;32m--> 914\u001b[0;31m         \u001b[0;32mraise\u001b[0m \u001b[0mNotFittedError\u001b[0m\u001b[0;34m(\u001b[0m\u001b[0mmsg\u001b[0m \u001b[0;34m%\u001b[0m \u001b[0;34m{\u001b[0m\u001b[0;34m'name'\u001b[0m\u001b[0;34m:\u001b[0m \u001b[0mtype\u001b[0m\u001b[0;34m(\u001b[0m\u001b[0mestimator\u001b[0m\u001b[0;34m)\u001b[0m\u001b[0;34m.\u001b[0m\u001b[0m__name__\u001b[0m\u001b[0;34m}\u001b[0m\u001b[0;34m)\u001b[0m\u001b[0;34m\u001b[0m\u001b[0;34m\u001b[0m\u001b[0m\n\u001b[0m\u001b[1;32m    915\u001b[0m \u001b[0;34m\u001b[0m\u001b[0m\n\u001b[1;32m    916\u001b[0m \u001b[0;34m\u001b[0m\u001b[0m\n",
      "\u001b[0;31mNotFittedError\u001b[0m: This ExtraTreesClassifier instance is not fitted yet. Call 'fit' with appropriate arguments before using this method."
     ]
    }
   ],
   "source": [
    "test_pred_proba2=ETC.predict_proba(test_set)\n",
    "array=np.array(test_pred_proba2)\n",
    "newpred3=np.zeros(len(test_pred4))\n",
    "for x in range(len(test_pred_proba2)):\n",
    "    if(np.max(test_pred_proba2[x])>0.2):\n",
    "        newpred3[x]=test_pred4[x]\n",
    "    else:\n",
    "        newpred3[x]=-1\n",
    "        i=0\n",
    "        #print(np.shape(np.argmax(test_pred_proba[x])))\n",
    "print(np.shape(newpred3))\n",
    "print(newpred3)\n",
    "print(accuracy_score(newpred3,test_label))"
   ]
  }
 ],
 "metadata": {
  "kernelspec": {
   "display_name": "Python 3",
   "language": "python",
   "name": "python3"
  },
  "language_info": {
   "codemirror_mode": {
    "name": "ipython",
    "version": 3
   },
   "file_extension": ".py",
   "mimetype": "text/x-python",
   "name": "python",
   "nbconvert_exporter": "python",
   "pygments_lexer": "ipython3",
   "version": "3.7.3"
  }
 },
 "nbformat": 4,
 "nbformat_minor": 2
}
