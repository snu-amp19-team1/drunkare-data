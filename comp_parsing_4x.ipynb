{
 "cells": [
  {
   "cell_type": "code",
   "execution_count": 1,
   "metadata": {},
   "outputs": [],
   "source": [
    "###10분짜리 6초윈도우 슬라이드하면서\n",
    "import pickle\n",
    "import csv\n",
    "import matplotlib.pyplot as plt\n",
    "import numpy as np\n",
    "import pandas as pd\n",
    "import tensorflow as tf\n",
    "import sklearn\n",
    "from sklearn import svm\n",
    "from datetime import datetime\n",
    "import glob\n",
    "\n",
    "filename_queue=glob.glob('./rawdata/compdata[1-3].csv')\n",
    "#feature extration from data\n",
    "def feature_extraction(window):\n",
    "    mean=window.mean(axis=-1)\n",
    "    stddev=window.std(axis=-1)\n",
    "    median=np.median(window,axis=-1)\n",
    "    percent25=np.percentile(window,25,axis=-1)\n",
    "    percent75=np.percentile(window,75,axis=-1)\n",
    "    return(np.array([mean,stddev,median,percent25,percent75]))\n",
    "\n",
    "#data[0:600] 각각 1sec\n",
    "#windowSize=6sec=6\n",
    "#stepSize=1sec=1\n",
    "#len(data)=600=600sec=10minute\n",
    "def sliding_window(data,stepSize,windowSize):\n",
    "    for x in range(0,len(data)-windowSize+1,stepSize):\n",
    "        yield(x,data[x:x+windowSize])\n",
    "\n",
    "def pred_window(clf,data):\n",
    "    test_set=[]\n",
    "    for(x,window) in sliding_window(data,1,6): \n",
    "        wind=window.reshape(180)\n",
    "        test_set.append(wind)\n",
    "    print(np.shape(test_set))\n",
    "    return clf.predict(test_set)"
   ]
  },
  {
   "cell_type": "code",
   "execution_count": 2,
   "metadata": {},
   "outputs": [
    {
     "ename": "NameError",
     "evalue": "name 'data' is not defined",
     "output_type": "error",
     "traceback": [
      "\u001b[0;31m---------------------------------------------------------------------------\u001b[0m",
      "\u001b[0;31mNameError\u001b[0m                                 Traceback (most recent call last)",
      "\u001b[0;32m<ipython-input-2-32dfdd67650c>\u001b[0m in \u001b[0;36m<module>\u001b[0;34m\u001b[0m\n\u001b[1;32m     46\u001b[0m                 \u001b[0mndata\u001b[0m\u001b[0;34m.\u001b[0m\u001b[0mappend\u001b[0m\u001b[0;34m(\u001b[0m\u001b[0mfeature\u001b[0m\u001b[0;34m)\u001b[0m\u001b[0;34m\u001b[0m\u001b[0;34m\u001b[0m\u001b[0m\n\u001b[1;32m     47\u001b[0m     \u001b[0mndata\u001b[0m\u001b[0;34m=\u001b[0m\u001b[0mnp\u001b[0m\u001b[0;34m.\u001b[0m\u001b[0marray\u001b[0m\u001b[0;34m(\u001b[0m\u001b[0mndata\u001b[0m\u001b[0;34m)\u001b[0m  \u001b[0;31m#600, 6, 5 # format to be predicted\u001b[0m\u001b[0;34m\u001b[0m\u001b[0;34m\u001b[0m\u001b[0m\n\u001b[0;32m---> 48\u001b[0;31m     \u001b[0mflatten_data\u001b[0m\u001b[0;34m=\u001b[0m\u001b[0mdata\u001b[0m\u001b[0;34m.\u001b[0m\u001b[0mflatten\u001b[0m\u001b[0;34m(\u001b[0m\u001b[0;34m)\u001b[0m \u001b[0;31m#18000, format to be saved\u001b[0m\u001b[0;34m\u001b[0m\u001b[0;34m\u001b[0m\u001b[0m\n\u001b[0m\u001b[1;32m     49\u001b[0m     \u001b[0mrow_data\u001b[0m\u001b[0;34m=\u001b[0m\u001b[0mflatten_data\u001b[0m\u001b[0;34m\u001b[0m\u001b[0;34m\u001b[0m\u001b[0m\n\u001b[1;32m     50\u001b[0m     \u001b[0mwriter\u001b[0m\u001b[0;34m.\u001b[0m\u001b[0mwriterows\u001b[0m\u001b[0;34m(\u001b[0m\u001b[0;34m[\u001b[0m\u001b[0mcontext\u001b[0m\u001b[0;34m,\u001b[0m\u001b[0mrow_data\u001b[0m\u001b[0;34m]\u001b[0m\u001b[0;34m)\u001b[0m\u001b[0;34m\u001b[0m\u001b[0;34m\u001b[0m\u001b[0m\n",
      "\u001b[0;31mNameError\u001b[0m: name 'data' is not defined"
     ]
    }
   ],
   "source": [
    "return_path=\"./featuredata/compfeature.csv\"\n",
    "file=open(return_path,'w')\n",
    "writer=csv.writer(file)\n",
    "#writer.writerows([[\"context\"],[\"data\"]])  \n",
    "#showing shape of the data\n",
    "for filename in filename_queue:\n",
    "    file=open(filename, newline='')\n",
    "    reader=csv.reader(file)\n",
    "    index=0\n",
    "    #print(df.head())\n",
    "    i=0\n",
    "  \n",
    "    ndata=[]\n",
    "    X_acc=[]\n",
    "    Y_acc=[]\n",
    "    Z_acc=[]\n",
    "    X_gyro=[]\n",
    "    Y_gyro=[]\n",
    "    Z_gyro=[]\n",
    "    \n",
    "    ##writer.writerows([X_acc,Y_acc,Z_acc,X_gyro,Y_gyro,Z_gyro])\n",
    "\n",
    "\n",
    "    for row in reader:\n",
    "        row[3:]=[float(i) for i in row[3:]]\n",
    "        i+=1\n",
    "        if(i>20):\n",
    "            break\n",
    "        if(int(row[2])==0):\n",
    "            time=int(row[0]) #minutewise\n",
    "            context=[row[1]] #drink 0, eat 1, cafe 2, desk 3\n",
    "            sensor=int(row[2]) #acc:0 gyro:2\n",
    "            X_acc=row[3:1503] #1500 =60sec/40ms\n",
    "            Y_acc=row[1503:3003]\n",
    "            Z_acc=row[3003:4503]\n",
    "        if(int(row[2])==1):\n",
    "            X_gyro=row[3:1503]\n",
    "            Y_gyro=row[1503:3003]\n",
    "            Z_gyro=row[3003:4503]\n",
    "            list=[X_acc,Y_acc,Z_acc,X_gyro,Y_gyro,Z_gyro]\n",
    "            for x in range(0,60):\n",
    "                wind=np.array([X_acc[25*x:25*x+25],Y_acc[25*x:25*x+25],Z_acc[25*x:25*x+25],\n",
    "                            X_gyro[25*x:25*x+25],Y_gyro[25*x:25*x+25],Z_gyro[25*x:25*x+25]])  \n",
    "                feature=feature_extraction(wind)\n",
    "                feature=feature.reshape(6,5)\n",
    "                ndata.append(feature)\n",
    "    ndata=np.array(ndata)  #600, 6, 5 # format to be predicted\n",
    "    flatten_data=data.flatten() #18000, format to be saved\n",
    "    row_data=flatten_data\n",
    "    writer.writerows([context,row_data])\n",
    "\n"
   ]
  },
  {
   "cell_type": "code",
   "execution_count": null,
   "metadata": {},
   "outputs": [],
   "source": []
  },
  {
   "cell_type": "code",
   "execution_count": null,
   "metadata": {},
   "outputs": [],
   "source": []
  },
  {
   "cell_type": "code",
   "execution_count": null,
   "metadata": {},
   "outputs": [],
   "source": []
  }
 ],
 "metadata": {
  "kernelspec": {
   "display_name": "Python 3",
   "language": "python",
   "name": "python3"
  },
  "language_info": {
   "codemirror_mode": {
    "name": "ipython",
    "version": 3
   },
   "file_extension": ".py",
   "mimetype": "text/x-python",
   "name": "python",
   "nbconvert_exporter": "python",
   "pygments_lexer": "ipython3",
   "version": "3.7.3"
  }
 },
 "nbformat": 4,
 "nbformat_minor": 2
}
