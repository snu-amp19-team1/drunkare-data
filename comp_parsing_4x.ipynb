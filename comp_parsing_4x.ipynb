{
 "cells": [
  {
   "cell_type": "code",
   "execution_count": 150,
   "metadata": {},
   "outputs": [],
   "source": [
    "###10분짜리 6초윈도우 슬라이드하면서\n",
    "import pickle\n",
    "import csv\n",
    "import matplotlib.pyplot as plt\n",
    "import numpy as np\n",
    "import pandas as pd\n",
    "import tensorflow as tf\n",
    "import sklearn\n",
    "from sklearn import svm\n",
    "from datetime import datetime\n",
    "import glob\n",
    "\n",
    "\n",
    "filename_queue=glob.glob('./rawdata/compdata[0-9]*.csv')\n",
    "#feature extration from data\n",
    "def feature_extraction(window):\n",
    "    mean=window.mean(axis=-1)\n",
    "    stddev=window.std(axis=-1)\n",
    "    median=np.median(window,axis=-1)\n",
    "    percent25=np.percentile(window,25,axis=-1)\n",
    "    percent75=np.percentile(window,75,axis=-1)\n",
    "    return(np.array([mean,stddev,median,percent25,percent75]))\n",
    "\n",
    "#data[0:600] 각각 1sec\n",
    "#windowSize=6sec=6\n",
    "#stepSize=1sec=1\n",
    "#len(data)=600=600sec=10minute\n",
    "def sliding_window(data,stepSize,windowSize):\n",
    "    for x in range(0,len(data)-windowSize+1,stepSize):\n",
    "        yield(x,data[x:x+windowSize])\n",
    "\n",
    "def pred_window(clf,data):\n",
    "    test_set=[]\n",
    "    for(x,window) in sliding_window(data,1,6): \n",
    "        wind=window.reshape(180)\n",
    "        test_set.append(wind)\n",
    "    print(np.shape(test_set))\n",
    "    return clf.predict(test_set)"
   ]
  },
  {
   "cell_type": "code",
   "execution_count": 151,
   "metadata": {},
   "outputs": [
    {
     "name": "stdout",
     "output_type": "stream",
     "text": [
      "./rawdata/compdata7.csv (20, 18003)\n",
      "./rawdata/compdata6.csv (19, 18003)\n",
      "./rawdata/compdata10.csv (19, 18003)\n",
      "./rawdata/compdata9.csv (19, 18003)\n",
      "./rawdata/compdata5.csv (20, 18003)\n",
      "./rawdata/compdata8.csv (39, 18003)\n"
     ]
    }
   ],
   "source": [
    "#showing shape of the data\n",
    "for file in filename_queue:\n",
    "    df=pd.read_csv(file)\n",
    "    print(file,df.shape)\n",
    "\n"
   ]
  },
  {
   "cell_type": "code",
   "execution_count": 152,
   "metadata": {},
   "outputs": [
    {
     "name": "stdout",
     "output_type": "stream",
     "text": [
      "0\n",
      "1\n",
      "2\n",
      "3\n"
     ]
    }
   ],
   "source": [
    "for k in range(4):\n",
    "    print(k)"
   ]
  },
  {
   "cell_type": "code",
   "execution_count": 153,
   "metadata": {},
   "outputs": [
    {
     "name": "stdout",
     "output_type": "stream",
     "text": [
      "18000\n",
      "18000\n",
      "18000\n",
      "18000\n",
      "18000\n",
      "18000\n",
      "18000\n",
      "18000\n",
      "18000\n",
      "18000\n",
      "18000\n",
      "18000\n"
     ]
    }
   ],
   "source": [
    "return_path=\"./featuredata/compfeature2.csv\"\n",
    "file=open(return_path,'a')\n",
    "writer=csv.writer(file)\n",
    "#writer.writerows([[\"context\"],[\"data\"]])  \n",
    "#showing shape of the data\n",
    "for filename in filename_queue:\n",
    "    file=open(filename, newline='')\n",
    "    index=0    \n",
    "\n",
    "    for j in range(2): \n",
    "        ndata=[]\n",
    "        file.seek(0)\n",
    "        reader=csv.reader(file)\n",
    "        linecount=0\n",
    "        for row in reader:\n",
    "            row[3:]=[float(i) for i in row[3:]]\n",
    "            linecount+=1\n",
    "            if(linecount>20):\n",
    "                continue\n",
    "            if(int(row[2])==0):\n",
    "                time=int(row[0]) #minutewise\n",
    "                context=[row[1]] #drink 0, eat 1, cafe 2, desk 3\n",
    "                sensor=int(row[2]) #acc:0 gyro:1\n",
    "                X_acc=[row[4*i+3+2*j] for i in range(1500)] #1500 =60sec/40ms\n",
    "                Y_acc=[row[4*i+6003+2*j] for i in range(1500)]\n",
    "                Z_acc=[row[4*i+12003+2*j] for i in range(1500)]\n",
    "            if(int(row[2])==1):\n",
    "                X_gyro=[row[4*i+3+2*j] for i in range(1500)]\n",
    "                Y_gyro=[row[4*i+6003+2*j] for i in range(1500)]\n",
    "                Z_gyro=[row[4*i+12003+2*j] for i in range(1500)]\n",
    "                list=[X_acc,Y_acc,Z_acc,X_gyro,Y_gyro,Z_gyro]\n",
    "                \n",
    "                for x in range(0,60):\n",
    "                    wind=np.array([X_acc[25*x:25*x+25],Y_acc[25*x:25*x+25],Z_acc[25*x:25*x+25],\n",
    "                                X_gyro[25*x:25*x+25],Y_gyro[25*x:25*x+25],Z_gyro[25*x:25*x+25]])  \n",
    "                    feature=feature_extraction(wind)\n",
    "                    feature=feature.reshape(6,5)\n",
    "                    ndata.append(feature)\n",
    "                \n",
    "        ndata=np.array(ndata)  #600, 6, 5 # format to be predicted\n",
    "        flatten_data=ndata.flatten() #18000, format to be saved\n",
    "        print(len(flatten_data))\n",
    "        row_data=flatten_data\n",
    "        writer.writerows([context,row_data])\n",
    "\n"
   ]
  },
  {
   "cell_type": "code",
   "execution_count": null,
   "metadata": {},
   "outputs": [],
   "source": []
  },
  {
   "cell_type": "code",
   "execution_count": null,
   "metadata": {},
   "outputs": [],
   "source": []
  },
  {
   "cell_type": "code",
   "execution_count": null,
   "metadata": {},
   "outputs": [],
   "source": []
  }
 ],
 "metadata": {
  "kernelspec": {
   "display_name": "Python 3",
   "language": "python",
   "name": "python3"
  },
  "language_info": {
   "codemirror_mode": {
    "name": "ipython",
    "version": 3
   },
   "file_extension": ".py",
   "mimetype": "text/x-python",
   "name": "python",
   "nbconvert_exporter": "python",
   "pygments_lexer": "ipython3",
   "version": "3.7.3"
  }
 },
 "nbformat": 4,
 "nbformat_minor": 2
}
