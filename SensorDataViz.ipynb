{
 "cells": [
  {
   "cell_type": "code",
   "execution_count": 7,
   "metadata": {
    "scrolled": true
   },
   "outputs": [
    {
     "ename": "ValueError",
     "evalue": "invalid literal for int() with base 10: 'data'",
     "output_type": "error",
     "traceback": [
      "\u001b[0;31m---------------------------------------------------------------------------\u001b[0m",
      "\u001b[0;31mValueError\u001b[0m                                Traceback (most recent call last)",
      "\u001b[0;32m<ipython-input-7-05668273afcb>\u001b[0m in \u001b[0;36m<module>\u001b[0;34m\u001b[0m\n\u001b[1;32m     25\u001b[0m         \u001b[0;31m# print(len(line))\u001b[0m\u001b[0;34m\u001b[0m\u001b[0;34m\u001b[0m\u001b[0;34m\u001b[0m\u001b[0m\n\u001b[1;32m     26\u001b[0m         \u001b[0mm\u001b[0m\u001b[0;34m,\u001b[0m \u001b[0md\u001b[0m\u001b[0;34m,\u001b[0m \u001b[0mH\u001b[0m\u001b[0;34m,\u001b[0m \u001b[0mM\u001b[0m\u001b[0;34m,\u001b[0m \u001b[0mlabel\u001b[0m\u001b[0;34m,\u001b[0m \u001b[0;34m=\u001b[0m \u001b[0mline\u001b[0m\u001b[0;34m[\u001b[0m\u001b[0;34m:\u001b[0m\u001b[0;36m6\u001b[0m\u001b[0;34m]\u001b[0m\u001b[0;34m\u001b[0m\u001b[0;34m\u001b[0m\u001b[0m\n\u001b[0;32m---> 27\u001b[0;31m         \u001b[0;32mif\u001b[0m \u001b[0mint\u001b[0m\u001b[0;34m(\u001b[0m\u001b[0mlabel\u001b[0m\u001b[0;34m)\u001b[0m \u001b[0;32mnot\u001b[0m \u001b[0;32min\u001b[0m \u001b[0mrange\u001b[0m\u001b[0;34m(\u001b[0m\u001b[0;36m0\u001b[0m\u001b[0;34m,\u001b[0m\u001b[0;36m6\u001b[0m\u001b[0;34m)\u001b[0m\u001b[0;34m:\u001b[0m\u001b[0;34m\u001b[0m\u001b[0;34m\u001b[0m\u001b[0m\n\u001b[0m\u001b[1;32m     28\u001b[0m             \u001b[0;32mcontinue\u001b[0m\u001b[0;34m\u001b[0m\u001b[0;34m\u001b[0m\u001b[0m\n\u001b[1;32m     29\u001b[0m \u001b[0;34m\u001b[0m\u001b[0m\n",
      "\u001b[0;31mValueError\u001b[0m: invalid literal for int() with base 10: 'data'"
     ]
    }
   ],
   "source": [
    "%matplotlib inline\n",
    "import csv\n",
    "import math\n",
    "import numpy as np\n",
    "import matplotlib.pyplot as plt\n",
    "with open(\"../drunkare-node/data.csv\", 'r') as csv_file:\n",
    "    csv_reader = csv.reader(csv_file)\n",
    "    \n",
    "    for line in csv_reader:\n",
    "        T = [] \n",
    "        L = []\n",
    "\n",
    "        # accelerometer\n",
    "        X = []\n",
    "        Y = []\n",
    "        Z = []\n",
    "        Accel = []\n",
    "\n",
    "        # gyrometer\n",
    "        X2 = []\n",
    "        Y2 = []\n",
    "        Z2 = []\n",
    "        Gyro = []\n",
    "        \n",
    "        # print(len(line))\n",
    "        m, d, H, M, S, label, = line[:6]\n",
    "        if int(label) not in range(0,6):\n",
    "            continue\n",
    "        \n",
    "        # accelerometer\n",
    "        x = line[6:6+150]\n",
    "        x = [float(d) for d in x]\n",
    "        y = line[6+150:6+300]\n",
    "        y = [float(d) for d in y]\n",
    "        z = line[6+300:6+450]\n",
    "        z = [float(d) for d in z]\n",
    "        accel = [float(math.sqrt(x[i]**2+y[i]**2+z[i]**2)) for i in range(150)]\n",
    "        \n",
    "        # gyrometer\n",
    "        x2 = line[6+450:6+600]\n",
    "        x2 = [float(d) for d in x2]\n",
    "        y2 = line[6+600:6+750]\n",
    "        y2 = [float(d) for d in y2]\n",
    "        z2 = line[6+750:6+900]\n",
    "        z2 = [float(d) for d in z2]\n",
    "        gyro = [float(math.sqrt(x2[i]**2+y2[i]**2+z2[i]**2)) for i in range(150)]\n",
    "        \n",
    "        start_time = float(S) # TO_FIX\n",
    "        for i in range(150):\n",
    "            T.append(start_time+0.040*i)\n",
    "        \n",
    "        L.append(int(label))\n",
    "        X += x\n",
    "        Y += y\n",
    "        Z += z\n",
    "        Accel += accel\n",
    "        \n",
    "        X2 += x2\n",
    "        Y2 += y2\n",
    "        Z2 += z2\n",
    "        Gyro += gyro\n",
    "\n",
    "        print(\"label: {}\".format(L[0]))\n",
    "        print(\"Accel\")\n",
    "        fig = plt.figure()\n",
    "        min_ytick = min(min(X), min(Y), min(Z), min(Accel))\n",
    "        max_ytick = max(max(X), max(Y), max(Z), max(Accel))\n",
    "        plt.yticks(np.arange(min_ytick, max_ytick, (max_ytick-min_ytick) / 10))\n",
    "        plot_x, = plt.plot(T , X, 'r', label = 'x')\n",
    "        plot_y, = plt.plot(T , Y, 'g', label = 'y')\n",
    "        plot_z, = plt.plot(T , Z, 'b', label = 'z')\n",
    "        plot_accel = plt.plot(T, Accel, 'black', label = 'accel')\n",
    "        plt.legend(handles=[plot_x, plot_y, plot_z])\n",
    "        plt.show()\n",
    "\n",
    "        print(\"Gyro\")\n",
    "        fig = plt.figure()\n",
    "        min_ytick = min(min(X2), min(Y2), min(Z2), min(Gyro))\n",
    "        max_ytick = max(max(X2), max(Y2), max(Z2), max(Gyro))\n",
    "        plt.yticks(np.arange(min_ytick, max_ytick, (max_ytick-min_ytick) / 10))\n",
    "        plot_x, = plt.plot(T , X2, 'r', label = 'x')\n",
    "        plot_y, = plt.plot(T , Y2, 'g', label = 'y')\n",
    "        plot_z, = plt.plot(T , Z2, 'b', label = 'z')\n",
    "        plot_gyro = plt.plot(T, Gyro, 'black', label = 'gyro')\n",
    "        plt.legend(handles=[plot_x, plot_y, plot_z])\n",
    "        plt.show()"
   ]
  },
  {
   "cell_type": "code",
   "execution_count": 10,
   "metadata": {},
   "outputs": [],
   "source": []
  },
  {
   "cell_type": "code",
   "execution_count": null,
   "metadata": {},
   "outputs": [],
   "source": []
  }
 ],
 "metadata": {
  "kernelspec": {
   "display_name": "Python 3",
   "language": "python",
   "name": "python3"
  },
  "language_info": {
   "codemirror_mode": {
    "name": "ipython",
    "version": 3
   },
   "file_extension": ".py",
   "mimetype": "text/x-python",
   "name": "python",
   "nbconvert_exporter": "python",
   "pygments_lexer": "ipython3",
   "version": "3.6.7"
  }
 },
 "nbformat": 4,
 "nbformat_minor": 2
}
