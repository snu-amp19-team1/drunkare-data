{
 "cells": [
  {
   "cell_type": "code",
   "execution_count": 19,
   "metadata": {},
   "outputs": [],
   "source": [
    "import csv\n",
    "import matplotlib.pyplot as plt\n",
    "import numpy as np\n",
    "import pandas as pd\n",
    "import tensorflow as tf\n",
    "import sklearn\n",
    "from sklearn import svm\n",
    "from datetime import datetime\n",
    "\n",
    "path=\"data/keyboard.csv\"\n",
    "file=open(path, newline='')\n",
    "reader=csv.reader(file)\n"
   ]
  },
  {
   "cell_type": "code",
   "execution_count": 58,
   "metadata": {},
   "outputs": [
    {
     "name": "stdout",
     "output_type": "stream",
     "text": [
      "Index(['Date', ' Time', ' Activity', ' Sensor', ' x', ' y', ' z'], dtype='object')\n"
     ]
    },
    {
     "data": {
      "text/html": [
       "<div>\n",
       "<style scoped>\n",
       "    .dataframe tbody tr th:only-of-type {\n",
       "        vertical-align: middle;\n",
       "    }\n",
       "\n",
       "    .dataframe tbody tr th {\n",
       "        vertical-align: top;\n",
       "    }\n",
       "\n",
       "    .dataframe thead th {\n",
       "        text-align: right;\n",
       "    }\n",
       "</style>\n",
       "<table border=\"1\" class=\"dataframe\">\n",
       "  <thead>\n",
       "    <tr style=\"text-align: right;\">\n",
       "      <th></th>\n",
       "      <th>Activity</th>\n",
       "      <th>x</th>\n",
       "      <th>y</th>\n",
       "      <th>z</th>\n",
       "    </tr>\n",
       "  </thead>\n",
       "  <tbody>\n",
       "    <tr>\n",
       "      <th>0</th>\n",
       "      <td>15</td>\n",
       "      <td>-0.961915</td>\n",
       "      <td>6.374479</td>\n",
       "      <td>6.807580</td>\n",
       "    </tr>\n",
       "    <tr>\n",
       "      <th>1</th>\n",
       "      <td>15</td>\n",
       "      <td>0.095713</td>\n",
       "      <td>6.597012</td>\n",
       "      <td>7.661818</td>\n",
       "    </tr>\n",
       "    <tr>\n",
       "      <th>2</th>\n",
       "      <td>15</td>\n",
       "      <td>-0.643669</td>\n",
       "      <td>6.738188</td>\n",
       "      <td>7.479963</td>\n",
       "    </tr>\n",
       "    <tr>\n",
       "      <th>3</th>\n",
       "      <td>15</td>\n",
       "      <td>-0.995414</td>\n",
       "      <td>6.453443</td>\n",
       "      <td>7.140182</td>\n",
       "    </tr>\n",
       "    <tr>\n",
       "      <th>4</th>\n",
       "      <td>15</td>\n",
       "      <td>-1.325624</td>\n",
       "      <td>6.434300</td>\n",
       "      <td>7.233503</td>\n",
       "    </tr>\n",
       "  </tbody>\n",
       "</table>\n",
       "</div>"
      ],
      "text/plain": [
       "    Activity         x         y         z\n",
       "0         15 -0.961915  6.374479  6.807580\n",
       "1         15  0.095713  6.597012  7.661818\n",
       "2         15 -0.643669  6.738188  7.479963\n",
       "3         15 -0.995414  6.453443  7.140182\n",
       "4         15 -1.325624  6.434300  7.233503"
      ]
     },
     "execution_count": 58,
     "metadata": {},
     "output_type": "execute_result"
    }
   ],
   "source": [
    "read=pd.read_csv(path)\n",
    "#print(read.head())\n",
    "print(read.columns)\n",
    "\n",
    "df=read.loc[:,[' Activity',' x', ' y', ' z']]\n",
    "df.head()\n",
    "for row in df\n",
    "    msec= []\n",
    "    \n",
    "    #for acc\n",
    "    X_acc=[]\n",
    "    Y_acc=[]\n",
    "    Z_acc=[]\n",
    "    #for gyro\n",
    "    X_gyro=[]\n",
    "    Y_gyro=[]\n",
    "    Z_gyro=[]\n",
    "\n"
   ]
  },
  {
   "cell_type": "code",
   "execution_count": null,
   "metadata": {},
   "outputs": [],
   "source": []
  }
 ],
 "metadata": {
  "kernelspec": {
   "display_name": "Python 3",
   "language": "python",
   "name": "python3"
  },
  "language_info": {
   "codemirror_mode": {
    "name": "ipython",
    "version": 3
   },
   "file_extension": ".py",
   "mimetype": "text/x-python",
   "name": "python",
   "nbconvert_exporter": "python",
   "pygments_lexer": "ipython3",
   "version": "3.6.7"
  }
 },
 "nbformat": 4,
 "nbformat_minor": 2
}
