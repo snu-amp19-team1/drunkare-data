{
 "cells": [
  {
   "cell_type": "code",
   "execution_count": 68,
   "metadata": {},
   "outputs": [],
   "source": [
    "###10분짜리 6초윈도우 슬라이드하면서\n",
    "\n",
    "import csv\n",
    "import matplotlib.pyplot as plt\n",
    "import numpy as np\n",
    "import pandas as pd\n",
    "import tensorflow as tf\n",
    "import sklearn\n",
    "from sklearn import svm\n",
    "from datetime import datetime\n",
    "import glob\n",
    "\n",
    "filename_queue=glob.glob('./rawdata/compdata[1-3].csv')\n",
    "def sliding_window(data,stepSize,windowSize):\n",
    "    for x in range(0,stepSize):\n",
    "        yield(x,data[x:x+windowSize[0]])\n",
    "#feature extration from data\n",
    "def feature_extraction(window):\n",
    "    mean=window.mean(axis=-1)\n",
    "    stddev=window.std(axis=-1)\n",
    "    median=np.median(window,axis=-1)\n",
    "    percent25=np.percentile(window,25,axis=-1)\n",
    "    percent75=np.percentile(window,75,axis=-1)\n",
    "    return(np.array([mean,stddev,median,percent25,percent75]))"
   ]
  },
  {
   "cell_type": "code",
   "execution_count": 69,
   "metadata": {},
   "outputs": [
    {
     "name": "stdout",
     "output_type": "stream",
     "text": [
      "./rawdata/compdata2.csv (21, 4503)\n",
      "./rawdata/compdata1.csv (20, 4503)\n",
      "./rawdata/compdata3.csv (43, 4503)\n"
     ]
    }
   ],
   "source": [
    "#showing shape of the data\n",
    "for file in filename_queue:\n",
    "    df=pd.read_csv(file)\n",
    "    print(file,df.shape)\n",
    "\n"
   ]
  },
  {
   "cell_type": "code",
   "execution_count": 150,
   "metadata": {
    "scrolled": true
   },
   "outputs": [
    {
     "name": "stdout",
     "output_type": "stream",
     "text": [
      "(600, 5, 6)\n",
      "(600, 5, 6)\n",
      "(600, 5, 6)\n"
     ]
    }
   ],
   "source": [
    "#showing shape of the data\n",
    "for filename in filename_queue:\n",
    "    file=open(filename, newline='')\n",
    "    reader=csv.reader(file)\n",
    "    index=0\n",
    "    #print(df.head())\n",
    "    i=0\n",
    "    return_path=\"./featuredata/compfeature.csv\"\n",
    "    file=open(return_path,'w')\n",
    "    writer=csv.writer(file)\n",
    "        \n",
    "    data=[]\n",
    "    X_acc=[]\n",
    "    Y_acc=[]\n",
    "    Z_acc=[]\n",
    "    X_gyro=[]\n",
    "    Y_gyro=[]\n",
    "    Z_gyro=[]\n",
    "    \n",
    "    ##writer.writerows([X_acc,Y_acc,Z_acc,X_gyro,Y_gyro,Z_gyro])\n",
    "\n",
    "\n",
    "    for row in reader:\n",
    "        row[3:]=[float(i) for i in row[3:]]\n",
    "        i+=1\n",
    "        if(i>20):\n",
    "            break\n",
    "        if(int(row[2])==0):\n",
    "            time=int(row[0]) #minutewise\n",
    "            context=int(row[1]) #drink 0, eat 1, cafe 2, desk 3\n",
    "            sensor=int(row[2]) #acc:0 gyro:2\n",
    "            X_acc=row[3:1503] #1500 =60sec/40ms\n",
    "            Y_acc=row[1503:3003]\n",
    "            Z_acc=row[3003:4503]\n",
    "        if(int(row[2])==1):\n",
    "            X_gyro=row[3:1503]\n",
    "            Y_gyro=row[1503:3003]\n",
    "            Z_gyro=row[3003:4503]\n",
    "            list=[X_acc,Y_acc,Z_acc,X_gyro,Y_gyro,Z_gyro]\n",
    "            for x in range(0,60):\n",
    "                wind=np.array([X_acc[25*x:25*x+25],Y_acc[25*x:25*x+25],Z_acc[25*x:25*x+25],\n",
    "                            X_gyro[25*x:25*x+25],Y_gyro[25*x:25*x+25],Z_gyro[25*x:25*x+25]])  \n",
    "                feature=feature_extraction(wind)\n",
    "                data.append(feature)\n",
    "    print(np.shape(data))"
   ]
  },
  {
   "cell_type": "code",
   "execution_count": null,
   "metadata": {},
   "outputs": [],
   "source": [
    "def show_window():\n",
    "    for(x,window) in sliding_window(data,1,150)"
   ]
  },
  {
   "cell_type": "code",
   "execution_count": null,
   "metadata": {},
   "outputs": [],
   "source": []
  },
  {
   "cell_type": "code",
   "execution_count": 147,
   "metadata": {},
   "outputs": [
    {
     "name": "stdout",
     "output_type": "stream",
     "text": [
      "505\n"
     ]
    }
   ],
   "source": [
    "filename='./featuredata/compfeature.csv'\n",
    "file=open(filename, newline='')\n",
    "reader=csv.reader(file)\n"
   ]
  }
 ],
 "metadata": {
  "kernelspec": {
   "display_name": "Python 3",
   "language": "python",
   "name": "python3"
  },
  "language_info": {
   "codemirror_mode": {
    "name": "ipython",
    "version": 3
   },
   "file_extension": ".py",
   "mimetype": "text/x-python",
   "name": "python",
   "nbconvert_exporter": "python",
   "pygments_lexer": "ipython3",
   "version": "3.7.3"
  }
 },
 "nbformat": 4,
 "nbformat_minor": 2
}
