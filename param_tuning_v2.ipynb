{
 "cells": [
  {
   "cell_type": "code",
   "execution_count": 1,
   "metadata": {},
   "outputs": [],
   "source": [
    "##complex data와 똑같이 40ms로 parsing했음 데이터 4배라고 생각하고 뻥튀기시켜봄 정확도는 10ms와 비슷하게 나옴\n",
    "\n",
    "import csv\n",
    "import matplotlib.pyplot as plt\n",
    "import numpy as np\n",
    "import pandas as pd\n",
    "import tensorflow as tf\n",
    "import sklearn\n",
    "from sklearn import svm\n",
    "from datetime import datetime\n",
    "import glob\n",
    "import pickle\n",
    "import re\n",
    "from sklearn import preprocessing\n",
    "from mpl_toolkits.mplot3d import Axes3D\n",
    "from sklearn.metrics import confusion_matrix\n",
    "from sklearn.metrics import accuracy_score\n",
    "from sklearn.metrics import f1_score\n",
    "\n",
    "from sklearn.preprocessing import OneHotEncoder\n",
    "from sklearn.model_selection import cross_val_score \n",
    "from sklearn.model_selection import GridSearchCV\n",
    "from scipy import signal\n",
    "\n",
    "#filename queue\n",
    "filename_queue=glob.glob('./label/label[0-9]*.csv')\n",
    "#filename_queue=glob.glob('./label/label[6].csv')\n"
   ]
  },
  {
   "cell_type": "code",
   "execution_count": 2,
   "metadata": {},
   "outputs": [
    {
     "name": "stdout",
     "output_type": "stream",
     "text": [
      "label :  12\n",
      "(248, 450)\n",
      "label :  8\n",
      "(68, 450)\n",
      "label :  7\n",
      "(68, 450)\n",
      "label :  5\n",
      "(136, 450)\n",
      "label :  13\n",
      "(36, 450)\n",
      "label :  9\n",
      "(72, 450)\n",
      "label :  10\n",
      "(136, 450)\n",
      "label :  0\n",
      "(124, 450)\n",
      "label :  1\n",
      "(130, 450)\n",
      "label :  6\n",
      "(228, 450)\n"
     ]
    }
   ],
   "source": [
    "\"\"\"training_set2=list()\n",
    "training_label2=list()\n",
    "test_set2=list()\n",
    "test_label2=list()\n",
    "traininglabel_count2=np.zeros(16)\n",
    "testlabel_count2=np.zeros(16)\n",
    "\"\"\"\n",
    "training_set=list()\n",
    "\n",
    "test_set=list()\n",
    "training_label=list()\n",
    "test_label=list()\n",
    "index=[2,3,4,11,14,15]\n",
    "label_count=np.zeros(16)\n",
    "traininglabel_count=np.zeros(16)\n",
    "testlabel_count=np.zeros(16)\n",
    "ldata=list()\n",
    "\n",
    "for filename in filename_queue:\n",
    "    with open(filename,newline='') as data:\n",
    "        \n",
    "        data_set=list()\n",
    "        data_set2=list()\n",
    "        data_label=list()\n",
    "        reader=csv.reader(data)\n",
    "        label=re.findall('\\d+',filename)\n",
    "        label=int(label[0])\n",
    "        label_count[label]+=1\n",
    "        if label in index:\n",
    "            continue\n",
    "        if label not in index:\n",
    "            print('label : ', label)\n",
    "            for row in reader:\n",
    "                row[0:]=[float(i) for i in row[0:]]\n",
    "                X_acc=list(row[i] for i in range(150))\n",
    "                Y_acc=list(row[i+150] for i in range(150))\n",
    "                Z_acc=list(row[i+300] for i in range(150))\n",
    "                X_gyro=list(row[i+450] for i in range(150))\n",
    "                Y_gyro=list(row[i+600] for i in range(150))\n",
    "                Z_gyro=list(row[i+750] for i in range(150))\n",
    "\n",
    "                window=np.array([X_acc[0:25],Y_acc[0:25],Z_acc[0:25],X_gyro[0:25],Y_gyro[0:25],Z_gyro[0:25],\n",
    "                                  X_acc[25:50],Y_acc[25:50],Z_acc[25:50],X_gyro[25:50],Y_gyro[25:50],Z_gyro[25:50],\n",
    "                                  X_acc[50:75],Y_acc[50:75],Z_acc[50:75],X_gyro[50:75],Y_gyro[50:75],Z_gyro[50:75],\n",
    "                                  X_acc[75:100],Y_acc[75:100],Z_acc[75:100],X_gyro[75:100],Y_gyro[75:100],Z_gyro[75:100],\n",
    "                                  X_acc[100:125],Y_acc[100:125],Z_acc[100:125],X_gyro[100:125],Y_gyro[100:125],Z_gyro[100:125],\n",
    "                                  X_acc[125:150],Y_acc[125:150],Z_acc[125:150],X_gyro[125:150],Y_gyro[125:150],Z_gyro[125:150]])\n",
    "\n",
    "                \n",
    "                window2=np.array([[X_acc[0:25],X_acc[25:50],X_acc[50:75],X_acc[75:100],X_acc[100:125],X_acc[125:150]],\n",
    "                    [Y_acc[0:25],Y_acc[25:50],Y_acc[50:75],Y_acc[75:100],Y_acc[100:125],Y_acc[125:150]],\n",
    "                    [Z_acc[0:25],Z_acc[25:50],Z_acc[50:75],Z_acc[75:100],Z_acc[100:125],Z_acc[125:150]]])\n",
    "               \n",
    "            \n",
    "            \n",
    "                \"\"\"\n",
    "                window4=np.array([[X_gyro[0:25],X_gyro[25:50],X_gyro[50:75],X_gyro[75:100],X_gyro[100:125],X_gyro[125:150]],\n",
    "                    [Y_gyro[0:25],Y_gyro[25:50],Y_gyro[50:75],Y_gyro[75:100],Y_gyro[100:125],Y_gyro[125:150]],\n",
    "                    [Z_gyro[0:25],Z_gyro[25:50],Z_gyro[50:75],Z_gyro[75:100],Z_gyro[100:125],Z_gyro[125:150]]])\n",
    "                \"\"\"\n",
    "                \n",
    "                \n",
    "                \n",
    "                window_mean=window.mean(axis=-1)\n",
    "                window_stddev=window.std(axis=-1)\n",
    "                window_median=np.median(window,axis=-1)\n",
    "                window_percent25=np.percentile(window,25,axis=-1)\n",
    "                window_percent75=np.percentile(window,75,axis=-1)\n",
    "                window_feature=np.array([[window_mean],[window_stddev],[window_median],[window_percent25],[window_percent75]])\n",
    "                window_feature=window_feature.reshape(180)\n",
    "                \n",
    "                #Drop outliers1 \n",
    "                xm=window_stddev[[0,6,12,18,24,30]].mean(axis=0)\n",
    "                ym=window_stddev[[1,7,13,19,25,31]].mean(axis=0)\n",
    "                zm=window_stddev[[2,8,14,20,26,32]].mean(axis=0)\n",
    "                action=np.mean([xm,ym,zm])\n",
    "                if(action<0.65):\n",
    "                    label_count[label]-=1\n",
    "                    continue\n",
    "                \n",
    "                window2=window2.reshape(-1)\n",
    "                #window_RMS=np.roots(np.square(window2[0:6]).mean(axis=-1))\n",
    "                #if (label_count[label]>=0):\n",
    "                data_set.append(window_feature)\n",
    "                data_set2.append(window2)\n",
    "                data_label.append(label)\n",
    "            \n",
    "                #else:\n",
    "                #    test_set.append(window_feature)\n",
    "                #    test_label.append(label)\n",
    "                #    testlabel_count[label]+=1\n",
    "                \n",
    "            from sklearn.manifold import TSNE\n",
    "            from sklearn.decomposition import PCA\n",
    "            from sklearn.decomposition import MiniBatchDictionaryLearning\n",
    "            from sklearn.decomposition import IncrementalPCA\n",
    "            from sklearn.decomposition import TruncatedSVD\n",
    "\n",
    "\n",
    "            print(np.shape(data_set2))\n",
    "\n",
    "            data_set2=np.array(data_set2)\n",
    "            X_embedded2 = MiniBatchDictionaryLearning(n_components=3,n_iter=1000).fit_transform(data_set2)\n",
    "            #fig = plt.figure()\n",
    "            #ax2 = fig.add_subplot(111, projection='3d')\n",
    "            #for x in X_embedded2:\n",
    "            #    ax2.scatter(x[0],x[1],x[2]) \n",
    "            if(int(label)==12):\n",
    "                from scipy import stats\n",
    "                z = np.abs(stats.zscore(X_embedded2))\n",
    "                #X_embedded2 = X_embedded2[(abs(z) <1.8).all(axis=1)]\n",
    "                data_set_arr=np.array(data_set)\n",
    "                data_label_arr=np.array(data_label)\n",
    "                data_set_arr=data_set_arr[(abs(z) <1.8).all(axis=1)]\n",
    "                data_label_arr=data_label_arr[(abs(z) <1.8).all(axis=1)]\n",
    "            else:\n",
    "                if(int(label)==10):\n",
    "                    z = np.abs(stats.zscore(X_embedded2))\n",
    "                    #X_embedded2 = X_embedded2[(abs(z) <1.8).all(axis=1)]\n",
    "                    data_set_arr=np.array(data_set)\n",
    "                    data_label_arr=np.array(data_label)\n",
    "                    data_set_arr=data_set_arr[(abs(z) <2).all(axis=1)]\n",
    "                    data_label_arr=data_label_arr[(abs(z) <2).all(axis=1)]\n",
    "                \n",
    "                else:\n",
    "                    z = np.abs(stats.zscore(X_embedded2))\n",
    "                    #X_embedded2 = X_embedded2[(abs(z) <1.8).all(axis=1)]\n",
    "                    data_set_arr=np.array(data_set)\n",
    "                    data_label_arr=np.array(data_label)\n",
    "                    data_set_arr=data_set_arr[(abs(z) <2).all(axis=1)]\n",
    "                    data_label_arr=data_label_arr[(abs(z) <2).all(axis=1)]\n",
    "\n",
    "            #print(np.shape(data_set_arr))\n",
    "            #print(np.shape(data_label_arr))\n",
    "\n",
    "            for x in data_set_arr:\n",
    "                training_set.append(x)\n",
    "            for y in data_label_arr:\n",
    "                training_label.append(y)\n",
    "                \n",
    "                \n",
    "\n",
    "            #fig2 = plt.figure()\n",
    "            #ax2 = fig2.add_subplot(111, projection='3d')\n",
    "            #for x in X_embedded2:\n",
    "            #    ax2.scatter(x[0],x[1],x[2]) \n"
   ]
  },
  {
   "cell_type": "code",
   "execution_count": 3,
   "metadata": {},
   "outputs": [
    {
     "name": "stdout",
     "output_type": "stream",
     "text": [
      "(1125, 180)\n"
     ]
    }
   ],
   "source": [
    "X=training_set\n",
    "y=training_label\n",
    "\n",
    "print(np.shape(X))"
   ]
  },
  {
   "cell_type": "code",
   "execution_count": 4,
   "metadata": {},
   "outputs": [],
   "source": [
    "from sklearn.ensemble import RandomForestClassifier\n",
    "from sklearn.model_selection import GridSearchCV\n",
    "\n",
    "#X=preprocessing.minmax_scale(training_set)\n",
    "#X=preprocessing.robust_scale(training_set)\n",
    "#X=preprocessing.quantile_transform(training_set)\n",
    "\n",
    "X=training_set\n",
    "y=training_label\n",
    "RF=RandomForestClassifier()\n",
    "param_grid={\n",
    " 'n_estimators':[50,80,100,120],\n",
    "    'max_features':['auto','log2','sqrt'],\n",
    "    'max_depth':[None]\n",
    "    #'criterion':['gini','entropy']\n",
    "}\n",
    "grid=GridSearchCV(estimator=RF,param_grid=param_grid,cv=10,scoring='accuracy')"
   ]
  },
  {
   "cell_type": "code",
   "execution_count": 5,
   "metadata": {},
   "outputs": [
    {
     "name": "stderr",
     "output_type": "stream",
     "text": [
      "/home/parkj0/anaconda3/envs/venv/lib/python3.7/site-packages/sklearn/model_selection/_search.py:813: DeprecationWarning: The default of the `iid` parameter will change from True to False in version 0.22 and will be removed in 0.24. This will change numeric results when test-set sizes are unequal.\n",
      "  DeprecationWarning)\n"
     ]
    },
    {
     "data": {
      "text/plain": [
       "GridSearchCV(cv=10, error_score='raise-deprecating',\n",
       "             estimator=RandomForestClassifier(bootstrap=True, class_weight=None,\n",
       "                                              criterion='gini', max_depth=None,\n",
       "                                              max_features='auto',\n",
       "                                              max_leaf_nodes=None,\n",
       "                                              min_impurity_decrease=0.0,\n",
       "                                              min_impurity_split=None,\n",
       "                                              min_samples_leaf=1,\n",
       "                                              min_samples_split=2,\n",
       "                                              min_weight_fraction_leaf=0.0,\n",
       "                                              n_estimators='warn', n_jobs=None,\n",
       "                                              oob_score=False,\n",
       "                                              random_state=None, verbose=0,\n",
       "                                              warm_start=False),\n",
       "             iid='warn', n_jobs=None,\n",
       "             param_grid={'max_depth': [None],\n",
       "                         'max_features': ['auto', 'log2', 'sqrt'],\n",
       "                         'n_estimators': [50, 80, 100, 120]},\n",
       "             pre_dispatch='2*n_jobs', refit=True, return_train_score=False,\n",
       "             scoring='accuracy', verbose=0)"
      ]
     },
     "execution_count": 5,
     "metadata": {},
     "output_type": "execute_result"
    }
   ],
   "source": [
    "grid.fit(X,y)"
   ]
  },
  {
   "cell_type": "code",
   "execution_count": 6,
   "metadata": {},
   "outputs": [
    {
     "data": {
      "text/plain": [
       "{'mean_fit_time': array([0.26270843, 0.41737652, 0.52841439, 0.63300488, 0.15998025,\n",
       "        0.25516059, 0.31985765, 0.38362134, 0.26355693, 0.42053401,\n",
       "        0.52571151, 0.63140855]),\n",
       " 'std_fit_time': array([0.00352904, 0.00419339, 0.00602504, 0.00452469, 0.00080619,\n",
       "        0.00305732, 0.00315388, 0.00189487, 0.00311346, 0.00422961,\n",
       "        0.0045261 , 0.00485274]),\n",
       " 'mean_score_time': array([0.00346119, 0.00504642, 0.00618095, 0.00725365, 0.00341451,\n",
       "        0.00507286, 0.00615675, 0.00730021, 0.00337265, 0.00503538,\n",
       "        0.00615475, 0.007271  ]),\n",
       " 'std_score_time': array([2.69376027e-04, 2.95045857e-05, 4.55514029e-05, 6.52252405e-05,\n",
       "        3.35547787e-05, 4.94708440e-05, 4.48964468e-05, 5.14614284e-05,\n",
       "        3.05461470e-05, 5.11459201e-05, 4.05006364e-05, 4.59358794e-05]),\n",
       " 'param_max_depth': masked_array(data=[None, None, None, None, None, None, None, None, None,\n",
       "                    None, None, None],\n",
       "              mask=[False, False, False, False, False, False, False, False,\n",
       "                    False, False, False, False],\n",
       "        fill_value='?',\n",
       "             dtype=object),\n",
       " 'param_max_features': masked_array(data=['auto', 'auto', 'auto', 'auto', 'log2', 'log2', 'log2',\n",
       "                    'log2', 'sqrt', 'sqrt', 'sqrt', 'sqrt'],\n",
       "              mask=[False, False, False, False, False, False, False, False,\n",
       "                    False, False, False, False],\n",
       "        fill_value='?',\n",
       "             dtype=object),\n",
       " 'param_n_estimators': masked_array(data=[50, 80, 100, 120, 50, 80, 100, 120, 50, 80, 100, 120],\n",
       "              mask=[False, False, False, False, False, False, False, False,\n",
       "                    False, False, False, False],\n",
       "        fill_value='?',\n",
       "             dtype=object),\n",
       " 'params': [{'max_depth': None, 'max_features': 'auto', 'n_estimators': 50},\n",
       "  {'max_depth': None, 'max_features': 'auto', 'n_estimators': 80},\n",
       "  {'max_depth': None, 'max_features': 'auto', 'n_estimators': 100},\n",
       "  {'max_depth': None, 'max_features': 'auto', 'n_estimators': 120},\n",
       "  {'max_depth': None, 'max_features': 'log2', 'n_estimators': 50},\n",
       "  {'max_depth': None, 'max_features': 'log2', 'n_estimators': 80},\n",
       "  {'max_depth': None, 'max_features': 'log2', 'n_estimators': 100},\n",
       "  {'max_depth': None, 'max_features': 'log2', 'n_estimators': 120},\n",
       "  {'max_depth': None, 'max_features': 'sqrt', 'n_estimators': 50},\n",
       "  {'max_depth': None, 'max_features': 'sqrt', 'n_estimators': 80},\n",
       "  {'max_depth': None, 'max_features': 'sqrt', 'n_estimators': 100},\n",
       "  {'max_depth': None, 'max_features': 'sqrt', 'n_estimators': 120}],\n",
       " 'split0_test_score': array([0.79310345, 0.80172414, 0.80172414, 0.85344828, 0.89655172,\n",
       "        0.81034483, 0.86206897, 0.87931034, 0.80172414, 0.85344828,\n",
       "        0.81896552, 0.85344828]),\n",
       " 'split1_test_score': array([0.96551724, 0.95689655, 0.98275862, 0.96551724, 1.        ,\n",
       "        0.98275862, 0.97413793, 0.98275862, 0.98275862, 0.95689655,\n",
       "        0.97413793, 0.99137931]),\n",
       " 'split2_test_score': array([0.9826087 , 0.9826087 , 0.9826087 , 0.96521739, 0.96521739,\n",
       "        1.        , 0.96521739, 1.        , 0.9826087 , 0.97391304,\n",
       "        0.97391304, 0.93913043]),\n",
       " 'split3_test_score': array([0.92982456, 0.85087719, 0.89473684, 0.92982456, 0.92105263,\n",
       "        0.92982456, 0.93859649, 0.92105263, 0.87719298, 0.92105263,\n",
       "        0.93859649, 0.88596491]),\n",
       " 'split4_test_score': array([0.90265487, 0.88495575, 0.90265487, 0.92920354, 0.89380531,\n",
       "        0.89380531, 0.9380531 , 0.9380531 , 0.89380531, 0.92920354,\n",
       "        0.89380531, 0.96460177]),\n",
       " 'split5_test_score': array([0.87610619, 0.83185841, 0.84070796, 0.87610619, 0.87610619,\n",
       "        0.85840708, 0.88495575, 0.90265487, 0.84955752, 0.85840708,\n",
       "        0.86725664, 0.87610619]),\n",
       " 'split6_test_score': array([0.72972973, 0.74774775, 0.78378378, 0.76576577, 0.71171171,\n",
       "        0.74774775, 0.83783784, 0.73873874, 0.77477477, 0.77477477,\n",
       "        0.8018018 , 0.82882883]),\n",
       " 'split7_test_score': array([0.87387387, 0.85585586, 0.85585586, 0.91891892, 0.89189189,\n",
       "        0.85585586, 0.90990991, 0.88288288, 0.86486486, 0.84684685,\n",
       "        0.88288288, 0.90990991]),\n",
       " 'split8_test_score': array([0.88888889, 0.84259259, 0.9537037 , 0.96296296, 0.90740741,\n",
       "        0.96296296, 0.91666667, 0.94444444, 0.93518519, 0.87037037,\n",
       "        0.91666667, 0.87962963]),\n",
       " 'split9_test_score': array([0.86111111, 0.86111111, 0.85185185, 0.85185185, 0.78703704,\n",
       "        0.87962963, 0.85185185, 0.86111111, 0.88888889, 0.85185185,\n",
       "        0.85185185, 0.88888889]),\n",
       " 'mean_test_score': array([0.88088889, 0.86222222, 0.88533333, 0.90222222, 0.88622222,\n",
       "        0.89244444, 0.90844444, 0.90577778, 0.88533333, 0.88444444,\n",
       "        0.89244444, 0.90222222]),\n",
       " 'std_test_score': array([0.07201602, 0.06538142, 0.06756836, 0.06119922, 0.07821865,\n",
       "        0.07528455, 0.04514283, 0.06971242, 0.06554701, 0.05754024,\n",
       "        0.05689689, 0.04789243]),\n",
       " 'rank_test_score': array([11, 12,  8,  3,  7,  5,  1,  2,  8, 10,  5,  3], dtype=int32)}"
      ]
     },
     "execution_count": 6,
     "metadata": {},
     "output_type": "execute_result"
    }
   ],
   "source": [
    "grid.cv_results_"
   ]
  },
  {
   "cell_type": "code",
   "execution_count": 7,
   "metadata": {},
   "outputs": [
    {
     "data": {
      "text/plain": [
       "{'max_depth': None, 'max_features': 'log2', 'n_estimators': 100}"
      ]
     },
     "execution_count": 7,
     "metadata": {},
     "output_type": "execute_result"
    }
   ],
   "source": [
    "grid.best_params_"
   ]
  },
  {
   "cell_type": "code",
   "execution_count": 13,
   "metadata": {},
   "outputs": [
    {
     "data": {
      "text/plain": [
       "RandomForestClassifier(bootstrap=True, class_weight=None, criterion='gini',\n",
       "                       max_depth=None, max_features='log2', max_leaf_nodes=None,\n",
       "                       min_impurity_decrease=0.0, min_impurity_split=None,\n",
       "                       min_samples_leaf=1, min_samples_split=2,\n",
       "                       min_weight_fraction_leaf=0.0, n_estimators=100,\n",
       "                       n_jobs=None, oob_score=False, random_state=None,\n",
       "                       verbose=0, warm_start=False)"
      ]
     },
     "execution_count": 13,
     "metadata": {},
     "output_type": "execute_result"
    }
   ],
   "source": [
    "RF=RandomForestClassifier(n_estimators=100,max_features='log2',max_depth=None)\n",
    "RF.fit(X,y)"
   ]
  },
  {
   "cell_type": "code",
   "execution_count": null,
   "metadata": {},
   "outputs": [],
   "source": []
  },
  {
   "cell_type": "code",
   "execution_count": 9,
   "metadata": {},
   "outputs": [
    {
     "name": "stderr",
     "output_type": "stream",
     "text": [
      "/home/parkj0/anaconda3/envs/venv/lib/python3.7/site-packages/sklearn/preprocessing/data.py:2553: FutureWarning: The default value of `copy` will change from False to True in 0.23 in order to make it more consistent with the default `copy` values of other functions in :mod:`sklearn.preprocessing.data` and prevent unexpected side effects by modifying the value of `X` inplace. To avoid inplace modifications of `X`, it is recommended to explicitly set `copy=True`\n",
      "  FutureWarning)\n"
     ]
    }
   ],
   "source": [
    "from sklearn.ensemble import ExtraTreesClassifier\n",
    "from sklearn.tree import DecisionTreeClassifier\n",
    "X=preprocessing.quantile_transform(training_set)\n",
    "ETC=ExtraTreesClassifier()"
   ]
  },
  {
   "cell_type": "code",
   "execution_count": 10,
   "metadata": {},
   "outputs": [],
   "source": [
    "param_grid={\n",
    " 'n_estimators':[100,200,300],\n",
    "    'max_features':['auto','sqrt','log2'],\n",
    "    'max_depth':[17,20,25,30]\n",
    "    #'criterion':['gini','entropy']\n",
    "}\n",
    "\n",
    "grid=GridSearchCV(estimator=ETC,param_grid=param_grid,cv=10,scoring='accuracy')"
   ]
  },
  {
   "cell_type": "code",
   "execution_count": 11,
   "metadata": {},
   "outputs": [
    {
     "name": "stderr",
     "output_type": "stream",
     "text": [
      "/home/parkj0/anaconda3/envs/venv/lib/python3.7/site-packages/sklearn/model_selection/_search.py:813: DeprecationWarning: The default of the `iid` parameter will change from True to False in version 0.22 and will be removed in 0.24. This will change numeric results when test-set sizes are unequal.\n",
      "  DeprecationWarning)\n"
     ]
    },
    {
     "data": {
      "text/plain": [
       "GridSearchCV(cv=10, error_score='raise-deprecating',\n",
       "             estimator=ExtraTreesClassifier(bootstrap=False, class_weight=None,\n",
       "                                            criterion='gini', max_depth=None,\n",
       "                                            max_features='auto',\n",
       "                                            max_leaf_nodes=None,\n",
       "                                            min_impurity_decrease=0.0,\n",
       "                                            min_impurity_split=None,\n",
       "                                            min_samples_leaf=1,\n",
       "                                            min_samples_split=2,\n",
       "                                            min_weight_fraction_leaf=0.0,\n",
       "                                            n_estimators='warn', n_jobs=None,\n",
       "                                            oob_score=False, random_state=None,\n",
       "                                            verbose=0, warm_start=False),\n",
       "             iid='warn', n_jobs=None,\n",
       "             param_grid={'max_depth': [17, 20, 25, 30],\n",
       "                         'max_features': ['auto', 'sqrt', 'log2'],\n",
       "                         'n_estimators': [100, 200, 300]},\n",
       "             pre_dispatch='2*n_jobs', refit=True, return_train_score=False,\n",
       "             scoring='accuracy', verbose=0)"
      ]
     },
     "execution_count": 11,
     "metadata": {},
     "output_type": "execute_result"
    }
   ],
   "source": [
    "grid.fit(X,y)\n"
   ]
  },
  {
   "cell_type": "code",
   "execution_count": 12,
   "metadata": {},
   "outputs": [
    {
     "data": {
      "text/plain": [
       "{'mean_fit_time': array([0.14427218, 0.28361042, 0.42616277, 0.14347632, 0.28462408,\n",
       "        0.5011708 , 0.12575331, 0.27143154, 0.4007997 , 0.17258573,\n",
       "        0.29224048, 0.49721975, 0.1631212 , 0.32369673, 0.4892287 ,\n",
       "        0.11576753, 0.23251133, 0.35488968, 0.15278878, 0.33340297,\n",
       "        0.43398263, 0.14520788, 0.29757001, 0.43352721, 0.11040699,\n",
       "        0.21938951, 0.32808878, 0.1446245 , 0.2876334 , 0.43078008,\n",
       "        0.1447274 , 0.28762288, 0.43239715, 0.11041403, 0.2191793 ,\n",
       "        0.32892137]),\n",
       " 'std_fit_time': array([0.00265995, 0.00134402, 0.00221951, 0.00184146, 0.00207904,\n",
       "        0.08640575, 0.04237062, 0.07823742, 0.07000632, 0.05121067,\n",
       "        0.00735766, 0.08406434, 0.04464755, 0.06599995, 0.08606081,\n",
       "        0.00218385, 0.01231016, 0.02243245, 0.00434163, 0.06442183,\n",
       "        0.00330274, 0.00068246, 0.01755017, 0.0033968 , 0.0004506 ,\n",
       "        0.00239864, 0.00109749, 0.00087682, 0.00183463, 0.00257811,\n",
       "        0.00100091, 0.00122708, 0.00354299, 0.00043333, 0.0009341 ,\n",
       "        0.00167106]),\n",
       " 'mean_score_time': array([0.00643563, 0.01217928, 0.01795478, 0.00634952, 0.01212664,\n",
       "        0.02159801, 0.0066402 , 0.01440973, 0.02676592, 0.00784576,\n",
       "        0.01328278, 0.01821721, 0.00839708, 0.01355095, 0.0218173 ,\n",
       "        0.00679905, 0.01290684, 0.01983955, 0.00658898, 0.01432745,\n",
       "        0.01843326, 0.00649922, 0.01308615, 0.01832089, 0.00664535,\n",
       "        0.01252227, 0.01852946, 0.00649166, 0.01233752, 0.01822345,\n",
       "        0.00646815, 0.01233823, 0.02268071, 0.00655212, 0.0124824 ,\n",
       "        0.01848404]),\n",
       " 'std_score_time': array([2.02135850e-04, 7.00330947e-05, 1.72540309e-04, 6.43115987e-05,\n",
       "        7.75320797e-05, 7.39135852e-03, 3.16819342e-04, 3.85778784e-03,\n",
       "        1.39796071e-02, 4.16970484e-03, 2.61617849e-03, 3.46260027e-04,\n",
       "        5.61351217e-03, 3.62378522e-03, 9.73050262e-03, 2.98336914e-04,\n",
       "        5.86478911e-04, 1.60850954e-03, 1.11277121e-04, 3.89699004e-03,\n",
       "        3.29771096e-04, 4.06569115e-05, 2.13576602e-03, 1.25556313e-04,\n",
       "        7.95416121e-05, 1.04465913e-04, 1.71457269e-04, 6.77238875e-05,\n",
       "        1.04373165e-04, 1.72485257e-04, 8.35129065e-05, 9.21294586e-05,\n",
       "        1.34415554e-02, 3.49831151e-05, 8.42754876e-05, 1.16555674e-04]),\n",
       " 'param_max_depth': masked_array(data=[17, 17, 17, 17, 17, 17, 17, 17, 17, 20, 20, 20, 20, 20,\n",
       "                    20, 20, 20, 20, 25, 25, 25, 25, 25, 25, 25, 25, 25, 30,\n",
       "                    30, 30, 30, 30, 30, 30, 30, 30],\n",
       "              mask=[False, False, False, False, False, False, False, False,\n",
       "                    False, False, False, False, False, False, False, False,\n",
       "                    False, False, False, False, False, False, False, False,\n",
       "                    False, False, False, False, False, False, False, False,\n",
       "                    False, False, False, False],\n",
       "        fill_value='?',\n",
       "             dtype=object),\n",
       " 'param_max_features': masked_array(data=['auto', 'auto', 'auto', 'sqrt', 'sqrt', 'sqrt', 'log2',\n",
       "                    'log2', 'log2', 'auto', 'auto', 'auto', 'sqrt', 'sqrt',\n",
       "                    'sqrt', 'log2', 'log2', 'log2', 'auto', 'auto', 'auto',\n",
       "                    'sqrt', 'sqrt', 'sqrt', 'log2', 'log2', 'log2', 'auto',\n",
       "                    'auto', 'auto', 'sqrt', 'sqrt', 'sqrt', 'log2', 'log2',\n",
       "                    'log2'],\n",
       "              mask=[False, False, False, False, False, False, False, False,\n",
       "                    False, False, False, False, False, False, False, False,\n",
       "                    False, False, False, False, False, False, False, False,\n",
       "                    False, False, False, False, False, False, False, False,\n",
       "                    False, False, False, False],\n",
       "        fill_value='?',\n",
       "             dtype=object),\n",
       " 'param_n_estimators': masked_array(data=[100, 200, 300, 100, 200, 300, 100, 200, 300, 100, 200,\n",
       "                    300, 100, 200, 300, 100, 200, 300, 100, 200, 300, 100,\n",
       "                    200, 300, 100, 200, 300, 100, 200, 300, 100, 200, 300,\n",
       "                    100, 200, 300],\n",
       "              mask=[False, False, False, False, False, False, False, False,\n",
       "                    False, False, False, False, False, False, False, False,\n",
       "                    False, False, False, False, False, False, False, False,\n",
       "                    False, False, False, False, False, False, False, False,\n",
       "                    False, False, False, False],\n",
       "        fill_value='?',\n",
       "             dtype=object),\n",
       " 'params': [{'max_depth': 17, 'max_features': 'auto', 'n_estimators': 100},\n",
       "  {'max_depth': 17, 'max_features': 'auto', 'n_estimators': 200},\n",
       "  {'max_depth': 17, 'max_features': 'auto', 'n_estimators': 300},\n",
       "  {'max_depth': 17, 'max_features': 'sqrt', 'n_estimators': 100},\n",
       "  {'max_depth': 17, 'max_features': 'sqrt', 'n_estimators': 200},\n",
       "  {'max_depth': 17, 'max_features': 'sqrt', 'n_estimators': 300},\n",
       "  {'max_depth': 17, 'max_features': 'log2', 'n_estimators': 100},\n",
       "  {'max_depth': 17, 'max_features': 'log2', 'n_estimators': 200},\n",
       "  {'max_depth': 17, 'max_features': 'log2', 'n_estimators': 300},\n",
       "  {'max_depth': 20, 'max_features': 'auto', 'n_estimators': 100},\n",
       "  {'max_depth': 20, 'max_features': 'auto', 'n_estimators': 200},\n",
       "  {'max_depth': 20, 'max_features': 'auto', 'n_estimators': 300},\n",
       "  {'max_depth': 20, 'max_features': 'sqrt', 'n_estimators': 100},\n",
       "  {'max_depth': 20, 'max_features': 'sqrt', 'n_estimators': 200},\n",
       "  {'max_depth': 20, 'max_features': 'sqrt', 'n_estimators': 300},\n",
       "  {'max_depth': 20, 'max_features': 'log2', 'n_estimators': 100},\n",
       "  {'max_depth': 20, 'max_features': 'log2', 'n_estimators': 200},\n",
       "  {'max_depth': 20, 'max_features': 'log2', 'n_estimators': 300},\n",
       "  {'max_depth': 25, 'max_features': 'auto', 'n_estimators': 100},\n",
       "  {'max_depth': 25, 'max_features': 'auto', 'n_estimators': 200},\n",
       "  {'max_depth': 25, 'max_features': 'auto', 'n_estimators': 300},\n",
       "  {'max_depth': 25, 'max_features': 'sqrt', 'n_estimators': 100},\n",
       "  {'max_depth': 25, 'max_features': 'sqrt', 'n_estimators': 200},\n",
       "  {'max_depth': 25, 'max_features': 'sqrt', 'n_estimators': 300},\n",
       "  {'max_depth': 25, 'max_features': 'log2', 'n_estimators': 100},\n",
       "  {'max_depth': 25, 'max_features': 'log2', 'n_estimators': 200},\n",
       "  {'max_depth': 25, 'max_features': 'log2', 'n_estimators': 300},\n",
       "  {'max_depth': 30, 'max_features': 'auto', 'n_estimators': 100},\n",
       "  {'max_depth': 30, 'max_features': 'auto', 'n_estimators': 200},\n",
       "  {'max_depth': 30, 'max_features': 'auto', 'n_estimators': 300},\n",
       "  {'max_depth': 30, 'max_features': 'sqrt', 'n_estimators': 100},\n",
       "  {'max_depth': 30, 'max_features': 'sqrt', 'n_estimators': 200},\n",
       "  {'max_depth': 30, 'max_features': 'sqrt', 'n_estimators': 300},\n",
       "  {'max_depth': 30, 'max_features': 'log2', 'n_estimators': 100},\n",
       "  {'max_depth': 30, 'max_features': 'log2', 'n_estimators': 200},\n",
       "  {'max_depth': 30, 'max_features': 'log2', 'n_estimators': 300}],\n",
       " 'split0_test_score': array([0.86206897, 0.92241379, 0.93965517, 0.88793103, 0.93965517,\n",
       "        0.94827586, 0.87931034, 0.93103448, 0.89655172, 0.92241379,\n",
       "        0.9137931 , 0.95689655, 0.9137931 , 0.92241379, 0.94827586,\n",
       "        0.90517241, 0.9137931 , 0.94827586, 0.96551724, 0.90517241,\n",
       "        0.96551724, 0.93965517, 0.89655172, 0.96551724, 0.86206897,\n",
       "        0.93103448, 0.89655172, 0.89655172, 0.90517241, 0.93103448,\n",
       "        0.93965517, 0.89655172, 0.95689655, 0.85344828, 0.95689655,\n",
       "        0.95689655]),\n",
       " 'split1_test_score': array([1.        , 1.        , 1.        , 0.96551724, 1.        ,\n",
       "        0.99137931, 1.        , 1.        , 0.98275862, 1.        ,\n",
       "        1.        , 0.97413793, 0.94827586, 0.99137931, 1.        ,\n",
       "        0.97413793, 0.96551724, 1.        , 1.        , 0.97413793,\n",
       "        1.        , 0.93965517, 1.        , 0.97413793, 0.96551724,\n",
       "        0.98275862, 0.97413793, 0.97413793, 1.        , 1.        ,\n",
       "        0.98275862, 0.96551724, 1.        , 1.        , 0.98275862,\n",
       "        1.        ]),\n",
       " 'split2_test_score': array([1.        , 1.        , 1.        , 0.99130435, 0.9826087 ,\n",
       "        1.        , 0.96521739, 0.96521739, 0.9826087 , 1.        ,\n",
       "        0.9826087 , 1.        , 0.96521739, 0.97391304, 1.        ,\n",
       "        0.99130435, 1.        , 0.96521739, 0.99130435, 0.99130435,\n",
       "        0.99130435, 0.97391304, 1.        , 0.96521739, 1.        ,\n",
       "        0.9826087 , 1.        , 0.96521739, 0.97391304, 1.        ,\n",
       "        0.97391304, 0.94782609, 1.        , 0.96521739, 0.9826087 ,\n",
       "        1.        ]),\n",
       " 'split3_test_score': array([0.92105263, 0.92982456, 0.92982456, 0.94736842, 0.92982456,\n",
       "        0.92982456, 0.85964912, 0.89473684, 0.9122807 , 0.87719298,\n",
       "        0.89473684, 0.89473684, 0.89473684, 0.88596491, 0.92982456,\n",
       "        0.89473684, 0.92105263, 0.92982456, 0.92982456, 0.92982456,\n",
       "        0.92982456, 0.85964912, 0.92982456, 0.92982456, 0.92105263,\n",
       "        0.86842105, 0.96491228, 0.85964912, 0.92105263, 0.89473684,\n",
       "        0.88596491, 0.92982456, 0.92982456, 0.90350877, 0.92982456,\n",
       "        0.89473684]),\n",
       " 'split4_test_score': array([0.95575221, 0.91150442, 0.92920354, 0.95575221, 0.91150442,\n",
       "        0.92920354, 0.9380531 , 0.92035398, 0.92920354, 0.92035398,\n",
       "        0.92920354, 0.94690265, 0.92920354, 0.92920354, 0.91150442,\n",
       "        0.95575221, 0.96460177, 0.90265487, 0.92035398, 0.90265487,\n",
       "        0.9380531 , 0.92920354, 0.89380531, 0.9380531 , 0.92035398,\n",
       "        0.94690265, 0.92920354, 0.9380531 , 0.9380531 , 0.90265487,\n",
       "        0.97345133, 0.92920354, 0.92920354, 0.91150442, 0.92920354,\n",
       "        0.92920354]),\n",
       " 'split5_test_score': array([0.90265487, 0.94690265, 0.96460177, 0.92920354, 0.92920354,\n",
       "        0.95575221, 0.90265487, 0.95575221, 0.96460177, 0.92035398,\n",
       "        0.9380531 , 0.89380531, 0.92920354, 0.92920354, 0.95575221,\n",
       "        0.95575221, 0.95575221, 0.96460177, 0.92920354, 0.9380531 ,\n",
       "        0.96460177, 0.96460177, 0.92035398, 0.92920354, 0.92920354,\n",
       "        0.92035398, 0.96460177, 0.96460177, 0.96460177, 0.92920354,\n",
       "        0.89380531, 0.94690265, 0.95575221, 0.96460177, 0.96460177,\n",
       "        0.96460177]),\n",
       " 'split6_test_score': array([0.73873874, 0.77477477, 0.74774775, 0.78378378, 0.74774775,\n",
       "        0.75675676, 0.74774775, 0.78378378, 0.79279279, 0.74774775,\n",
       "        0.78378378, 0.78378378, 0.78378378, 0.74774775, 0.75675676,\n",
       "        0.78378378, 0.81081081, 0.77477477, 0.72972973, 0.79279279,\n",
       "        0.78378378, 0.74774775, 0.75675676, 0.74774775, 0.82882883,\n",
       "        0.75675676, 0.77477477, 0.74774775, 0.75675676, 0.76576577,\n",
       "        0.78378378, 0.74774775, 0.79279279, 0.83783784, 0.78378378,\n",
       "        0.75675676]),\n",
       " 'split7_test_score': array([0.91891892, 0.89189189, 0.92792793, 0.96396396, 0.92792793,\n",
       "        0.92792793, 0.9009009 , 0.92792793, 0.92792793, 0.92792793,\n",
       "        0.89189189, 0.91891892, 0.89189189, 0.92792793, 0.92792793,\n",
       "        0.88288288, 0.92792793, 0.92792793, 0.91891892, 0.9009009 ,\n",
       "        0.92792793, 0.92792793, 0.9009009 , 0.92792793, 0.90990991,\n",
       "        0.91891892, 0.92792793, 0.89189189, 0.92792793, 0.92792793,\n",
       "        0.9009009 , 0.92792793, 0.92792793, 0.92792793, 0.92792793,\n",
       "        0.89189189]),\n",
       " 'split8_test_score': array([0.92592593, 0.92592593, 0.92592593, 0.90740741, 0.92592593,\n",
       "        0.92592593, 0.88888889, 0.93518519, 0.92592593, 0.91666667,\n",
       "        0.92592593, 0.93518519, 0.88888889, 0.93518519, 0.92592593,\n",
       "        0.92592593, 0.92592593, 0.92592593, 0.92592593, 0.92592593,\n",
       "        0.92592593, 0.88888889, 0.9537037 , 0.92592593, 0.96296296,\n",
       "        0.93518519, 0.92592593, 0.90740741, 0.92592593, 0.92592593,\n",
       "        0.92592593, 0.93518519, 0.94444444, 0.90740741, 0.92592593,\n",
       "        0.92592593]),\n",
       " 'split9_test_score': array([0.85185185, 0.86111111, 0.85185185, 0.85185185, 0.85185185,\n",
       "        0.85185185, 0.85185185, 0.85185185, 0.85185185, 0.85185185,\n",
       "        0.85185185, 0.85185185, 0.84259259, 0.85185185, 0.85185185,\n",
       "        0.83333333, 0.85185185, 0.85185185, 0.85185185, 0.85185185,\n",
       "        0.85185185, 0.87037037, 0.86111111, 0.85185185, 0.83333333,\n",
       "        0.85185185, 0.85185185, 0.85185185, 0.85185185, 0.85185185,\n",
       "        0.85185185, 0.85185185, 0.85185185, 0.85185185, 0.85185185,\n",
       "        0.85185185]),\n",
       " 'mean_test_score': array([0.90844444, 0.91733333, 0.92266667, 0.91911111, 0.91555556,\n",
       "        0.92266667, 0.89422222, 0.91733333, 0.91733333, 0.90933333,\n",
       "        0.912     , 0.91644444, 0.89955556, 0.91022222, 0.92177778,\n",
       "        0.91111111, 0.92444444, 0.92      , 0.91733333, 0.912     ,\n",
       "        0.92888889, 0.90488889, 0.912     , 0.91644444, 0.91377778,\n",
       "        0.91022222, 0.92177778, 0.90044444, 0.91733333, 0.91377778,\n",
       "        0.912     , 0.90844444, 0.92977778, 0.91288889, 0.92444444,\n",
       "        0.91822222]),\n",
       " 'std_test_score': array([0.07332427, 0.06238998, 0.07034129, 0.05944681, 0.06700121,\n",
       "        0.06697984, 0.06564636, 0.05807203, 0.05588168, 0.06904564,\n",
       "        0.05885922, 0.05991069, 0.05035844, 0.06529601, 0.0679967 ,\n",
       "        0.06146679, 0.05302954, 0.06105326, 0.07365998, 0.05417693,\n",
       "        0.0619899 , 0.06315812, 0.06702839, 0.06439069, 0.0539653 ,\n",
       "        0.06452485, 0.06292073, 0.06522008, 0.06549788, 0.06476024,\n",
       "        0.05889228, 0.06089849, 0.06009638, 0.05141003, 0.05858067,\n",
       "        0.0698628 ]),\n",
       " 'rank_test_score': array([31, 12,  5, 10, 19,  5, 36, 12, 12, 30, 23, 17, 35, 28,  7, 27,  3,\n",
       "         9, 12, 23,  2, 33, 23, 17, 20, 28,  7, 34, 12, 20, 23, 31,  1, 22,\n",
       "         3, 11], dtype=int32)}"
      ]
     },
     "execution_count": 12,
     "metadata": {},
     "output_type": "execute_result"
    }
   ],
   "source": [
    "grid.cv_results_"
   ]
  },
  {
   "cell_type": "code",
   "execution_count": 14,
   "metadata": {},
   "outputs": [
    {
     "data": {
      "text/plain": [
       "{'max_depth': 30, 'max_features': 'sqrt', 'n_estimators': 300}"
      ]
     },
     "execution_count": 14,
     "metadata": {},
     "output_type": "execute_result"
    }
   ],
   "source": [
    "grid.best_params_"
   ]
  },
  {
   "cell_type": "code",
   "execution_count": 15,
   "metadata": {},
   "outputs": [],
   "source": [
    "ETC=ExtraTreesClassifier(max_depth=30,max_features='sqrt',n_estimators=300).fit(X,y)"
   ]
  },
  {
   "cell_type": "code",
   "execution_count": 107,
   "metadata": {},
   "outputs": [
    {
     "name": "stdout",
     "output_type": "stream",
     "text": [
      "[[109   0   0   4   0   0   0   0   3   0]\n",
      " [  0 115   4   3   0   0   0   0   0   0]\n",
      " [  0   0 116   8   0   0   0   0   0   0]\n",
      " [  0   0   0 204   0   0   0   0   0   0]\n",
      " [  0   0   0   0  52   0   0   0   4   0]\n",
      " [  0   4   0   5   0  48   0   0   0   0]\n",
      " [  0   0   0   0   0   0  48  12   4   0]\n",
      " [  0   0   0   0   0   0   1 110   9   0]\n",
      " [  0   0   0   0   0   0   4  16 152   4]\n",
      " [  0   0   0   0   0   0   0   0   0  28]]\n"
     ]
    }
   ],
   "source": [
    "from sklearn.model_selection import cross_val_predict\n",
    "\n",
    "y_pred = cross_val_predict(ETC, X, y, cv=10)\n",
    "conf_mat = confusion_matrix(y, y_pred)\n",
    "print(conf_mat)"
   ]
  },
  {
   "cell_type": "code",
   "execution_count": 14,
   "metadata": {},
   "outputs": [
    {
     "name": "stderr",
     "output_type": "stream",
     "text": [
      "/home/parkj0/anaconda3/envs/venv/lib/python3.7/site-packages/sklearn/preprocessing/data.py:2553: FutureWarning: The default value of `copy` will change from False to True in 0.23 in order to make it more consistent with the default `copy` values of other functions in :mod:`sklearn.preprocessing.data` and prevent unexpected side effects by modifying the value of `X` inplace. To avoid inplace modifications of `X`, it is recommended to explicitly set `copy=True`\n",
      "  FutureWarning)\n"
     ]
    },
    {
     "name": "stdout",
     "output_type": "stream",
     "text": [
      "1.0\n",
      "[[116   0   0   0   0   0   0   0   0   0]\n",
      " [  0   4   0   0   0   0   0   0   0   0]\n",
      " [  0   0 120   0   0   0   0   0   0   0]\n",
      " [  0   0   0 200   0   0   0   0   0   0]\n",
      " [  0   0   0   0  57   0   0   0   0   0]\n",
      " [  0   0   0   0   0  56   0   0   0   0]\n",
      " [  0   0   0   0   0   0  68   0   0   0]\n",
      " [  0   0   0   0   0   0   0 128   0   0]\n",
      " [  0   0   0   0   0   0   0   0 224   0]\n",
      " [  0   0   0   0   0   0   0   0   0  28]]\n"
     ]
    }
   ],
   "source": [
    "class_names=['face','pouring','clinking','drinking1','tissue','drink2','spoon','chopstick','fork','stir']\n",
    "\n",
    "X=training_set\n",
    "y=training_label\n",
    "\n",
    "#print((test_pred_proba))\n",
    "#for row in test_pred_proba:\n",
    "#    print(np.max([row]))\n",
    "test_pred3=ETC.predict(preprocessing.quantile_transform(X))\n",
    "print(accuracy_score(test_pred3,training_label))\n",
    "print(confusion_matrix(test_pred3, training_label))"
   ]
  },
  {
   "cell_type": "code",
   "execution_count": null,
   "metadata": {},
   "outputs": [],
   "source": []
  },
  {
   "cell_type": "code",
   "execution_count": null,
   "metadata": {},
   "outputs": [],
   "source": []
  },
  {
   "cell_type": "code",
   "execution_count": 108,
   "metadata": {},
   "outputs": [
    {
     "name": "stderr",
     "output_type": "stream",
     "text": [
      "/home/parkj0/anaconda3/envs/venv/lib/python3.7/site-packages/sklearn/preprocessing/data.py:2553: FutureWarning: The default value of `copy` will change from False to True in 0.23 in order to make it more consistent with the default `copy` values of other functions in :mod:`sklearn.preprocessing.data` and prevent unexpected side effects by modifying the value of `X` inplace. To avoid inplace modifications of `X`, it is recommended to explicitly set `copy=True`\n",
      "  FutureWarning)\n"
     ]
    },
    {
     "name": "stdout",
     "output_type": "stream",
     "text": [
      "0.9030282821749248\n"
     ]
    }
   ],
   "source": [
    "#SVM\n",
    "#prepare the data\n",
    "#prepare the model\n",
    "#X=preprocessing.minmax_scale(training_set)\n",
    "#X=preprocessing.robust_scale(training_set)\n",
    "X=preprocessing.quantile_transform(training_set)\n",
    "y=training_label\n",
    "clf = sklearn.svm.SVC(gamma='scale',tol=0.1,probability=True)\n",
    "scores=cross_val_score(clf,X,y,cv=10,scoring='accuracy')\n",
    "print(scores.mean())"
   ]
  },
  {
   "cell_type": "code",
   "execution_count": 109,
   "metadata": {},
   "outputs": [],
   "source": [
    "param_grid={\n",
    " #'kernel':['linear','poly','rbf','sigmoid'], rbf to be best acc\n",
    "    'C':[10,20,50,100]}\n",
    "\n",
    "grid=GridSearchCV(estimator=clf,param_grid=param_grid,cv=10,scoring='accuracy')"
   ]
  },
  {
   "cell_type": "code",
   "execution_count": 110,
   "metadata": {},
   "outputs": [
    {
     "name": "stderr",
     "output_type": "stream",
     "text": [
      "/home/parkj0/anaconda3/envs/venv/lib/python3.7/site-packages/sklearn/model_selection/_search.py:813: DeprecationWarning: The default of the `iid` parameter will change from True to False in version 0.22 and will be removed in 0.24. This will change numeric results when test-set sizes are unequal.\n",
      "  DeprecationWarning)\n"
     ]
    },
    {
     "data": {
      "text/plain": [
       "{'mean_fit_time': array([0.53390267, 0.54411323, 0.53812099, 0.51325831]),\n",
       " 'std_fit_time': array([0.03704927, 0.06052332, 0.04098229, 0.02844576]),\n",
       " 'mean_score_time': array([0.01463621, 0.01661682, 0.01529706, 0.01485248]),\n",
       " 'std_score_time': array([0.00166451, 0.00511245, 0.0024762 , 0.00188217]),\n",
       " 'param_C': masked_array(data=[10, 20, 50, 100],\n",
       "              mask=[False, False, False, False],\n",
       "        fill_value='?',\n",
       "             dtype=object),\n",
       " 'params': [{'C': 10}, {'C': 20}, {'C': 50}, {'C': 100}],\n",
       " 'split0_test_score': array([0.90990991, 0.90990991, 0.90990991, 0.90990991]),\n",
       " 'split1_test_score': array([0.95495495, 0.95495495, 0.95495495, 0.95495495]),\n",
       " 'split2_test_score': array([0.86363636, 0.86363636, 0.86363636, 0.86363636]),\n",
       " 'split3_test_score': array([0.95454545, 0.95454545, 0.95454545, 0.95454545]),\n",
       " 'split4_test_score': array([0.96261682, 0.96261682, 0.96261682, 0.96261682]),\n",
       " 'split5_test_score': array([0.99065421, 0.99065421, 0.99065421, 0.99065421]),\n",
       " 'split6_test_score': array([0.84615385, 0.84615385, 0.84615385, 0.84615385]),\n",
       " 'split7_test_score': array([0.84466019, 0.84466019, 0.84466019, 0.84466019]),\n",
       " 'split8_test_score': array([0.92156863, 0.92156863, 0.92156863, 0.92156863]),\n",
       " 'split9_test_score': array([0.80392157, 0.80392157, 0.80392157, 0.80392157]),\n",
       " 'mean_test_score': array([0.90627929, 0.90627929, 0.90627929, 0.90627929]),\n",
       " 'std_test_score': array([0.05874073, 0.05874073, 0.05874073, 0.05874073]),\n",
       " 'rank_test_score': array([1, 1, 1, 1], dtype=int32)}"
      ]
     },
     "execution_count": 110,
     "metadata": {},
     "output_type": "execute_result"
    }
   ],
   "source": [
    "grid.fit(X,y)\n",
    "grid.cv_results_"
   ]
  },
  {
   "cell_type": "code",
   "execution_count": 111,
   "metadata": {},
   "outputs": [
    {
     "data": {
      "text/plain": [
       "{'C': 10}"
      ]
     },
     "execution_count": 111,
     "metadata": {},
     "output_type": "execute_result"
    }
   ],
   "source": [
    "grid.best_params_"
   ]
  },
  {
   "cell_type": "code",
   "execution_count": 112,
   "metadata": {},
   "outputs": [
    {
     "name": "stderr",
     "output_type": "stream",
     "text": [
      "/home/parkj0/anaconda3/envs/venv/lib/python3.7/site-packages/sklearn/svm/base.py:193: FutureWarning: The default value of gamma will change from 'auto' to 'scale' in version 0.22 to account better for unscaled features. Set gamma explicitly to 'auto' or 'scale' to avoid this warning.\n",
      "  \"avoid this warning.\", FutureWarning)\n"
     ]
    }
   ],
   "source": [
    "SVC=sklearn.svm.SVC(10,probability=True).fit(X,y)"
   ]
  },
  {
   "cell_type": "code",
   "execution_count": 17,
   "metadata": {},
   "outputs": [
    {
     "ename": "NameError",
     "evalue": "name 'SVC' is not defined",
     "output_type": "error",
     "traceback": [
      "\u001b[0;31m---------------------------------------------------------------------------\u001b[0m",
      "\u001b[0;31mNameError\u001b[0m                                 Traceback (most recent call last)",
      "\u001b[0;32m<ipython-input-17-3c139ca3f7b8>\u001b[0m in \u001b[0;36m<module>\u001b[0;34m\u001b[0m\n\u001b[1;32m      3\u001b[0m \u001b[0;32mfrom\u001b[0m \u001b[0mjoblib\u001b[0m \u001b[0;32mimport\u001b[0m \u001b[0mdump\u001b[0m\u001b[0;34m,\u001b[0m \u001b[0mload\u001b[0m\u001b[0;34m\u001b[0m\u001b[0;34m\u001b[0m\u001b[0m\n\u001b[1;32m      4\u001b[0m \u001b[0mfilename\u001b[0m\u001b[0;34m=\u001b[0m\u001b[0;34m'./svm.sav'\u001b[0m\u001b[0;34m\u001b[0m\u001b[0;34m\u001b[0m\u001b[0m\n\u001b[0;32m----> 5\u001b[0;31m \u001b[0mpickle\u001b[0m\u001b[0;34m.\u001b[0m\u001b[0mdump\u001b[0m\u001b[0;34m(\u001b[0m\u001b[0mSVC\u001b[0m\u001b[0;34m,\u001b[0m\u001b[0mopen\u001b[0m\u001b[0;34m(\u001b[0m\u001b[0mfilename\u001b[0m\u001b[0;34m,\u001b[0m\u001b[0;34m'wb'\u001b[0m\u001b[0;34m)\u001b[0m\u001b[0;34m)\u001b[0m\u001b[0;34m\u001b[0m\u001b[0;34m\u001b[0m\u001b[0m\n\u001b[0m",
      "\u001b[0;31mNameError\u001b[0m: name 'SVC' is not defined"
     ]
    }
   ],
   "source": [
    "#save the model\n",
    "\n",
    "from joblib import dump, load\n",
    "filename='./svm.sav'\n",
    "pickle.dump(SVC,open(filename,'wb'))"
   ]
  },
  {
   "cell_type": "code",
   "execution_count": null,
   "metadata": {},
   "outputs": [],
   "source": []
  },
  {
   "cell_type": "code",
   "execution_count": 18,
   "metadata": {},
   "outputs": [
    {
     "data": {
      "text/plain": [
       "['rf.joblib']"
      ]
     },
     "execution_count": 18,
     "metadata": {},
     "output_type": "execute_result"
    }
   ],
   "source": [
    "filename='./rf.sav'\n",
    "pickle.dump(RF,open(filename,'wb'))\n",
    "dump(RF,'rf.joblib')"
   ]
  },
  {
   "cell_type": "code",
   "execution_count": 19,
   "metadata": {},
   "outputs": [
    {
     "data": {
      "text/plain": [
       "['ETC.joblib']"
      ]
     },
     "execution_count": 19,
     "metadata": {},
     "output_type": "execute_result"
    }
   ],
   "source": [
    "filename='./ETC.sav'\n",
    "pickle.dump(ETC,open(filename,'wb'))\n",
    "dump(ETC,'ETC.joblib')"
   ]
  },
  {
   "cell_type": "code",
   "execution_count": null,
   "metadata": {},
   "outputs": [],
   "source": []
  },
  {
   "cell_type": "code",
   "execution_count": null,
   "metadata": {},
   "outputs": [],
   "source": []
  },
  {
   "cell_type": "code",
   "execution_count": null,
   "metadata": {},
   "outputs": [],
   "source": []
  },
  {
   "cell_type": "code",
   "execution_count": null,
   "metadata": {},
   "outputs": [],
   "source": []
  },
  {
   "cell_type": "code",
   "execution_count": null,
   "metadata": {},
   "outputs": [],
   "source": []
  }
 ],
 "metadata": {
  "kernelspec": {
   "display_name": "Python 3",
   "language": "python",
   "name": "python3"
  },
  "language_info": {
   "codemirror_mode": {
    "name": "ipython",
    "version": 3
   },
   "file_extension": ".py",
   "mimetype": "text/x-python",
   "name": "python",
   "nbconvert_exporter": "python",
   "pygments_lexer": "ipython3",
   "version": "3.7.3"
  }
 },
 "nbformat": 4,
 "nbformat_minor": 2
}
