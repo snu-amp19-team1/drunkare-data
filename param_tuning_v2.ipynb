{
 "cells": [
  {
   "cell_type": "code",
   "execution_count": 1,
   "metadata": {},
   "outputs": [],
   "source": [
    "##complex data와 똑같이 40ms로 parsing했음 데이터 4배라고 생각하고 뻥튀기시켜봄 정확도는 10ms와 비슷하게 나옴\n",
    "\n",
    "import csv\n",
    "import matplotlib.pyplot as plt\n",
    "import numpy as np\n",
    "import pandas as pd\n",
    "import tensorflow as tf\n",
    "import sklearn\n",
    "from sklearn import svm\n",
    "from datetime import datetime\n",
    "import glob\n",
    "import pickle\n",
    "import re\n",
    "from sklearn import preprocessing\n",
    "from mpl_toolkits.mplot3d import Axes3D\n",
    "from sklearn.metrics import confusion_matrix\n",
    "from sklearn.metrics import accuracy_score\n",
    "from sklearn.preprocessing import OneHotEncoder\n",
    "from sklearn.model_selection import cross_val_score \n",
    "from sklearn.model_selection import GridSearchCV\n",
    "from scipy import signal\n",
    "\n",
    "#filename queue\n",
    "filename_queue=glob.glob('./label/label[0-9]*.csv')\n",
    "#filename_queue=glob.glob('./label/label[6].csv')\n"
   ]
  },
  {
   "cell_type": "code",
   "execution_count": 2,
   "metadata": {},
   "outputs": [
    {
     "name": "stdout",
     "output_type": "stream",
     "text": [
      "label :  12\n",
      "(248, 450)\n",
      "label :  8\n",
      "(68, 450)\n",
      "label :  7\n",
      "(68, 450)\n",
      "label :  4\n",
      "(4, 450)\n",
      "label :  5\n",
      "(136, 450)\n",
      "label :  13\n",
      "(36, 450)\n",
      "label :  9\n",
      "(72, 450)\n",
      "label :  10\n",
      "(136, 450)\n",
      "label :  0\n",
      "(124, 450)\n",
      "label :  6\n",
      "(228, 450)\n"
     ]
    }
   ],
   "source": [
    "training_set=list()\n",
    "training_set2=list()\n",
    "test_set=list()\n",
    "training_label=list()\n",
    "test_label=list()\n",
    "index=[1,2,3,11,14,15]\n",
    "label_count=np.zeros(16)\n",
    "traininglabel_count=np.zeros(16)\n",
    "testlabel_count=np.zeros(16)\n",
    "ldata=list()\n",
    "\n",
    "for filename in filename_queue:\n",
    "    with open(filename,newline='') as data:\n",
    "        \n",
    "        data_set=list()\n",
    "        data_set2=list()\n",
    "        data_label=list()\n",
    "        reader=csv.reader(data)\n",
    "        label=re.findall('\\d+',filename)\n",
    "        label=int(label[0])\n",
    "        label_count[label]+=4\n",
    "        if label in index:\n",
    "            continue\n",
    "        if label not in index:\n",
    "            print('label : ', label)\n",
    "            for row in reader:\n",
    "                row[0:]=[float(i) for i in row[0:]]\n",
    "                X_acc=list(row[i] for i in range(150))\n",
    "                Y_acc=list(row[i+150] for i in range(150))\n",
    "                Z_acc=list(row[i+300] for i in range(150))\n",
    "                X_gyro=list(row[i+450] for i in range(150))\n",
    "                Y_gyro=list(row[i+600] for i in range(150))\n",
    "                Z_gyro=list(row[i+750] for i in range(150))\n",
    "\n",
    "                window=np.array([X_acc[0:25],Y_acc[0:25],Z_acc[0:25],X_gyro[0:25],Y_gyro[0:25],Z_gyro[0:25],\n",
    "                                  X_acc[25:50],Y_acc[25:50],Z_acc[25:50],X_gyro[25:50],Y_gyro[25:50],Z_gyro[25:50],\n",
    "                                  X_acc[50:75],Y_acc[50:75],Z_acc[50:75],X_gyro[50:75],Y_gyro[50:75],Z_gyro[50:75],\n",
    "                                  X_acc[75:100],Y_acc[75:100],Z_acc[75:100],X_gyro[75:100],Y_gyro[75:100],Z_gyro[75:100],\n",
    "                                  X_acc[100:125],Y_acc[100:125],Z_acc[100:125],X_gyro[100:125],Y_gyro[100:125],Z_gyro[100:125],\n",
    "                                  X_acc[125:150],Y_acc[125:150],Z_acc[125:150],X_gyro[125:150],Y_gyro[125:150],Z_gyro[125:150]])\n",
    "\n",
    "                \n",
    "                window2=np.array([[X_acc[0:25],X_acc[25:50],X_acc[50:75],X_acc[75:100],X_acc[100:125],X_acc[125:150]],\n",
    "                    [Y_acc[0:25],Y_acc[25:50],Y_acc[50:75],Y_acc[75:100],Y_acc[100:125],Y_acc[125:150]],\n",
    "                    [Z_acc[0:25],Z_acc[25:50],Z_acc[50:75],Z_acc[75:100],Z_acc[100:125],Z_acc[125:150]]])\n",
    "               \n",
    "            \n",
    "            \n",
    "                \"\"\"\n",
    "                window4=np.array([[X_gyro[0:25],X_gyro[25:50],X_gyro[50:75],X_gyro[75:100],X_gyro[100:125],X_gyro[125:150]],\n",
    "                    [Y_gyro[0:25],Y_gyro[25:50],Y_gyro[50:75],Y_gyro[75:100],Y_gyro[100:125],Y_gyro[125:150]],\n",
    "                    [Z_gyro[0:25],Z_gyro[25:50],Z_gyro[50:75],Z_gyro[75:100],Z_gyro[100:125],Z_gyro[125:150]]])\n",
    "                \"\"\"\n",
    "                \n",
    "                \n",
    "                \n",
    "                window_mean=window.mean(axis=-1)\n",
    "                window_stddev=window.std(axis=-1)\n",
    "                window_median=np.median(window,axis=-1)\n",
    "                window_percent25=np.percentile(window,25,axis=-1)\n",
    "                window_percent75=np.percentile(window,75,axis=-1)\n",
    "                window_feature=np.array([[window_mean],[window_stddev],[window_median],[window_percent25],[window_percent75]])\n",
    "                window_feature=window_feature.reshape(180)\n",
    "                \n",
    "                #Drop outliers1 \n",
    "                xm=window_stddev[[0,6,12,18,24,30]].mean(axis=0)\n",
    "                ym=window_stddev[[1,7,13,19,25,31]].mean(axis=0)\n",
    "                zm=window_stddev[[2,8,14,20,26,32]].mean(axis=0)\n",
    "                action=np.mean([xm,ym,zm])\n",
    "                if(action<0.65):\n",
    "                    label_count[label]-=1\n",
    "                    continue\n",
    "                \n",
    "                window2=window2.reshape(-1)\n",
    "                #window_RMS=np.roots(np.square(window2[0:6]).mean(axis=-1))\n",
    "                #if (label_count[label]>=0):\n",
    "                data_set.append(window_feature)\n",
    "                data_set2.append(window2)\n",
    "                data_label.append(label)\n",
    "            \n",
    "                #else:\n",
    "                #    test_set.append(window_feature)\n",
    "                #    test_label.append(label)\n",
    "                #    testlabel_count[label]+=1\n",
    "                \n",
    "            from sklearn.manifold import TSNE\n",
    "            from sklearn.decomposition import PCA\n",
    "            from sklearn.decomposition import MiniBatchDictionaryLearning\n",
    "            from sklearn.decomposition import IncrementalPCA\n",
    "            from sklearn.decomposition import TruncatedSVD\n",
    "\n",
    "\n",
    "            print(np.shape(data_set2))\n",
    "\n",
    "            data_set2=np.array(data_set2)\n",
    "            X_embedded2 = MiniBatchDictionaryLearning(n_components=3,n_iter=1000).fit_transform(data_set2)\n",
    "            #fig = plt.figure()\n",
    "            #ax2 = fig.add_subplot(111, projection='3d')\n",
    "            #for x in X_embedded2:\n",
    "            #    ax2.scatter(x[0],x[1],x[2]) \n",
    "\n",
    "            from scipy import stats\n",
    "            z = np.abs(stats.zscore(X_embedded2))\n",
    "            #X_embedded2 = X_embedded2[(abs(z) <1.8).all(axis=1)]\n",
    "            data_set_arr=np.array(data_set)\n",
    "            data_label_arr=np.array(data_label)\n",
    "            data_set_arr=data_set_arr[(abs(z) <2).all(axis=1)]\n",
    "            data_label_arr=data_label_arr[(abs(z) <2).all(axis=1)]\n",
    "\n",
    "            #print(np.shape(data_set_arr))\n",
    "            #print(np.shape(data_label_arr))\n",
    "\n",
    "            for x in data_set_arr:\n",
    "                training_set.append(x)\n",
    "            for y in data_label_arr:\n",
    "                training_label.append(y)\n",
    "            #fig2 = plt.figure()\n",
    "            #ax2 = fig2.add_subplot(111, projection='3d')\n",
    "            #for x in X_embedded2:\n",
    "            #    ax2.scatter(x[0],x[1],x[2]) \n"
   ]
  },
  {
   "cell_type": "code",
   "execution_count": 3,
   "metadata": {},
   "outputs": [
    {
     "name": "stdout",
     "output_type": "stream",
     "text": [
      "(1027, 180)\n"
     ]
    }
   ],
   "source": [
    "X=training_set\n",
    "y=training_label\n",
    "\n",
    "print(np.shape(X))"
   ]
  },
  {
   "cell_type": "code",
   "execution_count": 4,
   "metadata": {},
   "outputs": [],
   "source": [
    "from sklearn.ensemble import RandomForestClassifier\n",
    "from sklearn.model_selection import GridSearchCV\n",
    "\n",
    "#X=preprocessing.minmax_scale(training_set)\n",
    "#X=preprocessing.robust_scale(training_set)\n",
    "#X=preprocessing.quantile_transform(training_set)\n",
    "\n",
    "X=training_set\n",
    "y=training_label\n",
    "RF=RandomForestClassifier()\n",
    "param_grid={\n",
    " 'n_estimators':[50,80,100,120]\n",
    "   # 'max_features':['auto','sqrt','log2'],\n",
    "    #'max_depth':[10,12,None]\n",
    "    #'criterion':['gini','entropy']\n",
    "}\n",
    "grid=GridSearchCV(estimator=RF,param_grid=param_grid,cv=10,scoring='accuracy')"
   ]
  },
  {
   "cell_type": "code",
   "execution_count": 5,
   "metadata": {},
   "outputs": [
    {
     "name": "stderr",
     "output_type": "stream",
     "text": [
      "/home/parkj0/anaconda3/envs/venv/lib/python3.7/site-packages/sklearn/model_selection/_split.py:657: Warning: The least populated class in y has only 4 members, which is too few. The minimum number of members in any class cannot be less than n_splits=10.\n",
      "  % (min_groups, self.n_splits)), Warning)\n",
      "/home/parkj0/anaconda3/envs/venv/lib/python3.7/site-packages/sklearn/model_selection/_search.py:813: DeprecationWarning: The default of the `iid` parameter will change from True to False in version 0.22 and will be removed in 0.24. This will change numeric results when test-set sizes are unequal.\n",
      "  DeprecationWarning)\n"
     ]
    },
    {
     "data": {
      "text/plain": [
       "GridSearchCV(cv=10, error_score='raise-deprecating',\n",
       "             estimator=RandomForestClassifier(bootstrap=True, class_weight=None,\n",
       "                                              criterion='gini', max_depth=None,\n",
       "                                              max_features='auto',\n",
       "                                              max_leaf_nodes=None,\n",
       "                                              min_impurity_decrease=0.0,\n",
       "                                              min_impurity_split=None,\n",
       "                                              min_samples_leaf=1,\n",
       "                                              min_samples_split=2,\n",
       "                                              min_weight_fraction_leaf=0.0,\n",
       "                                              n_estimators='warn', n_jobs=None,\n",
       "                                              oob_score=False,\n",
       "                                              random_state=None, verbose=0,\n",
       "                                              warm_start=False),\n",
       "             iid='warn', n_jobs=None,\n",
       "             param_grid={'n_estimators': [50, 80, 100, 120]},\n",
       "             pre_dispatch='2*n_jobs', refit=True, return_train_score=False,\n",
       "             scoring='accuracy', verbose=0)"
      ]
     },
     "execution_count": 5,
     "metadata": {},
     "output_type": "execute_result"
    }
   ],
   "source": [
    "grid.fit(X,y)"
   ]
  },
  {
   "cell_type": "code",
   "execution_count": 6,
   "metadata": {},
   "outputs": [
    {
     "data": {
      "text/plain": [
       "{'mean_fit_time': array([0.31167181, 0.4762229 , 0.51015446, 0.73626378]),\n",
       " 'std_fit_time': array([0.03497974, 0.02999419, 0.02934838, 0.09634957]),\n",
       " 'mean_score_time': array([0.00417123, 0.00783632, 0.00787406, 0.01027536]),\n",
       " 'std_score_time': array([0.00134353, 0.00283589, 0.00200646, 0.0037204 ]),\n",
       " 'param_n_estimators': masked_array(data=[50, 80, 100, 120],\n",
       "              mask=[False, False, False, False],\n",
       "        fill_value='?',\n",
       "             dtype=object),\n",
       " 'params': [{'n_estimators': 50},\n",
       "  {'n_estimators': 80},\n",
       "  {'n_estimators': 100},\n",
       "  {'n_estimators': 120}],\n",
       " 'split0_test_score': array([0.8317757 , 0.85046729, 0.85981308, 0.85046729]),\n",
       " 'split1_test_score': array([1.        , 0.97196262, 0.96261682, 0.96261682]),\n",
       " 'split2_test_score': array([0.91588785, 1.        , 0.99065421, 0.96261682]),\n",
       " 'split3_test_score': array([0.88785047, 0.89719626, 0.86915888, 0.88785047]),\n",
       " 'split4_test_score': array([0.92156863, 0.88235294, 0.91176471, 0.87254902]),\n",
       " 'split5_test_score': array([0.92156863, 0.92156863, 0.91176471, 0.92156863]),\n",
       " 'split6_test_score': array([0.8 , 0.79, 0.86, 0.75]),\n",
       " 'split7_test_score': array([0.88, 0.9 , 0.85, 0.8 ]),\n",
       " 'split8_test_score': array([0.95918367, 0.94897959, 0.91836735, 0.8877551 ]),\n",
       " 'split9_test_score': array([0.90721649, 0.8556701 , 0.87628866, 0.8556701 ]),\n",
       " 'mean_test_score': array([0.90262902, 0.90262902, 0.90165531, 0.87633885]),\n",
       " 'std_test_score': array([0.05482522, 0.0591675 , 0.04518141, 0.06335357]),\n",
       " 'rank_test_score': array([1, 1, 3, 4], dtype=int32)}"
      ]
     },
     "execution_count": 6,
     "metadata": {},
     "output_type": "execute_result"
    }
   ],
   "source": [
    "grid.cv_results_"
   ]
  },
  {
   "cell_type": "code",
   "execution_count": 46,
   "metadata": {},
   "outputs": [],
   "source": [
    "RF=RandomForestClassifier(grid.best_params_)"
   ]
  },
  {
   "cell_type": "code",
   "execution_count": 87,
   "metadata": {},
   "outputs": [
    {
     "name": "stderr",
     "output_type": "stream",
     "text": [
      "/home/parkj0/anaconda3/envs/venv/lib/python3.7/site-packages/sklearn/preprocessing/data.py:2553: FutureWarning: The default value of `copy` will change from False to True in 0.23 in order to make it more consistent with the default `copy` values of other functions in :mod:`sklearn.preprocessing.data` and prevent unexpected side effects by modifying the value of `X` inplace. To avoid inplace modifications of `X`, it is recommended to explicitly set `copy=True`\n",
      "  FutureWarning)\n",
      "/home/parkj0/anaconda3/envs/venv/lib/python3.7/site-packages/sklearn/preprocessing/data.py:2239: UserWarning: n_quantiles (1000) is greater than the total number of samples (998). n_quantiles is set to n_samples.\n",
      "  % (self.n_quantiles, n_samples))\n"
     ]
    }
   ],
   "source": [
    "from sklearn.ensemble import ExtraTreesClassifier\n",
    "from sklearn.tree import DecisionTreeClassifier\n",
    "X=preprocessing.quantile_transform(training_set)\n",
    "ETC=ExtraTreesClassifier()"
   ]
  },
  {
   "cell_type": "code",
   "execution_count": 88,
   "metadata": {},
   "outputs": [],
   "source": [
    "param_grid={\n",
    " 'n_estimators':[100,200,300],\n",
    "   # 'max_features':['auto','sqrt','log2'],\n",
    "    'max_depth':[10,14,None]\n",
    "    #'criterion':['gini','entropy']\n",
    "}\n",
    "\n",
    "grid=GridSearchCV(estimator=ETC,param_grid=param_grid,cv=10,scoring='accuracy')"
   ]
  },
  {
   "cell_type": "code",
   "execution_count": 89,
   "metadata": {},
   "outputs": [
    {
     "name": "stderr",
     "output_type": "stream",
     "text": [
      "/home/parkj0/anaconda3/envs/venv/lib/python3.7/site-packages/sklearn/model_selection/_split.py:657: Warning: The least populated class in y has only 4 members, which is too few. The minimum number of members in any class cannot be less than n_splits=10.\n",
      "  % (min_groups, self.n_splits)), Warning)\n",
      "/home/parkj0/anaconda3/envs/venv/lib/python3.7/site-packages/sklearn/model_selection/_search.py:813: DeprecationWarning: The default of the `iid` parameter will change from True to False in version 0.22 and will be removed in 0.24. This will change numeric results when test-set sizes are unequal.\n",
      "  DeprecationWarning)\n"
     ]
    },
    {
     "data": {
      "text/plain": [
       "GridSearchCV(cv=10, error_score='raise-deprecating',\n",
       "             estimator=ExtraTreesClassifier(bootstrap=False, class_weight=None,\n",
       "                                            criterion='gini', max_depth=None,\n",
       "                                            max_features='auto',\n",
       "                                            max_leaf_nodes=None,\n",
       "                                            min_impurity_decrease=0.0,\n",
       "                                            min_impurity_split=None,\n",
       "                                            min_samples_leaf=1,\n",
       "                                            min_samples_split=2,\n",
       "                                            min_weight_fraction_leaf=0.0,\n",
       "                                            n_estimators='warn', n_jobs=None,\n",
       "                                            oob_score=False, random_state=None,\n",
       "                                            verbose=0, warm_start=False),\n",
       "             iid='warn', n_jobs=None,\n",
       "             param_grid={'max_depth': [10, 14, None],\n",
       "                         'n_estimators': [100, 200, 300]},\n",
       "             pre_dispatch='2*n_jobs', refit=True, return_train_score=False,\n",
       "             scoring='accuracy', verbose=0)"
      ]
     },
     "execution_count": 89,
     "metadata": {},
     "output_type": "execute_result"
    }
   ],
   "source": [
    "grid.fit(X,y)\n"
   ]
  },
  {
   "cell_type": "code",
   "execution_count": 90,
   "metadata": {},
   "outputs": [
    {
     "data": {
      "text/plain": [
       "{'mean_fit_time': array([0.12705123, 0.25068548, 0.40250912, 0.13965411, 0.26779549,\n",
       "        0.39827914, 0.13415592, 0.27339425, 0.4008352 ]),\n",
       " 'std_fit_time': array([0.00479177, 0.00462072, 0.03329052, 0.01883117, 0.01545729,\n",
       "        0.01457844, 0.00514715, 0.01448693, 0.01145793]),\n",
       " 'mean_score_time': array([0.0061923 , 0.01181958, 0.0177851 , 0.00638855, 0.0121907 ,\n",
       "        0.01795757, 0.0072149 , 0.0122931 , 0.01842859]),\n",
       " 'std_score_time': array([5.87016561e-05, 1.15543333e-04, 4.95561748e-04, 3.12251785e-04,\n",
       "        6.53587860e-04, 7.71576453e-04, 1.35826190e-03, 2.91940527e-04,\n",
       "        1.30989841e-03]),\n",
       " 'param_max_depth': masked_array(data=[10, 10, 10, 14, 14, 14, None, None, None],\n",
       "              mask=[False, False, False, False, False, False, False, False,\n",
       "                    False],\n",
       "        fill_value='?',\n",
       "             dtype=object),\n",
       " 'param_n_estimators': masked_array(data=[100, 200, 300, 100, 200, 300, 100, 200, 300],\n",
       "              mask=[False, False, False, False, False, False, False, False,\n",
       "                    False],\n",
       "        fill_value='?',\n",
       "             dtype=object),\n",
       " 'params': [{'max_depth': 10, 'n_estimators': 100},\n",
       "  {'max_depth': 10, 'n_estimators': 200},\n",
       "  {'max_depth': 10, 'n_estimators': 300},\n",
       "  {'max_depth': 14, 'n_estimators': 100},\n",
       "  {'max_depth': 14, 'n_estimators': 200},\n",
       "  {'max_depth': 14, 'n_estimators': 300},\n",
       "  {'max_depth': None, 'n_estimators': 100},\n",
       "  {'max_depth': None, 'n_estimators': 200},\n",
       "  {'max_depth': None, 'n_estimators': 300}],\n",
       " 'split0_test_score': array([0.8952381 , 0.8952381 , 0.96190476, 0.87619048, 0.92380952,\n",
       "        0.8952381 , 0.8952381 , 0.91428571, 0.8952381 ]),\n",
       " 'split1_test_score': array([0.92307692, 0.92307692, 0.93269231, 0.93269231, 0.92307692,\n",
       "        0.92307692, 0.94230769, 0.96153846, 0.91346154]),\n",
       " 'split2_test_score': array([0.94174757, 1.        , 0.96116505, 0.96116505, 0.98058252,\n",
       "        0.96116505, 0.91262136, 0.99029126, 0.98058252]),\n",
       " 'split3_test_score': array([0.9223301 , 0.89320388, 0.88349515, 0.93203883, 0.88349515,\n",
       "        0.88349515, 0.89320388, 0.88349515, 0.90291262]),\n",
       " 'split4_test_score': array([0.91919192, 0.94949495, 0.91919192, 0.94949495, 0.8989899 ,\n",
       "        0.91919192, 0.88888889, 0.92929293, 0.91919192]),\n",
       " 'split5_test_score': array([1., 1., 1., 1., 1., 1., 1., 1., 1.]),\n",
       " 'split6_test_score': array([0.83505155, 0.8556701 , 0.87628866, 0.87628866, 0.87628866,\n",
       "        0.87628866, 0.80412371, 0.83505155, 0.87628866]),\n",
       " 'split7_test_score': array([0.87628866, 0.84536082, 0.83505155, 0.87628866, 0.90721649,\n",
       "        0.83505155, 0.86597938, 0.87628866, 0.83505155]),\n",
       " 'split8_test_score': array([0.91666667, 0.91666667, 0.91666667, 0.91666667, 0.91666667,\n",
       "        0.91666667, 0.91666667, 0.9375    , 0.94791667]),\n",
       " 'split9_test_score': array([0.90625   , 0.83333333, 0.84375   , 0.82291667, 0.83333333,\n",
       "        0.83333333, 0.83333333, 0.83333333, 0.83333333]),\n",
       " 'mean_test_score': array([0.91382766, 0.91182365, 0.91382766, 0.91482966, 0.91482966,\n",
       "        0.90480962, 0.89579158, 0.91683367, 0.91082164]),\n",
       " 'std_test_score': array([0.04014516, 0.05581487, 0.05051542, 0.04874114, 0.04571131,\n",
       "        0.04885038, 0.05144697, 0.05564851, 0.05202629]),\n",
       " 'rank_test_score': array([4, 6, 4, 2, 2, 8, 9, 1, 7], dtype=int32)}"
      ]
     },
     "execution_count": 90,
     "metadata": {},
     "output_type": "execute_result"
    }
   ],
   "source": [
    "grid.cv_results_"
   ]
  },
  {
   "cell_type": "code",
   "execution_count": 91,
   "metadata": {},
   "outputs": [
    {
     "data": {
      "text/plain": [
       "{'max_depth': None, 'n_estimators': 200}"
      ]
     },
     "execution_count": 91,
     "metadata": {},
     "output_type": "execute_result"
    }
   ],
   "source": [
    "grid.best_params_"
   ]
  },
  {
   "cell_type": "code",
   "execution_count": 92,
   "metadata": {},
   "outputs": [],
   "source": [
    "ETC=ExtraTreesClassifier(max_depth=None,n_estimators=200).fit(X,y)"
   ]
  },
  {
   "cell_type": "code",
   "execution_count": null,
   "metadata": {},
   "outputs": [],
   "source": []
  },
  {
   "cell_type": "code",
   "execution_count": 9,
   "metadata": {},
   "outputs": [
    {
     "name": "stderr",
     "output_type": "stream",
     "text": [
      "/home/parkj0/anaconda3/envs/venv/lib/python3.7/site-packages/sklearn/preprocessing/data.py:2553: FutureWarning: The default value of `copy` will change from False to True in 0.23 in order to make it more consistent with the default `copy` values of other functions in :mod:`sklearn.preprocessing.data` and prevent unexpected side effects by modifying the value of `X` inplace. To avoid inplace modifications of `X`, it is recommended to explicitly set `copy=True`\n",
      "  FutureWarning)\n",
      "/home/parkj0/anaconda3/envs/venv/lib/python3.7/site-packages/sklearn/model_selection/_split.py:657: Warning: The least populated class in y has only 4 members, which is too few. The minimum number of members in any class cannot be less than n_splits=10.\n",
      "  % (min_groups, self.n_splits)), Warning)\n"
     ]
    },
    {
     "name": "stdout",
     "output_type": "stream",
     "text": [
      "0.8847188866875395\n"
     ]
    }
   ],
   "source": [
    "#SVM\n",
    "#prepare the data\n",
    "#prepare the model\n",
    "#X=preprocessing.minmax_scale(training_set)\n",
    "#X=preprocessing.robust_scale(training_set)\n",
    "X=preprocessing.quantile_transform(training_set)\n",
    "y=training_label\n",
    "clf = sklearn.svm.SVC(gamma='scale',tol=0.1,probability=True)\n",
    "scores=cross_val_score(clf,X,y,cv=10,scoring='accuracy')\n",
    "print(scores.mean())"
   ]
  },
  {
   "cell_type": "code",
   "execution_count": 58,
   "metadata": {},
   "outputs": [],
   "source": [
    "param_grid={\n",
    " #'kernel':['linear','poly','rbf','sigmoid'], rbf to be best acc\n",
    "    'C':[10,20]}\n",
    "\n",
    "grid=GridSearchCV(estimator=clf,param_grid=param_grid,cv=10,scoring='accuracy')"
   ]
  },
  {
   "cell_type": "code",
   "execution_count": 10,
   "metadata": {},
   "outputs": [
    {
     "name": "stderr",
     "output_type": "stream",
     "text": [
      "/home/parkj0/anaconda3/envs/venv/lib/python3.7/site-packages/sklearn/model_selection/_split.py:657: Warning: The least populated class in y has only 4 members, which is too few. The minimum number of members in any class cannot be less than n_splits=10.\n",
      "  % (min_groups, self.n_splits)), Warning)\n",
      "/home/parkj0/anaconda3/envs/venv/lib/python3.7/site-packages/sklearn/model_selection/_search.py:813: DeprecationWarning: The default of the `iid` parameter will change from True to False in version 0.22 and will be removed in 0.24. This will change numeric results when test-set sizes are unequal.\n",
      "  DeprecationWarning)\n"
     ]
    },
    {
     "data": {
      "text/plain": [
       "{'mean_fit_time': array([0.24235089, 0.3697392 , 0.46288066, 0.55397198]),\n",
       " 'std_fit_time': array([0.01884969, 0.00530118, 0.00664088, 0.00683818]),\n",
       " 'mean_score_time': array([0.00353911, 0.00517144, 0.00630219, 0.00735407]),\n",
       " 'std_score_time': array([0.00034873, 0.00017906, 0.00019981, 0.00010762]),\n",
       " 'param_n_estimators': masked_array(data=[50, 80, 100, 120],\n",
       "              mask=[False, False, False, False],\n",
       "        fill_value='?',\n",
       "             dtype=object),\n",
       " 'params': [{'n_estimators': 50},\n",
       "  {'n_estimators': 80},\n",
       "  {'n_estimators': 100},\n",
       "  {'n_estimators': 120}],\n",
       " 'split0_test_score': array([0.78504673, 0.85981308, 0.85046729, 0.8317757 ]),\n",
       " 'split1_test_score': array([0.98130841, 0.93457944, 0.96261682, 0.94392523]),\n",
       " 'split2_test_score': array([0.92523364, 0.96261682, 0.98130841, 0.99065421]),\n",
       " 'split3_test_score': array([0.92523364, 0.88785047, 0.88785047, 0.88785047]),\n",
       " 'split4_test_score': array([0.91176471, 0.88235294, 0.91176471, 0.92156863]),\n",
       " 'split5_test_score': array([0.92156863, 0.91176471, 0.92156863, 0.92156863]),\n",
       " 'split6_test_score': array([0.79, 0.85, 0.82, 0.84]),\n",
       " 'split7_test_score': array([0.75, 0.76, 0.82, 0.79]),\n",
       " 'split8_test_score': array([0.91836735, 0.87755102, 0.89795918, 0.87755102]),\n",
       " 'split9_test_score': array([0.84536082, 0.83505155, 0.87628866, 0.83505155]),\n",
       " 'mean_test_score': array([0.87633885, 0.87731256, 0.89386563, 0.88510224]),\n",
       " 'std_test_score': array([0.07335885, 0.05333934, 0.05186962, 0.05833753]),\n",
       " 'rank_test_score': array([4, 3, 1, 2], dtype=int32)}"
      ]
     },
     "execution_count": 10,
     "metadata": {},
     "output_type": "execute_result"
    }
   ],
   "source": [
    "grid.fit(X,y)\n",
    "grid.cv_results_"
   ]
  },
  {
   "cell_type": "code",
   "execution_count": 11,
   "metadata": {},
   "outputs": [
    {
     "data": {
      "text/plain": [
       "{'n_estimators': 100}"
      ]
     },
     "execution_count": 11,
     "metadata": {},
     "output_type": "execute_result"
    }
   ],
   "source": [
    "grid.best_params_"
   ]
  },
  {
   "cell_type": "code",
   "execution_count": 12,
   "metadata": {},
   "outputs": [
    {
     "name": "stderr",
     "output_type": "stream",
     "text": [
      "/home/parkj0/anaconda3/envs/venv/lib/python3.7/site-packages/sklearn/svm/base.py:193: FutureWarning: The default value of gamma will change from 'auto' to 'scale' in version 0.22 to account better for unscaled features. Set gamma explicitly to 'auto' or 'scale' to avoid this warning.\n",
      "  \"avoid this warning.\", FutureWarning)\n"
     ]
    }
   ],
   "source": [
    "SVC=sklearn.svm.SVC(100,probability=True).fit(X,y)"
   ]
  },
  {
   "cell_type": "code",
   "execution_count": 13,
   "metadata": {},
   "outputs": [],
   "source": [
    "#save the model\n",
    "\n",
    "from joblib import dump, load\n",
    "filename='./svm.sav'\n",
    "pickle.dump(SVC,open(filename,'wb'))"
   ]
  },
  {
   "cell_type": "code",
   "execution_count": null,
   "metadata": {},
   "outputs": [],
   "source": []
  },
  {
   "cell_type": "code",
   "execution_count": 35,
   "metadata": {},
   "outputs": [
    {
     "data": {
      "text/plain": [
       "['rf.joblib']"
      ]
     },
     "execution_count": 35,
     "metadata": {},
     "output_type": "execute_result"
    }
   ],
   "source": [
    "filename='./rf.sav'\n",
    "pickle.dump(RF,open(filename,'wb'))\n",
    "dump(RF,'rf.joblib')"
   ]
  },
  {
   "cell_type": "code",
   "execution_count": 93,
   "metadata": {},
   "outputs": [
    {
     "data": {
      "text/plain": [
       "['ETC.joblib']"
      ]
     },
     "execution_count": 93,
     "metadata": {},
     "output_type": "execute_result"
    }
   ],
   "source": [
    "filename='./ETC.sav'\n",
    "pickle.dump(ETC,open(filename,'wb'))\n",
    "dump(ETC,'ETC.joblib')"
   ]
  },
  {
   "cell_type": "code",
   "execution_count": null,
   "metadata": {},
   "outputs": [],
   "source": [
    "from sklearn.manifold import TSNE\n",
    "from sklearn.decomposition import PCA\n",
    "from sklearn.decomposition import MiniBatchDictionaryLearning\n",
    "from sklearn.decomposition import IncrementalPCA\n",
    "from sklearn.decomposition import TruncatedSVD\n",
    "\n",
    "\n",
    "\n",
    "fig = plt.figure()\n",
    "ax1 = fig.add_subplot(111, projection='3d')\n",
    "\n",
    "labl=9\n",
    "X=training_set\n",
    "y=labl\n",
    "k=0\n",
    "#X_embedded1 = TSNE(n_components=3).fit_transform(X)\n",
    "X_embedded1 = PCA(n_components=3).fit_transform(X)\n",
    "X_embedded2 = MiniBatchDictionaryLearning(n_components=3,n_iter=1000).fit_transform(X)\n",
    "X_embedded3 = IncrementalPCA(n_components=3).fit_transform(X)\n",
    "X_embedded4 = TruncatedSVD(n_components=3,n_iter=500).fit_transform(X)\n",
    "X_embedded5 = FactorAnalysis(n_components=3).fit_transform(X)\n",
    "\n",
    "\n",
    "   \n",
    "for x in X_embedded1:\n",
    "    ax1.scatter(x[0],x[1],x[2]) \n",
    "    \n",
    "#for x in X_embedded3:\n",
    "#    ax.scatter(x[0],x[1],x[2]) \n",
    "    "
   ]
  },
  {
   "cell_type": "code",
   "execution_count": null,
   "metadata": {},
   "outputs": [],
   "source": []
  },
  {
   "cell_type": "code",
   "execution_count": null,
   "metadata": {},
   "outputs": [],
   "source": []
  }
 ],
 "metadata": {
  "kernelspec": {
   "display_name": "Python 3",
   "language": "python",
   "name": "python3"
  },
  "language_info": {
   "codemirror_mode": {
    "name": "ipython",
    "version": 3
   },
   "file_extension": ".py",
   "mimetype": "text/x-python",
   "name": "python",
   "nbconvert_exporter": "python",
   "pygments_lexer": "ipython3",
   "version": "3.7.3"
  }
 },
 "nbformat": 4,
 "nbformat_minor": 2
}
