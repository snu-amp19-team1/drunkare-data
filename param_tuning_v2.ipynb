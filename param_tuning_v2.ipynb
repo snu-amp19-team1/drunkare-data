{
 "cells": [
  {
   "cell_type": "code",
   "execution_count": 41,
   "metadata": {},
   "outputs": [],
   "source": [
    "##complex data와 똑같이 40ms로 parsing했음 데이터 4배라고 생각하고 뻥튀기시켜봄 정확도는 10ms와 비슷하게 나옴\n",
    "\n",
    "import csv\n",
    "import matplotlib.pyplot as plt\n",
    "import numpy as np\n",
    "import pandas as pd\n",
    "import tensorflow as tf\n",
    "import sklearn\n",
    "from sklearn import svm\n",
    "from datetime import datetime\n",
    "import glob\n",
    "import pickle\n",
    "import re\n",
    "from sklearn import preprocessing\n",
    "from mpl_toolkits.mplot3d import Axes3D\n",
    "from sklearn.metrics import confusion_matrix\n",
    "from sklearn.metrics import accuracy_score\n",
    "from sklearn.metrics import f1_score\n",
    "\n",
    "from sklearn.preprocessing import OneHotEncoder\n",
    "from sklearn.model_selection import cross_val_score \n",
    "from sklearn.model_selection import GridSearchCV\n",
    "from scipy import signal\n",
    "\n",
    "#filename queue\n",
    "filename_queue=glob.glob('./label/label[0-9]*.csv')\n",
    "#filename_queue=glob.glob('./label/label[6].csv')\n"
   ]
  },
  {
   "cell_type": "code",
   "execution_count": 46,
   "metadata": {},
   "outputs": [
    {
     "name": "stdout",
     "output_type": "stream",
     "text": [
      "label :  12\n",
      "(248, 450)\n",
      "data_set_arr :  248\n",
      "data_set_arr[] :  [[-2.1239652  -2.8986654   9.02409984 ... 63.490002   17.08\n",
      "   8.33      ]\n",
      " [-2.15430604 -2.86928136  8.9361396  ... 63.279999   18.129999\n",
      "   7.84      ]\n",
      " [-2.16100592 -2.72887064  8.91709284 ... 56.630001   17.710001\n",
      "   9.03      ]\n",
      " ...\n",
      " [ 0.45367912 -1.98642568  9.30415568 ... 55.860001   -2.8\n",
      "  -5.6       ]\n",
      " [ 0.47607596 -2.031315    9.2534278  ... 58.170002   -3.15\n",
      "  -6.16      ]\n",
      " [ 0.5132126  -1.9665174   9.30520856 ... 54.599998   -2.8\n",
      "  -4.34      ]]\n",
      "data_set_arr :  229\n",
      "label :  8\n",
      "(68, 450)\n",
      "data_set_arr :  68\n",
      "data_set_arr[] :  [[ -0.99445704  -5.50167352   4.88729244 ... 116.900002    28.\n",
      "    5.53      ]\n",
      " [ -1.08605444  -5.62648324   4.78956956 ... 120.610001    26.880001\n",
      "    5.95      ]\n",
      " [ -1.12826372  -5.67165984   4.70285344 ... 125.93        24.780001\n",
      "    4.97      ]\n",
      " ...\n",
      " [ -0.70348984  -5.811209     6.13940872 ...  41.439999     8.19\n",
      "   24.639999  ]\n",
      " [ -0.60279984  -5.87983512   6.36213252 ...  42.98         7.35\n",
      "   24.43      ]\n",
      " [ -0.66989476  -6.04216432   6.11442728 ...  43.540001     8.26\n",
      "   21.91      ]]\n",
      "data_set_arr :  56\n",
      "label :  7\n",
      "(68, 450)\n",
      "data_set_arr :  68\n",
      "data_set_arr[] :  [[-1.46603452 -2.07419428  8.87354328 ...  1.54        3.71\n",
      "   5.32      ]\n",
      " [-1.50527688 -2.07400296  8.85306088 ...  1.96        4.55\n",
      "   5.39      ]\n",
      " [-1.5452848  -2.06175184  8.88349768 ...  1.4         4.9\n",
      "   5.32      ]\n",
      " ...\n",
      " [-1.9102382  -1.29623992  9.29860456 ... 66.150002    6.93\n",
      "  12.18      ]\n",
      " [-1.8999012  -1.33404644  9.2786964  ... 79.870003    7.49\n",
      "  11.2       ]\n",
      " [-1.8556818  -1.35405036  9.22011968 ... 42.490002    9.17\n",
      "  12.04      ]]\n",
      "data_set_arr :  57\n",
      "label :  4\n",
      "(4, 450)\n",
      "data_set_arr :  4\n",
      "data_set_arr[] :  [[ 1.69249124e+00 -5.97631440e-01  9.81468852e+00  1.57080004e+00\n",
      "  -1.84520000e+00 -5.93600000e-01 -1.05954160e-01 -3.31482500e+00\n",
      "   8.80597012e+00 -2.88428004e+01  2.09384001e+01  7.78399996e+00\n",
      "  -2.08663704e+00 -5.78603656e+00  7.73360280e+00 -9.08039984e+00\n",
      "   6.00879996e+00 -5.07360000e+00 -2.40373384e+00 -6.31207460e+00\n",
      "   7.34586976e+00 -3.02679976e+00 -8.96000000e-02  5.34800000e-01\n",
      "  -2.35300604e+00 -6.64132704e+00  7.01278884e+00 -1.48400000e+00\n",
      "  -1.12840000e+00  3.27880000e+00 -2.12501796e+00 -6.49278060e+00\n",
      "   7.08371204e+00 -1.98798960e-01 -1.17600008e+00 -3.87239988e+00\n",
      "   9.25319456e-02  8.17609944e-02  8.83661409e-02  1.23374255e+01\n",
      "   5.82217837e+00  1.02135158e+00  1.91054252e+00  2.83157799e+00\n",
      "   2.15871260e+00  1.02502928e+02  3.90170648e+01  1.60826305e+01\n",
      "   1.00425639e+00  1.23332422e+00  6.50637981e-01  3.74142006e+01\n",
      "   1.18389628e+01  1.26390017e+01  6.07528547e-01  7.93162765e-01\n",
      "   6.12334649e-01  2.36651549e+01  7.06486998e+00  9.82043629e+00\n",
      "   7.10969642e-01  7.56161919e-01  6.58169890e-01  3.84859361e+01\n",
      "   9.49128387e+00  1.47880918e+01  3.85934176e-01  2.04811127e+00\n",
      "   1.05951488e+00  8.02769171e+01  2.32899251e+01  2.02308933e+01\n",
      "   1.68454700e+00 -6.05384000e-01  9.80578700e+00 -5.60000000e-01\n",
      "  -4.90000000e-01 -2.80000000e-01 -1.26820000e-01 -2.72063900e+00\n",
      "   9.11665400e+00 -3.71000000e+00  2.73000000e+00  2.66000000e+00\n",
      "  -2.00040000e+00 -6.04187700e+00  7.71206700e+00 -7.63000000e+00\n",
      "   4.62000000e+00 -9.73000000e+00 -2.17986100e+00 -6.52522700e+00\n",
      "   7.46560700e+00 -2.87000000e+00  7.00000000e-01 -8.40000000e-01\n",
      "  -2.27557400e+00 -6.71426000e+00  7.00379100e+00  5.25000000e+00\n",
      "   1.40000000e-01 -2.31000000e+00 -2.13200500e+00 -6.88175800e+00\n",
      "   6.78843800e+00  1.56800000e+01 -9.94000000e+00 -3.50000000e+00\n",
      "   1.63908300e+00 -6.48455000e-01  9.77707300e+00 -1.05000000e+00\n",
      "  -1.05000000e+00 -1.19000000e+00 -1.67736900e+00 -5.92462900e+00\n",
      "   7.67139000e+00 -6.98600010e+01  7.00000000e-02 -2.80000000e-01\n",
      "  -2.54117800e+00 -6.47019200e+00  7.25264500e+00 -2.30300010e+01\n",
      "  -4.13000000e+00 -1.35800000e+01 -2.67039000e+00 -6.80040200e+00\n",
      "   6.81954400e+00 -2.07900010e+01 -4.48000000e+00 -7.91000000e+00\n",
      "  -2.91206500e+00 -7.09232600e+00  6.52522700e+00 -2.86300010e+01\n",
      "  -7.14000000e+00 -5.39000000e+00 -2.33060900e+00 -8.40837900e+00\n",
      "   6.51087000e+00 -6.53799970e+01 -2.21900010e+01 -2.33099990e+01\n",
      "   1.71086800e+00 -5.71885000e-01  9.83928600e+00  3.50000000e-01\n",
      "  -2.80000000e-01  2.10000000e-01  1.64626200e+00 -6.89133000e-01\n",
      "   9.81535800e+00  2.84200000e+01  4.32599980e+01  1.69400010e+01\n",
      "  -1.54097800e+00 -5.21396100e+00  8.29591600e+00  1.02900000e+01\n",
      "   1.35100000e+01  4.69000000e+00 -1.98125700e+00 -5.87677200e+00\n",
      "   7.76949500e+00  1.12700000e+01  3.57000000e+00  7.35000000e+00\n",
      "  -1.87597300e+00 -6.17348200e+00  7.50389200e+00  2.42199990e+01\n",
      "   3.99000000e+00  1.07800000e+01 -1.91425800e+00 -5.30967300e+00\n",
      "   8.13081100e+00  7.76299970e+01  1.89000000e+01  1.14800000e+01]\n",
      " [ 1.67555008e+00 -6.03757000e-01  9.82473828e+00 -2.23160008e+00\n",
      "  -2.24000000e-01 -3.55600000e-01 -1.04901400e-01 -3.38402536e+00\n",
      "   9.25706504e+00 -2.98927998e+01  2.01572002e+01  6.30280012e+00\n",
      "  -2.10262108e+00 -5.85772548e+00  7.70967436e+00 -7.91279980e+00\n",
      "   5.99200016e+00 -4.84399996e+00 -2.35731308e+00 -6.30786340e+00\n",
      "   7.25944104e+00 -3.11080000e+00 -6.88800040e-01  3.02400040e-01\n",
      "  -2.34113764e+00 -6.55748252e+00  7.01633020e+00 -1.93200044e+00\n",
      "  -5.65600080e-01  3.01559992e+00 -2.10683232e+00 -6.55202704e+00\n",
      "   7.05796540e+00  2.39680068e+00 -2.00760016e+00 -3.31800000e+00\n",
      "   1.00508279e-01  1.08203667e-01  9.14168415e-02  7.55746751e+00\n",
      "   2.17581801e+00  1.13372688e+00  1.88711353e+00  3.06631154e+00\n",
      "   3.30329710e+00  1.02383630e+02  3.97956225e+01  1.48152612e+01\n",
      "   9.97414438e-01  1.07934924e+00  6.56288582e-01  3.65633873e+01\n",
      "   1.20389583e+01  1.21722895e+01  6.36500182e-01  7.74874123e-01\n",
      "   5.54348266e-01  2.31222712e+01  6.96600054e+00  9.90378491e+00\n",
      "   7.06558048e-01  7.03491930e-01  7.52478243e-01  4.49346754e+01\n",
      "   1.09715869e+01  1.44766756e+01  3.52471803e-01  2.06789247e+00\n",
      "   9.79947843e-01  7.89282412e+01  2.25682582e+01  2.02511055e+01\n",
      "   1.67019000e+00 -6.05384000e-01  9.80100200e+00 -2.80000000e-01\n",
      "  -4.20000000e-01 -3.50000000e-01 -4.80957000e-01 -2.84745900e+00\n",
      "   9.00179900e+00 -4.20000000e+00  6.86000000e+00  3.57000000e+00\n",
      "  -1.95972200e+00 -6.15912600e+00  7.72642400e+00 -2.38000000e+00\n",
      "   4.48000000e+00 -6.72000000e+00 -2.15354000e+00 -6.33619500e+00\n",
      "   7.19761100e+00  4.90000000e-01 -1.19000000e+00 -2.17000000e+00\n",
      "  -2.25164600e+00 -6.62333300e+00  6.95354300e+00  5.39000000e+00\n",
      "  -2.80000000e-01  9.10000000e-01 -2.11286200e+00 -6.81715200e+00\n",
      "   6.89133000e+00  1.88300000e+01 -3.99000000e+00 -2.10000000e+00\n",
      "   1.63429800e+00 -6.41276000e-01  9.77228700e+00 -1.47000000e+00\n",
      "  -1.05000000e+00 -1.12000000e+00 -1.89272300e+00 -6.10169800e+00\n",
      "   7.86999300e+00 -9.69499970e+01 -2.10000000e-01 -2.10000000e-01\n",
      "  -2.65842600e+00 -6.58504800e+00  7.08993300e+00 -2.79300000e+01\n",
      "  -1.47000000e+00 -1.38600000e+01 -2.83549500e+00 -6.75493900e+00\n",
      "   6.84108000e+00 -2.24699990e+01 -3.92000000e+00 -8.89000000e+00\n",
      "  -2.95274300e+00 -6.97507800e+00  6.70468900e+00 -1.63099990e+01\n",
      "  -6.51000000e+00 -8.89000000e+00 -2.31385900e+00 -8.14756100e+00\n",
      "   6.35294400e+00 -7.03499980e+01 -2.07199990e+01 -1.93899990e+01\n",
      "   1.70608200e+00 -5.76670000e-01  9.86560800e+00  4.20000000e-01\n",
      "  -2.10000000e-01  2.80000000e-01  1.69890400e+00 -6.34098000e-01\n",
      "   9.82732200e+00  3.50700000e+01  3.83600010e+01  1.38600000e+01\n",
      "  -1.61276300e+00 -5.27138800e+00  8.13081100e+00  1.02900000e+01\n",
      "   1.18300000e+01  8.54000000e+00 -1.79701000e+00 -6.12084000e+00\n",
      "   7.64267500e+00  1.26000000e+01  3.08000000e+00  7.84000000e+00\n",
      "  -1.93818600e+00 -6.22851800e+00  7.42732100e+00  2.76500000e+01\n",
      "   3.08000000e+00  9.80000000e+00 -1.94057900e+00 -5.25463900e+00\n",
      "   7.67856800e+00  7.86800000e+01  1.25300000e+01  1.54700000e+01]\n",
      " [ 1.68856712e+00 -6.13232600e-01  9.82473828e+00 -1.88720000e+00\n",
      "  -3.38800000e-01 -4.42400000e-01  5.45564000e-03 -3.13699044e+00\n",
      "   8.86722640e+00 -3.06263998e+01  1.94852005e+01  5.38720000e+00\n",
      "  -2.14186332e+00 -5.88127084e+00  7.77217500e+00 -7.42840008e+00\n",
      "   6.25799996e+00 -4.31200004e+00 -2.35913168e+00 -6.31762608e+00\n",
      "   7.22986568e+00 -3.50560012e+00 -7.36400000e-01  6.72000400e-02\n",
      "  -2.37100012e+00 -6.47976372e+00  6.98761628e+00 -3.30679980e+00\n",
      "  -3.33200040e-01  2.81960016e+00 -2.10376964e+00 -6.62429012e+00\n",
      "   6.99833636e+00  4.74600020e+00 -2.56479988e+00 -2.73840000e+00\n",
      "   8.91048293e-02  1.01477259e-01  5.45937356e-02  6.28079009e+00\n",
      "   1.16472596e+00  9.78943430e-01  1.91009320e+00  2.79722047e+00\n",
      "   2.11911003e+00  1.00434199e+02  3.86167866e+01  1.50947201e+01\n",
      "   9.47226289e-01  1.10601795e+00  6.43829669e-01  3.43763229e+01\n",
      "   1.25411716e+01  1.22031344e+01  6.00328245e-01  7.83181683e-01\n",
      "   5.72255606e-01  2.29903179e+01  6.86240301e+00  1.00080218e+01\n",
      "   8.31510986e-01  9.30098503e-01  8.86568285e-01  4.90522378e+01\n",
      "   1.19381062e+01  1.43494540e+01  3.91347528e-01  1.93455551e+00\n",
      "   8.98498462e-01  7.59473490e+01  2.17810926e+01  1.99150019e+01\n",
      "   1.67497600e+00 -6.12563000e-01  9.82253700e+00 -3.50000000e-01\n",
      "  -4.90000000e-01 -7.00000000e-02  2.39280000e-02 -2.07936300e+00\n",
      "   8.84148000e+00 -4.90000000e+00  6.65000000e+00  2.03000000e+00\n",
      "  -2.04107800e+00 -6.10648300e+00  7.82213700e+00 -9.73000000e+00\n",
      "   5.39000000e+00 -7.70000000e+00 -2.30189500e+00 -6.46540700e+00\n",
      "   7.07318400e+00 -3.36000000e+00 -5.60000000e-01 -3.64000000e+00\n",
      "  -2.28993100e+00 -6.65444000e+00  7.04686300e+00  5.81000000e+00\n",
      "  -8.40000000e-01  1.47000000e+00 -2.17986100e+00 -7.48953500e+00\n",
      "   6.74536700e+00  1.56800000e+01 -4.20000000e+00 -4.13000000e+00\n",
      "   1.64626200e+00 -6.38884000e-01  9.77946700e+00 -1.82000000e+00\n",
      "  -9.80000000e-01 -9.80000000e-01 -1.88793700e+00 -5.14456800e+00\n",
      "   7.66899700e+00 -7.40599980e+01 -3.50000000e-01 -1.40000000e-01\n",
      "  -2.76849600e+00 -6.63769000e+00  7.26939500e+00 -2.94699990e+01\n",
      "  -3.71000000e+00 -1.37200000e+01 -2.70389000e+00 -6.79322300e+00\n",
      "   6.80279500e+00 -2.31700000e+01 -5.32000000e+00 -9.66000000e+00\n",
      "  -3.02452800e+00 -7.07318400e+00  6.73579500e+00 -2.28899990e+01\n",
      "  -2.94000000e+00 -7.98000000e+00 -2.32343100e+00 -7.98963500e+00\n",
      "   6.28594500e+00 -6.43300020e+01 -2.10700000e+01 -1.91800000e+01\n",
      "   1.72522500e+00 -5.76670000e-01  9.86321500e+00  7.00000000e-02\n",
      "  -7.00000000e-02  1.40000000e-01  1.69651100e+00 -6.74776000e-01\n",
      "   9.82492900e+00  2.21200010e+01  3.82900010e+01  1.14800000e+01\n",
      "  -1.43330100e+00 -5.33360100e+00  8.20498800e+00  1.24600000e+01\n",
      "   1.25300000e+01  7.35000000e+00 -1.85204500e+00 -6.04427000e+00\n",
      "   7.62831900e+00  1.61000000e+01  3.43000000e+00  8.89000000e+00\n",
      "  -1.95015000e+00 -6.31705200e+00  7.31964400e+00  2.35900000e+01\n",
      "   3.29000000e+00  8.54000000e+00 -1.91665100e+00 -4.80718100e+00\n",
      "   7.85324400e+00  7.35700000e+01  1.47700000e+01  1.05000000e+01]\n",
      " [ 1.68196292e+00 -5.98779960e-01  9.82378132e+00 -5.04000000e-02\n",
      "  -1.05560000e+00 -4.14400000e-01 -1.51513600e-01 -3.15192176e+00\n",
      "   8.55414940e+00 -3.28412008e+01  2.11008002e+01  6.40079996e+00\n",
      "  -2.13171776e+00 -5.86452112e+00  7.78011920e+00 -6.25799992e+00\n",
      "   6.16560012e+00 -3.95640004e+00 -2.40287260e+00 -6.33724716e+00\n",
      "   7.28825064e+00 -3.36280008e+00 -6.27200000e-01 -2.04400040e-01\n",
      "  -2.34592336e+00 -6.47047956e+00  7.18545496e+00 -6.72000012e+00\n",
      "   4.03200080e-01  2.58440000e+00 -2.15928316e+00 -6.69655352e+00\n",
      "   7.04399120e+00  6.64440000e+00 -3.03240012e+00 -2.09719988e+00\n",
      "   7.25303445e-02  8.08711338e-02  6.86637697e-02  5.03208067e+00\n",
      "   2.40530593e+00  1.21371522e+00  1.79137959e+00  2.82293414e+00\n",
      "   1.98243953e+00  1.01620770e+02  3.76675100e+01  1.81530186e+01\n",
      "   9.77391276e-01  1.17438801e+00  6.33620511e-01  3.21662794e+01\n",
      "   1.23941191e+01  1.25681348e+01  6.10872933e-01  7.70659809e-01\n",
      "   5.78581967e-01  2.36806306e+01  6.72733083e+00  9.85613753e+00\n",
      "   7.93920575e-01  9.61486878e-01  8.13177600e-01  4.97806216e+01\n",
      "   1.25902943e+01  1.51347436e+01  3.91599214e-01  1.87943911e+00\n",
      "   9.56966227e-01  7.32223478e+01  2.15046082e+01  2.02217922e+01\n",
      "   1.69172600e+00 -5.83849000e-01  9.81296500e+00 -6.30000000e-01\n",
      "  -6.30000000e-01 -2.80000000e-01 -2.75175000e-01 -2.40718000e+00\n",
      "   8.67158900e+00 -5.39000000e+00  1.16200000e+01  1.05000000e+00\n",
      "  -2.08654100e+00 -6.04905600e+00  7.83410100e+00 -1.19000000e+01\n",
      "   6.72000000e+00 -6.23000000e+00 -2.29471700e+00 -6.58026200e+00\n",
      "   7.38664300e+00 -3.50000000e-01 -3.50000000e-01 -7.70000000e-01\n",
      "  -2.18704000e+00 -6.64486800e+00  7.26939500e+00  6.09000000e+00\n",
      "  -3.50000000e-01  9.80000000e-01 -2.17986100e+00 -7.27657400e+00\n",
      "   6.80040200e+00  3.89200020e+01 -4.41000000e+00 -4.20000000e-01\n",
      "   1.63908300e+00 -6.26920000e-01  9.78903800e+00 -1.19000000e+00\n",
      "  -1.05000000e+00 -9.10000000e-01 -1.72761800e+00 -6.12562600e+00\n",
      "   7.25743100e+00 -1.02059998e+02  5.60000000e-01 -4.90000000e-01\n",
      "  -2.64167600e+00 -6.64726100e+00  7.23350300e+00 -1.98799990e+01\n",
      "  -6.44000000e+00 -1.38600000e+01 -2.58424900e+00 -6.78604500e+00\n",
      "   6.81236600e+00 -2.77199990e+01 -4.76000000e+00 -8.33000000e+00\n",
      "  -2.90488700e+00 -6.98465000e+00  6.74536700e+00 -2.75800000e+01\n",
      "  -2.45000000e+00 -8.33000000e+00 -2.33778800e+00 -7.92742200e+00\n",
      "   6.61376200e+00 -4.60600010e+01 -2.19800000e+01 -2.07199990e+01\n",
      "   1.72761800e+00 -5.57528000e-01  9.86800000e+00  3.50000000e-01\n",
      "   1.40000000e-01  2.80000000e-01  1.67019000e+00 -6.65205000e-01\n",
      "   9.80578700e+00  3.73100010e+01  4.17900010e+01  1.09200000e+01\n",
      "  -1.47397900e+00 -5.43649200e+00  8.17388200e+00  1.84800000e+01\n",
      "   1.12700000e+01  8.40000000e+00 -1.93340100e+00 -6.06102000e+00\n",
      "   7.74796000e+00  1.38600000e+01  5.39000000e+00  1.02200000e+01\n",
      "  -1.94775800e+00 -6.37926600e+00  7.64985400e+00  1.96000000e+01\n",
      "   3.15000000e+00  8.75000000e+00 -2.01954200e+00 -5.40299400e+00\n",
      "   7.74078100e+00  7.75599980e+01  1.31600000e+01  1.37200000e+01]]\n",
      "data_set_arr :  4\n",
      "label :  5\n",
      "(136, 450)\n"
     ]
    },
    {
     "name": "stdout",
     "output_type": "stream",
     "text": [
      "data_set_arr :  136\n",
      "data_set_arr[] :  [[-1.32284804 -3.97265972  7.42856568 ...  0.42        0.77\n",
      "   0.63      ]\n",
      " [-1.39051708 -4.14628308  7.45967244 ...  0.14        1.05\n",
      "   0.42      ]\n",
      " [-1.4467006  -4.15776856  7.3433812  ...  0.49        1.4\n",
      "   0.35      ]\n",
      " ...\n",
      " [-1.20703544 -6.15060696  6.36978956 ...  8.89        2.52\n",
      "  -6.09      ]\n",
      " [-1.13860084 -6.29398492  6.34165    ...  7.42        0.91\n",
      "  -5.6       ]\n",
      " [-1.19172144 -6.3944836   6.33322724 ...  7.63        1.75\n",
      "  -4.97      ]]\n",
      "data_set_arr :  120\n",
      "label :  13\n",
      "(36, 450)\n",
      "data_set_arr :  36\n",
      "data_set_arr[] :  [[-5.1785468  -2.42048364  7.837834   ... 97.019997    7.98\n",
      "   5.32      ]\n",
      " [-5.23128456 -2.47130724  7.80529152 ... 89.739998    7.42\n",
      "   6.3       ]\n",
      " [-5.21549184 -2.50289256  7.76700648 ... 91.699997    8.12\n",
      "   5.95      ]\n",
      " ...\n",
      " [-5.23903724 -3.4564802   6.98369224 ... 66.779999    3.99\n",
      "  12.11      ]\n",
      " [-5.29790088 -3.44901452  6.91238604 ... 66.5         3.5\n",
      "  11.55      ]\n",
      " [-5.416489   -3.42613916  6.8614666  ... 56.84        3.57\n",
      "  12.32      ]]\n",
      "data_set_arr :  28\n",
      "label :  9\n",
      "(72, 450)\n",
      "data_set_arr :  72\n",
      "data_set_arr[] :  [[ -2.04883048  -0.84887772   9.54774508 ...  96.949997    35.490002\n",
      "   33.670002  ]\n",
      " [ -2.0160966   -0.87290176   9.57234344 ...  96.599998    36.330002\n",
      "   33.740002  ]\n",
      " [ -2.04586328  -0.83758368   9.53051696 ...  96.110001    35.560001\n",
      "   38.639999  ]\n",
      " ...\n",
      " [ -1.66904168  -5.29014804   8.04725396 ...  63.07        21.559999\n",
      "   -4.48      ]\n",
      " [ -1.70799676  -5.27349404   8.05309232 ...  65.660004    21.91\n",
      "   -8.12      ]\n",
      " [ -1.73862488  -5.3247004    8.08075324 ...  65.590004    19.25\n",
      "  -11.69      ]]\n",
      "data_set_arr :  65\n",
      "label :  10\n",
      "(136, 450)\n",
      "data_set_arr :  136\n",
      "data_set_arr[] :  [[-2.08060712  0.07714456  9.84062652 ...  2.66        1.26\n",
      "   0.49      ]\n",
      " [-2.0400248   0.1647218   9.91040132 ...  1.96        1.12\n",
      "   1.19      ]\n",
      " [-2.13171796  0.17352748  9.8430194  ...  2.66        1.05\n",
      "   1.05      ]\n",
      " ...\n",
      " [-3.37541132 -5.28258664  7.48369636 ... -4.97        8.61\n",
      "   3.5       ]\n",
      " [-3.348516   -5.36930252  7.48886488 ... -3.78        8.4\n",
      "   3.36      ]\n",
      " [-3.3194192  -5.36489972  7.42990564 ... -3.08        8.68\n",
      "   3.15      ]]\n",
      "data_set_arr :  121\n",
      "label :  0\n",
      "(124, 450)\n",
      "data_set_arr :  124\n",
      "data_set_arr[] :  [[-4.00788212 -3.81100068  5.22659444 ...  1.33        0.35\n",
      "   1.75      ]\n",
      " [-4.139679   -4.05899296  5.22611628 ...  1.54        0.49\n",
      "   1.54      ]\n",
      " [-4.14475168 -4.13307464  4.98310104 ...  1.89        0.77\n",
      "   1.89      ]\n",
      " ...\n",
      " [-3.63795184 -5.37916096  6.0936578  ... 76.019997    1.54\n",
      "   2.94      ]\n",
      " [-3.69155112 -5.40806616  5.9757396  ... 75.669998    0.21\n",
      "   2.59      ]\n",
      " [-3.67202548 -5.45429548  5.88280232 ... 74.900002    2.17\n",
      "   2.87      ]]\n",
      "data_set_arr :  115\n",
      "label :  6\n",
      "(228, 450)\n",
      "data_set_arr :  228\n",
      "data_set_arr[] :  [[  3.635559    -5.297135     4.97515688 ...   6.02        16.940001\n",
      "   29.889999  ]\n",
      " [  3.65192584  -5.33302732   4.91926048 ...  12.53        16.309999\n",
      "   31.290001  ]\n",
      " [  3.68800976  -5.3934222    4.849007   ...  19.530001    15.82\n",
      "   32.970001  ]\n",
      " ...\n",
      " [ -0.55676196  -5.04694148   7.91899876 ...   5.46        -4.97\n",
      "  -13.79      ]\n",
      " [ -0.47741596  -5.06206396   7.89468752 ...   6.93        -6.65\n",
      "  -14.91      ]\n",
      " [ -0.5765746   -5.25396848   7.75408524 ...   6.09        -6.37\n",
      "  -14.14      ]]\n",
      "data_set_arr :  208\n"
     ]
    }
   ],
   "source": [
    "\"\"\"training_set2=list()\n",
    "training_label2=list()\n",
    "test_set2=list()\n",
    "test_label2=list()\n",
    "traininglabel_count2=np.zeros(16)\n",
    "testlabel_count2=np.zeros(16)\n",
    "\"\"\"\n",
    "training_set=list()\n",
    "\n",
    "test_set=list()\n",
    "training_label=list()\n",
    "test_label=list()\n",
    "index=[1,2,3,11,14,15]\n",
    "label_count=np.zeros(16)\n",
    "traininglabel_count=np.zeros(16)\n",
    "testlabel_count=np.zeros(16)\n",
    "ldata=list()\n",
    "\n",
    "for filename in filename_queue:\n",
    "    with open(filename,newline='') as data:\n",
    "        \n",
    "        data_set=list()\n",
    "        data_set2=list()\n",
    "        data_label=list()\n",
    "        reader=csv.reader(data)\n",
    "        label=re.findall('\\d+',filename)\n",
    "        label=int(label[0])\n",
    "        label_count[label]+=1\n",
    "        if label in index:\n",
    "            continue\n",
    "        if label not in index:\n",
    "            print('label : ', label)\n",
    "            for row in reader:\n",
    "                row[0:]=[float(i) for i in row[0:]]\n",
    "                X_acc=list(row[i] for i in range(150))\n",
    "                Y_acc=list(row[i+150] for i in range(150))\n",
    "                Z_acc=list(row[i+300] for i in range(150))\n",
    "                X_gyro=list(row[i+450] for i in range(150))\n",
    "                Y_gyro=list(row[i+600] for i in range(150))\n",
    "                Z_gyro=list(row[i+750] for i in range(150))\n",
    "\n",
    "                window=np.array([X_acc[0:25],Y_acc[0:25],Z_acc[0:25],X_gyro[0:25],Y_gyro[0:25],Z_gyro[0:25],\n",
    "                                  X_acc[25:50],Y_acc[25:50],Z_acc[25:50],X_gyro[25:50],Y_gyro[25:50],Z_gyro[25:50],\n",
    "                                  X_acc[50:75],Y_acc[50:75],Z_acc[50:75],X_gyro[50:75],Y_gyro[50:75],Z_gyro[50:75],\n",
    "                                  X_acc[75:100],Y_acc[75:100],Z_acc[75:100],X_gyro[75:100],Y_gyro[75:100],Z_gyro[75:100],\n",
    "                                  X_acc[100:125],Y_acc[100:125],Z_acc[100:125],X_gyro[100:125],Y_gyro[100:125],Z_gyro[100:125],\n",
    "                                  X_acc[125:150],Y_acc[125:150],Z_acc[125:150],X_gyro[125:150],Y_gyro[125:150],Z_gyro[125:150]])\n",
    "\n",
    "                \n",
    "                window2=np.array([[X_acc[0:25],X_acc[25:50],X_acc[50:75],X_acc[75:100],X_acc[100:125],X_acc[125:150]],\n",
    "                    [Y_acc[0:25],Y_acc[25:50],Y_acc[50:75],Y_acc[75:100],Y_acc[100:125],Y_acc[125:150]],\n",
    "                    [Z_acc[0:25],Z_acc[25:50],Z_acc[50:75],Z_acc[75:100],Z_acc[100:125],Z_acc[125:150]]])\n",
    "               \n",
    "            \n",
    "            \n",
    "                \"\"\"\n",
    "                window4=np.array([[X_gyro[0:25],X_gyro[25:50],X_gyro[50:75],X_gyro[75:100],X_gyro[100:125],X_gyro[125:150]],\n",
    "                    [Y_gyro[0:25],Y_gyro[25:50],Y_gyro[50:75],Y_gyro[75:100],Y_gyro[100:125],Y_gyro[125:150]],\n",
    "                    [Z_gyro[0:25],Z_gyro[25:50],Z_gyro[50:75],Z_gyro[75:100],Z_gyro[100:125],Z_gyro[125:150]]])\n",
    "                \"\"\"\n",
    "                \n",
    "                \n",
    "                \n",
    "                window_mean=window.mean(axis=-1)\n",
    "                window_stddev=window.std(axis=-1)\n",
    "                window_median=np.median(window,axis=-1)\n",
    "                window_percent25=np.percentile(window,25,axis=-1)\n",
    "                window_percent75=np.percentile(window,75,axis=-1)\n",
    "                window_feature=np.array([[window_mean],[window_stddev],[window_median],[window_percent25],[window_percent75]])\n",
    "                window_feature=window_feature.reshape(180)\n",
    "                \n",
    "                #Drop outliers1 \n",
    "                xm=window_stddev[[0,6,12,18,24,30]].mean(axis=0)\n",
    "                ym=window_stddev[[1,7,13,19,25,31]].mean(axis=0)\n",
    "                zm=window_stddev[[2,8,14,20,26,32]].mean(axis=0)\n",
    "                action=np.mean([xm,ym,zm])\n",
    "                if(action<0.65):\n",
    "                    label_count[label]-=1\n",
    "                    continue\n",
    "                \n",
    "                window2=window2.reshape(-1)\n",
    "                #window_RMS=np.roots(np.square(window2[0:6]).mean(axis=-1))\n",
    "                #if (label_count[label]>=0):\n",
    "                data_set.append(window_feature)\n",
    "                data_set2.append(window2)\n",
    "                data_label.append(label)\n",
    "            \n",
    "                #else:\n",
    "                #    test_set.append(window_feature)\n",
    "                #    test_label.append(label)\n",
    "                #    testlabel_count[label]+=1\n",
    "                \n",
    "            from sklearn.manifold import TSNE\n",
    "            from sklearn.decomposition import PCA\n",
    "            from sklearn.decomposition import MiniBatchDictionaryLearning\n",
    "            from sklearn.decomposition import IncrementalPCA\n",
    "            from sklearn.decomposition import TruncatedSVD\n",
    "\n",
    "\n",
    "            print(np.shape(data_set2))\n",
    "\n",
    "            data_set2=np.array(data_set2)\n",
    "            X_embedded2 = MiniBatchDictionaryLearning(n_components=3,n_iter=1000).fit_transform(data_set2)\n",
    "            #fig = plt.figure()\n",
    "            #ax2 = fig.add_subplot(111, projection='3d')\n",
    "            #for x in X_embedded2:\n",
    "            #    ax2.scatter(x[0],x[1],x[2]) \n",
    "\n",
    "            from scipy import stats\n",
    "            z = np.abs(stats.zscore(X_embedded2))\n",
    "            #X_embedded2 = X_embedded2[(abs(z) <1.8).all(axis=1)]\n",
    "            data_set_arr=np.array(data_set)\n",
    "            data_label_arr=np.array(data_label)\n",
    "            data_set_arr=data_set_arr[(abs(z) <2).all(axis=1)]\n",
    "            data_label_arr=data_label_arr[(abs(z) <2).all(axis=1)]\n",
    "\n",
    "            #print(np.shape(data_set_arr))\n",
    "            #print(np.shape(data_label_arr))\n",
    "\n",
    "            for x in data_set_arr:\n",
    "                training_set.append(x)\n",
    "            for y in data_label_arr:\n",
    "                training_label.append(y)\n",
    "                \n",
    "                \n",
    "\n",
    "            #fig2 = plt.figure()\n",
    "            #ax2 = fig2.add_subplot(111, projection='3d')\n",
    "            #for x in X_embedded2:\n",
    "            #    ax2.scatter(x[0],x[1],x[2]) \n"
   ]
  },
  {
   "cell_type": "code",
   "execution_count": 47,
   "metadata": {},
   "outputs": [
    {
     "name": "stdout",
     "output_type": "stream",
     "text": [
      "(1003, 180)\n"
     ]
    }
   ],
   "source": [
    "X=training_set\n",
    "y=training_label\n",
    "\n",
    "print(np.shape(X))"
   ]
  },
  {
   "cell_type": "code",
   "execution_count": 70,
   "metadata": {},
   "outputs": [],
   "source": [
    "from sklearn.ensemble import RandomForestClassifier\n",
    "from sklearn.model_selection import GridSearchCV\n",
    "\n",
    "#X=preprocessing.minmax_scale(training_set)\n",
    "#X=preprocessing.robust_scale(training_set)\n",
    "#X=preprocessing.quantile_transform(training_set)\n",
    "\n",
    "X=training_set\n",
    "y=training_label\n",
    "RF=RandomForestClassifier()\n",
    "param_grid={\n",
    " 'n_estimators':[50,80,100,120]\n",
    "   # 'max_features':['auto','sqrt','log2'],\n",
    "    #'max_depth':[10,12,None]\n",
    "    #'criterion':['gini','entropy']\n",
    "}\n",
    "grid=GridSearchCV(estimator=RF,param_grid=param_grid,cv=10,scoring='accuracy')"
   ]
  },
  {
   "cell_type": "code",
   "execution_count": 71,
   "metadata": {},
   "outputs": [
    {
     "name": "stderr",
     "output_type": "stream",
     "text": [
      "/home/parkj0/anaconda3/envs/venv/lib/python3.7/site-packages/sklearn/model_selection/_split.py:657: Warning: The least populated class in y has only 4 members, which is too few. The minimum number of members in any class cannot be less than n_splits=10.\n",
      "  % (min_groups, self.n_splits)), Warning)\n",
      "/home/parkj0/anaconda3/envs/venv/lib/python3.7/site-packages/sklearn/model_selection/_search.py:813: DeprecationWarning: The default of the `iid` parameter will change from True to False in version 0.22 and will be removed in 0.24. This will change numeric results when test-set sizes are unequal.\n",
      "  DeprecationWarning)\n"
     ]
    },
    {
     "data": {
      "text/plain": [
       "GridSearchCV(cv=10, error_score='raise-deprecating',\n",
       "             estimator=RandomForestClassifier(bootstrap=True, class_weight=None,\n",
       "                                              criterion='gini', max_depth=None,\n",
       "                                              max_features='auto',\n",
       "                                              max_leaf_nodes=None,\n",
       "                                              min_impurity_decrease=0.0,\n",
       "                                              min_impurity_split=None,\n",
       "                                              min_samples_leaf=1,\n",
       "                                              min_samples_split=2,\n",
       "                                              min_weight_fraction_leaf=0.0,\n",
       "                                              n_estimators='warn', n_jobs=None,\n",
       "                                              oob_score=False,\n",
       "                                              random_state=None, verbose=0,\n",
       "                                              warm_start=False),\n",
       "             iid='warn', n_jobs=None,\n",
       "             param_grid={'n_estimators': [50, 80, 100, 120]},\n",
       "             pre_dispatch='2*n_jobs', refit=True, return_train_score=False,\n",
       "             scoring='accuracy', verbose=0)"
      ]
     },
     "execution_count": 71,
     "metadata": {},
     "output_type": "execute_result"
    }
   ],
   "source": [
    "grid.fit(X,y)"
   ]
  },
  {
   "cell_type": "code",
   "execution_count": 72,
   "metadata": {},
   "outputs": [
    {
     "data": {
      "text/plain": [
       "{'mean_fit_time': array([0.24117293, 0.36710589, 0.4635046 , 0.54780335]),\n",
       " 'std_fit_time': array([0.03415731, 0.01080353, 0.01475225, 0.01220479]),\n",
       " 'mean_score_time': array([0.00364089, 0.00504973, 0.00693421, 0.00730908]),\n",
       " 'std_score_time': array([0.00107072, 0.0003173 , 0.00115627, 0.00039588]),\n",
       " 'param_n_estimators': masked_array(data=[50, 80, 100, 120],\n",
       "              mask=[False, False, False, False],\n",
       "        fill_value='?',\n",
       "             dtype=object),\n",
       " 'params': [{'n_estimators': 50},\n",
       "  {'n_estimators': 80},\n",
       "  {'n_estimators': 100},\n",
       "  {'n_estimators': 120}],\n",
       " 'split0_test_score': array([0.75961538, 0.91346154, 0.81730769, 0.83653846]),\n",
       " 'split1_test_score': array([1., 1., 1., 1.]),\n",
       " 'split2_test_score': array([0.9223301 , 0.87378641, 0.96116505, 0.90291262]),\n",
       " 'split3_test_score': array([0.9223301 , 0.93203883, 0.9223301 , 0.89320388]),\n",
       " 'split4_test_score': array([0.96078431, 0.92156863, 0.96078431, 0.95098039]),\n",
       " 'split5_test_score': array([0.94, 0.95, 0.95, 0.95]),\n",
       " 'split6_test_score': array([0.82828283, 0.88888889, 0.87878788, 0.82828283]),\n",
       " 'split7_test_score': array([0.86734694, 0.91836735, 0.90816327, 0.8877551 ]),\n",
       " 'split8_test_score': array([0.83333333, 0.90625   , 0.86458333, 0.90625   ]),\n",
       " 'split9_test_score': array([0.83157895, 0.83157895, 0.82105263, 0.83157895]),\n",
       " 'mean_test_score': array([0.88733799, 0.91425723, 0.90927218, 0.89930209]),\n",
       " 'std_test_score': array([0.07091113, 0.04251202, 0.05892086, 0.05415405]),\n",
       " 'rank_test_score': array([4, 1, 2, 3], dtype=int32)}"
      ]
     },
     "execution_count": 72,
     "metadata": {},
     "output_type": "execute_result"
    }
   ],
   "source": [
    "grid.cv_results_"
   ]
  },
  {
   "cell_type": "code",
   "execution_count": 73,
   "metadata": {},
   "outputs": [
    {
     "data": {
      "text/plain": [
       "{'n_estimators': 80}"
      ]
     },
     "execution_count": 73,
     "metadata": {},
     "output_type": "execute_result"
    }
   ],
   "source": [
    "grid.best_params_"
   ]
  },
  {
   "cell_type": "code",
   "execution_count": 74,
   "metadata": {},
   "outputs": [
    {
     "data": {
      "text/plain": [
       "RandomForestClassifier(bootstrap=True, class_weight=None, criterion='gini',\n",
       "                       max_depth=None, max_features='auto', max_leaf_nodes=None,\n",
       "                       min_impurity_decrease=0.0, min_impurity_split=None,\n",
       "                       min_samples_leaf=1, min_samples_split=2,\n",
       "                       min_weight_fraction_leaf=0.0, n_estimators=80,\n",
       "                       n_jobs=None, oob_score=False, random_state=None,\n",
       "                       verbose=0, warm_start=False)"
      ]
     },
     "execution_count": 74,
     "metadata": {},
     "output_type": "execute_result"
    }
   ],
   "source": [
    "RF=RandomForestClassifier(n_estimators=80)\n",
    "RF.fit(X,y)"
   ]
  },
  {
   "cell_type": "code",
   "execution_count": null,
   "metadata": {},
   "outputs": [],
   "source": []
  },
  {
   "cell_type": "code",
   "execution_count": 54,
   "metadata": {},
   "outputs": [
    {
     "name": "stderr",
     "output_type": "stream",
     "text": [
      "/home/parkj0/anaconda3/envs/venv/lib/python3.7/site-packages/sklearn/preprocessing/data.py:2553: FutureWarning: The default value of `copy` will change from False to True in 0.23 in order to make it more consistent with the default `copy` values of other functions in :mod:`sklearn.preprocessing.data` and prevent unexpected side effects by modifying the value of `X` inplace. To avoid inplace modifications of `X`, it is recommended to explicitly set `copy=True`\n",
      "  FutureWarning)\n"
     ]
    }
   ],
   "source": [
    "from sklearn.ensemble import ExtraTreesClassifier\n",
    "from sklearn.tree import DecisionTreeClassifier\n",
    "X=preprocessing.quantile_transform(training_set)\n",
    "ETC=ExtraTreesClassifier()"
   ]
  },
  {
   "cell_type": "code",
   "execution_count": 55,
   "metadata": {},
   "outputs": [],
   "source": [
    "param_grid={\n",
    " 'n_estimators':[100,200,300],\n",
    "   # 'max_features':['auto','sqrt','log2'],\n",
    "    'max_depth':[10,14,None]\n",
    "    #'criterion':['gini','entropy']\n",
    "}\n",
    "\n",
    "grid=GridSearchCV(estimator=ETC,param_grid=param_grid,cv=10,scoring='accuracy')"
   ]
  },
  {
   "cell_type": "code",
   "execution_count": 56,
   "metadata": {},
   "outputs": [
    {
     "name": "stderr",
     "output_type": "stream",
     "text": [
      "/home/parkj0/anaconda3/envs/venv/lib/python3.7/site-packages/sklearn/model_selection/_split.py:657: Warning: The least populated class in y has only 4 members, which is too few. The minimum number of members in any class cannot be less than n_splits=10.\n",
      "  % (min_groups, self.n_splits)), Warning)\n",
      "/home/parkj0/anaconda3/envs/venv/lib/python3.7/site-packages/sklearn/model_selection/_search.py:813: DeprecationWarning: The default of the `iid` parameter will change from True to False in version 0.22 and will be removed in 0.24. This will change numeric results when test-set sizes are unequal.\n",
      "  DeprecationWarning)\n"
     ]
    },
    {
     "data": {
      "text/plain": [
       "GridSearchCV(cv=10, error_score='raise-deprecating',\n",
       "             estimator=ExtraTreesClassifier(bootstrap=False, class_weight=None,\n",
       "                                            criterion='gini', max_depth=None,\n",
       "                                            max_features='auto',\n",
       "                                            max_leaf_nodes=None,\n",
       "                                            min_impurity_decrease=0.0,\n",
       "                                            min_impurity_split=None,\n",
       "                                            min_samples_leaf=1,\n",
       "                                            min_samples_split=2,\n",
       "                                            min_weight_fraction_leaf=0.0,\n",
       "                                            n_estimators='warn', n_jobs=None,\n",
       "                                            oob_score=False, random_state=None,\n",
       "                                            verbose=0, warm_start=False),\n",
       "             iid='warn', n_jobs=None,\n",
       "             param_grid={'max_depth': [10, 14, None],\n",
       "                         'n_estimators': [100, 200, 300]},\n",
       "             pre_dispatch='2*n_jobs', refit=True, return_train_score=False,\n",
       "             scoring='accuracy', verbose=0)"
      ]
     },
     "execution_count": 56,
     "metadata": {},
     "output_type": "execute_result"
    }
   ],
   "source": [
    "grid.fit(X,y)\n"
   ]
  },
  {
   "cell_type": "code",
   "execution_count": 57,
   "metadata": {},
   "outputs": [
    {
     "data": {
      "text/plain": [
       "{'mean_fit_time': array([0.12472796, 0.27743201, 0.37081385, 0.12711234, 0.24821479,\n",
       "        0.36868317, 0.139818  , 0.29409237, 0.37685678]),\n",
       " 'std_fit_time': array([0.0068457 , 0.05636326, 0.01407262, 0.00190537, 0.00460285,\n",
       "        0.00297357, 0.03305678, 0.07153888, 0.02325123]),\n",
       " 'mean_score_time': array([0.00634789, 0.01380076, 0.01798542, 0.00626302, 0.01183152,\n",
       "        0.01728599, 0.00692947, 0.01367409, 0.0204375 ]),\n",
       " 'std_score_time': array([0.00063893, 0.00628376, 0.00138215, 0.00028359, 0.00037257,\n",
       "        0.0001674 , 0.00263745, 0.00572703, 0.00762196]),\n",
       " 'param_max_depth': masked_array(data=[10, 10, 10, 14, 14, 14, None, None, None],\n",
       "              mask=[False, False, False, False, False, False, False, False,\n",
       "                    False],\n",
       "        fill_value='?',\n",
       "             dtype=object),\n",
       " 'param_n_estimators': masked_array(data=[100, 200, 300, 100, 200, 300, 100, 200, 300],\n",
       "              mask=[False, False, False, False, False, False, False, False,\n",
       "                    False],\n",
       "        fill_value='?',\n",
       "             dtype=object),\n",
       " 'params': [{'max_depth': 10, 'n_estimators': 100},\n",
       "  {'max_depth': 10, 'n_estimators': 200},\n",
       "  {'max_depth': 10, 'n_estimators': 300},\n",
       "  {'max_depth': 14, 'n_estimators': 100},\n",
       "  {'max_depth': 14, 'n_estimators': 200},\n",
       "  {'max_depth': 14, 'n_estimators': 300},\n",
       "  {'max_depth': None, 'n_estimators': 100},\n",
       "  {'max_depth': None, 'n_estimators': 200},\n",
       "  {'max_depth': None, 'n_estimators': 300}],\n",
       " 'split0_test_score': array([0.91346154, 0.92307692, 0.95192308, 0.90384615, 0.93269231,\n",
       "        0.91346154, 0.92307692, 0.89423077, 0.92307692]),\n",
       " 'split1_test_score': array([1.        , 1.        , 0.99029126, 0.95145631, 1.        ,\n",
       "        1.        , 0.95145631, 1.        , 1.        ]),\n",
       " 'split2_test_score': array([0.9223301 , 0.96116505, 0.96116505, 0.90291262, 0.96116505,\n",
       "        0.96116505, 0.9223301 , 0.96116505, 0.95145631]),\n",
       " 'split3_test_score': array([0.9223301 , 0.94174757, 0.9223301 , 0.9223301 , 0.9223301 ,\n",
       "        0.9223301 , 0.9223301 , 0.9223301 , 0.93203883]),\n",
       " 'split4_test_score': array([0.93137255, 0.96078431, 0.96078431, 0.95098039, 0.96078431,\n",
       "        0.96078431, 0.96078431, 0.96078431, 0.96078431]),\n",
       " 'split5_test_score': array([0.98, 0.99, 0.99, 1.  , 0.99, 0.99, 0.99, 0.99, 0.99]),\n",
       " 'split6_test_score': array([0.88888889, 0.91919192, 0.84848485, 0.88888889, 0.91919192,\n",
       "        0.90909091, 0.92929293, 0.86868687, 0.88888889]),\n",
       " 'split7_test_score': array([0.90816327, 0.91836735, 0.8877551 , 0.87755102, 0.85714286,\n",
       "        0.91836735, 0.83673469, 0.8877551 , 0.87755102]),\n",
       " 'split8_test_score': array([0.85416667, 0.875     , 0.875     , 0.91666667, 0.875     ,\n",
       "        0.89583333, 0.91666667, 0.89583333, 0.89583333]),\n",
       " 'split9_test_score': array([0.82105263, 0.82105263, 0.82105263, 0.81052632, 0.82105263,\n",
       "        0.82105263, 0.83157895, 0.82105263, 0.82105263]),\n",
       " 'mean_test_score': array([0.91525424, 0.93220339, 0.9222333 , 0.91326022, 0.92522433,\n",
       "        0.93020937, 0.91924227, 0.92123629, 0.92522433]),\n",
       " 'std_test_score': array([0.04963568, 0.05011018, 0.05628388, 0.04751061, 0.05464569,\n",
       "        0.04883569, 0.04677971, 0.05386578, 0.05157442]),\n",
       " 'rank_test_score': array([8, 1, 5, 9, 3, 2, 7, 6, 3], dtype=int32)}"
      ]
     },
     "execution_count": 57,
     "metadata": {},
     "output_type": "execute_result"
    }
   ],
   "source": [
    "grid.cv_results_"
   ]
  },
  {
   "cell_type": "code",
   "execution_count": 58,
   "metadata": {},
   "outputs": [
    {
     "data": {
      "text/plain": [
       "{'max_depth': 10, 'n_estimators': 200}"
      ]
     },
     "execution_count": 58,
     "metadata": {},
     "output_type": "execute_result"
    }
   ],
   "source": [
    "grid.best_params_"
   ]
  },
  {
   "cell_type": "code",
   "execution_count": 68,
   "metadata": {},
   "outputs": [],
   "source": [
    "ETC=ExtraTreesClassifier(max_depth=10,n_estimators=200).fit(X,y)"
   ]
  },
  {
   "cell_type": "code",
   "execution_count": 14,
   "metadata": {},
   "outputs": [
    {
     "name": "stderr",
     "output_type": "stream",
     "text": [
      "/home/parkj0/anaconda3/envs/venv/lib/python3.7/site-packages/sklearn/preprocessing/data.py:2553: FutureWarning: The default value of `copy` will change from False to True in 0.23 in order to make it more consistent with the default `copy` values of other functions in :mod:`sklearn.preprocessing.data` and prevent unexpected side effects by modifying the value of `X` inplace. To avoid inplace modifications of `X`, it is recommended to explicitly set `copy=True`\n",
      "  FutureWarning)\n"
     ]
    },
    {
     "name": "stdout",
     "output_type": "stream",
     "text": [
      "1.0\n",
      "[[116   0   0   0   0   0   0   0   0   0]\n",
      " [  0   4   0   0   0   0   0   0   0   0]\n",
      " [  0   0 120   0   0   0   0   0   0   0]\n",
      " [  0   0   0 200   0   0   0   0   0   0]\n",
      " [  0   0   0   0  57   0   0   0   0   0]\n",
      " [  0   0   0   0   0  56   0   0   0   0]\n",
      " [  0   0   0   0   0   0  68   0   0   0]\n",
      " [  0   0   0   0   0   0   0 128   0   0]\n",
      " [  0   0   0   0   0   0   0   0 224   0]\n",
      " [  0   0   0   0   0   0   0   0   0  28]]\n"
     ]
    }
   ],
   "source": [
    "class_names=['face','jotting','clinking','drinking1','tissue','drink2','spoon','chopstick','fork','stir']\n",
    "\n",
    "X=training_set\n",
    "y=training_label\n",
    "\n",
    "#print((test_pred_proba))\n",
    "#for row in test_pred_proba:\n",
    "#    print(np.max([row]))\n",
    "test_pred3=ETC.predict(preprocessing.quantile_transform(X))\n",
    "print(accuracy_score(test_pred3,training_label))\n",
    "print(confusion_matrix(test_pred3, training_label))"
   ]
  },
  {
   "cell_type": "code",
   "execution_count": null,
   "metadata": {},
   "outputs": [],
   "source": []
  },
  {
   "cell_type": "code",
   "execution_count": null,
   "metadata": {},
   "outputs": [],
   "source": []
  },
  {
   "cell_type": "code",
   "execution_count": 60,
   "metadata": {},
   "outputs": [
    {
     "name": "stderr",
     "output_type": "stream",
     "text": [
      "/home/parkj0/anaconda3/envs/venv/lib/python3.7/site-packages/sklearn/preprocessing/data.py:2553: FutureWarning: The default value of `copy` will change from False to True in 0.23 in order to make it more consistent with the default `copy` values of other functions in :mod:`sklearn.preprocessing.data` and prevent unexpected side effects by modifying the value of `X` inplace. To avoid inplace modifications of `X`, it is recommended to explicitly set `copy=True`\n",
      "  FutureWarning)\n",
      "/home/parkj0/anaconda3/envs/venv/lib/python3.7/site-packages/sklearn/model_selection/_split.py:657: Warning: The least populated class in y has only 4 members, which is too few. The minimum number of members in any class cannot be less than n_splits=10.\n",
      "  % (min_groups, self.n_splits)), Warning)\n"
     ]
    },
    {
     "name": "stdout",
     "output_type": "stream",
     "text": [
      "0.8990981564333177\n"
     ]
    }
   ],
   "source": [
    "#SVM\n",
    "#prepare the data\n",
    "#prepare the model\n",
    "#X=preprocessing.minmax_scale(training_set)\n",
    "#X=preprocessing.robust_scale(training_set)\n",
    "X=preprocessing.quantile_transform(training_set)\n",
    "y=training_label\n",
    "clf = sklearn.svm.SVC(gamma='scale',tol=0.1,probability=True)\n",
    "scores=cross_val_score(clf,X,y,cv=10,scoring='accuracy')\n",
    "print(scores.mean())"
   ]
  },
  {
   "cell_type": "code",
   "execution_count": 61,
   "metadata": {},
   "outputs": [],
   "source": [
    "param_grid={\n",
    " #'kernel':['linear','poly','rbf','sigmoid'], rbf to be best acc\n",
    "    'C':[10,20,50,100]}\n",
    "\n",
    "grid=GridSearchCV(estimator=clf,param_grid=param_grid,cv=10,scoring='accuracy')"
   ]
  },
  {
   "cell_type": "code",
   "execution_count": 62,
   "metadata": {},
   "outputs": [
    {
     "name": "stderr",
     "output_type": "stream",
     "text": [
      "/home/parkj0/anaconda3/envs/venv/lib/python3.7/site-packages/sklearn/model_selection/_split.py:657: Warning: The least populated class in y has only 4 members, which is too few. The minimum number of members in any class cannot be less than n_splits=10.\n",
      "  % (min_groups, self.n_splits)), Warning)\n",
      "/home/parkj0/anaconda3/envs/venv/lib/python3.7/site-packages/sklearn/model_selection/_search.py:813: DeprecationWarning: The default of the `iid` parameter will change from True to False in version 0.22 and will be removed in 0.24. This will change numeric results when test-set sizes are unequal.\n",
      "  DeprecationWarning)\n"
     ]
    },
    {
     "data": {
      "text/plain": [
       "{'mean_fit_time': array([0.46798856, 0.48565786, 0.4766386 , 0.47274423]),\n",
       " 'std_fit_time': array([0.00761205, 0.03129514, 0.0179232 , 0.02274346]),\n",
       " 'mean_score_time': array([0.01283371, 0.01330097, 0.01275473, 0.0133321 ]),\n",
       " 'std_score_time': array([0.00064886, 0.00156187, 0.00057438, 0.00153822]),\n",
       " 'param_C': masked_array(data=[10, 20, 50, 100],\n",
       "              mask=[False, False, False, False],\n",
       "        fill_value='?',\n",
       "             dtype=object),\n",
       " 'params': [{'C': 10}, {'C': 20}, {'C': 50}, {'C': 100}],\n",
       " 'split0_test_score': array([0.91346154, 0.91346154, 0.91346154, 0.91346154]),\n",
       " 'split1_test_score': array([0.88349515, 0.88349515, 0.88349515, 0.88349515]),\n",
       " 'split2_test_score': array([0.9223301, 0.9223301, 0.9223301, 0.9223301]),\n",
       " 'split3_test_score': array([0.90291262, 0.90291262, 0.90291262, 0.90291262]),\n",
       " 'split4_test_score': array([1., 1., 1., 1.]),\n",
       " 'split5_test_score': array([1., 1., 1., 1.]),\n",
       " 'split6_test_score': array([0.84848485, 0.84848485, 0.84848485, 0.84848485]),\n",
       " 'split7_test_score': array([0.91836735, 0.91836735, 0.91836735, 0.91836735]),\n",
       " 'split8_test_score': array([0.875, 0.875, 0.875, 0.875]),\n",
       " 'split9_test_score': array([0.77894737, 0.77894737, 0.77894737, 0.77894737]),\n",
       " 'mean_test_score': array([0.90528415, 0.90528415, 0.90528415, 0.90528415]),\n",
       " 'std_test_score': array([0.06186714, 0.06186714, 0.06186714, 0.06186714]),\n",
       " 'rank_test_score': array([1, 1, 1, 1], dtype=int32)}"
      ]
     },
     "execution_count": 62,
     "metadata": {},
     "output_type": "execute_result"
    }
   ],
   "source": [
    "grid.fit(X,y)\n",
    "grid.cv_results_"
   ]
  },
  {
   "cell_type": "code",
   "execution_count": 63,
   "metadata": {},
   "outputs": [
    {
     "data": {
      "text/plain": [
       "{'C': 10}"
      ]
     },
     "execution_count": 63,
     "metadata": {},
     "output_type": "execute_result"
    }
   ],
   "source": [
    "grid.best_params_"
   ]
  },
  {
   "cell_type": "code",
   "execution_count": 65,
   "metadata": {},
   "outputs": [
    {
     "name": "stderr",
     "output_type": "stream",
     "text": [
      "/home/parkj0/anaconda3/envs/venv/lib/python3.7/site-packages/sklearn/svm/base.py:193: FutureWarning: The default value of gamma will change from 'auto' to 'scale' in version 0.22 to account better for unscaled features. Set gamma explicitly to 'auto' or 'scale' to avoid this warning.\n",
      "  \"avoid this warning.\", FutureWarning)\n"
     ]
    }
   ],
   "source": [
    "SVC=sklearn.svm.SVC(10,probability=True).fit(X,y)"
   ]
  },
  {
   "cell_type": "code",
   "execution_count": 66,
   "metadata": {},
   "outputs": [],
   "source": [
    "#save the model\n",
    "\n",
    "from joblib import dump, load\n",
    "filename='./svm.sav'\n",
    "pickle.dump(SVC,open(filename,'wb'))"
   ]
  },
  {
   "cell_type": "code",
   "execution_count": null,
   "metadata": {},
   "outputs": [],
   "source": []
  },
  {
   "cell_type": "code",
   "execution_count": 75,
   "metadata": {},
   "outputs": [
    {
     "data": {
      "text/plain": [
       "['rf.joblib']"
      ]
     },
     "execution_count": 75,
     "metadata": {},
     "output_type": "execute_result"
    }
   ],
   "source": [
    "filename='./rf.sav'\n",
    "pickle.dump(RF,open(filename,'wb'))\n",
    "dump(RF,'rf.joblib')"
   ]
  },
  {
   "cell_type": "code",
   "execution_count": 69,
   "metadata": {},
   "outputs": [
    {
     "data": {
      "text/plain": [
       "['ETC.joblib']"
      ]
     },
     "execution_count": 69,
     "metadata": {},
     "output_type": "execute_result"
    }
   ],
   "source": [
    "filename='./ETC.sav'\n",
    "pickle.dump(ETC,open(filename,'wb'))\n",
    "dump(ETC,'ETC.joblib')"
   ]
  },
  {
   "cell_type": "code",
   "execution_count": 84,
   "metadata": {},
   "outputs": [
    {
     "ename": "NameError",
     "evalue": "name 'FactorAnalysis' is not defined",
     "output_type": "error",
     "traceback": [
      "\u001b[0;31m---------------------------------------------------------------------------\u001b[0m",
      "\u001b[0;31mNameError\u001b[0m                                 Traceback (most recent call last)",
      "\u001b[0;32m<ipython-input-84-f0ef0c307ed0>\u001b[0m in \u001b[0;36m<module>\u001b[0;34m\u001b[0m\n\u001b[1;32m     19\u001b[0m \u001b[0mX_embedded3\u001b[0m \u001b[0;34m=\u001b[0m \u001b[0mIncrementalPCA\u001b[0m\u001b[0;34m(\u001b[0m\u001b[0mn_components\u001b[0m\u001b[0;34m=\u001b[0m\u001b[0;36m3\u001b[0m\u001b[0;34m)\u001b[0m\u001b[0;34m.\u001b[0m\u001b[0mfit_transform\u001b[0m\u001b[0;34m(\u001b[0m\u001b[0mX\u001b[0m\u001b[0;34m)\u001b[0m\u001b[0;34m\u001b[0m\u001b[0;34m\u001b[0m\u001b[0m\n\u001b[1;32m     20\u001b[0m \u001b[0mX_embedded4\u001b[0m \u001b[0;34m=\u001b[0m \u001b[0mTruncatedSVD\u001b[0m\u001b[0;34m(\u001b[0m\u001b[0mn_components\u001b[0m\u001b[0;34m=\u001b[0m\u001b[0;36m3\u001b[0m\u001b[0;34m,\u001b[0m\u001b[0mn_iter\u001b[0m\u001b[0;34m=\u001b[0m\u001b[0;36m500\u001b[0m\u001b[0;34m)\u001b[0m\u001b[0;34m.\u001b[0m\u001b[0mfit_transform\u001b[0m\u001b[0;34m(\u001b[0m\u001b[0mX\u001b[0m\u001b[0;34m)\u001b[0m\u001b[0;34m\u001b[0m\u001b[0;34m\u001b[0m\u001b[0m\n\u001b[0;32m---> 21\u001b[0;31m \u001b[0mX_embedded5\u001b[0m \u001b[0;34m=\u001b[0m \u001b[0mFactorAnalysis\u001b[0m\u001b[0;34m(\u001b[0m\u001b[0mn_components\u001b[0m\u001b[0;34m=\u001b[0m\u001b[0;36m3\u001b[0m\u001b[0;34m)\u001b[0m\u001b[0;34m.\u001b[0m\u001b[0mfit_transform\u001b[0m\u001b[0;34m(\u001b[0m\u001b[0mX\u001b[0m\u001b[0;34m)\u001b[0m\u001b[0;34m\u001b[0m\u001b[0;34m\u001b[0m\u001b[0m\n\u001b[0m\u001b[1;32m     22\u001b[0m \u001b[0;34m\u001b[0m\u001b[0m\n\u001b[1;32m     23\u001b[0m \u001b[0;34m\u001b[0m\u001b[0m\n",
      "\u001b[0;31mNameError\u001b[0m: name 'FactorAnalysis' is not defined"
     ]
    },
    {
     "data": {
      "image/png": "[encoded data removed]",
      "text/plain": [
       "<Figure size 432x288 with 1 Axes>"
      ]
     },
     "metadata": {
      "needs_background": "light"
     },
     "output_type": "display_data"
    }
   ],
   "source": [
    "from sklearn.manifold import TSNE\n",
    "from sklearn.decomposition import PCA\n",
    "from sklearn.decomposition import MiniBatchDictionaryLearning\n",
    "from sklearn.decomposition import IncrementalPCA\n",
    "from sklearn.decomposition import TruncatedSVD\n",
    "\n",
    "\n",
    "\n",
    "fig = plt.figure()\n",
    "ax1 = fig.add_subplot(111, projection='3d')\n",
    "\n",
    "labl=9\n",
    "X=training_set\n",
    "y=labl\n",
    "k=0\n",
    "#X_embedded1 = TSNE(n_components=3).fit_transform(X)\n",
    "X_embedded1 = PCA(n_components=3).fit_transform(X)\n",
    "X_embedded2 = MiniBatchDictionaryLearning(n_components=3,n_iter=1000).fit_transform(X)\n",
    "X_embedded3 = IncrementalPCA(n_components=3).fit_transform(X)\n",
    "X_embedded4 = TruncatedSVD(n_components=3,n_iter=500).fit_transform(X)\n",
    "X_embedded5 = FactorAnalysis(n_components=3).fit_transform(X)\n",
    "\n",
    "\n",
    "   \n",
    "for x in X_embedded1:\n",
    "    ax1.scatter(x[0],x[1],x[2]) \n",
    "    \n",
    "#for x in X_embedded3:\n",
    "#    ax.scatter(x[0],x[1],x[2]) \n",
    "    "
   ]
  },
  {
   "cell_type": "code",
   "execution_count": null,
   "metadata": {},
   "outputs": [],
   "source": []
  },
  {
   "cell_type": "code",
   "execution_count": null,
   "metadata": {},
   "outputs": [],
   "source": []
  },
  {
   "cell_type": "code",
   "execution_count": null,
   "metadata": {},
   "outputs": [],
   "source": []
  },
  {
   "cell_type": "code",
   "execution_count": null,
   "metadata": {},
   "outputs": [],
   "source": []
  },
  {
   "cell_type": "code",
   "execution_count": null,
   "metadata": {},
   "outputs": [],
   "source": []
  }
 ],
 "metadata": {
  "kernelspec": {
   "display_name": "Python 3",
   "language": "python",
   "name": "python3"
  },
  "language_info": {
   "codemirror_mode": {
    "name": "ipython",
    "version": 3
   },
   "file_extension": ".py",
   "mimetype": "text/x-python",
   "name": "python",
   "nbconvert_exporter": "python",
   "pygments_lexer": "ipython3",
   "version": "3.7.3"
  }
 },
 "nbformat": 4,
 "nbformat_minor": 2
}
