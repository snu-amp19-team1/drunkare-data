{
 "cells": [
  {
   "cell_type": "code",
   "execution_count": 82,
   "metadata": {},
   "outputs": [],
   "source": [
    "##complex data와 똑같이 40ms로 parsing했음 데이터 4배라고 생각하고 뻥튀기시켜봄 정확도는 10ms와 비슷하게 나옴\n",
    "\n",
    "import csv\n",
    "import matplotlib.pyplot as plt\n",
    "import numpy as np\n",
    "import pandas as pd\n",
    "import tensorflow as tf\n",
    "import sklearn\n",
    "from sklearn import svm\n",
    "from datetime import datetime\n",
    "import glob\n",
    "import pickle\n",
    "import re\n",
    "from sklearn import preprocessing\n",
    "from mpl_toolkits.mplot3d import Axes3D\n",
    "from sklearn.metrics import confusion_matrix\n",
    "from sklearn.metrics import accuracy_score\n",
    "from sklearn.metrics import f1_score\n",
    "\n",
    "from sklearn.preprocessing import OneHotEncoder\n",
    "from sklearn.model_selection import cross_val_score \n",
    "from sklearn.model_selection import GridSearchCV\n",
    "from scipy import signal\n",
    "\n",
    "#filename queue\n",
    "filename_queue=glob.glob('./label/label[0-9]*.csv')\n",
    "#filename_queue=glob.glob('./label/label[6].csv')\n"
   ]
  },
  {
   "cell_type": "code",
   "execution_count": 94,
   "metadata": {},
   "outputs": [
    {
     "name": "stdout",
     "output_type": "stream",
     "text": [
      "label :  12\n",
      "(248, 450)\n",
      "label :  8\n",
      "(68, 450)\n",
      "label :  7\n",
      "(68, 450)\n",
      "label :  5\n",
      "(136, 450)\n",
      "label :  13\n",
      "(36, 450)\n",
      "label :  9\n",
      "(72, 450)\n",
      "label :  10\n",
      "(136, 450)\n",
      "label :  0\n",
      "(124, 450)\n",
      "label :  1\n",
      "(130, 450)\n",
      "label :  6\n",
      "(228, 450)\n"
     ]
    }
   ],
   "source": [
    "\"\"\"training_set2=list()\n",
    "training_label2=list()\n",
    "test_set2=list()\n",
    "test_label2=list()\n",
    "traininglabel_count2=np.zeros(16)\n",
    "testlabel_count2=np.zeros(16)\n",
    "\"\"\"\n",
    "training_set=list()\n",
    "\n",
    "test_set=list()\n",
    "training_label=list()\n",
    "test_label=list()\n",
    "index=[2,3,4,11,14,15]\n",
    "label_count=np.zeros(16)\n",
    "traininglabel_count=np.zeros(16)\n",
    "testlabel_count=np.zeros(16)\n",
    "ldata=list()\n",
    "\n",
    "for filename in filename_queue:\n",
    "    with open(filename,newline='') as data:\n",
    "        \n",
    "        data_set=list()\n",
    "        data_set2=list()\n",
    "        data_label=list()\n",
    "        reader=csv.reader(data)\n",
    "        label=re.findall('\\d+',filename)\n",
    "        label=int(label[0])\n",
    "        label_count[label]+=1\n",
    "        if label in index:\n",
    "            continue\n",
    "        if label not in index:\n",
    "            print('label : ', label)\n",
    "            for row in reader:\n",
    "                row[0:]=[float(i) for i in row[0:]]\n",
    "                X_acc=list(row[i] for i in range(150))\n",
    "                Y_acc=list(row[i+150] for i in range(150))\n",
    "                Z_acc=list(row[i+300] for i in range(150))\n",
    "                X_gyro=list(row[i+450] for i in range(150))\n",
    "                Y_gyro=list(row[i+600] for i in range(150))\n",
    "                Z_gyro=list(row[i+750] for i in range(150))\n",
    "\n",
    "                window=np.array([X_acc[0:25],Y_acc[0:25],Z_acc[0:25],X_gyro[0:25],Y_gyro[0:25],Z_gyro[0:25],\n",
    "                                  X_acc[25:50],Y_acc[25:50],Z_acc[25:50],X_gyro[25:50],Y_gyro[25:50],Z_gyro[25:50],\n",
    "                                  X_acc[50:75],Y_acc[50:75],Z_acc[50:75],X_gyro[50:75],Y_gyro[50:75],Z_gyro[50:75],\n",
    "                                  X_acc[75:100],Y_acc[75:100],Z_acc[75:100],X_gyro[75:100],Y_gyro[75:100],Z_gyro[75:100],\n",
    "                                  X_acc[100:125],Y_acc[100:125],Z_acc[100:125],X_gyro[100:125],Y_gyro[100:125],Z_gyro[100:125],\n",
    "                                  X_acc[125:150],Y_acc[125:150],Z_acc[125:150],X_gyro[125:150],Y_gyro[125:150],Z_gyro[125:150]])\n",
    "\n",
    "                \n",
    "                window2=np.array([[X_acc[0:25],X_acc[25:50],X_acc[50:75],X_acc[75:100],X_acc[100:125],X_acc[125:150]],\n",
    "                    [Y_acc[0:25],Y_acc[25:50],Y_acc[50:75],Y_acc[75:100],Y_acc[100:125],Y_acc[125:150]],\n",
    "                    [Z_acc[0:25],Z_acc[25:50],Z_acc[50:75],Z_acc[75:100],Z_acc[100:125],Z_acc[125:150]]])\n",
    "               \n",
    "            \n",
    "            \n",
    "                \"\"\"\n",
    "                window4=np.array([[X_gyro[0:25],X_gyro[25:50],X_gyro[50:75],X_gyro[75:100],X_gyro[100:125],X_gyro[125:150]],\n",
    "                    [Y_gyro[0:25],Y_gyro[25:50],Y_gyro[50:75],Y_gyro[75:100],Y_gyro[100:125],Y_gyro[125:150]],\n",
    "                    [Z_gyro[0:25],Z_gyro[25:50],Z_gyro[50:75],Z_gyro[75:100],Z_gyro[100:125],Z_gyro[125:150]]])\n",
    "                \"\"\"\n",
    "                \n",
    "                \n",
    "                \n",
    "                window_mean=window.mean(axis=-1)\n",
    "                window_stddev=window.std(axis=-1)\n",
    "                window_median=np.median(window,axis=-1)\n",
    "                window_percent25=np.percentile(window,25,axis=-1)\n",
    "                window_percent75=np.percentile(window,75,axis=-1)\n",
    "                window_feature=np.array([[window_mean],[window_stddev],[window_median],[window_percent25],[window_percent75]])\n",
    "                window_feature=window_feature.reshape(180)\n",
    "                \n",
    "                #Drop outliers1 \n",
    "                xm=window_stddev[[0,6,12,18,24,30]].mean(axis=0)\n",
    "                ym=window_stddev[[1,7,13,19,25,31]].mean(axis=0)\n",
    "                zm=window_stddev[[2,8,14,20,26,32]].mean(axis=0)\n",
    "                action=np.mean([xm,ym,zm])\n",
    "                if(action<0.65):\n",
    "                    label_count[label]-=1\n",
    "                    continue\n",
    "                \n",
    "                window2=window2.reshape(-1)\n",
    "                #window_RMS=np.roots(np.square(window2[0:6]).mean(axis=-1))\n",
    "                #if (label_count[label]>=0):\n",
    "                data_set.append(window_feature)\n",
    "                data_set2.append(window2)\n",
    "                data_label.append(label)\n",
    "            \n",
    "                #else:\n",
    "                #    test_set.append(window_feature)\n",
    "                #    test_label.append(label)\n",
    "                #    testlabel_count[label]+=1\n",
    "                \n",
    "            from sklearn.manifold import TSNE\n",
    "            from sklearn.decomposition import PCA\n",
    "            from sklearn.decomposition import MiniBatchDictionaryLearning\n",
    "            from sklearn.decomposition import IncrementalPCA\n",
    "            from sklearn.decomposition import TruncatedSVD\n",
    "\n",
    "\n",
    "            print(np.shape(data_set2))\n",
    "\n",
    "            data_set2=np.array(data_set2)\n",
    "            X_embedded2 = MiniBatchDictionaryLearning(n_components=3,n_iter=1000).fit_transform(data_set2)\n",
    "            #fig = plt.figure()\n",
    "            #ax2 = fig.add_subplot(111, projection='3d')\n",
    "            #for x in X_embedded2:\n",
    "            #    ax2.scatter(x[0],x[1],x[2]) \n",
    "            if(int(label)==12):\n",
    "                from scipy import stats\n",
    "                z = np.abs(stats.zscore(X_embedded2))\n",
    "                #X_embedded2 = X_embedded2[(abs(z) <1.8).all(axis=1)]\n",
    "                data_set_arr=np.array(data_set)\n",
    "                data_label_arr=np.array(data_label)\n",
    "                data_set_arr=data_set_arr[(abs(z) <1.5).all(axis=1)]\n",
    "                data_label_arr=data_label_arr[(abs(z) <1.5).all(axis=1)]\n",
    "            else:\n",
    "                if(int(label)==10):\n",
    "                    z = np.abs(stats.zscore(X_embedded2))\n",
    "                    #X_embedded2 = X_embedded2[(abs(z) <1.8).all(axis=1)]\n",
    "                    data_set_arr=np.array(data_set)\n",
    "                    data_label_arr=np.array(data_label)\n",
    "                    data_set_arr=data_set_arr[(abs(z) <1.8).all(axis=1)]\n",
    "                    data_label_arr=data_label_arr[(abs(z) <1.8).all(axis=1)]\n",
    "                \n",
    "                else:\n",
    "                    z = np.abs(stats.zscore(X_embedded2))\n",
    "                    #X_embedded2 = X_embedded2[(abs(z) <1.8).all(axis=1)]\n",
    "                    data_set_arr=np.array(data_set)\n",
    "                    data_label_arr=np.array(data_label)\n",
    "                    data_set_arr=data_set_arr[(abs(z) <2).all(axis=1)]\n",
    "                    data_label_arr=data_label_arr[(abs(z) <2).all(axis=1)]\n",
    "\n",
    "            #print(np.shape(data_set_arr))\n",
    "            #print(np.shape(data_label_arr))\n",
    "\n",
    "            for x in data_set_arr:\n",
    "                training_set.append(x)\n",
    "            for y in data_label_arr:\n",
    "                training_label.append(y)\n",
    "                \n",
    "                \n",
    "\n",
    "            #fig2 = plt.figure()\n",
    "            #ax2 = fig2.add_subplot(111, projection='3d')\n",
    "            #for x in X_embedded2:\n",
    "            #    ax2.scatter(x[0],x[1],x[2]) \n"
   ]
  },
  {
   "cell_type": "code",
   "execution_count": 95,
   "metadata": {},
   "outputs": [
    {
     "name": "stdout",
     "output_type": "stream",
     "text": [
      "(1067, 180)\n"
     ]
    }
   ],
   "source": [
    "X=training_set\n",
    "y=training_label\n",
    "\n",
    "print(np.shape(X))"
   ]
  },
  {
   "cell_type": "code",
   "execution_count": 96,
   "metadata": {},
   "outputs": [],
   "source": [
    "from sklearn.ensemble import RandomForestClassifier\n",
    "from sklearn.model_selection import GridSearchCV\n",
    "\n",
    "#X=preprocessing.minmax_scale(training_set)\n",
    "#X=preprocessing.robust_scale(training_set)\n",
    "#X=preprocessing.quantile_transform(training_set)\n",
    "\n",
    "X=training_set\n",
    "y=training_label\n",
    "RF=RandomForestClassifier()\n",
    "param_grid={\n",
    " 'n_estimators':[50,80,100,120],\n",
    "    'max_features':['auto','log2','sqrt'],\n",
    "    'max_depth':[None]\n",
    "    #'criterion':['gini','entropy']\n",
    "}\n",
    "grid=GridSearchCV(estimator=RF,param_grid=param_grid,cv=10,scoring='accuracy')"
   ]
  },
  {
   "cell_type": "code",
   "execution_count": 97,
   "metadata": {},
   "outputs": [
    {
     "name": "stderr",
     "output_type": "stream",
     "text": [
      "/home/parkj0/anaconda3/envs/venv/lib/python3.7/site-packages/sklearn/model_selection/_search.py:813: DeprecationWarning: The default of the `iid` parameter will change from True to False in version 0.22 and will be removed in 0.24. This will change numeric results when test-set sizes are unequal.\n",
      "  DeprecationWarning)\n"
     ]
    },
    {
     "data": {
      "text/plain": [
       "GridSearchCV(cv=10, error_score='raise-deprecating',\n",
       "             estimator=RandomForestClassifier(bootstrap=True, class_weight=None,\n",
       "                                              criterion='gini', max_depth=None,\n",
       "                                              max_features='auto',\n",
       "                                              max_leaf_nodes=None,\n",
       "                                              min_impurity_decrease=0.0,\n",
       "                                              min_impurity_split=None,\n",
       "                                              min_samples_leaf=1,\n",
       "                                              min_samples_split=2,\n",
       "                                              min_weight_fraction_leaf=0.0,\n",
       "                                              n_estimators='warn', n_jobs=None,\n",
       "                                              oob_score=False,\n",
       "                                              random_state=None, verbose=0,\n",
       "                                              warm_start=False),\n",
       "             iid='warn', n_jobs=None,\n",
       "             param_grid={'max_depth': [None],\n",
       "                         'max_features': ['auto', 'log2', 'sqrt'],\n",
       "                         'n_estimators': [50, 80, 100, 120]},\n",
       "             pre_dispatch='2*n_jobs', refit=True, return_train_score=False,\n",
       "             scoring='accuracy', verbose=0)"
      ]
     },
     "execution_count": 97,
     "metadata": {},
     "output_type": "execute_result"
    }
   ],
   "source": [
    "grid.fit(X,y)"
   ]
  },
  {
   "cell_type": "code",
   "execution_count": 98,
   "metadata": {},
   "outputs": [
    {
     "data": {
      "text/plain": [
       "{'mean_fit_time': array([0.24508076, 0.38825901, 0.49007437, 0.70930445, 0.17449555,\n",
       "        0.24308171, 0.32847958, 0.36074026, 0.24198623, 0.41491141,\n",
       "        0.58475325, 0.63078558]),\n",
       " 'std_fit_time': array([0.00484205, 0.00376243, 0.00379696, 0.08448749, 0.0309737 ,\n",
       "        0.00804798, 0.04614659, 0.00694797, 0.00136083, 0.0383212 ,\n",
       "        0.05877216, 0.05930832]),\n",
       " 'mean_score_time': array([0.003426  , 0.00507567, 0.00620017, 0.00929348, 0.00402853,\n",
       "        0.00545461, 0.00677326, 0.00749881, 0.00338416, 0.00617349,\n",
       "        0.00820725, 0.00885468]),\n",
       " 'std_score_time': array([9.61850434e-05, 3.31430039e-05, 6.24402009e-05, 4.25194366e-03,\n",
       "        9.53696390e-04, 5.92733983e-04, 1.26956908e-03, 3.10717536e-04,\n",
       "        3.67035781e-05, 2.83045976e-03, 3.11443557e-03, 3.16664944e-03]),\n",
       " 'param_max_depth': masked_array(data=[None, None, None, None, None, None, None, None, None,\n",
       "                    None, None, None],\n",
       "              mask=[False, False, False, False, False, False, False, False,\n",
       "                    False, False, False, False],\n",
       "        fill_value='?',\n",
       "             dtype=object),\n",
       " 'param_max_features': masked_array(data=['auto', 'auto', 'auto', 'auto', 'log2', 'log2', 'log2',\n",
       "                    'log2', 'sqrt', 'sqrt', 'sqrt', 'sqrt'],\n",
       "              mask=[False, False, False, False, False, False, False, False,\n",
       "                    False, False, False, False],\n",
       "        fill_value='?',\n",
       "             dtype=object),\n",
       " 'param_n_estimators': masked_array(data=[50, 80, 100, 120, 50, 80, 100, 120, 50, 80, 100, 120],\n",
       "              mask=[False, False, False, False, False, False, False, False,\n",
       "                    False, False, False, False],\n",
       "        fill_value='?',\n",
       "             dtype=object),\n",
       " 'params': [{'max_depth': None, 'max_features': 'auto', 'n_estimators': 50},\n",
       "  {'max_depth': None, 'max_features': 'auto', 'n_estimators': 80},\n",
       "  {'max_depth': None, 'max_features': 'auto', 'n_estimators': 100},\n",
       "  {'max_depth': None, 'max_features': 'auto', 'n_estimators': 120},\n",
       "  {'max_depth': None, 'max_features': 'log2', 'n_estimators': 50},\n",
       "  {'max_depth': None, 'max_features': 'log2', 'n_estimators': 80},\n",
       "  {'max_depth': None, 'max_features': 'log2', 'n_estimators': 100},\n",
       "  {'max_depth': None, 'max_features': 'log2', 'n_estimators': 120},\n",
       "  {'max_depth': None, 'max_features': 'sqrt', 'n_estimators': 50},\n",
       "  {'max_depth': None, 'max_features': 'sqrt', 'n_estimators': 80},\n",
       "  {'max_depth': None, 'max_features': 'sqrt', 'n_estimators': 100},\n",
       "  {'max_depth': None, 'max_features': 'sqrt', 'n_estimators': 120}],\n",
       " 'split0_test_score': array([0.83783784, 0.86486486, 0.87387387, 0.89189189, 0.83783784,\n",
       "        0.91891892, 0.93693694, 0.88288288, 0.83783784, 0.83783784,\n",
       "        0.83783784, 0.86486486]),\n",
       " 'split1_test_score': array([1.        , 0.96396396, 1.        , 1.        , 0.98198198,\n",
       "        1.        , 1.        , 1.        , 0.96396396, 1.        ,\n",
       "        0.98198198, 0.99099099]),\n",
       " 'split2_test_score': array([0.9       , 0.92727273, 0.92727273, 0.92727273, 0.92727273,\n",
       "        0.92727273, 0.90909091, 0.90909091, 0.92727273, 0.9       ,\n",
       "        0.92727273, 0.90909091]),\n",
       " 'split3_test_score': array([0.91818182, 0.96363636, 0.96363636, 0.96363636, 0.96363636,\n",
       "        0.90909091, 0.99090909, 0.96363636, 0.95454545, 0.96363636,\n",
       "        0.96363636, 0.96363636]),\n",
       " 'split4_test_score': array([0.93457944, 0.92523364, 0.92523364, 0.88785047, 0.96261682,\n",
       "        0.91588785, 0.87850467, 0.96261682, 0.92523364, 0.95327103,\n",
       "        0.89719626, 0.88785047]),\n",
       " 'split5_test_score': array([0.99065421, 0.92523364, 0.93457944, 0.96261682, 0.98130841,\n",
       "        0.99065421, 0.96261682, 0.96261682, 0.91588785, 0.94392523,\n",
       "        0.92523364, 0.93457944]),\n",
       " 'split6_test_score': array([0.78846154, 0.84615385, 0.81730769, 0.91346154, 0.80769231,\n",
       "        0.82692308, 0.84615385, 0.77884615, 0.83653846, 0.82692308,\n",
       "        0.84615385, 0.82692308]),\n",
       " 'split7_test_score': array([0.87378641, 0.86407767, 0.85436893, 0.91262136, 0.87378641,\n",
       "        0.81553398, 0.89320388, 0.87378641, 0.85436893, 0.89320388,\n",
       "        0.84466019, 0.87378641]),\n",
       " 'split8_test_score': array([0.96078431, 0.99019608, 0.97058824, 0.99019608, 0.92156863,\n",
       "        0.95098039, 0.96078431, 0.98039216, 0.96078431, 0.95098039,\n",
       "        0.96078431, 0.93137255]),\n",
       " 'split9_test_score': array([0.80392157, 0.80392157, 0.84313725, 0.84313725, 0.83333333,\n",
       "        0.83333333, 0.84313725, 0.84313725, 0.84313725, 0.83333333,\n",
       "        0.84313725, 0.81372549]),\n",
       " 'mean_test_score': array([0.90159325, 0.9081537 , 0.91190253, 0.92970947, 0.91002812,\n",
       "        0.91002812, 0.92314902, 0.91658857, 0.90253046, 0.91096532,\n",
       "        0.90346767, 0.90065604]),\n",
       " 'std_test_score': array([0.07023136, 0.05636266, 0.05744979, 0.04675976, 0.06258683,\n",
       "        0.06159671, 0.05381228, 0.06657261, 0.05049373, 0.05844555,\n",
       "        0.05374461, 0.05424466]),\n",
       " 'rank_test_score': array([11,  8,  4,  1,  6,  6,  2,  3, 10,  5,  9, 12], dtype=int32)}"
      ]
     },
     "execution_count": 98,
     "metadata": {},
     "output_type": "execute_result"
    }
   ],
   "source": [
    "grid.cv_results_"
   ]
  },
  {
   "cell_type": "code",
   "execution_count": 99,
   "metadata": {},
   "outputs": [
    {
     "data": {
      "text/plain": [
       "{'max_depth': None, 'max_features': 'auto', 'n_estimators': 120}"
      ]
     },
     "execution_count": 99,
     "metadata": {},
     "output_type": "execute_result"
    }
   ],
   "source": [
    "grid.best_params_"
   ]
  },
  {
   "cell_type": "code",
   "execution_count": 100,
   "metadata": {},
   "outputs": [
    {
     "data": {
      "text/plain": [
       "RandomForestClassifier(bootstrap=True, class_weight=None, criterion='gini',\n",
       "                       max_depth=None, max_features='auto', max_leaf_nodes=None,\n",
       "                       min_impurity_decrease=0.0, min_impurity_split=None,\n",
       "                       min_samples_leaf=1, min_samples_split=2,\n",
       "                       min_weight_fraction_leaf=0.0, n_estimators=120,\n",
       "                       n_jobs=None, oob_score=False, random_state=None,\n",
       "                       verbose=0, warm_start=False)"
      ]
     },
     "execution_count": 100,
     "metadata": {},
     "output_type": "execute_result"
    }
   ],
   "source": [
    "RF=RandomForestClassifier(n_estimators=120,max_features='auto',max_depth=None)\n",
    "RF.fit(X,y)"
   ]
  },
  {
   "cell_type": "code",
   "execution_count": null,
   "metadata": {},
   "outputs": [],
   "source": []
  },
  {
   "cell_type": "code",
   "execution_count": 101,
   "metadata": {},
   "outputs": [
    {
     "name": "stderr",
     "output_type": "stream",
     "text": [
      "/home/parkj0/anaconda3/envs/venv/lib/python3.7/site-packages/sklearn/preprocessing/data.py:2553: FutureWarning: The default value of `copy` will change from False to True in 0.23 in order to make it more consistent with the default `copy` values of other functions in :mod:`sklearn.preprocessing.data` and prevent unexpected side effects by modifying the value of `X` inplace. To avoid inplace modifications of `X`, it is recommended to explicitly set `copy=True`\n",
      "  FutureWarning)\n"
     ]
    }
   ],
   "source": [
    "from sklearn.ensemble import ExtraTreesClassifier\n",
    "from sklearn.tree import DecisionTreeClassifier\n",
    "X=preprocessing.quantile_transform(training_set)\n",
    "ETC=ExtraTreesClassifier()"
   ]
  },
  {
   "cell_type": "code",
   "execution_count": 102,
   "metadata": {},
   "outputs": [],
   "source": [
    "param_grid={\n",
    " 'n_estimators':[100,200,300],\n",
    "    'max_features':['auto','sqrt','log2'],\n",
    "    'max_depth':[17,20,25,30]\n",
    "    #'criterion':['gini','entropy']\n",
    "}\n",
    "\n",
    "grid=GridSearchCV(estimator=ETC,param_grid=param_grid,cv=10,scoring='accuracy')"
   ]
  },
  {
   "cell_type": "code",
   "execution_count": 103,
   "metadata": {},
   "outputs": [
    {
     "name": "stderr",
     "output_type": "stream",
     "text": [
      "/home/parkj0/anaconda3/envs/venv/lib/python3.7/site-packages/sklearn/model_selection/_search.py:813: DeprecationWarning: The default of the `iid` parameter will change from True to False in version 0.22 and will be removed in 0.24. This will change numeric results when test-set sizes are unequal.\n",
      "  DeprecationWarning)\n"
     ]
    },
    {
     "data": {
      "text/plain": [
       "GridSearchCV(cv=10, error_score='raise-deprecating',\n",
       "             estimator=ExtraTreesClassifier(bootstrap=False, class_weight=None,\n",
       "                                            criterion='gini', max_depth=None,\n",
       "                                            max_features='auto',\n",
       "                                            max_leaf_nodes=None,\n",
       "                                            min_impurity_decrease=0.0,\n",
       "                                            min_impurity_split=None,\n",
       "                                            min_samples_leaf=1,\n",
       "                                            min_samples_split=2,\n",
       "                                            min_weight_fraction_leaf=0.0,\n",
       "                                            n_estimators='warn', n_jobs=None,\n",
       "                                            oob_score=False, random_state=None,\n",
       "                                            verbose=0, warm_start=False),\n",
       "             iid='warn', n_jobs=None,\n",
       "             param_grid={'max_depth': [17, 20, 25, 30],\n",
       "                         'max_features': ['auto', 'sqrt', 'log2'],\n",
       "                         'n_estimators': [100, 200, 300]},\n",
       "             pre_dispatch='2*n_jobs', refit=True, return_train_score=False,\n",
       "             scoring='accuracy', verbose=0)"
      ]
     },
     "execution_count": 103,
     "metadata": {},
     "output_type": "execute_result"
    }
   ],
   "source": [
    "grid.fit(X,y)\n"
   ]
  },
  {
   "cell_type": "code",
   "execution_count": 104,
   "metadata": {},
   "outputs": [
    {
     "data": {
      "text/plain": [
       "{'mean_fit_time': array([0.13440371, 0.31285665, 0.38421807, 0.12859495, 0.25634625,\n",
       "        0.38297377, 0.09940097, 0.1976511 , 0.29724841, 0.12877414,\n",
       "        0.2565161 , 0.38348498, 0.13316631, 0.26105771, 0.38990538,\n",
       "        0.10086179, 0.20188918, 0.30208225, 0.16014745, 0.30043721,\n",
       "        0.40637705, 0.132617  , 0.26469038, 0.4522409 , 0.12255132,\n",
       "        0.30296898, 0.31535351, 0.14095981, 0.33068111, 0.44781864,\n",
       "        0.16498342, 0.3009747 , 0.4140178 , 0.10473809, 0.20678358,\n",
       "        0.33048036]),\n",
       " 'std_fit_time': array([0.01183615, 0.07539146, 0.00241232, 0.00061637, 0.00282261,\n",
       "        0.00196359, 0.00089811, 0.00174214, 0.00380217, 0.00108264,\n",
       "        0.00108646, 0.00116009, 0.00400281, 0.0035212 , 0.00161117,\n",
       "        0.00039402, 0.0015638 , 0.00340236, 0.0427713 , 0.05423099,\n",
       "        0.02211028, 0.00068231, 0.00091348, 0.09792609, 0.01222017,\n",
       "        0.10312692, 0.00683733, 0.01219212, 0.0414157 , 0.04442885,\n",
       "        0.0346028 , 0.04107012, 0.02646179, 0.00070413, 0.00172583,\n",
       "        0.05683061]),\n",
       " 'mean_score_time': array([0.00630319, 0.014498  , 0.01793303, 0.00628495, 0.01226947,\n",
       "        0.01795681, 0.00638595, 0.01228461, 0.01822739, 0.00632579,\n",
       "        0.01215343, 0.0179183 , 0.0065408 , 0.01227045, 0.01804469,\n",
       "        0.00639157, 0.01230755, 0.01821682, 0.00710826, 0.01418388,\n",
       "        0.01810496, 0.0063931 , 0.01225266, 0.02075148, 0.0073884 ,\n",
       "        0.01732953, 0.01844227, 0.00643315, 0.01490929, 0.02385368,\n",
       "        0.00846593, 0.01352153, 0.02281034, 0.00646255, 0.01238554,\n",
       "        0.0199337 ]),\n",
       " 'std_score_time': array([6.39935408e-05, 6.58727538e-03, 1.27788586e-04, 4.84121239e-05,\n",
       "        4.71381309e-04, 2.18817217e-04, 8.62394771e-05, 3.72780543e-05,\n",
       "        1.81424188e-04, 9.42421960e-05, 9.35095053e-05, 1.19064854e-04,\n",
       "        2.88759734e-04, 1.05984554e-04, 2.20069504e-04, 6.50064597e-05,\n",
       "        1.25987389e-04, 1.23605695e-04, 2.15651181e-03, 5.60926004e-03,\n",
       "        1.60039545e-04, 8.44895165e-05, 1.70497098e-04, 5.15343874e-03,\n",
       "        1.74402029e-03, 5.66378305e-03, 4.57601286e-04, 8.14691461e-05,\n",
       "        2.82453405e-03, 1.10625551e-02, 3.26255424e-03, 2.81680529e-03,\n",
       "        1.39258917e-02, 9.52914919e-05, 1.02569327e-04, 4.37193317e-03]),\n",
       " 'param_max_depth': masked_array(data=[17, 17, 17, 17, 17, 17, 17, 17, 17, 20, 20, 20, 20, 20,\n",
       "                    20, 20, 20, 20, 25, 25, 25, 25, 25, 25, 25, 25, 25, 30,\n",
       "                    30, 30, 30, 30, 30, 30, 30, 30],\n",
       "              mask=[False, False, False, False, False, False, False, False,\n",
       "                    False, False, False, False, False, False, False, False,\n",
       "                    False, False, False, False, False, False, False, False,\n",
       "                    False, False, False, False, False, False, False, False,\n",
       "                    False, False, False, False],\n",
       "        fill_value='?',\n",
       "             dtype=object),\n",
       " 'param_max_features': masked_array(data=['auto', 'auto', 'auto', 'sqrt', 'sqrt', 'sqrt', 'log2',\n",
       "                    'log2', 'log2', 'auto', 'auto', 'auto', 'sqrt', 'sqrt',\n",
       "                    'sqrt', 'log2', 'log2', 'log2', 'auto', 'auto', 'auto',\n",
       "                    'sqrt', 'sqrt', 'sqrt', 'log2', 'log2', 'log2', 'auto',\n",
       "                    'auto', 'auto', 'sqrt', 'sqrt', 'sqrt', 'log2', 'log2',\n",
       "                    'log2'],\n",
       "              mask=[False, False, False, False, False, False, False, False,\n",
       "                    False, False, False, False, False, False, False, False,\n",
       "                    False, False, False, False, False, False, False, False,\n",
       "                    False, False, False, False, False, False, False, False,\n",
       "                    False, False, False, False],\n",
       "        fill_value='?',\n",
       "             dtype=object),\n",
       " 'param_n_estimators': masked_array(data=[100, 200, 300, 100, 200, 300, 100, 200, 300, 100, 200,\n",
       "                    300, 100, 200, 300, 100, 200, 300, 100, 200, 300, 100,\n",
       "                    200, 300, 100, 200, 300, 100, 200, 300, 100, 200, 300,\n",
       "                    100, 200, 300],\n",
       "              mask=[False, False, False, False, False, False, False, False,\n",
       "                    False, False, False, False, False, False, False, False,\n",
       "                    False, False, False, False, False, False, False, False,\n",
       "                    False, False, False, False, False, False, False, False,\n",
       "                    False, False, False, False],\n",
       "        fill_value='?',\n",
       "             dtype=object),\n",
       " 'params': [{'max_depth': 17, 'max_features': 'auto', 'n_estimators': 100},\n",
       "  {'max_depth': 17, 'max_features': 'auto', 'n_estimators': 200},\n",
       "  {'max_depth': 17, 'max_features': 'auto', 'n_estimators': 300},\n",
       "  {'max_depth': 17, 'max_features': 'sqrt', 'n_estimators': 100},\n",
       "  {'max_depth': 17, 'max_features': 'sqrt', 'n_estimators': 200},\n",
       "  {'max_depth': 17, 'max_features': 'sqrt', 'n_estimators': 300},\n",
       "  {'max_depth': 17, 'max_features': 'log2', 'n_estimators': 100},\n",
       "  {'max_depth': 17, 'max_features': 'log2', 'n_estimators': 200},\n",
       "  {'max_depth': 17, 'max_features': 'log2', 'n_estimators': 300},\n",
       "  {'max_depth': 20, 'max_features': 'auto', 'n_estimators': 100},\n",
       "  {'max_depth': 20, 'max_features': 'auto', 'n_estimators': 200},\n",
       "  {'max_depth': 20, 'max_features': 'auto', 'n_estimators': 300},\n",
       "  {'max_depth': 20, 'max_features': 'sqrt', 'n_estimators': 100},\n",
       "  {'max_depth': 20, 'max_features': 'sqrt', 'n_estimators': 200},\n",
       "  {'max_depth': 20, 'max_features': 'sqrt', 'n_estimators': 300},\n",
       "  {'max_depth': 20, 'max_features': 'log2', 'n_estimators': 100},\n",
       "  {'max_depth': 20, 'max_features': 'log2', 'n_estimators': 200},\n",
       "  {'max_depth': 20, 'max_features': 'log2', 'n_estimators': 300},\n",
       "  {'max_depth': 25, 'max_features': 'auto', 'n_estimators': 100},\n",
       "  {'max_depth': 25, 'max_features': 'auto', 'n_estimators': 200},\n",
       "  {'max_depth': 25, 'max_features': 'auto', 'n_estimators': 300},\n",
       "  {'max_depth': 25, 'max_features': 'sqrt', 'n_estimators': 100},\n",
       "  {'max_depth': 25, 'max_features': 'sqrt', 'n_estimators': 200},\n",
       "  {'max_depth': 25, 'max_features': 'sqrt', 'n_estimators': 300},\n",
       "  {'max_depth': 25, 'max_features': 'log2', 'n_estimators': 100},\n",
       "  {'max_depth': 25, 'max_features': 'log2', 'n_estimators': 200},\n",
       "  {'max_depth': 25, 'max_features': 'log2', 'n_estimators': 300},\n",
       "  {'max_depth': 30, 'max_features': 'auto', 'n_estimators': 100},\n",
       "  {'max_depth': 30, 'max_features': 'auto', 'n_estimators': 200},\n",
       "  {'max_depth': 30, 'max_features': 'auto', 'n_estimators': 300},\n",
       "  {'max_depth': 30, 'max_features': 'sqrt', 'n_estimators': 100},\n",
       "  {'max_depth': 30, 'max_features': 'sqrt', 'n_estimators': 200},\n",
       "  {'max_depth': 30, 'max_features': 'sqrt', 'n_estimators': 300},\n",
       "  {'max_depth': 30, 'max_features': 'log2', 'n_estimators': 100},\n",
       "  {'max_depth': 30, 'max_features': 'log2', 'n_estimators': 200},\n",
       "  {'max_depth': 30, 'max_features': 'log2', 'n_estimators': 300}],\n",
       " 'split0_test_score': array([0.95495495, 0.94594595, 0.97297297, 0.95495495, 0.96396396,\n",
       "        0.96396396, 0.91891892, 0.94594595, 1.        , 0.97297297,\n",
       "        0.9009009 , 1.        , 0.98198198, 0.97297297, 0.93693694,\n",
       "        0.92792793, 0.96396396, 0.99099099, 0.93693694, 0.92792793,\n",
       "        0.93693694, 0.94594595, 0.93693694, 0.95495495, 0.89189189,\n",
       "        0.94594595, 0.95495495, 0.90990991, 0.95495495, 0.97297297,\n",
       "        0.92792793, 0.96396396, 0.97297297, 0.95495495, 0.90990991,\n",
       "        0.90990991]),\n",
       " 'split1_test_score': array([1.        , 1.        , 1.        , 0.96396396, 0.96396396,\n",
       "        0.96396396, 0.96396396, 1.        , 1.        , 1.        ,\n",
       "        1.        , 1.        , 1.        , 1.        , 1.        ,\n",
       "        0.98198198, 1.        , 1.        , 1.        , 1.        ,\n",
       "        0.98198198, 1.        , 1.        , 1.        , 0.99099099,\n",
       "        1.        , 1.        , 1.        , 1.        , 1.        ,\n",
       "        0.99099099, 0.99099099, 1.        , 0.99099099, 1.        ,\n",
       "        1.        ]),\n",
       " 'split2_test_score': array([0.92727273, 0.92727273, 0.92727273, 0.92727273, 0.92727273,\n",
       "        0.92727273, 0.86363636, 0.89090909, 0.90909091, 0.92727273,\n",
       "        0.92727273, 0.92727273, 0.93636364, 0.92727273, 0.92727273,\n",
       "        0.92727273, 0.91818182, 0.92727273, 0.9       , 0.89090909,\n",
       "        0.92727273, 0.90909091, 0.91818182, 0.90909091, 0.92727273,\n",
       "        0.9       , 0.92727273, 0.92727273, 0.91818182, 0.92727273,\n",
       "        0.92727273, 0.9       , 0.92727273, 0.92727273, 0.91818182,\n",
       "        0.92727273]),\n",
       " 'split3_test_score': array([0.95454545, 0.96363636, 0.96363636, 0.91818182, 0.97272727,\n",
       "        0.96363636, 0.98181818, 0.96363636, 0.96363636, 0.97272727,\n",
       "        0.98181818, 0.95454545, 0.95454545, 0.92727273, 0.93636364,\n",
       "        0.96363636, 0.90909091, 0.96363636, 0.96363636, 0.96363636,\n",
       "        0.92727273, 0.91818182, 0.96363636, 0.96363636, 0.96363636,\n",
       "        0.97272727, 0.90909091, 0.95454545, 0.95454545, 0.93636364,\n",
       "        1.        , 0.96363636, 0.94545455, 0.96363636, 0.98181818,\n",
       "        0.96363636]),\n",
       " 'split4_test_score': array([0.92523364, 0.91588785, 0.92523364, 0.92523364, 0.92523364,\n",
       "        0.94392523, 0.95327103, 0.93457944, 0.95327103, 0.92523364,\n",
       "        0.92523364, 0.92523364, 0.92523364, 0.92523364, 0.95327103,\n",
       "        0.96261682, 0.92523364, 0.96261682, 0.95327103, 0.93457944,\n",
       "        0.92523364, 0.91588785, 0.92523364, 0.92523364, 0.93457944,\n",
       "        0.87850467, 0.92523364, 0.92523364, 0.92523364, 0.93457944,\n",
       "        0.92523364, 0.92523364, 0.93457944, 0.94392523, 0.89719626,\n",
       "        0.95327103]),\n",
       " 'split5_test_score': array([1.        , 1.        , 1.        , 1.        , 1.        ,\n",
       "        0.99065421, 1.        , 1.        , 1.        , 1.        ,\n",
       "        1.        , 1.        , 0.97196262, 0.96261682, 1.        ,\n",
       "        0.96261682, 1.        , 0.98130841, 0.98130841, 1.        ,\n",
       "        0.97196262, 1.        , 1.        , 1.        , 1.        ,\n",
       "        1.        , 1.        , 1.        , 0.98130841, 0.99065421,\n",
       "        0.97196262, 1.        , 0.99065421, 0.99065421, 1.        ,\n",
       "        1.        ]),\n",
       " 'split6_test_score': array([0.84615385, 0.79807692, 0.84615385, 0.80769231, 0.79807692,\n",
       "        0.81730769, 0.81730769, 0.83653846, 0.83653846, 0.80769231,\n",
       "        0.82692308, 0.74038462, 0.76923077, 0.80769231, 0.81730769,\n",
       "        0.84615385, 0.78846154, 0.80769231, 0.86538462, 0.79807692,\n",
       "        0.80769231, 0.78846154, 0.77884615, 0.79807692, 0.77884615,\n",
       "        0.88461538, 0.85576923, 0.82692308, 0.84615385, 0.77884615,\n",
       "        0.79807692, 0.82692308, 0.80769231, 0.78846154, 0.80769231,\n",
       "        0.80769231]),\n",
       " 'split7_test_score': array([0.7961165 , 0.82524272, 0.83495146, 0.83495146, 0.83495146,\n",
       "        0.84466019, 0.7961165 , 0.83495146, 0.87378641, 0.86407767,\n",
       "        0.81553398, 0.83495146, 0.80582524, 0.83495146, 0.80582524,\n",
       "        0.85436893, 0.7961165 , 0.83495146, 0.82524272, 0.7961165 ,\n",
       "        0.83495146, 0.83495146, 0.83495146, 0.83495146, 0.83495146,\n",
       "        0.85436893, 0.82524272, 0.83495146, 0.84466019, 0.83495146,\n",
       "        0.87378641, 0.83495146, 0.85436893, 0.87378641, 0.83495146,\n",
       "        0.83495146]),\n",
       " 'split8_test_score': array([0.94117647, 1.        , 0.96078431, 0.95098039, 1.        ,\n",
       "        0.98039216, 0.99019608, 0.92156863, 0.96078431, 0.99019608,\n",
       "        0.92156863, 0.95098039, 0.96078431, 0.96078431, 0.97058824,\n",
       "        0.96078431, 0.96078431, 0.96078431, 0.92156863, 0.96078431,\n",
       "        0.96078431, 0.97058824, 0.96078431, 0.96078431, 0.96078431,\n",
       "        0.96078431, 0.96078431, 0.97058824, 0.95098039, 0.96078431,\n",
       "        1.        , 0.96078431, 0.96078431, 0.96078431, 0.98039216,\n",
       "        0.96078431]),\n",
       " 'split9_test_score': array([0.84313725, 0.84313725, 0.84313725, 0.84313725, 0.84313725,\n",
       "        0.84313725, 0.8627451 , 0.84313725, 0.84313725, 0.84313725,\n",
       "        0.84313725, 0.83333333, 0.84313725, 0.84313725, 0.84313725,\n",
       "        0.84313725, 0.81372549, 0.84313725, 0.84313725, 0.84313725,\n",
       "        0.84313725, 0.84313725, 0.84313725, 0.84313725, 0.83333333,\n",
       "        0.84313725, 0.84313725, 0.84313725, 0.84313725, 0.84313725,\n",
       "        0.84313725, 0.84313725, 0.84313725, 0.84313725, 0.84313725,\n",
       "        0.84313725]),\n",
       " 'mean_test_score': array([0.92033739, 0.92314902, 0.92877226, 0.91377694, 0.92408622,\n",
       "        0.92502343, 0.91565136, 0.91846298, 0.93533271, 0.93158388,\n",
       "        0.91565136, 0.91846298, 0.91658857, 0.91752577, 0.92033739,\n",
       "        0.92408622, 0.90909091, 0.92877226, 0.92033739, 0.91283974,\n",
       "        0.91283974, 0.91377694, 0.91752577, 0.92033739, 0.91283974,\n",
       "        0.92502343, 0.9212746 , 0.92033739, 0.92314902, 0.91940019,\n",
       "        0.92689784, 0.92221181, 0.92502343, 0.92502343, 0.91846298,\n",
       "        0.9212746 ]),\n",
       " 'std_test_score': array([0.06470293, 0.07115756, 0.060668  , 0.05936277, 0.06816   ,\n",
       "        0.06021548, 0.07035883, 0.06018574, 0.06055381, 0.06578162,\n",
       "        0.06474316, 0.0821876 , 0.07533749, 0.06163422, 0.06765399,\n",
       "        0.05125058, 0.07623415, 0.06727063, 0.05606684, 0.07226271,\n",
       "        0.05756784, 0.06743373, 0.06996243, 0.06720736, 0.07026645,\n",
       "        0.05580798, 0.05870431, 0.06165516, 0.05497271, 0.06983103,\n",
       "        0.06522001, 0.06220108, 0.06241487, 0.06326382, 0.0678478 ,\n",
       "        0.06542723]),\n",
       " 'rank_test_score': array([17, 12,  3, 31, 10,  6, 29, 23,  1,  2, 29, 23, 28, 26, 17, 10, 36,\n",
       "         3, 17, 33, 33, 31, 26, 17, 33,  6, 15, 17, 12, 22,  5, 14,  6,  6,\n",
       "        23, 15], dtype=int32)}"
      ]
     },
     "execution_count": 104,
     "metadata": {},
     "output_type": "execute_result"
    }
   ],
   "source": [
    "grid.cv_results_"
   ]
  },
  {
   "cell_type": "code",
   "execution_count": 105,
   "metadata": {},
   "outputs": [
    {
     "data": {
      "text/plain": [
       "{'max_depth': 17, 'max_features': 'log2', 'n_estimators': 300}"
      ]
     },
     "execution_count": 105,
     "metadata": {},
     "output_type": "execute_result"
    }
   ],
   "source": [
    "grid.best_params_"
   ]
  },
  {
   "cell_type": "code",
   "execution_count": 106,
   "metadata": {},
   "outputs": [],
   "source": [
    "ETC=ExtraTreesClassifier(max_depth=17,max_features='log2',n_estimators=300).fit(X,y)"
   ]
  },
  {
   "cell_type": "code",
   "execution_count": 107,
   "metadata": {},
   "outputs": [
    {
     "name": "stdout",
     "output_type": "stream",
     "text": [
      "[[109   0   0   4   0   0   0   0   3   0]\n",
      " [  0 115   4   3   0   0   0   0   0   0]\n",
      " [  0   0 116   8   0   0   0   0   0   0]\n",
      " [  0   0   0 204   0   0   0   0   0   0]\n",
      " [  0   0   0   0  52   0   0   0   4   0]\n",
      " [  0   4   0   5   0  48   0   0   0   0]\n",
      " [  0   0   0   0   0   0  48  12   4   0]\n",
      " [  0   0   0   0   0   0   1 110   9   0]\n",
      " [  0   0   0   0   0   0   4  16 152   4]\n",
      " [  0   0   0   0   0   0   0   0   0  28]]\n"
     ]
    }
   ],
   "source": [
    "from sklearn.model_selection import cross_val_predict\n",
    "\n",
    "y_pred = cross_val_predict(ETC, X, y, cv=10)\n",
    "conf_mat = confusion_matrix(y, y_pred)\n",
    "print(conf_mat)"
   ]
  },
  {
   "cell_type": "code",
   "execution_count": 14,
   "metadata": {},
   "outputs": [
    {
     "name": "stderr",
     "output_type": "stream",
     "text": [
      "/home/parkj0/anaconda3/envs/venv/lib/python3.7/site-packages/sklearn/preprocessing/data.py:2553: FutureWarning: The default value of `copy` will change from False to True in 0.23 in order to make it more consistent with the default `copy` values of other functions in :mod:`sklearn.preprocessing.data` and prevent unexpected side effects by modifying the value of `X` inplace. To avoid inplace modifications of `X`, it is recommended to explicitly set `copy=True`\n",
      "  FutureWarning)\n"
     ]
    },
    {
     "name": "stdout",
     "output_type": "stream",
     "text": [
      "1.0\n",
      "[[116   0   0   0   0   0   0   0   0   0]\n",
      " [  0   4   0   0   0   0   0   0   0   0]\n",
      " [  0   0 120   0   0   0   0   0   0   0]\n",
      " [  0   0   0 200   0   0   0   0   0   0]\n",
      " [  0   0   0   0  57   0   0   0   0   0]\n",
      " [  0   0   0   0   0  56   0   0   0   0]\n",
      " [  0   0   0   0   0   0  68   0   0   0]\n",
      " [  0   0   0   0   0   0   0 128   0   0]\n",
      " [  0   0   0   0   0   0   0   0 224   0]\n",
      " [  0   0   0   0   0   0   0   0   0  28]]\n"
     ]
    }
   ],
   "source": [
    "class_names=['face','pouring','clinking','drinking1','tissue','drink2','spoon','chopstick','fork','stir']\n",
    "\n",
    "X=training_set\n",
    "y=training_label\n",
    "\n",
    "#print((test_pred_proba))\n",
    "#for row in test_pred_proba:\n",
    "#    print(np.max([row]))\n",
    "test_pred3=ETC.predict(preprocessing.quantile_transform(X))\n",
    "print(accuracy_score(test_pred3,training_label))\n",
    "print(confusion_matrix(test_pred3, training_label))"
   ]
  },
  {
   "cell_type": "code",
   "execution_count": null,
   "metadata": {},
   "outputs": [],
   "source": []
  },
  {
   "cell_type": "code",
   "execution_count": null,
   "metadata": {},
   "outputs": [],
   "source": []
  },
  {
   "cell_type": "code",
   "execution_count": 108,
   "metadata": {},
   "outputs": [
    {
     "name": "stderr",
     "output_type": "stream",
     "text": [
      "/home/parkj0/anaconda3/envs/venv/lib/python3.7/site-packages/sklearn/preprocessing/data.py:2553: FutureWarning: The default value of `copy` will change from False to True in 0.23 in order to make it more consistent with the default `copy` values of other functions in :mod:`sklearn.preprocessing.data` and prevent unexpected side effects by modifying the value of `X` inplace. To avoid inplace modifications of `X`, it is recommended to explicitly set `copy=True`\n",
      "  FutureWarning)\n"
     ]
    },
    {
     "name": "stdout",
     "output_type": "stream",
     "text": [
      "0.9030282821749248\n"
     ]
    }
   ],
   "source": [
    "#SVM\n",
    "#prepare the data\n",
    "#prepare the model\n",
    "#X=preprocessing.minmax_scale(training_set)\n",
    "#X=preprocessing.robust_scale(training_set)\n",
    "X=preprocessing.quantile_transform(training_set)\n",
    "y=training_label\n",
    "clf = sklearn.svm.SVC(gamma='scale',tol=0.1,probability=True)\n",
    "scores=cross_val_score(clf,X,y,cv=10,scoring='accuracy')\n",
    "print(scores.mean())"
   ]
  },
  {
   "cell_type": "code",
   "execution_count": 109,
   "metadata": {},
   "outputs": [],
   "source": [
    "param_grid={\n",
    " #'kernel':['linear','poly','rbf','sigmoid'], rbf to be best acc\n",
    "    'C':[10,20,50,100]}\n",
    "\n",
    "grid=GridSearchCV(estimator=clf,param_grid=param_grid,cv=10,scoring='accuracy')"
   ]
  },
  {
   "cell_type": "code",
   "execution_count": 110,
   "metadata": {},
   "outputs": [
    {
     "name": "stderr",
     "output_type": "stream",
     "text": [
      "/home/parkj0/anaconda3/envs/venv/lib/python3.7/site-packages/sklearn/model_selection/_search.py:813: DeprecationWarning: The default of the `iid` parameter will change from True to False in version 0.22 and will be removed in 0.24. This will change numeric results when test-set sizes are unequal.\n",
      "  DeprecationWarning)\n"
     ]
    },
    {
     "data": {
      "text/plain": [
       "{'mean_fit_time': array([0.53390267, 0.54411323, 0.53812099, 0.51325831]),\n",
       " 'std_fit_time': array([0.03704927, 0.06052332, 0.04098229, 0.02844576]),\n",
       " 'mean_score_time': array([0.01463621, 0.01661682, 0.01529706, 0.01485248]),\n",
       " 'std_score_time': array([0.00166451, 0.00511245, 0.0024762 , 0.00188217]),\n",
       " 'param_C': masked_array(data=[10, 20, 50, 100],\n",
       "              mask=[False, False, False, False],\n",
       "        fill_value='?',\n",
       "             dtype=object),\n",
       " 'params': [{'C': 10}, {'C': 20}, {'C': 50}, {'C': 100}],\n",
       " 'split0_test_score': array([0.90990991, 0.90990991, 0.90990991, 0.90990991]),\n",
       " 'split1_test_score': array([0.95495495, 0.95495495, 0.95495495, 0.95495495]),\n",
       " 'split2_test_score': array([0.86363636, 0.86363636, 0.86363636, 0.86363636]),\n",
       " 'split3_test_score': array([0.95454545, 0.95454545, 0.95454545, 0.95454545]),\n",
       " 'split4_test_score': array([0.96261682, 0.96261682, 0.96261682, 0.96261682]),\n",
       " 'split5_test_score': array([0.99065421, 0.99065421, 0.99065421, 0.99065421]),\n",
       " 'split6_test_score': array([0.84615385, 0.84615385, 0.84615385, 0.84615385]),\n",
       " 'split7_test_score': array([0.84466019, 0.84466019, 0.84466019, 0.84466019]),\n",
       " 'split8_test_score': array([0.92156863, 0.92156863, 0.92156863, 0.92156863]),\n",
       " 'split9_test_score': array([0.80392157, 0.80392157, 0.80392157, 0.80392157]),\n",
       " 'mean_test_score': array([0.90627929, 0.90627929, 0.90627929, 0.90627929]),\n",
       " 'std_test_score': array([0.05874073, 0.05874073, 0.05874073, 0.05874073]),\n",
       " 'rank_test_score': array([1, 1, 1, 1], dtype=int32)}"
      ]
     },
     "execution_count": 110,
     "metadata": {},
     "output_type": "execute_result"
    }
   ],
   "source": [
    "grid.fit(X,y)\n",
    "grid.cv_results_"
   ]
  },
  {
   "cell_type": "code",
   "execution_count": 111,
   "metadata": {},
   "outputs": [
    {
     "data": {
      "text/plain": [
       "{'C': 10}"
      ]
     },
     "execution_count": 111,
     "metadata": {},
     "output_type": "execute_result"
    }
   ],
   "source": [
    "grid.best_params_"
   ]
  },
  {
   "cell_type": "code",
   "execution_count": 112,
   "metadata": {},
   "outputs": [
    {
     "name": "stderr",
     "output_type": "stream",
     "text": [
      "/home/parkj0/anaconda3/envs/venv/lib/python3.7/site-packages/sklearn/svm/base.py:193: FutureWarning: The default value of gamma will change from 'auto' to 'scale' in version 0.22 to account better for unscaled features. Set gamma explicitly to 'auto' or 'scale' to avoid this warning.\n",
      "  \"avoid this warning.\", FutureWarning)\n"
     ]
    }
   ],
   "source": [
    "SVC=sklearn.svm.SVC(10,probability=True).fit(X,y)"
   ]
  },
  {
   "cell_type": "code",
   "execution_count": 113,
   "metadata": {},
   "outputs": [],
   "source": [
    "#save the model\n",
    "\n",
    "from joblib import dump, load\n",
    "filename='./svm.sav'\n",
    "pickle.dump(SVC,open(filename,'wb'))"
   ]
  },
  {
   "cell_type": "code",
   "execution_count": null,
   "metadata": {},
   "outputs": [],
   "source": []
  },
  {
   "cell_type": "code",
   "execution_count": 114,
   "metadata": {},
   "outputs": [
    {
     "data": {
      "text/plain": [
       "['rf.joblib']"
      ]
     },
     "execution_count": 114,
     "metadata": {},
     "output_type": "execute_result"
    }
   ],
   "source": [
    "filename='./rf.sav'\n",
    "pickle.dump(RF,open(filename,'wb'))\n",
    "dump(RF,'rf.joblib')"
   ]
  },
  {
   "cell_type": "code",
   "execution_count": 115,
   "metadata": {},
   "outputs": [
    {
     "data": {
      "text/plain": [
       "['ETC.joblib']"
      ]
     },
     "execution_count": 115,
     "metadata": {},
     "output_type": "execute_result"
    }
   ],
   "source": [
    "filename='./ETC.sav'\n",
    "pickle.dump(ETC,open(filename,'wb'))\n",
    "dump(ETC,'ETC.joblib')"
   ]
  },
  {
   "cell_type": "code",
   "execution_count": null,
   "metadata": {},
   "outputs": [],
   "source": []
  },
  {
   "cell_type": "code",
   "execution_count": null,
   "metadata": {},
   "outputs": [],
   "source": []
  },
  {
   "cell_type": "code",
   "execution_count": null,
   "metadata": {},
   "outputs": [],
   "source": []
  },
  {
   "cell_type": "code",
   "execution_count": null,
   "metadata": {},
   "outputs": [],
   "source": []
  },
  {
   "cell_type": "code",
   "execution_count": null,
   "metadata": {},
   "outputs": [],
   "source": []
  }
 ],
 "metadata": {
  "kernelspec": {
   "display_name": "Python 3",
   "language": "python",
   "name": "python3"
  },
  "language_info": {
   "codemirror_mode": {
    "name": "ipython",
    "version": 3
   },
   "file_extension": ".py",
   "mimetype": "text/x-python",
   "name": "python",
   "nbconvert_exporter": "python",
   "pygments_lexer": "ipython3",
   "version": "3.7.3"
  }
 },
 "nbformat": 4,
 "nbformat_minor": 2
}
