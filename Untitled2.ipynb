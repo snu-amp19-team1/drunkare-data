{
 "cells": [
  {
   "cell_type": "code",
   "execution_count": 15,
   "metadata": {},
   "outputs": [],
   "source": [
    "import csv\n",
    "import matplotlib.pyplot as plt\n",
    "import numpy as np\n",
    "import pandas as pd\n",
    "import tensorflow as tf\n",
    "import sklearn\n",
    "from sklearn import svm\n",
    "from datetime import datetime\n",
    "import glob\n",
    "import pickle\n",
    "from sklearn import preprocessing\n",
    "import re\n"
   ]
  },
  {
   "cell_type": "code",
   "execution_count": 16,
   "metadata": {},
   "outputs": [
    {
     "ename": "ValueError",
     "evalue": "could not convert string to float: '[array([[ -1.1561162 ,  -0.76589468,   0.48526444,  -3.47102856,\\n         -1.49752408,  -0.33844076],\\n       [ -0.46995036,  -3.00193964,  -5.70343624,  -8.02390004,\\n         -0.2129612 ,  -1.38755   ],\\n       [  9.8834102 ,   8.53893108,   5.01908892,   2.38880268,\\n         10.2983258 ,   9.63627964],\\n       [  1.64360012,  -8.94039952, -98.91000048,  76.94400064,\\n         24.17800048,  -5.7792002 ],\\n       [ -4.89999992, -28.19040012,  -3.85840004,  11.98400028,\\n        -14.81200012,  -4.12439996],\\n       [  2.0944    ,  31.81080012,   7.35279984, -12.31440016,\\n        -10.93400012, -24.11359992]]), array([[  1.01999672,   1.96585383,   2.33341311,   0.41161943,\\n          1.89328995,   1.48941451],\\n       [  1.04024998,   3.58475766,   4.45982826,   0.98395506,\\n          1.44688595,   1.12749329],\\n       [  0.73122318,   2.32168838,   5.01329024,   2.20171865,\\n          0.98356787,   0.9827927 ],\\n       [ 27.64663776, 140.52804196, 106.49128833,  75.52089834,\\n         63.54718984,  32.88036575],\\n       [ 16.3722082 ,  51.64716135,  54.52460778,  45.29820701,\\n         32.81833575,  26.93549731],\\n       [  6.68552172,  34.95332123,  32.63088284,  39.33987047,\\n         16.91722629,  24.74328895]]), array([[-1.0313070e+00, -1.3686950e+00, -2.2253200e-01, -3.4815570e+00,\\n        -7.0349000e-01, -3.1107000e-02],\\n       [-5.1924300e-01, -1.5672990e+00, -4.4578290e+00, -7.9992060e+00,\\n         3.3260200e-01, -1.4644080e+00],\\n       [ 9.8895360e+00,  9.4037920e+00,  6.5611200e+00,  1.7826530e+00,\\n         1.0341780e+01,  9.8919290e+00],\\n       [-7.0000000e-02,  1.3230000e+01, -5.2849998e+01,  3.3529999e+01,\\n        -2.3100000e+00, -3.7800000e+00],\\n       [-2.9400000e+00, -2.4920000e+01, -9.3100000e+00,  3.0240000e+01,\\n        -1.5400000e+01, -8.4000000e-01],\\n       [ 1.6100000e+00,  1.9530001e+01, -3.1500000e+00,  8.6800000e+00,\\n        -3.3600000e+00, -7.7700000e+00]])]'",
     "output_type": "error",
     "traceback": [
      "\u001b[0;31m---------------------------------------------------------------------------\u001b[0m",
      "\u001b[0;31mValueError\u001b[0m                                Traceback (most recent call last)",
      "\u001b[0;32m<ipython-input-16-f5a6399a8590>\u001b[0m in \u001b[0;36m<module>\u001b[0;34m\u001b[0m\n\u001b[1;32m      6\u001b[0m         \u001b[0mreader\u001b[0m\u001b[0;34m=\u001b[0m\u001b[0mcsv\u001b[0m\u001b[0;34m.\u001b[0m\u001b[0mreader\u001b[0m\u001b[0;34m(\u001b[0m\u001b[0mdata\u001b[0m\u001b[0;34m)\u001b[0m\u001b[0;34m\u001b[0m\u001b[0;34m\u001b[0m\u001b[0m\n\u001b[1;32m      7\u001b[0m         \u001b[0;32mfor\u001b[0m \u001b[0mrow\u001b[0m \u001b[0;32min\u001b[0m \u001b[0mreader\u001b[0m\u001b[0;34m:\u001b[0m\u001b[0;34m\u001b[0m\u001b[0;34m\u001b[0m\u001b[0m\n\u001b[0;32m----> 8\u001b[0;31m             \u001b[0mfrow\u001b[0m\u001b[0;34m=\u001b[0m\u001b[0;34m[\u001b[0m\u001b[0mfloat\u001b[0m\u001b[0;34m(\u001b[0m\u001b[0mi\u001b[0m\u001b[0;34m)\u001b[0m \u001b[0;32mfor\u001b[0m \u001b[0mi\u001b[0m \u001b[0;32min\u001b[0m \u001b[0mrow\u001b[0m\u001b[0;34m]\u001b[0m\u001b[0;34m\u001b[0m\u001b[0;34m\u001b[0m\u001b[0m\n\u001b[0m\u001b[1;32m      9\u001b[0m             \u001b[0;31m#plt.plot(row,a,linewidth=2.0)\u001b[0m\u001b[0;34m\u001b[0m\u001b[0;34m\u001b[0m\u001b[0;34m\u001b[0m\u001b[0m\n\u001b[1;32m     10\u001b[0m             \u001b[0;32mfor\u001b[0m \u001b[0mi\u001b[0m \u001b[0;32min\u001b[0m \u001b[0mre\u001b[0m\u001b[0;34m.\u001b[0m\u001b[0mfindall\u001b[0m\u001b[0;34m(\u001b[0m\u001b[0;34m'\\d+'\u001b[0m\u001b[0;34m,\u001b[0m \u001b[0mfilename\u001b[0m\u001b[0;34m)\u001b[0m\u001b[0;34m:\u001b[0m\u001b[0;34m\u001b[0m\u001b[0;34m\u001b[0m\u001b[0m\n",
      "\u001b[0;32m<ipython-input-16-f5a6399a8590>\u001b[0m in \u001b[0;36m<listcomp>\u001b[0;34m(.0)\u001b[0m\n\u001b[1;32m      6\u001b[0m         \u001b[0mreader\u001b[0m\u001b[0;34m=\u001b[0m\u001b[0mcsv\u001b[0m\u001b[0;34m.\u001b[0m\u001b[0mreader\u001b[0m\u001b[0;34m(\u001b[0m\u001b[0mdata\u001b[0m\u001b[0;34m)\u001b[0m\u001b[0;34m\u001b[0m\u001b[0;34m\u001b[0m\u001b[0m\n\u001b[1;32m      7\u001b[0m         \u001b[0;32mfor\u001b[0m \u001b[0mrow\u001b[0m \u001b[0;32min\u001b[0m \u001b[0mreader\u001b[0m\u001b[0;34m:\u001b[0m\u001b[0;34m\u001b[0m\u001b[0;34m\u001b[0m\u001b[0m\n\u001b[0;32m----> 8\u001b[0;31m             \u001b[0mfrow\u001b[0m\u001b[0;34m=\u001b[0m\u001b[0;34m[\u001b[0m\u001b[0mfloat\u001b[0m\u001b[0;34m(\u001b[0m\u001b[0mi\u001b[0m\u001b[0;34m)\u001b[0m \u001b[0;32mfor\u001b[0m \u001b[0mi\u001b[0m \u001b[0;32min\u001b[0m \u001b[0mrow\u001b[0m\u001b[0;34m]\u001b[0m\u001b[0;34m\u001b[0m\u001b[0;34m\u001b[0m\u001b[0m\n\u001b[0m\u001b[1;32m      9\u001b[0m             \u001b[0;31m#plt.plot(row,a,linewidth=2.0)\u001b[0m\u001b[0;34m\u001b[0m\u001b[0;34m\u001b[0m\u001b[0;34m\u001b[0m\u001b[0m\n\u001b[1;32m     10\u001b[0m             \u001b[0;32mfor\u001b[0m \u001b[0mi\u001b[0m \u001b[0;32min\u001b[0m \u001b[0mre\u001b[0m\u001b[0;34m.\u001b[0m\u001b[0mfindall\u001b[0m\u001b[0;34m(\u001b[0m\u001b[0;34m'\\d+'\u001b[0m\u001b[0;34m,\u001b[0m \u001b[0mfilename\u001b[0m\u001b[0;34m)\u001b[0m\u001b[0;34m:\u001b[0m\u001b[0;34m\u001b[0m\u001b[0;34m\u001b[0m\u001b[0m\n",
      "\u001b[0;31mValueError\u001b[0m: could not convert string to float: '[array([[ -1.1561162 ,  -0.76589468,   0.48526444,  -3.47102856,\\n         -1.49752408,  -0.33844076],\\n       [ -0.46995036,  -3.00193964,  -5.70343624,  -8.02390004,\\n         -0.2129612 ,  -1.38755   ],\\n       [  9.8834102 ,   8.53893108,   5.01908892,   2.38880268,\\n         10.2983258 ,   9.63627964],\\n       [  1.64360012,  -8.94039952, -98.91000048,  76.94400064,\\n         24.17800048,  -5.7792002 ],\\n       [ -4.89999992, -28.19040012,  -3.85840004,  11.98400028,\\n        -14.81200012,  -4.12439996],\\n       [  2.0944    ,  31.81080012,   7.35279984, -12.31440016,\\n        -10.93400012, -24.11359992]]), array([[  1.01999672,   1.96585383,   2.33341311,   0.41161943,\\n          1.89328995,   1.48941451],\\n       [  1.04024998,   3.58475766,   4.45982826,   0.98395506,\\n          1.44688595,   1.12749329],\\n       [  0.73122318,   2.32168838,   5.01329024,   2.20171865,\\n          0.98356787,   0.9827927 ],\\n       [ 27.64663776, 140.52804196, 106.49128833,  75.52089834,\\n         63.54718984,  32.88036575],\\n       [ 16.3722082 ,  51.64716135,  54.52460778,  45.29820701,\\n         32.81833575,  26.93549731],\\n       [  6.68552172,  34.95332123,  32.63088284,  39.33987047,\\n         16.91722629,  24.74328895]]), array([[-1.0313070e+00, -1.3686950e+00, -2.2253200e-01, -3.4815570e+00,\\n        -7.0349000e-01, -3.1107000e-02],\\n       [-5.1924300e-01, -1.5672990e+00, -4.4578290e+00, -7.9992060e+00,\\n         3.3260200e-01, -1.4644080e+00],\\n       [ 9.8895360e+00,  9.4037920e+00,  6.5611200e+00,  1.7826530e+00,\\n         1.0341780e+01,  9.8919290e+00],\\n       [-7.0000000e-02,  1.3230000e+01, -5.2849998e+01,  3.3529999e+01,\\n        -2.3100000e+00, -3.7800000e+00],\\n       [-2.9400000e+00, -2.4920000e+01, -9.3100000e+00,  3.0240000e+01,\\n        -1.5400000e+01, -8.4000000e-01],\\n       [ 1.6100000e+00,  1.9530001e+01, -3.1500000e+00,  8.6800000e+00,\\n        -3.3600000e+00, -7.7700000e+00]])]'"
     ]
    }
   ],
   "source": [
    "ldata=[]\n",
    "line_count=0\n",
    "lfilename_queue=glob.glob('./label/label[0-9]*.csv')\n",
    "for filename in lfilename_queue:\n",
    "    with open(filename,newline='') as data:\n",
    "        reader=csv.reader(data)\n",
    "        for row in reader:\n",
    "            frow=[float(i) for i in row]\n",
    "            #plt.plot(row,a,linewidth=2.0)\n",
    "            for i in re.findall('\\d+', filename):\n",
    "                labl=int(i) \n",
    "            array=np.array([frow]) \n",
    "            array=array.reshape(-1)\n",
    "            ldata.append(array)"
   ]
  },
  {
   "cell_type": "code",
   "execution_count": 17,
   "metadata": {},
   "outputs": [
    {
     "name": "stdout",
     "output_type": "stream",
     "text": [
      "(0,)\n"
     ]
    },
    {
     "ename": "ValueError",
     "evalue": "Expected 2D array, got 1D array instead:\narray=[].\nReshape your data either using array.reshape(-1, 1) if your data has a single feature or array.reshape(1, -1) if it contains a single sample.",
     "output_type": "error",
     "traceback": [
      "\u001b[0;31m---------------------------------------------------------------------------\u001b[0m",
      "\u001b[0;31mValueError\u001b[0m                                Traceback (most recent call last)",
      "\u001b[0;32m<ipython-input-17-fe1fc9b28dc3>\u001b[0m in \u001b[0;36m<module>\u001b[0;34m\u001b[0m\n\u001b[1;32m      9\u001b[0m \u001b[0;31m#X_embedded = TSNE(n_components=2).fit_transform(X)\u001b[0m\u001b[0;34m\u001b[0m\u001b[0;34m\u001b[0m\u001b[0;34m\u001b[0m\u001b[0m\n\u001b[1;32m     10\u001b[0m \u001b[0;31m#X_embedded2 = locally_linear_embedding(X,100,10)\u001b[0m\u001b[0;34m\u001b[0m\u001b[0;34m\u001b[0m\u001b[0;34m\u001b[0m\u001b[0m\n\u001b[0;32m---> 11\u001b[0;31m \u001b[0mX_embedded3\u001b[0m \u001b[0;34m=\u001b[0m \u001b[0mSpectralEmbedding\u001b[0m\u001b[0;34m(\u001b[0m\u001b[0mn_components\u001b[0m\u001b[0;34m=\u001b[0m\u001b[0;36m2\u001b[0m\u001b[0;34m)\u001b[0m\u001b[0;34m.\u001b[0m\u001b[0mfit_transform\u001b[0m\u001b[0;34m(\u001b[0m\u001b[0mX\u001b[0m\u001b[0;34m)\u001b[0m\u001b[0;34m\u001b[0m\u001b[0;34m\u001b[0m\u001b[0m\n\u001b[0m\u001b[1;32m     12\u001b[0m \u001b[0;34m\u001b[0m\u001b[0m\n\u001b[1;32m     13\u001b[0m \u001b[0;32mfor\u001b[0m \u001b[0mx\u001b[0m \u001b[0;32min\u001b[0m \u001b[0mX_embedded3\u001b[0m\u001b[0;34m:\u001b[0m\u001b[0;34m\u001b[0m\u001b[0;34m\u001b[0m\u001b[0m\n",
      "\u001b[0;32m~/anaconda3/envs/venv/lib/python3.7/site-packages/sklearn/manifold/spectral_embedding_.py\u001b[0m in \u001b[0;36mfit_transform\u001b[0;34m(self, X, y)\u001b[0m\n\u001b[1;32m    544\u001b[0m         \u001b[0mX_new\u001b[0m \u001b[0;34m:\u001b[0m \u001b[0marray\u001b[0m\u001b[0;34m-\u001b[0m\u001b[0mlike\u001b[0m\u001b[0;34m,\u001b[0m \u001b[0mshape\u001b[0m \u001b[0;34m(\u001b[0m\u001b[0mn_samples\u001b[0m\u001b[0;34m,\u001b[0m \u001b[0mn_components\u001b[0m\u001b[0;34m)\u001b[0m\u001b[0;34m\u001b[0m\u001b[0;34m\u001b[0m\u001b[0m\n\u001b[1;32m    545\u001b[0m         \"\"\"\n\u001b[0;32m--> 546\u001b[0;31m         \u001b[0mself\u001b[0m\u001b[0;34m.\u001b[0m\u001b[0mfit\u001b[0m\u001b[0;34m(\u001b[0m\u001b[0mX\u001b[0m\u001b[0;34m)\u001b[0m\u001b[0;34m\u001b[0m\u001b[0;34m\u001b[0m\u001b[0m\n\u001b[0m\u001b[1;32m    547\u001b[0m         \u001b[0;32mreturn\u001b[0m \u001b[0mself\u001b[0m\u001b[0;34m.\u001b[0m\u001b[0membedding_\u001b[0m\u001b[0;34m\u001b[0m\u001b[0;34m\u001b[0m\u001b[0m\n",
      "\u001b[0;32m~/anaconda3/envs/venv/lib/python3.7/site-packages/sklearn/manifold/spectral_embedding_.py\u001b[0m in \u001b[0;36mfit\u001b[0;34m(self, X, y)\u001b[0m\n\u001b[1;32m    506\u001b[0m         \"\"\"\n\u001b[1;32m    507\u001b[0m \u001b[0;34m\u001b[0m\u001b[0m\n\u001b[0;32m--> 508\u001b[0;31m         \u001b[0mX\u001b[0m \u001b[0;34m=\u001b[0m \u001b[0mcheck_array\u001b[0m\u001b[0;34m(\u001b[0m\u001b[0mX\u001b[0m\u001b[0;34m,\u001b[0m \u001b[0mensure_min_samples\u001b[0m\u001b[0;34m=\u001b[0m\u001b[0;36m2\u001b[0m\u001b[0;34m,\u001b[0m \u001b[0mestimator\u001b[0m\u001b[0;34m=\u001b[0m\u001b[0mself\u001b[0m\u001b[0;34m)\u001b[0m\u001b[0;34m\u001b[0m\u001b[0;34m\u001b[0m\u001b[0m\n\u001b[0m\u001b[1;32m    509\u001b[0m \u001b[0;34m\u001b[0m\u001b[0m\n\u001b[1;32m    510\u001b[0m         \u001b[0mrandom_state\u001b[0m \u001b[0;34m=\u001b[0m \u001b[0mcheck_random_state\u001b[0m\u001b[0;34m(\u001b[0m\u001b[0mself\u001b[0m\u001b[0;34m.\u001b[0m\u001b[0mrandom_state\u001b[0m\u001b[0;34m)\u001b[0m\u001b[0;34m\u001b[0m\u001b[0;34m\u001b[0m\u001b[0m\n",
      "\u001b[0;32m~/anaconda3/envs/venv/lib/python3.7/site-packages/sklearn/utils/validation.py\u001b[0m in \u001b[0;36mcheck_array\u001b[0;34m(array, accept_sparse, accept_large_sparse, dtype, order, copy, force_all_finite, ensure_2d, allow_nd, ensure_min_samples, ensure_min_features, warn_on_dtype, estimator)\u001b[0m\n\u001b[1;32m    519\u001b[0m                     \u001b[0;34m\"Reshape your data either using array.reshape(-1, 1) if \"\u001b[0m\u001b[0;34m\u001b[0m\u001b[0;34m\u001b[0m\u001b[0m\n\u001b[1;32m    520\u001b[0m                     \u001b[0;34m\"your data has a single feature or array.reshape(1, -1) \"\u001b[0m\u001b[0;34m\u001b[0m\u001b[0;34m\u001b[0m\u001b[0m\n\u001b[0;32m--> 521\u001b[0;31m                     \"if it contains a single sample.\".format(array))\n\u001b[0m\u001b[1;32m    522\u001b[0m \u001b[0;34m\u001b[0m\u001b[0m\n\u001b[1;32m    523\u001b[0m         \u001b[0;31m# in the future np.flexible dtypes will be handled like object dtypes\u001b[0m\u001b[0;34m\u001b[0m\u001b[0;34m\u001b[0m\u001b[0;34m\u001b[0m\u001b[0m\n",
      "\u001b[0;31mValueError\u001b[0m: Expected 2D array, got 1D array instead:\narray=[].\nReshape your data either using array.reshape(-1, 1) if your data has a single feature or array.reshape(1, -1) if it contains a single sample."
     ]
    }
   ],
   "source": [
    "from sklearn.manifold import TSNE\n",
    "from sklearn.manifold import SpectralEmbedding\n",
    "from sklearn.ensemble import RandomTreesEmbedding\n",
    "from sklearn.manifold import locally_linear_embedding\n",
    "X=ldata\n",
    "y=labl\n",
    "print(np.shape(X))\n",
    "\n",
    "#X_embedded = TSNE(n_components=2).fit_transform(X)\n",
    "#X_embedded2 = locally_linear_embedding(X,100,10)\n",
    "X_embedded3 = SpectralEmbedding(n_components=2).fit_transform(X)\n",
    "    \n",
    "for x in X_embedded3:\n",
    "    plt.scatter(x[0],x[1]) "
   ]
  },
  {
   "cell_type": "code",
   "execution_count": null,
   "metadata": {},
   "outputs": [],
   "source": []
  }
 ],
 "metadata": {
  "kernelspec": {
   "display_name": "Python 3",
   "language": "python",
   "name": "python3"
  },
  "language_info": {
   "codemirror_mode": {
    "name": "ipython",
    "version": 3
   },
   "file_extension": ".py",
   "mimetype": "text/x-python",
   "name": "python",
   "nbconvert_exporter": "python",
   "pygments_lexer": "ipython3",
   "version": "3.7.3"
  }
 },
 "nbformat": 4,
 "nbformat_minor": 2
}
