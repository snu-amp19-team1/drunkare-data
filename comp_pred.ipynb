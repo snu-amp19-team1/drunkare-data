{
 "cells": [
  {
   "cell_type": "code",
   "execution_count": 72,
   "metadata": {},
   "outputs": [
    {
     "name": "stdout",
     "output_type": "stream",
     "text": [
      "600\n",
      "600\n",
      "600\n",
      "600\n",
      "600\n",
      "600\n"
     ]
    }
   ],
   "source": [
    "import pickle\n",
    "import csv\n",
    "import matplotlib.pyplot as plt\n",
    "import numpy as np\n",
    "import pandas as pd\n",
    "import tensorflow as tf\n",
    "import sklearn\n",
    "from sklearn import svm\n",
    "from datetime import datetime\n",
    "import glob\n",
    "\n",
    "def sliding_window(data,stepSize,windowSize):\n",
    "    for x in range(0,len(data)-windowSize+1,stepSize):\n",
    "        yield(x,data[x:x+windowSize])\n",
    "\n",
    "def pred_window(clf):\n",
    "    test_set=[]\n",
    "    for(x,window) in sliding_window(data,1,6): \n",
    "        wind=window.reshape(180)\n",
    "        test_set.append(wind)\n",
    "    print(np.shape(test_set))\n",
    "    return clf.predict(test_set)\n",
    "\n",
    "filename='./featuredata/compfeature.csv'\n",
    "file=open(filename, newline='')\n",
    "reader=csv.reader(file)\n",
    "#context=reader[seq(1, nrow(reader), 2),]\n",
    "#data = reader[seq(1, nrow(reader), 2),]\n",
    "i=0\n",
    "for row in reader:\n",
    "    i+=1\n",
    "    if(i%2==1):\n",
    "        context=row\n",
    "    else:\n",
    "        data=np.array(row)\n",
    "        data=data.reshape(600,6,5)\n",
    "    print(len(data))"
   ]
  },
  {
   "cell_type": "code",
   "execution_count": null,
   "metadata": {},
   "outputs": [],
   "source": []
  },
  {
   "cell_type": "code",
   "execution_count": null,
   "metadata": {},
   "outputs": [],
   "source": []
  },
  {
   "cell_type": "code",
   "execution_count": 73,
   "metadata": {},
   "outputs": [
    {
     "name": "stdout",
     "output_type": "stream",
     "text": [
      "(595, 180)\n",
      "[ 0 14 14 14 14 14 14 14 14  0  0  0  0  0  0 14 14 14 14 14 14 14 14  3\n",
      " 14 14 14 14 14 14 14 14 14 14 14 14 14 14 14 14 14 14 14 14 14 14 14 14\n",
      " 14 14 14 14  0  0  0  0  0  0  0 14 14 14 14 14 14 14 14 14 14 14 14 14\n",
      " 14 14 14 14 14 14 14 14 14  0  0  0  0  0  0  0  0  0  0  0 14 14 14 14\n",
      " 14 14 14 14 14 14 14 14 14 14 14 14 14 14 14 14 14 14 14 14 14 14 14 14\n",
      " 14 14 14 14 14 14 14 14 14  0 14 14 14 14 14 14 14 14 14 14 14 14 14 14\n",
      " 14 14 14 14 14 14 14 14 14 14  5  5  0  5 14  3 14 14 14 14 14 14 14 14\n",
      " 14 14 14 14 14 14 14 14 14 14 14 14 14 14 14 14 14  0  0  0  0  0  0  0\n",
      "  0  0  0  0  0  0 14 14 14 14 14 14 14 14  1  0  5  5  0 14 14  1 14 14\n",
      " 14 14 14 14 14 14 14 14 14 14 14 14 14 14 14 14 14 14 14 14 14 14 14 14\n",
      " 14 14 14 14 14 14 14 14 14 14 14 14 14 14 14 14 14 14 14 14 14 14 14 14\n",
      " 14 14 14 14 14 14 14 14 14 14 14 14 14 14  0 14 14 14 14 14 14 14 14 14\n",
      " 14 14 14 14 14 14 14 14 14 14 14 14 14 14 14 14 14 14 14 14 14 14 14 14\n",
      " 14 14 14 14 14 14 14 14 14 14 14 14 14 14 14 14 14 14 14 14 14 14 14 14\n",
      " 14 14 14 14 14 14 14 14 14 14 14 14 14 14 14 14 14 14 14 14 14 14 14 14\n",
      " 14 14 14 14 14 14 14 14 14 14 14 14 14 14 14 14 14 14 14 14 14 14 14 14\n",
      " 14 14 14 14 14 14 14 14 14 14 14 14 14 14 14 14 14 14 14 14 14 14 14 14\n",
      " 14 14 14 14 14 14 14 14 14 14 14  0  0  0  0  0  0  5  0  0  0 14 14 14\n",
      " 14 14 14 14 14 14 14 14 14 14 14 14 14 14 14 14 14 14 14 14 14 14 14 14\n",
      " 14 14 14 14 14 14 14 14 14 14 14 14 14  1  5  0  5  0  0 14 14 14 14 14\n",
      " 14 14 14 14 14 14 14 14  0  0  0  0  0  0  5  0  6 14 14 14 14 14 14 14\n",
      " 14 14 14 14 14 14 14 14 14 14 14 14 14 14 14 14 14 14 14 14 14 14 14 14\n",
      " 14 14 14 14 14 14 14 14 14 14 14  3 14 14 14 14 14 14 14 14 14 14 14 14\n",
      " 14 14 14 14 14 14 14 14 14 14 14 14 14 14 14 14 14 14 14 14 14 14 14 14\n",
      " 14 14 14 14 14 14 14 14 14 14 14 14 14 14 14 14 14 14 14]\n"
     ]
    }
   ],
   "source": [
    "# load svm\n",
    "filename='./svm.sav'\n",
    "loaded_model = pickle.load(open(filename, 'rb'))\n",
    "print(pred_window(loaded_model))"
   ]
  },
  {
   "cell_type": "code",
   "execution_count": 74,
   "metadata": {},
   "outputs": [
    {
     "name": "stdout",
     "output_type": "stream",
     "text": [
      "(595, 180)\n",
      "[14 14 14 14 14 14 14 14 14 14 14 14 14 14 14 14 14 14 14 14 14 14 14 14\n",
      " 14 14 14 14 14 14 14 14 14 14 14 14 14 14 14 14 14 14 14 14 14 14 14 14\n",
      " 14 14 14 14 14 14 14 14 14 14 14 14 14 14 14 14 14 14 14 14 14 14 14 14\n",
      " 14 14 14 14 14 14 14 14 14 14 14 14 14 14 14 14 14 14 14 14 14 14 14 14\n",
      " 14 14 14 14 14 14 14 14 14 14 14 14 14 14 14 14 14 14 14 14 14 14 14 14\n",
      " 14 14 14 14 14 14 14 14 14 14 14 14 14 14 14 14 14 14 14 14 14 14 14 14\n",
      " 14 14 14 14 14 14 14 14 14 14 14 14 14 14 14 14 14 14 14 14 14 14 14 14\n",
      " 14 14 14 14 14 14 14 14 14 14 14 14 14 14 14 14 14 14 14 14 14 14 14 14\n",
      " 14 14 14 14 14 14 14 14 14 14 14 14 14 14 14 14 14 14 14 14 14 14 14 14\n",
      " 14 14 14 14 14 14 14 14 14 14 14 14 14 14 14 14 14 14 14 14 14 14 14 14\n",
      " 14 14 14 14 14 14 14 14 14 14 14 14 14 14 14 14 14 14 14 14 14 14 14 14\n",
      " 14 14 14 14 14 14 14 14 14 14 14 14 14 14 14 14 14 14 14 14 14 14 14 14\n",
      " 14 14 14 14 14 14 14 14 14 14 14 14 14 14 14 14 14 14 14 14 14 14 14 14\n",
      " 14 14 14 14 14 14 14 14 14 14 14 14 14 14 14 14 14 14 14 14 14 14 14 14\n",
      " 14 14 14 14 14 14 14 14 14 14 14 14 14 14 14 14 14 14 14 14 14 14 14 14\n",
      " 14 14 14 14 14 14 14 14 14 14 14 14 14 14 14 14 14 14 14 14 14 14 14 14\n",
      " 14 14 14 14 14 14 14 14 14 14 14 14 14 14 14 14 14 14 14 14 14 14 14 14\n",
      " 14 14 14 14 14 14 14 14 14 14 14 14 14 14 14 14 14 14 14 14 14 14 14 14\n",
      " 14 14 14 14 14 14 14 14 14 14 14 14 14 14 14 14 14 14 14 14 14 14 14 14\n",
      " 14 14 14 14 14 14 14 14 14 14 14 14 14 14 14 14 14 14 14 14 14 14 14 14\n",
      " 14 14 14 14 14 14 14 14 14 14 14 14 14 14 14 14 14 14 14 14 14 14 14 14\n",
      " 14 14 14 14 14 14 14 14 14 14 14 14 14 14 14 14 14 14 14 14 14 14 14 14\n",
      " 14 14 14 14 14 14 14 14 14 14 14 14 14 14 14 14 14 14 14 14 14 14 14 14\n",
      " 14 14 14 14 14 14 14 14 14 14 14 14 14 14 14 14 14 14 14 14 14 14 14 14\n",
      " 14 14 14 14 14 14 14 14 14 14 14 14 14 14 14 14 14 14 14]\n"
     ]
    },
    {
     "name": "stderr",
     "output_type": "stream",
     "text": [
      "/home/parkj0/anaconda3/envs/venv/lib/python3.7/site-packages/sklearn/utils/validation.py:532: FutureWarning: Beginning in version 0.22, arrays of bytes/strings will be converted to decimal numbers if dtype='numeric'. It is recommended that you convert the array to a float dtype before using it in scikit-learn, for example by using your_array = your_array.astype(np.float64).\n",
      "  FutureWarning)\n"
     ]
    }
   ],
   "source": [
    "# load knn\n",
    "filename='./knn.sav'\n",
    "loaded_model = pickle.load(open(filename, 'rb'))\n",
    "print(pred_window(loaded_model))\n"
   ]
  },
  {
   "cell_type": "code",
   "execution_count": 71,
   "metadata": {},
   "outputs": [
    {
     "name": "stdout",
     "output_type": "stream",
     "text": [
      "(595, 180)\n",
      "[ 8  1  2  1  1  1  1  1  1  1  9  8  0  6  1  8  1 12 12  2  2  6 12  8\n",
      "  1  1  1  2  1 14  2  6  2  8  2  8  8  8  0  1  2  8  1  1  2  2  2  2\n",
      "  2  2  2  2  2  2  8 12  1 12 12  1  1  2  2  0  6  1  8  8  1  8  9  2\n",
      "  0  9  2  0  8  1  2  2  1  2  0  8  9 12  0  9 12 12  1  1  1  1  1  1\n",
      "  1  1  1  1  1  1  2  1  1  1  8  8  1  2  1 14 12  8  1  1  1  1  8  1\n",
      "  1  1  1  1  1  1  2  1  2  1  1 12 12  1  1  8  1  1  1  1  2  1  1  1\n",
      "  1  1  1  1  1  1  1  1  1  9  8  1  6  6  0  1  1  8  2 12  1  1  2  2\n",
      "  8  1  1  2  2  2  8 12 12 12 12  1  0  9 12 12 14  2  0  0  0 12  8  0\n",
      "  0 12 14 14 12  1  1  1  1  1  8  1  1  1  1  1 14  8  8  1  1  1  1  1\n",
      "  1  1  1  1  1  1  2  1  2  1  1  1  1  1  0  9  1  0  1  2  1  2  1  0\n",
      "  8  1  0 12  1  0  9  0  8  0  9 12  2  1 12 14  0  8  1  1  8  1  1  0\n",
      "  0  1  1  1  1  1 12 12  1  1  9  1  0  1  1  1  6  1  1  2  1  2  1  2\n",
      "  2  1  1  0  0  8  1 12 12 12  6 14  8  8  9 12  1  0  9  8  8  8  8  8\n",
      "  2  2  8  2  2  1  1  9 12 12 12  8  1  1  9  1  6  0  0  1 12  6 12  8\n",
      "  9  0  1 14  8  1  8  0  0  1 12  1  0  9 12  6  9  2  8  1  0 12 12  0\n",
      " 12 12  0  9  1  1  8  0 12  8  1  1  1  8  8  8  1  1  8  8  1  0 12  0\n",
      "  1 12  8  8  0  0  8  8  0 12 14  0  8  0  8 12  1  8  2  2  0 12 12  0\n",
      "  8  1  9 12 12  8  0  0  1  0  1  8  0  9  4  0  0  0 12  0 12  6  8  9\n",
      "  2  2  1  5  0  9  2  6  9  2  9  6  6  9  9  9  0  2  6  9  9  9  9  0\n",
      "  6  0  2  2  2  0  2  0  9  2  2  2  0  6  0  8  2  9  8  1  0  1  8  8\n",
      "  8  1  2  2  2  2  2  2  2 14  8 12 12 12  1  2 14  8  8  2  8  2  2 12\n",
      "  2  1  1  2  1  2  1  1  1  1  1  1  1  1  8  1  1  1  1  1  1  9  1  0\n",
      "  1  1  0 12  8  8  8  0  1 12 12  6  1  1  1  2  1  1  1  1  1  1  1  1\n",
      "  1  1  2  1  1  1  1  1  1  1  1  1  1  1  1  1  1  1  1  1  1  1  1  1\n",
      "  1  1  2  1  1  1  1  1  1  8  1  1  1  2  9  0  6  1  0]\n"
     ]
    }
   ],
   "source": [
    "# load rf\n",
    "filename='./rf.sav'\n",
    "loaded_model = pickle.load(open(filename, 'rb'))\n",
    "print(pred_window(loaded_model))\n"
   ]
  },
  {
   "cell_type": "code",
   "execution_count": null,
   "metadata": {},
   "outputs": [],
   "source": []
  }
 ],
 "metadata": {
  "kernelspec": {
   "display_name": "Python 3",
   "language": "python",
   "name": "python3"
  },
  "language_info": {
   "codemirror_mode": {
    "name": "ipython",
    "version": 3
   },
   "file_extension": ".py",
   "mimetype": "text/x-python",
   "name": "python",
   "nbconvert_exporter": "python",
   "pygments_lexer": "ipython3",
   "version": "3.7.3"
  }
 },
 "nbformat": 4,
 "nbformat_minor": 2
}
