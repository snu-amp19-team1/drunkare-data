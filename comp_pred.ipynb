{
 "cells": [
  {
   "cell_type": "code",
   "execution_count": 9,
   "metadata": {},
   "outputs": [
    {
     "name": "stdout",
     "output_type": "stream",
     "text": [
      "./featuredata/compfeature2.csv\n",
      "./featuredata/compfeature1.csv\n"
     ]
    }
   ],
   "source": [
    "import pickle\n",
    "import csv\n",
    "import matplotlib.pyplot as plt\n",
    "import numpy as np\n",
    "import pandas as pd\n",
    "import tensorflow as tf\n",
    "import sklearn\n",
    "from sklearn import svm\n",
    "from datetime import datetime\n",
    "import glob\n",
    "from sklearn import preprocessing\n",
    "\n",
    "from sklearn.preprocessing import OneHotEncoder as ohc\n",
    "\n",
    "\"\"\"sliding window에서 stepSize가 sliding 1초에 할건지 3초에할건지인지 지금은 3초로 되있음 \"\"\"\n",
    "def sliding_window(data,stepSize,windowSize):\n",
    "    for x in range(0,len(data)-windowSize+1,stepSize):\n",
    "        yield(x,data[x:x+windowSize])\n",
    "\n",
    "\"\"\"3초씩 슬아디잉하고 여기서 데이터는 10분짜리 complex데이터임 6초 window를 3초씩 슬라이딩한 결과 (199,180)짜리 test set이 나옴\n",
    "여기서 180은 simpled activity에서 feature가 5개이고, 36개 acc, gyro list에서 피처뽑아서 5*180\n",
    "그걸 바로 clf로 인퍼런스하는게 출력\"\"\"\n",
    "def pred_window(clf,data):\n",
    "    test_set=[]\n",
    "    for(x,window) in sliding_window(data,3,6): \n",
    "        wind=window.reshape(180)\n",
    "        test_set.append(wind)\n",
    "    #print(np.shape(test_set))\n",
    "    return clf.predict(test_set)\n",
    "\n",
    "\"\"\"pred_window랑 똑같은데 출력만 다름 확률뽑을때 predict하기 전 test_set이 필요해서 \"\"\"\n",
    "def test_set(data):\n",
    "    test_set=[]\n",
    "    for(x,window) in sliding_window(data,3,6): \n",
    "        wind=window.reshape(180)\n",
    "        test_set.append(wind)\n",
    "    return (test_set)\n",
    "\n",
    "#filename queue\n",
    "filename_queue=glob.glob('./featuredata/compfeature[1-2].csv')\n",
    "data=list()\n",
    "context_label=list()\n",
    "context_label_count=np.zeros(4)\n",
    "\n",
    "for filename in filename_queue:\n",
    "    print(filename)\n",
    "    file=open(filename, newline='')\n",
    "    reader=csv.reader(file)\n",
    "    #context=reader[seq(1, nrow(reader), 2),]\n",
    "    #data = reader[seq(1, nrow(reader), 2),]\n",
    "    i=0\n",
    "    array=list()\n",
    "\n",
    "\n",
    "    for row in reader:\n",
    "        i+=1\n",
    "        if(int(i)%2==1):\n",
    "            context_label.append(row)\n",
    "            context_label_count[int(row[0])]+=1\n",
    "        else:\n",
    "            array=np.array(row)\n",
    "            array=array.reshape(600,6,5)\n",
    "            data.append(array)\n"
   ]
  },
  {
   "cell_type": "code",
   "execution_count": 10,
   "metadata": {},
   "outputs": [],
   "source": [
    "# load svm\n",
    "filename='./svm.sav'\n",
    "svm = pickle.load(open(filename, 'rb'))\n",
    "\n",
    "# load knn\n",
    "filename='./knn.sav'\n",
    "knn = pickle.load(open(filename, 'rb'))\n",
    "\n",
    "# load rf\n",
    "filename='./rf.sav'\n",
    "rf = pickle.load(open(filename, 'rb'))\n",
    "\n",
    "# load ETC\n",
    "filename='./ETC.sav'\n",
    "ETC = pickle.load(open(filename, 'rb'))"
   ]
  },
  {
   "cell_type": "code",
   "execution_count": 11,
   "metadata": {},
   "outputs": [
    {
     "data": {
      "text/plain": [
       "'\\n이거는 그냥 볼려고 해본거구 무시하셈\\npred=[]\\nfor x in data: #10 minute granularity\\n    pred.append(pred_window(ETC,x))\\nprint(context_label_count)\\nprint(context_label)\\nprint(pred)\\n'"
      ]
     },
     "execution_count": 11,
     "metadata": {},
     "output_type": "execute_result"
    }
   ],
   "source": [
    "\"\"\"\n",
    "이거는 그냥 볼려고 해본거구 무시하셈\n",
    "pred=[]\n",
    "for x in data: #10 minute granularity\n",
    "    pred.append(pred_window(ETC,x))\n",
    "print(context_label_count)\n",
    "print(context_label)\n",
    "print(pred)\n",
    "\"\"\""
   ]
  },
  {
   "cell_type": "markdown",
   "metadata": {},
   "source": [
    "라벨-액티비티\n",
    "0 얼굴만지기\n",
    "1 필기하기\n",
    "2 건배하기\n",
    "3 마시기1\n",
    "4 휴지뽑기\n",
    "5 마시기2\n",
    "6 숟가락\n",
    "7 젓가락 \n",
    "8 포크\n",
    "9 젓기\n",
    "16 idle\n",
    "\n",
    "빠진 액티비티 키보드, 마우스, 손들기, 사진찍기, 술 따르기, 스마트폰 타이핑"
   ]
  },
  {
   "cell_type": "code",
   "execution_count": 12,
   "metadata": {},
   "outputs": [
    {
     "name": "stderr",
     "output_type": "stream",
     "text": [
      "/home/parkj0/anaconda3/envs/venv/lib/python3.7/site-packages/sklearn/preprocessing/data.py:2553: FutureWarning: The default value of `copy` will change from False to True in 0.23 in order to make it more consistent with the default `copy` values of other functions in :mod:`sklearn.preprocessing.data` and prevent unexpected side effects by modifying the value of `X` inplace. To avoid inplace modifications of `X`, it is recommended to explicitly set `copy=True`\n",
      "  FutureWarning)\n",
      "/home/parkj0/anaconda3/envs/venv/lib/python3.7/site-packages/sklearn/preprocessing/data.py:2239: UserWarning: n_quantiles (1000) is greater than the total number of samples (199). n_quantiles is set to n_samples.\n",
      "  % (self.n_quantiles, n_samples))\n",
      "/home/parkj0/anaconda3/envs/venv/lib/python3.7/site-packages/sklearn/preprocessing/data.py:2553: FutureWarning: The default value of `copy` will change from False to True in 0.23 in order to make it more consistent with the default `copy` values of other functions in :mod:`sklearn.preprocessing.data` and prevent unexpected side effects by modifying the value of `X` inplace. To avoid inplace modifications of `X`, it is recommended to explicitly set `copy=True`\n",
      "  FutureWarning)\n",
      "/home/parkj0/anaconda3/envs/venv/lib/python3.7/site-packages/sklearn/preprocessing/data.py:2239: UserWarning: n_quantiles (1000) is greater than the total number of samples (199). n_quantiles is set to n_samples.\n",
      "  % (self.n_quantiles, n_samples))\n",
      "/home/parkj0/anaconda3/envs/venv/lib/python3.7/site-packages/sklearn/preprocessing/data.py:2553: FutureWarning: The default value of `copy` will change from False to True in 0.23 in order to make it more consistent with the default `copy` values of other functions in :mod:`sklearn.preprocessing.data` and prevent unexpected side effects by modifying the value of `X` inplace. To avoid inplace modifications of `X`, it is recommended to explicitly set `copy=True`\n",
      "  FutureWarning)\n",
      "/home/parkj0/anaconda3/envs/venv/lib/python3.7/site-packages/sklearn/preprocessing/data.py:2239: UserWarning: n_quantiles (1000) is greater than the total number of samples (199). n_quantiles is set to n_samples.\n",
      "  % (self.n_quantiles, n_samples))\n",
      "/home/parkj0/anaconda3/envs/venv/lib/python3.7/site-packages/sklearn/preprocessing/data.py:2553: FutureWarning: The default value of `copy` will change from False to True in 0.23 in order to make it more consistent with the default `copy` values of other functions in :mod:`sklearn.preprocessing.data` and prevent unexpected side effects by modifying the value of `X` inplace. To avoid inplace modifications of `X`, it is recommended to explicitly set `copy=True`\n",
      "  FutureWarning)\n",
      "/home/parkj0/anaconda3/envs/venv/lib/python3.7/site-packages/sklearn/preprocessing/data.py:2239: UserWarning: n_quantiles (1000) is greater than the total number of samples (199). n_quantiles is set to n_samples.\n",
      "  % (self.n_quantiles, n_samples))\n",
      "/home/parkj0/anaconda3/envs/venv/lib/python3.7/site-packages/sklearn/preprocessing/data.py:2553: FutureWarning: The default value of `copy` will change from False to True in 0.23 in order to make it more consistent with the default `copy` values of other functions in :mod:`sklearn.preprocessing.data` and prevent unexpected side effects by modifying the value of `X` inplace. To avoid inplace modifications of `X`, it is recommended to explicitly set `copy=True`\n",
      "  FutureWarning)\n",
      "/home/parkj0/anaconda3/envs/venv/lib/python3.7/site-packages/sklearn/preprocessing/data.py:2239: UserWarning: n_quantiles (1000) is greater than the total number of samples (199). n_quantiles is set to n_samples.\n",
      "  % (self.n_quantiles, n_samples))\n",
      "/home/parkj0/anaconda3/envs/venv/lib/python3.7/site-packages/sklearn/preprocessing/data.py:2553: FutureWarning: The default value of `copy` will change from False to True in 0.23 in order to make it more consistent with the default `copy` values of other functions in :mod:`sklearn.preprocessing.data` and prevent unexpected side effects by modifying the value of `X` inplace. To avoid inplace modifications of `X`, it is recommended to explicitly set `copy=True`\n",
      "  FutureWarning)\n",
      "/home/parkj0/anaconda3/envs/venv/lib/python3.7/site-packages/sklearn/preprocessing/data.py:2239: UserWarning: n_quantiles (1000) is greater than the total number of samples (199). n_quantiles is set to n_samples.\n",
      "  % (self.n_quantiles, n_samples))\n",
      "/home/parkj0/anaconda3/envs/venv/lib/python3.7/site-packages/sklearn/preprocessing/data.py:2553: FutureWarning: The default value of `copy` will change from False to True in 0.23 in order to make it more consistent with the default `copy` values of other functions in :mod:`sklearn.preprocessing.data` and prevent unexpected side effects by modifying the value of `X` inplace. To avoid inplace modifications of `X`, it is recommended to explicitly set `copy=True`\n",
      "  FutureWarning)\n",
      "/home/parkj0/anaconda3/envs/venv/lib/python3.7/site-packages/sklearn/preprocessing/data.py:2239: UserWarning: n_quantiles (1000) is greater than the total number of samples (199). n_quantiles is set to n_samples.\n",
      "  % (self.n_quantiles, n_samples))\n",
      "/home/parkj0/anaconda3/envs/venv/lib/python3.7/site-packages/sklearn/preprocessing/data.py:2553: FutureWarning: The default value of `copy` will change from False to True in 0.23 in order to make it more consistent with the default `copy` values of other functions in :mod:`sklearn.preprocessing.data` and prevent unexpected side effects by modifying the value of `X` inplace. To avoid inplace modifications of `X`, it is recommended to explicitly set `copy=True`\n",
      "  FutureWarning)\n",
      "/home/parkj0/anaconda3/envs/venv/lib/python3.7/site-packages/sklearn/preprocessing/data.py:2239: UserWarning: n_quantiles (1000) is greater than the total number of samples (199). n_quantiles is set to n_samples.\n",
      "  % (self.n_quantiles, n_samples))\n",
      "/home/parkj0/anaconda3/envs/venv/lib/python3.7/site-packages/sklearn/preprocessing/data.py:2553: FutureWarning: The default value of `copy` will change from False to True in 0.23 in order to make it more consistent with the default `copy` values of other functions in :mod:`sklearn.preprocessing.data` and prevent unexpected side effects by modifying the value of `X` inplace. To avoid inplace modifications of `X`, it is recommended to explicitly set `copy=True`\n",
      "  FutureWarning)\n",
      "/home/parkj0/anaconda3/envs/venv/lib/python3.7/site-packages/sklearn/preprocessing/data.py:2239: UserWarning: n_quantiles (1000) is greater than the total number of samples (199). n_quantiles is set to n_samples.\n",
      "  % (self.n_quantiles, n_samples))\n",
      "/home/parkj0/anaconda3/envs/venv/lib/python3.7/site-packages/sklearn/preprocessing/data.py:2553: FutureWarning: The default value of `copy` will change from False to True in 0.23 in order to make it more consistent with the default `copy` values of other functions in :mod:`sklearn.preprocessing.data` and prevent unexpected side effects by modifying the value of `X` inplace. To avoid inplace modifications of `X`, it is recommended to explicitly set `copy=True`\n",
      "  FutureWarning)\n",
      "/home/parkj0/anaconda3/envs/venv/lib/python3.7/site-packages/sklearn/preprocessing/data.py:2239: UserWarning: n_quantiles (1000) is greater than the total number of samples (199). n_quantiles is set to n_samples.\n",
      "  % (self.n_quantiles, n_samples))\n",
      "/home/parkj0/anaconda3/envs/venv/lib/python3.7/site-packages/sklearn/preprocessing/data.py:2553: FutureWarning: The default value of `copy` will change from False to True in 0.23 in order to make it more consistent with the default `copy` values of other functions in :mod:`sklearn.preprocessing.data` and prevent unexpected side effects by modifying the value of `X` inplace. To avoid inplace modifications of `X`, it is recommended to explicitly set `copy=True`\n",
      "  FutureWarning)\n",
      "/home/parkj0/anaconda3/envs/venv/lib/python3.7/site-packages/sklearn/preprocessing/data.py:2239: UserWarning: n_quantiles (1000) is greater than the total number of samples (199). n_quantiles is set to n_samples.\n",
      "  % (self.n_quantiles, n_samples))\n",
      "/home/parkj0/anaconda3/envs/venv/lib/python3.7/site-packages/sklearn/preprocessing/data.py:2553: FutureWarning: The default value of `copy` will change from False to True in 0.23 in order to make it more consistent with the default `copy` values of other functions in :mod:`sklearn.preprocessing.data` and prevent unexpected side effects by modifying the value of `X` inplace. To avoid inplace modifications of `X`, it is recommended to explicitly set `copy=True`\n",
      "  FutureWarning)\n",
      "/home/parkj0/anaconda3/envs/venv/lib/python3.7/site-packages/sklearn/preprocessing/data.py:2239: UserWarning: n_quantiles (1000) is greater than the total number of samples (199). n_quantiles is set to n_samples.\n",
      "  % (self.n_quantiles, n_samples))\n"
     ]
    },
    {
     "name": "stderr",
     "output_type": "stream",
     "text": [
      "/home/parkj0/anaconda3/envs/venv/lib/python3.7/site-packages/sklearn/preprocessing/data.py:2553: FutureWarning: The default value of `copy` will change from False to True in 0.23 in order to make it more consistent with the default `copy` values of other functions in :mod:`sklearn.preprocessing.data` and prevent unexpected side effects by modifying the value of `X` inplace. To avoid inplace modifications of `X`, it is recommended to explicitly set `copy=True`\n",
      "  FutureWarning)\n",
      "/home/parkj0/anaconda3/envs/venv/lib/python3.7/site-packages/sklearn/preprocessing/data.py:2239: UserWarning: n_quantiles (1000) is greater than the total number of samples (199). n_quantiles is set to n_samples.\n",
      "  % (self.n_quantiles, n_samples))\n",
      "/home/parkj0/anaconda3/envs/venv/lib/python3.7/site-packages/sklearn/preprocessing/data.py:2553: FutureWarning: The default value of `copy` will change from False to True in 0.23 in order to make it more consistent with the default `copy` values of other functions in :mod:`sklearn.preprocessing.data` and prevent unexpected side effects by modifying the value of `X` inplace. To avoid inplace modifications of `X`, it is recommended to explicitly set `copy=True`\n",
      "  FutureWarning)\n",
      "/home/parkj0/anaconda3/envs/venv/lib/python3.7/site-packages/sklearn/preprocessing/data.py:2239: UserWarning: n_quantiles (1000) is greater than the total number of samples (199). n_quantiles is set to n_samples.\n",
      "  % (self.n_quantiles, n_samples))\n",
      "/home/parkj0/anaconda3/envs/venv/lib/python3.7/site-packages/sklearn/preprocessing/data.py:2553: FutureWarning: The default value of `copy` will change from False to True in 0.23 in order to make it more consistent with the default `copy` values of other functions in :mod:`sklearn.preprocessing.data` and prevent unexpected side effects by modifying the value of `X` inplace. To avoid inplace modifications of `X`, it is recommended to explicitly set `copy=True`\n",
      "  FutureWarning)\n",
      "/home/parkj0/anaconda3/envs/venv/lib/python3.7/site-packages/sklearn/preprocessing/data.py:2239: UserWarning: n_quantiles (1000) is greater than the total number of samples (199). n_quantiles is set to n_samples.\n",
      "  % (self.n_quantiles, n_samples))\n",
      "/home/parkj0/anaconda3/envs/venv/lib/python3.7/site-packages/sklearn/preprocessing/data.py:2553: FutureWarning: The default value of `copy` will change from False to True in 0.23 in order to make it more consistent with the default `copy` values of other functions in :mod:`sklearn.preprocessing.data` and prevent unexpected side effects by modifying the value of `X` inplace. To avoid inplace modifications of `X`, it is recommended to explicitly set `copy=True`\n",
      "  FutureWarning)\n",
      "/home/parkj0/anaconda3/envs/venv/lib/python3.7/site-packages/sklearn/preprocessing/data.py:2239: UserWarning: n_quantiles (1000) is greater than the total number of samples (199). n_quantiles is set to n_samples.\n",
      "  % (self.n_quantiles, n_samples))\n",
      "/home/parkj0/anaconda3/envs/venv/lib/python3.7/site-packages/sklearn/preprocessing/data.py:2553: FutureWarning: The default value of `copy` will change from False to True in 0.23 in order to make it more consistent with the default `copy` values of other functions in :mod:`sklearn.preprocessing.data` and prevent unexpected side effects by modifying the value of `X` inplace. To avoid inplace modifications of `X`, it is recommended to explicitly set `copy=True`\n",
      "  FutureWarning)\n",
      "/home/parkj0/anaconda3/envs/venv/lib/python3.7/site-packages/sklearn/preprocessing/data.py:2239: UserWarning: n_quantiles (1000) is greater than the total number of samples (199). n_quantiles is set to n_samples.\n",
      "  % (self.n_quantiles, n_samples))\n",
      "/home/parkj0/anaconda3/envs/venv/lib/python3.7/site-packages/sklearn/preprocessing/data.py:2553: FutureWarning: The default value of `copy` will change from False to True in 0.23 in order to make it more consistent with the default `copy` values of other functions in :mod:`sklearn.preprocessing.data` and prevent unexpected side effects by modifying the value of `X` inplace. To avoid inplace modifications of `X`, it is recommended to explicitly set `copy=True`\n",
      "  FutureWarning)\n",
      "/home/parkj0/anaconda3/envs/venv/lib/python3.7/site-packages/sklearn/preprocessing/data.py:2239: UserWarning: n_quantiles (1000) is greater than the total number of samples (199). n_quantiles is set to n_samples.\n",
      "  % (self.n_quantiles, n_samples))\n",
      "/home/parkj0/anaconda3/envs/venv/lib/python3.7/site-packages/sklearn/preprocessing/data.py:2553: FutureWarning: The default value of `copy` will change from False to True in 0.23 in order to make it more consistent with the default `copy` values of other functions in :mod:`sklearn.preprocessing.data` and prevent unexpected side effects by modifying the value of `X` inplace. To avoid inplace modifications of `X`, it is recommended to explicitly set `copy=True`\n",
      "  FutureWarning)\n",
      "/home/parkj0/anaconda3/envs/venv/lib/python3.7/site-packages/sklearn/preprocessing/data.py:2239: UserWarning: n_quantiles (1000) is greater than the total number of samples (199). n_quantiles is set to n_samples.\n",
      "  % (self.n_quantiles, n_samples))\n",
      "/home/parkj0/anaconda3/envs/venv/lib/python3.7/site-packages/sklearn/preprocessing/data.py:2553: FutureWarning: The default value of `copy` will change from False to True in 0.23 in order to make it more consistent with the default `copy` values of other functions in :mod:`sklearn.preprocessing.data` and prevent unexpected side effects by modifying the value of `X` inplace. To avoid inplace modifications of `X`, it is recommended to explicitly set `copy=True`\n",
      "  FutureWarning)\n",
      "/home/parkj0/anaconda3/envs/venv/lib/python3.7/site-packages/sklearn/preprocessing/data.py:2239: UserWarning: n_quantiles (1000) is greater than the total number of samples (199). n_quantiles is set to n_samples.\n",
      "  % (self.n_quantiles, n_samples))\n",
      "/home/parkj0/anaconda3/envs/venv/lib/python3.7/site-packages/sklearn/preprocessing/data.py:2553: FutureWarning: The default value of `copy` will change from False to True in 0.23 in order to make it more consistent with the default `copy` values of other functions in :mod:`sklearn.preprocessing.data` and prevent unexpected side effects by modifying the value of `X` inplace. To avoid inplace modifications of `X`, it is recommended to explicitly set `copy=True`\n",
      "  FutureWarning)\n",
      "/home/parkj0/anaconda3/envs/venv/lib/python3.7/site-packages/sklearn/preprocessing/data.py:2239: UserWarning: n_quantiles (1000) is greater than the total number of samples (199). n_quantiles is set to n_samples.\n",
      "  % (self.n_quantiles, n_samples))\n"
     ]
    },
    {
     "name": "stdout",
     "output_type": "stream",
     "text": [
      "(21, 199, 10)\n",
      "[['1'], ['1'], ['2'], ['3'], ['1'], ['2'], ['1'], ['1'], ['1'], ['1'], ['2'], ['2'], ['3'], ['3'], ['1'], ['1'], ['2'], ['2'], ['1'], ['3'], ['3']]\n",
      "[[[10 10 10 ... 10 10  0]\n",
      "  [10 10 10 ...  8  8  8]\n",
      "  [10  8  8 ...  7  7  7]\n",
      "  ...\n",
      "  [ 8 10 10 ...  3  3  3]\n",
      "  [10  3 10 ...  8  8  2]\n",
      "  [10  8 10 ...  8  8 10]]\n",
      "\n",
      " [[ 8 10  7 ... 10  3  3]\n",
      "  [ 3  3 10 ... 10  8 10]\n",
      "  [ 8  8 10 ... 10  8  8]\n",
      "  ...\n",
      "  [ 2 10 10 ... 10 10 10]\n",
      "  [10  8 10 ...  7 10 10]\n",
      "  [10  8  8 ... 10 10 10]]\n",
      "\n",
      " [[10  0  0 ...  8  8  8]\n",
      "  [10  8  8 ... 10 10 10]\n",
      "  [ 0  0  0 ...  8  8  8]\n",
      "  ...\n",
      "  [10  0  0 ...  8  8  8]\n",
      "  [ 8  8  8 ... 10 10  8]\n",
      "  [ 8  8  8 ... 10  8 10]]\n",
      "\n",
      " ...\n",
      "\n",
      " [[10 10 10 ... 10 10  8]\n",
      "  [10  8 10 ...  8  2 10]\n",
      "  [10  8 10 ...  8  8  3]\n",
      "  ...\n",
      "  [10  8 10 ... 10 10 10]\n",
      "  [10 10  7 ... 10  8  8]\n",
      "  [ 8 10 10 ... 10 10 10]]\n",
      "\n",
      " [[10 10  2 ...  8  8 10]\n",
      "  [ 8 10 10 ...  8 10 10]\n",
      "  [10  2  8 ...  8  8  8]\n",
      "  ...\n",
      "  [10  0  0 ... 10 10 10]\n",
      "  [10 10  8 ...  8 10  8]\n",
      "  [10  7  7 ... 10 10 10]]\n",
      "\n",
      " [[10 10  2 ...  8  8 10]\n",
      "  [ 8 10 10 ...  8 10 10]\n",
      "  [10  2  8 ...  8  8  8]\n",
      "  ...\n",
      "  [10  0  0 ... 10 10 10]\n",
      "  [10 10  8 ...  8 10  8]\n",
      "  [10  7  7 ... 10 10 10]]]\n"
     ]
    },
    {
     "data": {
      "text/plain": [
       "'21,199,10은 test_pred_proba의 shape인데 이게 뭐나면 라벨이 10개여서 마지막에 10이고 각각의 확률 나오는거임\\n21은 현재까지 모인 Context 데이터 개수(쏘리 말잘못했음 전화할때) 199는 10분을 window Sliding 하면 199나옴'"
      ]
     },
     "execution_count": 12,
     "metadata": {},
     "output_type": "execute_result"
    }
   ],
   "source": [
    "\"\"\"이게 ETC complex prediction 확률로 0.3미만은 idle(=16)처리할거임\"\"\"\n",
    "from sklearn import preprocessing\n",
    "\n",
    "pred=list()\n",
    "pred2=[] ##이게 prediction\n",
    "test_pred_proba=[]\n",
    "for x in data: #10 minute granularity\n",
    "    test_pred_proba.append(ETC.predict_proba(preprocessing.quantile_transform(test_set(x)))) \n",
    "    \"\"\"헐 여기 프리프로세싱 들어감...\"\"\"\n",
    "print(np.shape(test_pred_proba))\n",
    "for i in test_pred_proba:\n",
    "    for j in i:\n",
    "        if np.max(j)<0.3: #확률 0.3미만이면 idle\n",
    "            pred.append(10)\n",
    "        else:\n",
    "            pred.append(np.argmax(j))\n",
    "\"\"\"여긴 그냥 사이즈 맞춰줄려고 199길이 리스트에다가 +'n'추가할거임\"\"\"\n",
    "for i in range(int(len(pred)/199)):\n",
    "    pred2.append(pred[199*i:199*i+199])\n",
    "for i in pred2:\n",
    "    i.append(10)\n",
    "pred2=np.array(pred2)\n",
    "pred2=pred2.reshape(len(data),10,20)\n",
    "\n",
    "print(context_label)\n",
    "print(pred2)\n",
    "\"\"\"21,199,10은 test_pred_proba의 shape인데 이게 뭐나면 라벨이 10개여서 마지막에 10이고 각각의 확률 나오는거임\n",
    "21은 현재까지 모인 Context 데이터 개수(쏘리 말잘못했음 전화할때) 199는 10분을 window Sliding 하면 199나옴\"\"\""
   ]
  },
  {
   "cell_type": "code",
   "execution_count": 13,
   "metadata": {},
   "outputs": [],
   "source": [
    "### Context prediction 용 데이터 만들기 길이 (라벨10개+idle1개)11*(10분)10 = 110\n",
    "context_data=[]\n",
    "for context in pred2:\n",
    "    context_=[]\n",
    "    for minute in context:\n",
    "        activity_count=np.zeros(11)\n",
    "        for activity in minute:\n",
    "            activity_count[activity]+=1\n",
    "        context_.append(activity_count)\n",
    "        context=list(context)\n",
    "    context_data.append(context_)\n",
    "context_data=np.array(context_data)\n",
    "context_data=context_data.reshape(len(context_data),110)\n"
   ]
  },
  {
   "cell_type": "code",
   "execution_count": 14,
   "metadata": {},
   "outputs": [
    {
     "name": "stdout",
     "output_type": "stream",
     "text": [
      "(21, 110)\n",
      "(21, 1)\n",
      "[['1'], ['1'], ['2'], ['3'], ['1'], ['2'], ['1'], ['1'], ['1'], ['1'], ['2'], ['2'], ['3'], ['3'], ['1'], ['1'], ['2'], ['2'], ['1'], ['3'], ['3']]\n"
     ]
    }
   ],
   "source": [
    "print(np.shape(context_data))\n",
    "print(np.shape(context_label))\n",
    "print(context_label)"
   ]
  },
  {
   "cell_type": "code",
   "execution_count": 15,
   "metadata": {},
   "outputs": [],
   "source": [
    "X=context_data\n",
    "y=context_label\n"
   ]
  },
  {
   "cell_type": "code",
   "execution_count": 16,
   "metadata": {},
   "outputs": [
    {
     "name": "stderr",
     "output_type": "stream",
     "text": [
      "/home/parkj0/anaconda3/envs/venv/lib/python3.7/site-packages/sklearn/ensemble/forest.py:245: FutureWarning: The default value of n_estimators will change from 10 in version 0.20 to 100 in 0.22.\n",
      "  \"10 in version 0.20 to 100 in 0.22.\", FutureWarning)\n",
      "/home/parkj0/anaconda3/envs/venv/lib/python3.7/site-packages/ipykernel_launcher.py:7: DataConversionWarning: A column-vector y was passed when a 1d array was expected. Please change the shape of y to (n_samples,), for example using ravel().\n",
      "  import sys\n"
     ]
    },
    {
     "data": {
      "text/plain": [
       "RandomForestClassifier(bootstrap=True, class_weight=None, criterion='gini',\n",
       "                       max_depth=None, max_features='auto', max_leaf_nodes=None,\n",
       "                       min_impurity_decrease=0.0, min_impurity_split=None,\n",
       "                       min_samples_leaf=1, min_samples_split=2,\n",
       "                       min_weight_fraction_leaf=0.0, n_estimators=10,\n",
       "                       n_jobs=None, oob_score=False, random_state=None,\n",
       "                       verbose=0, warm_start=False)"
      ]
     },
     "execution_count": 16,
     "metadata": {},
     "output_type": "execute_result"
    }
   ],
   "source": [
    "### 여기서부터 context prediction 시작\n",
    "from sklearn.ensemble import RandomForestClassifier\n",
    "from sklearn.neighbors import KNeighborsClassifier\n",
    "from sklearn.model_selection import GridSearchCV\n",
    "\n",
    "clf=RandomForestClassifier()\n",
    "clf.fit(X,y)"
   ]
  },
  {
   "cell_type": "code",
   "execution_count": 17,
   "metadata": {},
   "outputs": [
    {
     "name": "stdout",
     "output_type": "stream",
     "text": [
      "1.0\n"
     ]
    },
    {
     "name": "stderr",
     "output_type": "stream",
     "text": [
      "/home/parkj0/anaconda3/envs/venv/lib/python3.7/site-packages/sklearn/model_selection/_validation.py:514: DataConversionWarning: A column-vector y was passed when a 1d array was expected. Please change the shape of y to (n_samples,), for example using ravel().\n",
      "  estimator.fit(X_train, y_train, **fit_params)\n",
      "/home/parkj0/anaconda3/envs/venv/lib/python3.7/site-packages/sklearn/model_selection/_validation.py:514: DataConversionWarning: A column-vector y was passed when a 1d array was expected. Please change the shape of y to (n_samples,), for example using ravel().\n",
      "  estimator.fit(X_train, y_train, **fit_params)\n",
      "/home/parkj0/anaconda3/envs/venv/lib/python3.7/site-packages/sklearn/model_selection/_validation.py:514: DataConversionWarning: A column-vector y was passed when a 1d array was expected. Please change the shape of y to (n_samples,), for example using ravel().\n",
      "  estimator.fit(X_train, y_train, **fit_params)\n"
     ]
    }
   ],
   "source": [
    "from sklearn.metrics import confusion_matrix\n",
    "from sklearn.metrics import accuracy_score\n",
    "from sklearn.preprocessing import OneHotEncoder\n",
    "from sklearn.model_selection import cross_val_score \n",
    "scores=cross_val_score(clf,X,y,cv=3,scoring='accuracy')\n",
    "print(scores.mean())"
   ]
  },
  {
   "cell_type": "code",
   "execution_count": null,
   "metadata": {},
   "outputs": [],
   "source": []
  },
  {
   "cell_type": "code",
   "execution_count": null,
   "metadata": {},
   "outputs": [],
   "source": [
    "from joblib import dump, load\n",
    "\n",
    "filename='./complex_rf.sav'\n",
    "pickle.dump(clf,open(filename,'wb'))\n",
    "dump(clf,'complex_rf.joblib')"
   ]
  },
  {
   "cell_type": "code",
   "execution_count": null,
   "metadata": {},
   "outputs": [],
   "source": [
    "clf=KNeighborsClassifier()\n",
    "clf.fit(X,y)"
   ]
  },
  {
   "cell_type": "code",
   "execution_count": null,
   "metadata": {},
   "outputs": [],
   "source": [
    "\n",
    "scores=cross_val_score(clf,X,y,cv=3,scoring='accuracy')\n",
    "print(scores.mean())"
   ]
  },
  {
   "cell_type": "code",
   "execution_count": null,
   "metadata": {},
   "outputs": [],
   "source": []
  },
  {
   "cell_type": "code",
   "execution_count": null,
   "metadata": {},
   "outputs": [],
   "source": []
  }
 ],
 "metadata": {
  "kernelspec": {
   "display_name": "Python 3",
   "language": "python",
   "name": "python3"
  },
  "language_info": {
   "codemirror_mode": {
    "name": "ipython",
    "version": 3
   },
   "file_extension": ".py",
   "mimetype": "text/x-python",
   "name": "python",
   "nbconvert_exporter": "python",
   "pygments_lexer": "ipython3",
   "version": "3.7.3"
  }
 },
 "nbformat": 4,
 "nbformat_minor": 2
}
