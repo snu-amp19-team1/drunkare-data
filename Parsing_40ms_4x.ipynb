{
 "cells": [
  {
   "cell_type": "code",
   "execution_count": 1,
   "metadata": {},
   "outputs": [],
   "source": [
    "##complex data와 똑같이 40ms로 parsing했음 데이터 4배라고 생각하고 뻥튀기시켜봄 정확도는 10ms와 비슷하게 나옴\n",
    "\n",
    "import csv\n",
    "import matplotlib.pyplot as plt\n",
    "import numpy as np\n",
    "import pandas as pd\n",
    "import tensorflow as tf\n",
    "import sklearn\n",
    "from sklearn import svm\n",
    "from datetime import datetime\n",
    "import glob\n",
    "import pickle\n",
    "\n",
    "#filename queue\n",
    "filename_queue=glob.glob('./rawdata/data[1-5].csv')\n",
    "#Create return path\n",
    "return_path='./rawdata/data.csv'\n",
    "create_file=open(return_path,'w')"
   ]
  },
  {
   "cell_type": "code",
   "execution_count": 15,
   "metadata": {},
   "outputs": [],
   "source": [
    "#Parsing data\n",
    "\n",
    "training_set=[]\n",
    "test_set=[]\n",
    "training_label=[]\n",
    "test_label=[]\n",
    "label_count=np.zeros(16)\n",
    "\n",
    "#return_file=open(return_path,'a')\n",
    "#writer=csv.writer(return_file)\n",
    "#writer.writerow()\n",
    "n_data=[]\n",
    "\n",
    "for filename in filename_queue:\n",
    "    file=open(filename, newline='')\n",
    "    \n",
    "    reader=csv.reader(file)\n",
    "    header=next(reader)\n",
    "    \n",
    "    for row in reader:\n",
    "        row[4:]=[float(i) for i in row[4:]]\n",
    "        date=datetime.strptime(row[0],'%Y/%m/%d')\n",
    "        msec=row[1:3]\n",
    "        labl=int(row[3])\n",
    "        label_count[labl]+=1\n",
    "        for x in range(4):\n",
    "            X_acc=list(row[4*i+4+x] for i in range(150))\n",
    "            Y_acc=list(row[4*i+604+x] for i in range(150))\n",
    "            Z_acc=list(row[4*i+1204+x] for i in range(150))\n",
    "            X_gyro=list(row[4*i+1804+x] for i in range(150))\n",
    "            Y_gyro=list(row[4*i+2404+x] for i in range(150))\n",
    "            Z_gyro=list(row[4*i+3004+x] for i in range(150))\n",
    "        \n",
    "            window=np.array([[X_acc[0:25],X_acc[25:50],X_acc[50:75],X_acc[75:100],X_acc[100:125],X_acc[125:150]],\n",
    "                [Y_acc[0:25],Y_acc[25:50],Y_acc[50:75],Y_acc[75:100],Y_acc[100:125],Y_acc[125:150]],\n",
    "                [Z_acc[0:25],Z_acc[25:50],Z_acc[50:75],Z_acc[75:100],Z_acc[100:125],Z_acc[125:150]],\n",
    "                [X_gyro[0:25],X_gyro[25:50],X_gyro[50:75],X_gyro[75:100],X_gyro[100:125],X_gyro[125:150]],\n",
    "                [Y_gyro[0:25],Y_gyro[25:50],Y_gyro[50:75],Y_gyro[75:100],Y_gyro[100:125],Y_gyro[125:150]],\n",
    "                [Z_gyro[0:25],Z_gyro[25:50],Z_gyro[50:75],Z_gyro[75:100],Z_gyro[100:125],Z_gyro[125:150]]])\n",
    "            \n",
    "            window=np.array([[X_acc[0:25],Y_acc[0:25],Z_acc[0:25],X_gyro[0:25],Y_gyro[0:25],Z_gyro[0:25]],\n",
    "                              [X_acc[25:50],Y_acc[25:50],Z_acc[25:50],X_gyro[25:50],Y_gyro[25:50],Z_gyro[25:50]],\n",
    "                              [X_acc[50:75],Y_acc[50:75],Z_acc[50:75],X_gyro[50:75],Y_gyro[50:75],Z_gyro[50:75]],\n",
    "                              [X_acc[75:100],Y_acc[75:100],Z_acc[75:100],X_gyro[75:100],Y_gyro[75:100],Z_gyro[75:100]],\n",
    "                              [X_acc[100:125],Y_acc[100:125],Z_acc[100:125],X_gyro[100:125],Y_gyro[100:125],Z_gyro[100:125]],\n",
    "                              [X_acc[125:150],Y_acc[125:150],Z_acc[125:150],X_gyro[125:150],Y_gyro[125:150],Z_gyro[125:150]]])\n",
    "    \n",
    "            #5 features  what else?2\n",
    "            window_mean=window.mean(axis=-1)\n",
    "            window_stddev=window.std(axis=-1)\n",
    "            window_median=np.median(window,axis=-1)\n",
    "            window_percent25=np.percentile(window,25,axis=-1)\n",
    "            window_percent75=np.percentile(window,75,axis=-1)\n",
    "\n",
    "            window_feature=np.array([[window_mean],[window_stddev],[window_median],[window_percent25],[window_percent75]])\n",
    "            window_feature=window_feature.reshape(180)\n",
    "    \n",
    "            if (label_count[labl]%5!=1):\n",
    "                training_set.append(window_feature)\n",
    "                training_label.append(labl)\n",
    "            else:\n",
    "                test_set.append(window_feature)\n",
    "                test_label.append(labl)\n",
    "        "
   ]
  },
  {
   "cell_type": "code",
   "execution_count": 16,
   "metadata": {},
   "outputs": [
    {
     "name": "stdout",
     "output_type": "stream",
     "text": [
      "[12, 12, 12, 12, 9, 9, 9, 9, 10, 10, 10, 10, 10, 10, 10, 10, 9, 9, 9, 9, 12, 12, 12, 12, 10, 10, 10, 10, 10, 10, 10, 10, 9, 9, 9, 9, 6, 6, 6, 6, 7, 7, 7, 7, 1, 1, 1, 1, 6, 6, 6, 6, 2, 2, 2, 2, 0, 0, 0, 0, 0, 0, 0, 0, 6, 6, 6, 6, 5, 5, 5, 5, 7, 7, 7, 7, 3, 3, 3, 3, 4, 4, 4, 4, 6, 6, 6, 6, 12, 12, 12, 12, 1, 1, 1, 1, 12, 12, 12, 12, 12, 12, 12, 12, 12, 12, 12, 12, 0, 0, 0, 0, 9, 9, 9, 9, 12, 12, 12, 12, 6, 6, 6, 6, 5, 5, 5, 5, 0, 0, 0, 0, 12, 12, 12, 12, 12, 12, 12, 12, 6, 6, 6, 6, 7, 7, 7, 7, 2, 2, 2, 2, 5, 5, 5, 5, 0, 0, 0, 0, 3, 3, 3, 3, 12, 12, 12, 12, 6, 6, 6, 6, 1, 1, 1, 1, 5, 5, 5, 5, 1, 1, 1, 1, 10, 10, 10, 10, 13, 13, 13, 13, 13, 13, 13, 13, 8, 8, 8, 8, 14, 14, 14, 14, 8, 8, 8, 8, 14, 14, 14, 14, 13, 13, 13, 13, 0, 0, 0, 0, 12, 12, 12, 12, 5, 5, 5, 5, 8, 8, 8, 8, 6, 6, 6, 6, 12, 12, 12, 12, 1, 1, 1, 1, 5, 5, 5, 5, 8, 8, 8, 8, 3, 3, 3, 3, 7, 7, 7, 7, 5, 5, 5, 5, 12, 12, 12, 12, 11, 11, 11, 11, 6, 6, 6, 6, 1, 1, 1, 1, 8, 8, 8, 8, 12, 12, 12, 12, 5, 5, 5, 5, 8, 8, 8, 8, 15, 15, 15, 15, 7, 7, 7, 7, 4, 4, 4, 4, 3, 3, 3, 3, 0, 0, 0, 0, 0, 0, 0, 0, 0, 0, 0, 0, 7, 7, 7, 7, 3, 3, 3, 3, 15, 15, 15, 15, 15, 15, 15, 15, 14, 14, 14, 14, 15, 15, 15, 15, 0, 0, 0, 0, 4, 4, 4, 4, 0, 0, 0, 0, 9, 9, 9, 9, 9, 9, 9, 9, 9, 9, 9, 9, 10, 10, 10, 10, 10, 10, 10, 10, 10, 10, 10, 10, 10, 10, 10, 10, 10, 10, 10, 10, 10, 10, 10, 10, 10, 10, 10, 10, 6, 6, 6, 6, 12, 12, 12, 12]\n"
     ]
    }
   ],
   "source": [
    "#print(window_feature.shape)\n",
    "#print(training_label)\n",
    "print(test_label)"
   ]
  },
  {
   "cell_type": "code",
   "execution_count": 21,
   "metadata": {},
   "outputs": [
    {
     "name": "stdout",
     "output_type": "stream",
     "text": [
      "0.7009803921568627\n"
     ]
    }
   ],
   "source": [
    "#SVM\n",
    "#prepare the data\n",
    "X=training_set\n",
    "y=training_label\n",
    "#prepare the model\n",
    "clf = sklearn.svm.SVC(gamma='scale',tol=0.1)\n",
    "\n",
    "clf.fit(X,y)\n",
    "from sklearn.metrics import confusion_matrix\n",
    "from sklearn.metrics import accuracy_score\n",
    "from sklearn.preprocessing import OneHotEncoder\n",
    "\n",
    "test_pred1=clf.predict(test_set)\n",
    "\n",
    "ohc=OneHotEncoder(categories=[range(16)])\n",
    "onehot_pred1=test_pred1.reshape(-1,1)\n",
    "onehot_pred1=ohc.fit_transform(onehot_pred1).toarray()\n",
    "#print(test_pred1)\n",
    "#print(onehot_pred1)\n",
    "\n",
    "print(accuracy_score(test_pred1,test_label))\n",
    "#print(clf.n_support_)\n",
    "#confusion_matrix(test_pred1, test_label)"
   ]
  },
  {
   "cell_type": "code",
   "execution_count": 22,
   "metadata": {},
   "outputs": [
    {
     "name": "stdout",
     "output_type": "stream",
     "text": [
      "0.6004901960784313\n"
     ]
    }
   ],
   "source": [
    "from sklearn.neighbors.nearest_centroid import NearestCentroid\n",
    "clf1 = NearestCentroid()\n",
    "clf1.fit(X, y)\n",
    "test_pred2=clf1.predict(test_set)\n",
    "print(accuracy_score(test_pred2,test_label))\n",
    "\n",
    "onehot_pred2=test_pred2.reshape(-1,1)\n",
    "onehot_pred2=ohc.fit_transform(onehot_pred2).toarray()\n",
    "#print(onehot_pred2)\n",
    "#confusion_matrix(test_pred2, test_label)"
   ]
  },
  {
   "cell_type": "code",
   "execution_count": 24,
   "metadata": {},
   "outputs": [
    {
     "name": "stdout",
     "output_type": "stream",
     "text": [
      "0.8284313725490197\n"
     ]
    }
   ],
   "source": [
    "from sklearn.ensemble import RandomForestClassifier\n",
    "from sklearn.metrics import confusion_matrix\n",
    "clf2 = RandomForestClassifier(80)\n",
    "clf2.fit(X, y)\n",
    "test_pred3=clf2.predict(test_set)\n",
    "print(accuracy_score(test_pred3,test_label))\n",
    "#print(confusion_matrix(test_pred3, test_label))\n",
    "onehot_pred3=test_pred2.reshape(-1,1)\n",
    "onehot_pred3=ohc.fit_transform(onehot_pred3).toarray()\n",
    "#print(onehot_pred3)"
   ]
  },
  {
   "cell_type": "code",
   "execution_count": 20,
   "metadata": {},
   "outputs": [
    {
     "name": "stdout",
     "output_type": "stream",
     "text": [
      "[ 7  7  7  7  9  9  9  9 10 10 10 10  0  0  0  0  9  9  9  9  0  0  0  0\n",
      " 10 10 10 10 10 10 10 10  9  9  9  9  6  6  6  6  7  7  7  7  1  1  1  1\n",
      "  6  6  6  6  6  6  6  6  0  0  0  0  0  0  0  0  6  6  6  6  5  5  5  5\n",
      "  7  7  7  7 12 12 12 12  0  0  0  0  6  6  6  6 12 12 12 12  0  0  0  0\n",
      " 12 12  0 12 12 12 12 12  0  0  0  0 10 10 10 10  9  9  9  9 12 12 12 12\n",
      " 12 12 12 12  0  5  0  5  0  0  0  0 12 12 12 12 12 12 12 12  6  6  6  6\n",
      "  6  6  6  6  0  0  0  0  5  5  5  5  7  7  7  7  0  0  0  0 12 12 12 12\n",
      "  6  6  6  6  1  1  1  1  5  5  5  5  0  0  0  0  0  0  0  0  4  4  4  4\n",
      " 13 13 13 13  8  8  8  8  0  0  0  0  8  8  8  8 14 14 14 14 13 13 13 13\n",
      "  0  0  0 13 12 12 12 12  0  0  0  0  8  8  8  8  6  6  6  6 12 12 12 12\n",
      "  0  0  0  0  0  0  0  0  5  5  5  5  0  0  0  0  0  0  0  0  1  1  1  1\n",
      "  0  0  0  0 14 14 14 14  0  0  0  0  1  1  1  1  1  1  1  1  3  3  3  3\n",
      "  0  0  0  0  1  1  1  1 15 15 15 15  7  0  7  7 14 14 14 14  3  3  3  3\n",
      "  0  0  0  0  0  0  0  0  0  0  0  0  7  7  7  7  3  3  3  3 15 15 15 15\n",
      " 15 15 15 15 14 14 14 14 15 15 15 15  0  0  0  0 14 14 14 14  0  0  0  0\n",
      " 12 12 12 12  0  0  0  0  0  0  0  0 10 10 10 10  0  0 10  0  0  0  0  0\n",
      " 10 10 10 10  9  9  9  9 10 10 10 10 10 10 10 10  6  6  6  6  0  0  0  0]\n"
     ]
    }
   ],
   "source": [
    "#ensemble 1 : unanimous consensus\n",
    "ensemble1_pred= onehot_pred1*onehot_pred2*onehot_pred3\n",
    "#print(ensemble1_pred)\n",
    "ensemble1_pred=np.argmax(ensemble1_pred,axis=1)\n",
    "print(ensemble1_pred)"
   ]
  },
  {
   "cell_type": "code",
   "execution_count": 8,
   "metadata": {},
   "outputs": [
    {
     "name": "stdout",
     "output_type": "stream",
     "text": [
      "[ 7  7  7  7  9  9  9  9 10 10 10 10  9  9  9  9  9  9  9  9  7  7  7  7\n",
      " 10 10 10 10 10 10 10 10  9  9  9  9  6  6  6  6  7  7  7  7  1  1  1  1\n",
      "  6  6  6  6  6  6  6  6  0  0  0  0 12 12 12 12  6  6  6  6  5  5  5  5\n",
      "  7  7  7  7 12 12 12 12 12 12 12 12  6  6  6  6 12 12 12 12  1  1  1  1\n",
      " 12 12  3 12 12 12 12 12  2  2  2  2 10 10 10 10  9  9  9  9 12 12 12 12\n",
      " 12 12 12 12 15  5 15  5  0  0  0  0 12 12 12 12 12 12 12 12  6  6  6  6\n",
      "  6  6  6  6  7  7  7  7  5  5  5  5  7  7  7  7  1  1  1  1 12 12 12 12\n",
      "  6  6  6  6  1  1  1  1  5  5  5  5 14 14 14 14  3  3  3  3  4  4  4  4\n",
      " 13 13 13 13  8  8  8  8 14 14 14 14  8  8  8  8 14 14 14 14 13 13 13 13\n",
      "  0  0  0 13 12 12 12 12 12 12 12 12  8  8  8  8  6  6  6  6 12 12 12 12\n",
      "  5  5  5  5 14 14 14 14  5  5  5  5 14 14 14 14  7  7  7  7  1  1  1  1\n",
      "  4  4  4  4 14 14 14 14  3  3  3  3  1  1  1  1  1  1  1  1  3  3  3  3\n",
      " 14 14 14 14  1  1  1  1 15 15 15 15  7  7  7  7 14 14 14 14  3  3  3  3\n",
      "  0  0  0  0  0  0  0  0  5  5  5  5  7  7  7  7  3  3  3  3 15 15 15 15\n",
      " 15 15 15 15 14 14 14 14 15 15 15 15  0  0  0  0 14 14 14 14  0  0  0  0\n",
      " 12 12 12 12 13 13 13 13  1  1  1  1 10 10 10 10  9  9 10  9  5  5  5  5\n",
      " 10 10 10 10  9  9  9  9 10 10 10 10 10 10 10 10  6  6  6  6  3  3 10 10]\n",
      "[12, 12, 12, 12, 9, 9, 9, 9, 10, 10, 10, 10, 10, 10, 10, 10, 9, 9, 9, 9, 12, 12, 12, 12, 10, 10, 10, 10, 10, 10, 10, 10, 9, 9, 9, 9, 6, 6, 6, 6, 7, 7, 7, 7, 1, 1, 1, 1, 6, 6, 6, 6, 2, 2, 2, 2, 0, 0, 0, 0, 0, 0, 0, 0, 6, 6, 6, 6, 5, 5, 5, 5, 7, 7, 7, 7, 3, 3, 3, 3, 4, 4, 4, 4, 6, 6, 6, 6, 12, 12, 12, 12, 1, 1, 1, 1, 12, 12, 12, 12, 12, 12, 12, 12, 12, 12, 12, 12, 0, 0, 0, 0, 9, 9, 9, 9, 12, 12, 12, 12, 6, 6, 6, 6, 5, 5, 5, 5, 0, 0, 0, 0, 12, 12, 12, 12, 12, 12, 12, 12, 6, 6, 6, 6, 7, 7, 7, 7, 2, 2, 2, 2, 5, 5, 5, 5, 0, 0, 0, 0, 3, 3, 3, 3, 12, 12, 12, 12, 6, 6, 6, 6, 1, 1, 1, 1, 5, 5, 5, 5, 1, 1, 1, 1, 10, 10, 10, 10, 13, 13, 13, 13, 13, 13, 13, 13, 8, 8, 8, 8, 14, 14, 14, 14, 8, 8, 8, 8, 14, 14, 14, 14, 13, 13, 13, 13, 0, 0, 0, 0, 12, 12, 12, 12, 5, 5, 5, 5, 8, 8, 8, 8, 6, 6, 6, 6, 12, 12, 12, 12, 1, 1, 1, 1, 5, 5, 5, 5, 8, 8, 8, 8, 3, 3, 3, 3, 7, 7, 7, 7, 5, 5, 5, 5, 12, 12, 12, 12, 11, 11, 11, 11, 6, 6, 6, 6, 1, 1, 1, 1, 8, 8, 8, 8, 12, 12, 12, 12, 5, 5, 5, 5, 8, 8, 8, 8, 15, 15, 15, 15, 7, 7, 7, 7, 4, 4, 4, 4, 3, 3, 3, 3, 0, 0, 0, 0, 0, 0, 0, 0, 0, 0, 0, 0, 7, 7, 7, 7, 3, 3, 3, 3, 15, 15, 15, 15, 15, 15, 15, 15, 14, 14, 14, 14, 15, 15, 15, 15, 0, 0, 0, 0, 4, 4, 4, 4, 0, 0, 0, 0, 9, 9, 9, 9, 9, 9, 9, 9, 9, 9, 9, 9, 10, 10, 10, 10, 10, 10, 10, 10, 10, 10, 10, 10, 10, 10, 10, 10, 10, 10, 10, 10, 10, 10, 10, 10, 10, 10, 10, 10, 6, 6, 6, 6, 12, 12, 12, 12]\n",
      "0.6004901960784313\n"
     ]
    }
   ],
   "source": [
    "#ensemble 2 : majority consensus\n",
    "ensemble2_pred= (onehot_pred1+onehot_pred2+onehot_pred3)/2\n",
    "ensemble2_pred= ensemble2_pred.astype('int64') \n",
    "ensemble2_pred= ensemble2_pred.astype('float64') \n",
    "ensemble2_pred=np.argmax(ensemble2_pred,axis=1)\n",
    "print(ensemble2_pred)\n",
    "print(test_label)\n",
    "print(accuracy_score(ensemble2_pred,test_label))\n"
   ]
  },
  {
   "cell_type": "code",
   "execution_count": 12,
   "metadata": {},
   "outputs": [
    {
     "data": {
      "text/plain": [
       "['rf.joblib']"
      ]
     },
     "execution_count": 12,
     "metadata": {},
     "output_type": "execute_result"
    }
   ],
   "source": [
    "#save the model\n",
    "\n",
    "from joblib import dump, load\n",
    "filename='./svm.sav'\n",
    "pickle.dump(clf,open(filename,'wb'))\n",
    "#dump(clf,'svm.joblib')\n",
    "\n",
    "filename='./knn.sav'\n",
    "pickle.dump(clf1,open(filename,'wb'))\n",
    "dump(clf,'knn.joblib')\n",
    "\n",
    "filename='./rf.sav'\n",
    "pickle.dump(clf2,open(filename,'wb'))\n",
    "dump(clf,'rf.joblib')\n"
   ]
  },
  {
   "cell_type": "code",
   "execution_count": null,
   "metadata": {},
   "outputs": [],
   "source": []
  },
  {
   "cell_type": "code",
   "execution_count": null,
   "metadata": {},
   "outputs": [],
   "source": []
  }
 ],
 "metadata": {
  "kernelspec": {
   "display_name": "Python 3",
   "language": "python",
   "name": "python3"
  },
  "language_info": {
   "codemirror_mode": {
    "name": "ipython",
    "version": 3
   },
   "file_extension": ".py",
   "mimetype": "text/x-python",
   "name": "python",
   "nbconvert_exporter": "python",
   "pygments_lexer": "ipython3",
   "version": "3.7.3"
  }
 },
 "nbformat": 4,
 "nbformat_minor": 2
}
