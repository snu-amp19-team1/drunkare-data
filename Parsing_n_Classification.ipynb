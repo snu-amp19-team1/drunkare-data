{
 "cells": [
  {
   "cell_type": "code",
   "execution_count": 76,
   "metadata": {},
   "outputs": [],
   "source": [
    "import csv\n",
    "import matplotlib.pyplot as plt\n",
    "import numpy as np\n",
    "import tensorflow as tf\n",
    "import sklearn\n",
    "from sklearn import svm\n",
    "from datetime import datetime\n",
    "\n",
    "\n",
    "path=\"../drunkare-node/data.csv\"\n",
    "file=open(path, newline='')\n",
    "reader=csv.reader(file)\n",
    "\n",
    "header=next(reader)\n",
    "#separate data, label for training and test \n",
    "training_set=[]\n",
    "test_set=[]\n",
    "training_label=[]\n",
    "test_label=[]\n",
    "label_count=np.zeros(17)\n",
    "\n",
    "for row in reader:\n",
    "    msec= []\n",
    "    \n",
    "    #for acc\n",
    "    X_acc=[]\n",
    "    Y_acc=[]\n",
    "    Z_acc=[]\n",
    "    #for gyro\n",
    "    X_gyro=[]\n",
    "    Y_gyro=[]\n",
    "    Z_gyro=[]\n",
    "    \n",
    "    #row = [Date, msec,label,X_acc,Y_acc,Z_acc,X_gyro,Y_gyro,Z_gyro]\n",
    "    date=datetime.strptime(row[0],'%Y/%m/%d')\n",
    "    msec=row[1:3]\n",
    "    labl=int(row[3]) #label\n",
    "    label_count[labl]+=1\n",
    "    row[4:]=[float(i) for i in row[4:]]\n",
    "        \n",
    "    X_acc=(row[4:604])\n",
    "    Y_acc=(row[604:1204])\n",
    "    Z_acc=(row[1204:1804])\n",
    "    X_gyro=(row[1804:2404])\n",
    "    Y_gyro=(row[2404:3004])\n",
    "    Z_gyro=(row[3004:3604])\n",
    "\n",
    "    #6*6*100 float array : will be feature-extracted\n",
    "    window=np.array([[X_acc[0:100],X_acc[100:200],X_acc[200:300],X_acc[300:400],X_acc[400:500],X_acc[500:600]],\n",
    "                [Y_acc[0:100],Y_acc[100:200],Y_acc[200:300],Y_acc[300:400],Y_acc[400:500],Y_acc[500:600]],\n",
    "                [Z_acc[0:100],Z_acc[100:200],Z_acc[200:300],Z_acc[300:400],Z_acc[400:500],Z_acc[500:600]],\n",
    "                [X_gyro[0:100],X_gyro[100:200],X_gyro[200:300],X_gyro[300:400],X_gyro[400:500],X_gyro[500:600]],\n",
    "                [Y_gyro[0:100],Y_gyro[100:200],Y_gyro[200:300],Y_gyro[300:400],Y_gyro[400:500],Y_gyro[500:600]],\n",
    "                [Z_gyro[0:100],Z_gyro[100:200],Z_gyro[200:300],Z_gyro[300:400],Z_gyro[400:500],Z_gyro[500:600]]])\n",
    "    \n",
    "    #5 features  what else?\n",
    "    window_mean=window.mean(axis=-1)\n",
    "    window_stddev=window.std(axis=-1)\n",
    "    window_median=np.median(window,axis=-1)\n",
    "    window_percent25=np.percentile(window,25,axis=-1)\n",
    "    window_percent75=np.percentile(window,75,axis=-1)\n",
    "\n",
    "    window_feature=np.array([[window_mean],[window_stddev],[window_median],[window_percent25],[window_percent75]])\n",
    "    window_feature=window_feature.reshape(180)\n",
    "    \n",
    "    if (label_count[labl]%5!=1):\n",
    "        training_set.append(window_feature)\n",
    "        training_label.append(labl)\n",
    "    else:\n",
    "        test_set.append(window_feature)\n",
    "        test_label.append(labl)\n",
    "\n",
    "#label=int(row[3])\n",
    "#print(window_feature.shape)\n",
    "#parsing complete"
   ]
  },
  {
   "cell_type": "code",
   "execution_count": 77,
   "metadata": {},
   "outputs": [
    {
     "name": "stdout",
     "output_type": "stream",
     "text": [
      "[12  7  1  6  6  0 12  6  5  7 12 12 12 12  1 12  6 12 12 12 12  6 12  5\n",
      "  0 12 12 12  0  5  5  0  1  1  1  6  1 12 12 13  8  8  8  1 13]\n"
     ]
    },
    {
     "name": "stderr",
     "output_type": "stream",
     "text": [
      "/usr/local/lib/python3.6/dist-packages/sklearn/preprocessing/_encoders.py:331: DeprecationWarning: Passing 'n_values' is deprecated in version 0.20 and will be removed in 0.22. You can use the 'categories' keyword instead. 'n_values=n' corresponds to 'categories=[range(n)]'.\n",
      "  warnings.warn(msg, DeprecationWarning)\n"
     ]
    }
   ],
   "source": [
    "#SVM\n",
    "#prepare the data\n",
    "X=training_set\n",
    "y=training_label\n",
    "#prepare the model\n",
    "clf = sklearn.svm.SVC(gamma='scale',tol=0.1)\n",
    "\n",
    "clf.fit(X,y)\n",
    "from sklearn.metrics import confusion_matrix\n",
    "from sklearn.metrics import accuracy_score\n",
    "from sklearn.preprocessing import OneHotEncoder\n",
    "test_pred1=clf.predict(test_set)\n",
    "\n",
    "ohc=OneHotEncoder(n_values=16)\n",
    "onehot_pred1=test_pred1.reshape(45,-1)\n",
    "onehot_pred1=ohc.fit_transform(onehot_pred1).toarray()\n",
    "print(test_pred1)\n",
    "#print(onehot_pred1)\n",
    "\n",
    "#print(accuracy_score(test_pred1,test_label))\n",
    "#print(clf.n_support_)\n",
    "#confusion_matrix(test_pred1, test_label)"
   ]
  },
  {
   "cell_type": "code",
   "execution_count": 78,
   "metadata": {},
   "outputs": [
    {
     "name": "stdout",
     "output_type": "stream",
     "text": [
      "0.5111111111111111\n"
     ]
    },
    {
     "name": "stderr",
     "output_type": "stream",
     "text": [
      "/usr/local/lib/python3.6/dist-packages/sklearn/preprocessing/_encoders.py:331: DeprecationWarning: Passing 'n_values' is deprecated in version 0.20 and will be removed in 0.22. You can use the 'categories' keyword instead. 'n_values=n' corresponds to 'categories=[range(n)]'.\n",
      "  warnings.warn(msg, DeprecationWarning)\n"
     ]
    }
   ],
   "source": [
    "from sklearn.neighbors.nearest_centroid import NearestCentroid\n",
    "clf = NearestCentroid()\n",
    "clf.fit(X, y)\n",
    "test_pred2=clf.predict(test_set)\n",
    "print(accuracy_score(test_pred2,test_label))\n",
    "\n",
    "onehot_pred2=test_pred2.reshape(45,-1)\n",
    "onehot_pred2=ohc.fit_transform(onehot_pred2).toarray()\n",
    "#print(onehot_pred2)\n",
    "#confusion_matrix(test_pred2, test_label)"
   ]
  },
  {
   "cell_type": "code",
   "execution_count": 79,
   "metadata": {},
   "outputs": [
    {
     "name": "stdout",
     "output_type": "stream",
     "text": [
      "[[0. 0. 1. 0. 0. 0. 0. 0. 0. 0. 0. 0. 0. 0. 0. 0.]\n",
      " [0. 0. 0. 0. 0. 0. 0. 1. 0. 0. 0. 0. 0. 0. 0. 0.]\n",
      " [0. 1. 0. 0. 0. 0. 0. 0. 0. 0. 0. 0. 0. 0. 0. 0.]\n",
      " [0. 0. 0. 0. 0. 0. 1. 0. 0. 0. 0. 0. 0. 0. 0. 0.]\n",
      " [0. 0. 0. 0. 0. 0. 1. 0. 0. 0. 0. 0. 0. 0. 0. 0.]\n",
      " [1. 0. 0. 0. 0. 0. 0. 0. 0. 0. 0. 0. 0. 0. 0. 0.]\n",
      " [0. 0. 0. 0. 0. 0. 0. 0. 0. 0. 0. 0. 1. 0. 0. 0.]\n",
      " [0. 0. 0. 0. 0. 0. 1. 0. 0. 0. 0. 0. 0. 0. 0. 0.]\n",
      " [0. 0. 0. 0. 0. 1. 0. 0. 0. 0. 0. 0. 0. 0. 0. 0.]\n",
      " [0. 0. 0. 0. 0. 0. 0. 1. 0. 0. 0. 0. 0. 0. 0. 0.]\n",
      " [0. 0. 0. 0. 0. 0. 0. 0. 0. 0. 0. 0. 1. 0. 0. 0.]\n",
      " [0. 0. 0. 0. 0. 0. 0. 0. 0. 0. 0. 0. 1. 0. 0. 0.]\n",
      " [0. 0. 0. 0. 0. 0. 0. 0. 0. 0. 0. 0. 1. 0. 0. 0.]\n",
      " [0. 0. 0. 0. 0. 0. 0. 0. 0. 0. 0. 0. 1. 0. 0. 0.]\n",
      " [0. 1. 0. 0. 0. 0. 0. 0. 0. 0. 0. 0. 0. 0. 0. 0.]\n",
      " [0. 0. 0. 0. 0. 0. 0. 0. 0. 0. 0. 0. 0. 0. 1. 0.]\n",
      " [0. 0. 0. 0. 0. 0. 1. 0. 0. 0. 0. 0. 0. 0. 0. 0.]\n",
      " [0. 0. 0. 0. 0. 0. 0. 0. 0. 0. 0. 0. 0. 1. 0. 0.]\n",
      " [0. 0. 0. 0. 0. 0. 0. 0. 0. 0. 0. 0. 1. 0. 0. 0.]\n",
      " [0. 0. 0. 0. 0. 0. 0. 0. 0. 0. 0. 0. 0. 1. 0. 0.]\n",
      " [0. 0. 0. 0. 0. 0. 0. 0. 0. 0. 0. 0. 1. 0. 0. 0.]\n",
      " [0. 0. 0. 1. 0. 0. 0. 0. 0. 0. 0. 0. 0. 0. 0. 0.]\n",
      " [0. 0. 0. 0. 0. 1. 0. 0. 0. 0. 0. 0. 0. 0. 0. 0.]\n",
      " [0. 0. 0. 0. 0. 1. 0. 0. 0. 0. 0. 0. 0. 0. 0. 0.]\n",
      " [1. 0. 0. 0. 0. 0. 0. 0. 0. 0. 0. 0. 0. 0. 0. 0.]\n",
      " [0. 0. 0. 0. 0. 0. 0. 0. 0. 0. 0. 0. 0. 0. 1. 0.]\n",
      " [0. 0. 0. 0. 0. 0. 0. 0. 0. 0. 0. 0. 1. 0. 0. 0.]\n",
      " [0. 0. 0. 0. 0. 0. 0. 0. 0. 1. 0. 0. 0. 0. 0. 0.]\n",
      " [0. 0. 0. 0. 0. 0. 0. 0. 0. 0. 1. 0. 0. 0. 0. 0.]\n",
      " [0. 0. 0. 0. 0. 0. 0. 1. 0. 0. 0. 0. 0. 0. 0. 0.]\n",
      " [0. 0. 0. 0. 0. 1. 0. 0. 0. 0. 0. 0. 0. 0. 0. 0.]\n",
      " [0. 0. 0. 0. 0. 0. 0. 1. 0. 0. 0. 0. 0. 0. 0. 0.]\n",
      " [0. 1. 0. 0. 0. 0. 0. 0. 0. 0. 0. 0. 0. 0. 0. 0.]\n",
      " [0. 1. 0. 0. 0. 0. 0. 0. 0. 0. 0. 0. 0. 0. 0. 0.]\n",
      " [0. 0. 0. 0. 0. 0. 0. 0. 0. 0. 0. 0. 0. 0. 1. 0.]\n",
      " [0. 0. 0. 0. 0. 1. 0. 0. 0. 0. 0. 0. 0. 0. 0. 0.]\n",
      " [0. 0. 0. 0. 0. 0. 0. 0. 0. 0. 0. 0. 0. 0. 1. 0.]\n",
      " [0. 0. 0. 0. 0. 0. 0. 0. 0. 1. 0. 0. 0. 0. 0. 0.]\n",
      " [0. 0. 0. 0. 0. 0. 0. 0. 0. 0. 0. 0. 0. 0. 1. 0.]\n",
      " [0. 0. 0. 0. 0. 0. 0. 0. 0. 0. 0. 0. 0. 1. 0. 0.]\n",
      " [0. 0. 0. 0. 0. 0. 0. 0. 1. 0. 0. 0. 0. 0. 0. 0.]\n",
      " [0. 0. 0. 0. 0. 0. 0. 0. 0. 0. 0. 0. 0. 0. 1. 0.]\n",
      " [0. 0. 0. 0. 0. 0. 0. 0. 1. 0. 0. 0. 0. 0. 0. 0.]\n",
      " [0. 0. 0. 0. 0. 0. 0. 0. 0. 0. 0. 0. 0. 0. 1. 0.]\n",
      " [0. 0. 0. 0. 0. 0. 0. 0. 0. 0. 0. 0. 0. 1. 0. 0.]]\n"
     ]
    },
    {
     "name": "stderr",
     "output_type": "stream",
     "text": [
      "/usr/local/lib/python3.6/dist-packages/sklearn/ensemble/forest.py:246: FutureWarning: The default value of n_estimators will change from 10 in version 0.20 to 100 in 0.22.\n",
      "  \"10 in version 0.20 to 100 in 0.22.\", FutureWarning)\n",
      "/usr/local/lib/python3.6/dist-packages/sklearn/preprocessing/_encoders.py:331: DeprecationWarning: Passing 'n_values' is deprecated in version 0.20 and will be removed in 0.22. You can use the 'categories' keyword instead. 'n_values=n' corresponds to 'categories=[range(n)]'.\n",
      "  warnings.warn(msg, DeprecationWarning)\n"
     ]
    }
   ],
   "source": [
    "from sklearn.ensemble import RandomForestClassifier\n",
    "from sklearn.metrics import confusion_matrix\n",
    "clf = RandomForestClassifier()\n",
    "clf.fit(X, y)\n",
    "test_pred3=clf.predict(test_set)\n",
    "#print(accuracy_score(test_pred3,test_label))\n",
    "#print(confusion_matrix(test_pred3, test_label))\n",
    "onehot_pred3=test_pred2.reshape(45,-1)\n",
    "onehot_pred3=ohc.fit_transform(onehot_pred3).toarray()\n",
    "print(onehot_pred3)"
   ]
  },
  {
   "cell_type": "code",
   "execution_count": 80,
   "metadata": {},
   "outputs": [
    {
     "name": "stdout",
     "output_type": "stream",
     "text": [
      "[ 0  7  1  6  6  0 12  6  5  7 12 12 12 12  1  0  6  0 12  0 12  0  0  5\n",
      "  0  0 12  0  0  0  5  0  1  1  0  0  0  0  0 13  8  0  8  0 13]\n"
     ]
    }
   ],
   "source": [
    "#ensemble 1 : unanimous consensus\n",
    "ensemble1_pred= onehot_pred1*onehot_pred2*onehot_pred3\n",
    "#print(ensemble1_pred)\n",
    "ensemble1_pred=np.argmax(ensemble1_pred,axis=1)\n",
    "print(ensemble1_pred)"
   ]
  },
  {
   "cell_type": "code",
   "execution_count": 81,
   "metadata": {},
   "outputs": [
    {
     "name": "stdout",
     "output_type": "stream",
     "text": [
      "[ 2  7  1  6  6  0 12  6  5  7 12 12 12 12  1 14  6 13 12 13 12  3  5  5\n",
      "  0 14 12  9 10  7  5  7  1  1 14  5 14  9 14 13  8 14  8 14 13]\n",
      "[6, 7, 1, 6, 2, 0, 0, 6, 5, 7, 3, 4, 12, 9, 1, 12, 6, 12, 12, 0, 12, 6, 12, 5, 0, 12, 12, 6, 7, 2, 5, 0, 3, 1, 5, 6, 1, 10, 13, 13, 8, 14, 8, 14, 13]\n",
      "0.5111111111111111\n"
     ]
    }
   ],
   "source": [
    "#ensemble 2 : majority consensus\n",
    "ensemble2_pred= (onehot_pred1+onehot_pred2+onehot_pred3)/2\n",
    "ensemble2_pred= ensemble2_pred.astype('int64') \n",
    "ensemble2_pred= ensemble2_pred.astype('float64') \n",
    "ensemble2_pred=np.argmax(ensemble2_pred,axis=1)\n",
    "print(ensemble2_pred)\n",
    "print(test_label)\n",
    "print(accuracy_score(ensemble2_pred,test_label))\n"
   ]
  },
  {
   "cell_type": "code",
   "execution_count": null,
   "metadata": {},
   "outputs": [],
   "source": []
  }
 ],
 "metadata": {
  "kernelspec": {
   "display_name": "Python 3",
   "language": "python",
   "name": "python3"
  },
  "language_info": {
   "codemirror_mode": {
    "name": "ipython",
    "version": 3
   },
   "file_extension": ".py",
   "mimetype": "text/x-python",
   "name": "python",
   "nbconvert_exporter": "python",
   "pygments_lexer": "ipython3",
   "version": "3.6.7"
  }
 },
 "nbformat": 4,
 "nbformat_minor": 2
}
